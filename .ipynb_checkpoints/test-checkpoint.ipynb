{
 "cells": [
  {
   "cell_type": "code",
   "execution_count": null,
   "metadata": {},
   "outputs": [],
   "source": [
    "#testing github setup using the RCF"
   ]
  },
  {
   "cell_type": "code",
   "execution_count": 1,
   "metadata": {},
   "outputs": [
    {
     "name": "stdout",
     "output_type": "stream",
     "text": [
      "hello world!\n"
     ]
    }
   ],
   "source": [
    "print('hello world!')"
   ]
  },
  {
   "cell_type": "code",
   "execution_count": 2,
   "metadata": {},
   "outputs": [
    {
     "name": "stderr",
     "output_type": "stream",
     "text": [
      "/opt/rh/anaconda/root/envs/jupyterhub/lib/python3.6/importlib/_bootstrap.py:219: RuntimeWarning: numpy.dtype size changed, may indicate binary incompatibility. Expected 96, got 88\n",
      "  return f(*args, **kwds)\n"
     ]
    }
   ],
   "source": [
    "import pandas as pd"
   ]
  },
  {
   "cell_type": "code",
   "execution_count": 3,
   "metadata": {},
   "outputs": [
    {
     "name": "stderr",
     "output_type": "stream",
     "text": [
      "/opt/rh/anaconda/root/envs/jupyterhub/lib/python3.6/site-packages/IPython/core/interactiveshell.py:3020: DtypeWarning: Columns (21) have mixed types. Specify dtype option on import or set low_memory=False.\n",
      "  interactivity=interactivity, compiler=compiler, result=result)\n"
     ]
    },
    {
     "data": {
      "text/html": [
       "<div>\n",
       "<style scoped>\n",
       "    .dataframe tbody tr th:only-of-type {\n",
       "        vertical-align: middle;\n",
       "    }\n",
       "\n",
       "    .dataframe tbody tr th {\n",
       "        vertical-align: top;\n",
       "    }\n",
       "\n",
       "    .dataframe thead th {\n",
       "        text-align: right;\n",
       "    }\n",
       "</style>\n",
       "<table border=\"1\" class=\"dataframe\">\n",
       "  <thead>\n",
       "    <tr style=\"text-align: right;\">\n",
       "      <th></th>\n",
       "      <th>Date</th>\n",
       "      <th>Military Hour</th>\n",
       "      <th>Minutes</th>\n",
       "      <th>Military Time</th>\n",
       "      <th>Flight Direction</th>\n",
       "      <th>PA Airport Code</th>\n",
       "      <th>Terminal Desc</th>\n",
       "      <th>Concourse Desc</th>\n",
       "      <th>Gate Desc</th>\n",
       "      <th>Non-PA Airport Code</th>\n",
       "      <th>...</th>\n",
       "      <th>Marketing Airline Desc</th>\n",
       "      <th>Marketing Airline ICAO Code</th>\n",
       "      <th>Operating Airline Desc</th>\n",
       "      <th>Operating Airline ICAO Code</th>\n",
       "      <th>Call Sign</th>\n",
       "      <th>General Aircraft Desc</th>\n",
       "      <th>Variant Aircraft Desc</th>\n",
       "      <th>Variant Aircraft Code</th>\n",
       "      <th>Max Seats</th>\n",
       "      <th>Total Flights</th>\n",
       "    </tr>\n",
       "  </thead>\n",
       "  <tbody>\n",
       "    <tr>\n",
       "      <th>0</th>\n",
       "      <td>1/1/2021</td>\n",
       "      <td>0.0</td>\n",
       "      <td>22.0</td>\n",
       "      <td>00:22:45</td>\n",
       "      <td>Arrival</td>\n",
       "      <td>EWR</td>\n",
       "      <td>EWR-Terminal B</td>\n",
       "      <td>Concourse B-1</td>\n",
       "      <td>B41B</td>\n",
       "      <td>SJU</td>\n",
       "      <td>...</td>\n",
       "      <td>Spirit Airlines</td>\n",
       "      <td>NKS</td>\n",
       "      <td>Spirit Airlines</td>\n",
       "      <td>NKS</td>\n",
       "      <td>NKS1036</td>\n",
       "      <td>Airbus A318/319/320/321</td>\n",
       "      <td>Airbus A321</td>\n",
       "      <td>A321</td>\n",
       "      <td>185.0</td>\n",
       "      <td>1</td>\n",
       "    </tr>\n",
       "    <tr>\n",
       "      <th>1</th>\n",
       "      <td>1/1/2021</td>\n",
       "      <td>1.0</td>\n",
       "      <td>5.0</td>\n",
       "      <td>01:05:58</td>\n",
       "      <td>Departure</td>\n",
       "      <td>EWR</td>\n",
       "      <td>EWR-Terminal B</td>\n",
       "      <td>Concourse B-3</td>\n",
       "      <td>B61</td>\n",
       "      <td>SJU</td>\n",
       "      <td>...</td>\n",
       "      <td>Spirit Airlines</td>\n",
       "      <td>NKS</td>\n",
       "      <td>Spirit Airlines</td>\n",
       "      <td>NKS</td>\n",
       "      <td>NKS1035</td>\n",
       "      <td>Airbus A318/319/320/321</td>\n",
       "      <td>Airbus A321</td>\n",
       "      <td>A321</td>\n",
       "      <td>185.0</td>\n",
       "      <td>1</td>\n",
       "    </tr>\n",
       "    <tr>\n",
       "      <th>2</th>\n",
       "      <td>1/1/2021</td>\n",
       "      <td>1.0</td>\n",
       "      <td>47.0</td>\n",
       "      <td>01:47:14</td>\n",
       "      <td>Arrival</td>\n",
       "      <td>EWR</td>\n",
       "      <td>EWR-Terminal B</td>\n",
       "      <td>Concourse B-2</td>\n",
       "      <td>B56</td>\n",
       "      <td>STI</td>\n",
       "      <td>...</td>\n",
       "      <td>JetBlue Airways</td>\n",
       "      <td>JBU</td>\n",
       "      <td>JetBlue Airways</td>\n",
       "      <td>JBU</td>\n",
       "      <td>JBU1494</td>\n",
       "      <td>Airbus A318/319/320/321</td>\n",
       "      <td>Airbus A321</td>\n",
       "      <td>A321</td>\n",
       "      <td>185.0</td>\n",
       "      <td>1</td>\n",
       "    </tr>\n",
       "    <tr>\n",
       "      <th>3</th>\n",
       "      <td>1/1/2021</td>\n",
       "      <td>4.0</td>\n",
       "      <td>9.0</td>\n",
       "      <td>04:09:16</td>\n",
       "      <td>Arrival</td>\n",
       "      <td>EWR</td>\n",
       "      <td>EWR-Terminal B</td>\n",
       "      <td>Concourse B-2</td>\n",
       "      <td>B53</td>\n",
       "      <td>TLV</td>\n",
       "      <td>...</td>\n",
       "      <td>United Airlines</td>\n",
       "      <td>UAL</td>\n",
       "      <td>United Airlines</td>\n",
       "      <td>UAL</td>\n",
       "      <td>UAL91</td>\n",
       "      <td>Boeing 787</td>\n",
       "      <td>Boeing 787-9</td>\n",
       "      <td>B789</td>\n",
       "      <td>280.0</td>\n",
       "      <td>1</td>\n",
       "    </tr>\n",
       "    <tr>\n",
       "      <th>4</th>\n",
       "      <td>1/1/2021</td>\n",
       "      <td>4.0</td>\n",
       "      <td>13.0</td>\n",
       "      <td>04:13:44</td>\n",
       "      <td>Arrival</td>\n",
       "      <td>EWR</td>\n",
       "      <td>EWR-Terminal B</td>\n",
       "      <td>Concourse B-2</td>\n",
       "      <td>B55</td>\n",
       "      <td>DEL</td>\n",
       "      <td>...</td>\n",
       "      <td>United Airlines</td>\n",
       "      <td>UAL</td>\n",
       "      <td>United Airlines</td>\n",
       "      <td>UAL</td>\n",
       "      <td>UAL802</td>\n",
       "      <td>Boeing 777 Freighter</td>\n",
       "      <td>Boeing 777-200F Freighter</td>\n",
       "      <td>77X</td>\n",
       "      <td>0.0</td>\n",
       "      <td>1</td>\n",
       "    </tr>\n",
       "  </tbody>\n",
       "</table>\n",
       "<p>5 rows × 22 columns</p>\n",
       "</div>"
      ],
      "text/plain": [
       "       Date  Military Hour  Minutes Military Time Flight Direction  \\\n",
       "0  1/1/2021            0.0     22.0      00:22:45          Arrival   \n",
       "1  1/1/2021            1.0      5.0      01:05:58        Departure   \n",
       "2  1/1/2021            1.0     47.0      01:47:14          Arrival   \n",
       "3  1/1/2021            4.0      9.0      04:09:16          Arrival   \n",
       "4  1/1/2021            4.0     13.0      04:13:44          Arrival   \n",
       "\n",
       "  PA Airport Code   Terminal Desc Concourse Desc Gate Desc  \\\n",
       "0             EWR  EWR-Terminal B  Concourse B-1      B41B   \n",
       "1             EWR  EWR-Terminal B  Concourse B-3       B61   \n",
       "2             EWR  EWR-Terminal B  Concourse B-2       B56   \n",
       "3             EWR  EWR-Terminal B  Concourse B-2       B53   \n",
       "4             EWR  EWR-Terminal B  Concourse B-2       B55   \n",
       "\n",
       "  Non-PA Airport Code      ...      Marketing Airline Desc  \\\n",
       "0                 SJU      ...             Spirit Airlines   \n",
       "1                 SJU      ...             Spirit Airlines   \n",
       "2                 STI      ...             JetBlue Airways   \n",
       "3                 TLV      ...             United Airlines   \n",
       "4                 DEL      ...             United Airlines   \n",
       "\n",
       "  Marketing Airline ICAO Code Operating Airline Desc  \\\n",
       "0                         NKS        Spirit Airlines   \n",
       "1                         NKS        Spirit Airlines   \n",
       "2                         JBU        JetBlue Airways   \n",
       "3                         UAL        United Airlines   \n",
       "4                         UAL        United Airlines   \n",
       "\n",
       "  Operating Airline ICAO Code Call Sign    General Aircraft Desc  \\\n",
       "0                         NKS   NKS1036  Airbus A318/319/320/321   \n",
       "1                         NKS   NKS1035  Airbus A318/319/320/321   \n",
       "2                         JBU   JBU1494  Airbus A318/319/320/321   \n",
       "3                         UAL     UAL91               Boeing 787   \n",
       "4                         UAL    UAL802     Boeing 777 Freighter   \n",
       "\n",
       "       Variant Aircraft Desc Variant Aircraft Code Max Seats Total Flights  \n",
       "0                Airbus A321                  A321     185.0             1  \n",
       "1                Airbus A321                  A321     185.0             1  \n",
       "2                Airbus A321                  A321     185.0             1  \n",
       "3               Boeing 787-9                  B789     280.0             1  \n",
       "4  Boeing 777-200F Freighter                   77X       0.0             1  \n",
       "\n",
       "[5 rows x 22 columns]"
      ]
     },
     "execution_count": 3,
     "metadata": {},
     "output_type": "execute_result"
    }
   ],
   "source": [
    "#this is how we can access data in the RCF\n",
    "data = pd.read_csv('/projects/projects/project-airport_dppc_ewr_b/workspace/share/data/Aerobahn Detailed CUSP Export.csv')\n",
    "data.head()"
   ]
  },
  {
   "cell_type": "code",
   "execution_count": 4,
   "metadata": {},
   "outputs": [
    {
     "data": {
      "text/plain": [
       "(53489, 22)"
      ]
     },
     "execution_count": 4,
     "metadata": {},
     "output_type": "execute_result"
    }
   ],
   "source": [
    "data.shape"
   ]
  }
 ],
 "metadata": {
  "kernelspec": {
   "display_name": "Python 3",
   "language": "python",
   "name": "python3"
  },
  "language_info": {
   "codemirror_mode": {
    "name": "ipython",
    "version": 3
   },
   "file_extension": ".py",
   "mimetype": "text/x-python",
   "name": "python",
   "nbconvert_exporter": "python",
   "pygments_lexer": "ipython3",
   "version": "3.6.3"
  }
 },
 "nbformat": 4,
 "nbformat_minor": 2
}
