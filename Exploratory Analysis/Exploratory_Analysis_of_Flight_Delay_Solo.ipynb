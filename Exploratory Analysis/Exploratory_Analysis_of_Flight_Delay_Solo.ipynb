{
 "cells": [
  {
   "cell_type": "code",
   "execution_count": 1,
   "id": "de0463a6",
   "metadata": {},
   "outputs": [],
   "source": [
    "import pandas as pd\n",
    "import numpy as np\n",
    "import seaborn as sns\n",
    "import os\n",
    "from datetime import datetime, date\n",
    "import urllib\n",
    "import warnings\n",
    "warnings.filterwarnings('ignore')\n",
    "import matplotlib.pyplot as plt"
   ]
  },
  {
   "cell_type": "code",
   "execution_count": 2,
   "id": "ac86dc3c",
   "metadata": {},
   "outputs": [],
   "source": [
    "sch_flight = pd.read_csv('Flight_Schedule.csv')\n",
    "ops_flight = pd.read_csv('Aerobahn_with_Schedule.csv')"
   ]
  },
  {
   "cell_type": "code",
   "execution_count": 3,
   "id": "fd043ebd",
   "metadata": {},
   "outputs": [
    {
     "name": "stdout",
     "output_type": "stream",
     "text": [
      "Scheduled flight count: (54866, 20) & Operating Flight count: (53486, 23)\n"
     ]
    }
   ],
   "source": [
    "print('Scheduled flight count:',sch_flight.shape , '& Operating Flight count:',ops_flight.shape)"
   ]
  },
  {
   "cell_type": "code",
   "execution_count": 4,
   "id": "eea6bc55",
   "metadata": {},
   "outputs": [],
   "source": [
    "sch_flight= sch_flight.dropna()\n",
    "ops_flight = ops_flight.dropna()"
   ]
  },
  {
   "cell_type": "code",
   "execution_count": 5,
   "id": "f21291ba",
   "metadata": {},
   "outputs": [
    {
     "data": {
      "text/plain": [
       "((54866, 20), (53193, 23))"
      ]
     },
     "execution_count": 5,
     "metadata": {},
     "output_type": "execute_result"
    }
   ],
   "source": [
    "sch_flight.shape,ops_flight.shape"
   ]
  },
  {
   "cell_type": "code",
   "execution_count": 6,
   "id": "5060fed7",
   "metadata": {},
   "outputs": [
    {
     "data": {
      "text/plain": [
       "Index(['Date', 'Military Hour', 'Minutes', 'Military Time', 'Block Schedule',\n",
       "       'Flight Direction', 'PA Airport Code', 'Terminal Desc',\n",
       "       'Concourse Desc', 'Gate Desc', 'Non-PA Airport Code',\n",
       "       'Non-PA Airport Country Desc', 'State Desc', 'Marketing Airline Desc',\n",
       "       'Marketing Airline ICAO Code', 'Operating Airline Desc',\n",
       "       'Operating Airline ICAO Code', 'Call Sign', 'General Aircraft Desc',\n",
       "       'Variant Aircraft Desc', 'Variant Aircraft Code', 'Max Seats',\n",
       "       'Total Flights'],\n",
       "      dtype='object')"
      ]
     },
     "execution_count": 6,
     "metadata": {},
     "output_type": "execute_result"
    }
   ],
   "source": [
    "ops_flight.columns"
   ]
  },
  {
   "cell_type": "code",
   "execution_count": 7,
   "id": "fede10a4",
   "metadata": {},
   "outputs": [],
   "source": [
    "#Replace spaces in between column name\n",
    "sch_flight.columns = [x.replace(' ','_') for x in sch_flight.columns]\n",
    "ops_flight.columns = [x.replace(' ','_') for x in ops_flight.columns]"
   ]
  },
  {
   "cell_type": "code",
   "execution_count": 8,
   "id": "5c3b340d",
   "metadata": {},
   "outputs": [
    {
     "data": {
      "text/html": [
       "<div>\n",
       "<style scoped>\n",
       "    .dataframe tbody tr th:only-of-type {\n",
       "        vertical-align: middle;\n",
       "    }\n",
       "\n",
       "    .dataframe tbody tr th {\n",
       "        vertical-align: top;\n",
       "    }\n",
       "\n",
       "    .dataframe thead th {\n",
       "        text-align: right;\n",
       "    }\n",
       "</style>\n",
       "<table border=\"1\" class=\"dataframe\">\n",
       "  <thead>\n",
       "    <tr style=\"text-align: right;\">\n",
       "      <th></th>\n",
       "      <th>Date</th>\n",
       "      <th>Military_Time</th>\n",
       "      <th>Flight_Direction</th>\n",
       "      <th>PA_Airport_Code</th>\n",
       "      <th>Terminal_Desc</th>\n",
       "      <th>Non-PA_Airport_Code</th>\n",
       "      <th>Non-PA_Airport_Country_Desc</th>\n",
       "      <th>International_Domestic</th>\n",
       "      <th>State_Desc</th>\n",
       "      <th>Marketing_Airline_Desc</th>\n",
       "      <th>Marketing_Airline_ICAO_Code</th>\n",
       "      <th>Operating_Airline_Desc</th>\n",
       "      <th>Operating_Airline_ICAO_Code</th>\n",
       "      <th>Flight_Number</th>\n",
       "      <th>General_Aircraft_Desc</th>\n",
       "      <th>Variant_Aircraft_Desc</th>\n",
       "      <th>Variant_Aircraft_Code</th>\n",
       "      <th>Total_Seats</th>\n",
       "      <th>Flight_Distance</th>\n",
       "      <th>Total_Flights</th>\n",
       "    </tr>\n",
       "  </thead>\n",
       "  <tbody>\n",
       "    <tr>\n",
       "      <th>0</th>\n",
       "      <td>1/1/2021</td>\n",
       "      <td>0:59:00</td>\n",
       "      <td>Departure</td>\n",
       "      <td>EWR</td>\n",
       "      <td>EWR-Terminal B</td>\n",
       "      <td>SJU</td>\n",
       "      <td>USA</td>\n",
       "      <td>Domestic</td>\n",
       "      <td>Puerto Rico</td>\n",
       "      <td>Spirit Airlines</td>\n",
       "      <td>NKS</td>\n",
       "      <td>Spirit Airlines</td>\n",
       "      <td>NKS</td>\n",
       "      <td>1035</td>\n",
       "      <td>Airbus A318/319/320/321</td>\n",
       "      <td>Airbus A321 (Sharklets)</td>\n",
       "      <td>32B</td>\n",
       "      <td>228</td>\n",
       "      <td>1,608</td>\n",
       "      <td>1</td>\n",
       "    </tr>\n",
       "    <tr>\n",
       "      <th>1</th>\n",
       "      <td>1/1/2021</td>\n",
       "      <td>1:29:00</td>\n",
       "      <td>Arrival</td>\n",
       "      <td>EWR</td>\n",
       "      <td>EWR-Terminal B</td>\n",
       "      <td>STI</td>\n",
       "      <td>Dominican Republic</td>\n",
       "      <td>International</td>\n",
       "      <td>International</td>\n",
       "      <td>JetBlue Airways</td>\n",
       "      <td>JBU</td>\n",
       "      <td>JetBlue Airways</td>\n",
       "      <td>JBU</td>\n",
       "      <td>1494</td>\n",
       "      <td>Airbus A318/319/320/321</td>\n",
       "      <td>Airbus A321</td>\n",
       "      <td>321</td>\n",
       "      <td>200</td>\n",
       "      <td>1,476</td>\n",
       "      <td>1</td>\n",
       "    </tr>\n",
       "    <tr>\n",
       "      <th>2</th>\n",
       "      <td>1/1/2021</td>\n",
       "      <td>4:25:00</td>\n",
       "      <td>Arrival</td>\n",
       "      <td>EWR</td>\n",
       "      <td>EWR-Terminal B</td>\n",
       "      <td>DEL</td>\n",
       "      <td>India</td>\n",
       "      <td>International</td>\n",
       "      <td>International</td>\n",
       "      <td>United Airlines</td>\n",
       "      <td>UAL</td>\n",
       "      <td>United Airlines</td>\n",
       "      <td>UAL</td>\n",
       "      <td>802</td>\n",
       "      <td>Boeing 777</td>\n",
       "      <td>Boeing 777-300ER</td>\n",
       "      <td>77W</td>\n",
       "      <td>350</td>\n",
       "      <td>7,323</td>\n",
       "      <td>1</td>\n",
       "    </tr>\n",
       "    <tr>\n",
       "      <th>3</th>\n",
       "      <td>1/1/2021</td>\n",
       "      <td>4:45:00</td>\n",
       "      <td>Arrival</td>\n",
       "      <td>EWR</td>\n",
       "      <td>EWR-Terminal B</td>\n",
       "      <td>TLV</td>\n",
       "      <td>Israel</td>\n",
       "      <td>International</td>\n",
       "      <td>International</td>\n",
       "      <td>United Airlines</td>\n",
       "      <td>UAL</td>\n",
       "      <td>United Airlines</td>\n",
       "      <td>UAL</td>\n",
       "      <td>91</td>\n",
       "      <td>Boeing 787</td>\n",
       "      <td>Boeing 787-10</td>\n",
       "      <td>781</td>\n",
       "      <td>318</td>\n",
       "      <td>5,692</td>\n",
       "      <td>1</td>\n",
       "    </tr>\n",
       "  </tbody>\n",
       "</table>\n",
       "</div>"
      ],
      "text/plain": [
       "       Date Military_Time Flight_Direction PA_Airport_Code   Terminal_Desc  \\\n",
       "0  1/1/2021       0:59:00        Departure             EWR  EWR-Terminal B   \n",
       "1  1/1/2021       1:29:00          Arrival             EWR  EWR-Terminal B   \n",
       "2  1/1/2021       4:25:00          Arrival             EWR  EWR-Terminal B   \n",
       "3  1/1/2021       4:45:00          Arrival             EWR  EWR-Terminal B   \n",
       "\n",
       "  Non-PA_Airport_Code Non-PA_Airport_Country_Desc International_Domestic  \\\n",
       "0                 SJU                         USA               Domestic   \n",
       "1                 STI          Dominican Republic          International   \n",
       "2                 DEL                       India          International   \n",
       "3                 TLV                      Israel          International   \n",
       "\n",
       "      State_Desc Marketing_Airline_Desc Marketing_Airline_ICAO_Code  \\\n",
       "0    Puerto Rico        Spirit Airlines                         NKS   \n",
       "1  International        JetBlue Airways                         JBU   \n",
       "2  International        United Airlines                         UAL   \n",
       "3  International        United Airlines                         UAL   \n",
       "\n",
       "  Operating_Airline_Desc Operating_Airline_ICAO_Code  Flight_Number  \\\n",
       "0        Spirit Airlines                         NKS           1035   \n",
       "1        JetBlue Airways                         JBU           1494   \n",
       "2        United Airlines                         UAL            802   \n",
       "3        United Airlines                         UAL             91   \n",
       "\n",
       "     General_Aircraft_Desc    Variant_Aircraft_Desc Variant_Aircraft_Code  \\\n",
       "0  Airbus A318/319/320/321  Airbus A321 (Sharklets)                   32B   \n",
       "1  Airbus A318/319/320/321              Airbus A321                   321   \n",
       "2               Boeing 777         Boeing 777-300ER                   77W   \n",
       "3               Boeing 787            Boeing 787-10                   781   \n",
       "\n",
       "   Total_Seats Flight_Distance  Total_Flights  \n",
       "0          228           1,608              1  \n",
       "1          200           1,476              1  \n",
       "2          350           7,323              1  \n",
       "3          318           5,692              1  "
      ]
     },
     "execution_count": 8,
     "metadata": {},
     "output_type": "execute_result"
    }
   ],
   "source": [
    "sch_flight.head(4)"
   ]
  },
  {
   "cell_type": "code",
   "execution_count": 9,
   "id": "4c5ecd00",
   "metadata": {},
   "outputs": [],
   "source": [
    "ops_flight['Flight_Departure'] = pd.to_datetime(ops_flight['Date']+' '+ops_flight['Military_Time'])"
   ]
  },
  {
   "cell_type": "code",
   "execution_count": 10,
   "id": "b694d243",
   "metadata": {},
   "outputs": [
    {
     "data": {
      "text/html": [
       "<div>\n",
       "<style scoped>\n",
       "    .dataframe tbody tr th:only-of-type {\n",
       "        vertical-align: middle;\n",
       "    }\n",
       "\n",
       "    .dataframe tbody tr th {\n",
       "        vertical-align: top;\n",
       "    }\n",
       "\n",
       "    .dataframe thead th {\n",
       "        text-align: right;\n",
       "    }\n",
       "</style>\n",
       "<table border=\"1\" class=\"dataframe\">\n",
       "  <thead>\n",
       "    <tr style=\"text-align: right;\">\n",
       "      <th></th>\n",
       "      <th>Date</th>\n",
       "      <th>Military_Hour</th>\n",
       "      <th>Minutes</th>\n",
       "      <th>Military_Time</th>\n",
       "      <th>Block_Schedule</th>\n",
       "      <th>Flight_Direction</th>\n",
       "      <th>PA_Airport_Code</th>\n",
       "      <th>Terminal_Desc</th>\n",
       "      <th>Concourse_Desc</th>\n",
       "      <th>Gate_Desc</th>\n",
       "      <th>...</th>\n",
       "      <th>Marketing_Airline_ICAO_Code</th>\n",
       "      <th>Operating_Airline_Desc</th>\n",
       "      <th>Operating_Airline_ICAO_Code</th>\n",
       "      <th>Call_Sign</th>\n",
       "      <th>General_Aircraft_Desc</th>\n",
       "      <th>Variant_Aircraft_Desc</th>\n",
       "      <th>Variant_Aircraft_Code</th>\n",
       "      <th>Max_Seats</th>\n",
       "      <th>Total_Flights</th>\n",
       "      <th>Flight_Departure</th>\n",
       "    </tr>\n",
       "  </thead>\n",
       "  <tbody>\n",
       "    <tr>\n",
       "      <th>0</th>\n",
       "      <td>1/1/2021</td>\n",
       "      <td>0</td>\n",
       "      <td>22</td>\n",
       "      <td>0:22:45</td>\n",
       "      <td>1/1/2021 0:59</td>\n",
       "      <td>Arrival</td>\n",
       "      <td>EWR</td>\n",
       "      <td>EWR-Terminal B</td>\n",
       "      <td>Concourse B-1</td>\n",
       "      <td>B41B</td>\n",
       "      <td>...</td>\n",
       "      <td>NKS</td>\n",
       "      <td>Spirit Airlines</td>\n",
       "      <td>NKS</td>\n",
       "      <td>NKS1036</td>\n",
       "      <td>Airbus A318/319/320/321</td>\n",
       "      <td>Airbus A321</td>\n",
       "      <td>A321</td>\n",
       "      <td>185</td>\n",
       "      <td>1</td>\n",
       "      <td>2021-01-01 00:22:45</td>\n",
       "    </tr>\n",
       "    <tr>\n",
       "      <th>1</th>\n",
       "      <td>1/1/2021</td>\n",
       "      <td>1</td>\n",
       "      <td>5</td>\n",
       "      <td>1:05:58</td>\n",
       "      <td>1/1/2021 0:59</td>\n",
       "      <td>Departure</td>\n",
       "      <td>EWR</td>\n",
       "      <td>EWR-Terminal B</td>\n",
       "      <td>Concourse B-3</td>\n",
       "      <td>B61</td>\n",
       "      <td>...</td>\n",
       "      <td>NKS</td>\n",
       "      <td>Spirit Airlines</td>\n",
       "      <td>NKS</td>\n",
       "      <td>NKS1035</td>\n",
       "      <td>Airbus A318/319/320/321</td>\n",
       "      <td>Airbus A321</td>\n",
       "      <td>A321</td>\n",
       "      <td>185</td>\n",
       "      <td>1</td>\n",
       "      <td>2021-01-01 01:05:58</td>\n",
       "    </tr>\n",
       "    <tr>\n",
       "      <th>2</th>\n",
       "      <td>1/1/2021</td>\n",
       "      <td>1</td>\n",
       "      <td>47</td>\n",
       "      <td>1:47:14</td>\n",
       "      <td>1/1/2021 1:29</td>\n",
       "      <td>Arrival</td>\n",
       "      <td>EWR</td>\n",
       "      <td>EWR-Terminal B</td>\n",
       "      <td>Concourse B-2</td>\n",
       "      <td>B56</td>\n",
       "      <td>...</td>\n",
       "      <td>JBU</td>\n",
       "      <td>JetBlue Airways</td>\n",
       "      <td>JBU</td>\n",
       "      <td>JBU1494</td>\n",
       "      <td>Airbus A318/319/320/321</td>\n",
       "      <td>Airbus A321</td>\n",
       "      <td>A321</td>\n",
       "      <td>185</td>\n",
       "      <td>1</td>\n",
       "      <td>2021-01-01 01:47:14</td>\n",
       "    </tr>\n",
       "    <tr>\n",
       "      <th>3</th>\n",
       "      <td>1/1/2021</td>\n",
       "      <td>4</td>\n",
       "      <td>9</td>\n",
       "      <td>4:09:16</td>\n",
       "      <td>1/1/2021 4:45</td>\n",
       "      <td>Arrival</td>\n",
       "      <td>EWR</td>\n",
       "      <td>EWR-Terminal B</td>\n",
       "      <td>Concourse B-2</td>\n",
       "      <td>B53</td>\n",
       "      <td>...</td>\n",
       "      <td>UAL</td>\n",
       "      <td>United Airlines</td>\n",
       "      <td>UAL</td>\n",
       "      <td>UAL91</td>\n",
       "      <td>Boeing 787</td>\n",
       "      <td>Boeing 787-9</td>\n",
       "      <td>B789</td>\n",
       "      <td>280</td>\n",
       "      <td>1</td>\n",
       "      <td>2021-01-01 04:09:16</td>\n",
       "    </tr>\n",
       "  </tbody>\n",
       "</table>\n",
       "<p>4 rows × 24 columns</p>\n",
       "</div>"
      ],
      "text/plain": [
       "       Date  Military_Hour  Minutes Military_Time Block_Schedule  \\\n",
       "0  1/1/2021              0       22       0:22:45  1/1/2021 0:59   \n",
       "1  1/1/2021              1        5       1:05:58  1/1/2021 0:59   \n",
       "2  1/1/2021              1       47       1:47:14  1/1/2021 1:29   \n",
       "3  1/1/2021              4        9       4:09:16  1/1/2021 4:45   \n",
       "\n",
       "  Flight_Direction PA_Airport_Code   Terminal_Desc Concourse_Desc Gate_Desc  \\\n",
       "0          Arrival             EWR  EWR-Terminal B  Concourse B-1      B41B   \n",
       "1        Departure             EWR  EWR-Terminal B  Concourse B-3       B61   \n",
       "2          Arrival             EWR  EWR-Terminal B  Concourse B-2       B56   \n",
       "3          Arrival             EWR  EWR-Terminal B  Concourse B-2       B53   \n",
       "\n",
       "   ... Marketing_Airline_ICAO_Code Operating_Airline_Desc  \\\n",
       "0  ...                         NKS        Spirit Airlines   \n",
       "1  ...                         NKS        Spirit Airlines   \n",
       "2  ...                         JBU        JetBlue Airways   \n",
       "3  ...                         UAL        United Airlines   \n",
       "\n",
       "  Operating_Airline_ICAO_Code Call_Sign    General_Aircraft_Desc  \\\n",
       "0                         NKS   NKS1036  Airbus A318/319/320/321   \n",
       "1                         NKS   NKS1035  Airbus A318/319/320/321   \n",
       "2                         JBU   JBU1494  Airbus A318/319/320/321   \n",
       "3                         UAL     UAL91               Boeing 787   \n",
       "\n",
       "  Variant_Aircraft_Desc Variant_Aircraft_Code Max_Seats Total_Flights  \\\n",
       "0           Airbus A321                  A321       185             1   \n",
       "1           Airbus A321                  A321       185             1   \n",
       "2           Airbus A321                  A321       185             1   \n",
       "3          Boeing 787-9                  B789       280             1   \n",
       "\n",
       "     Flight_Departure  \n",
       "0 2021-01-01 00:22:45  \n",
       "1 2021-01-01 01:05:58  \n",
       "2 2021-01-01 01:47:14  \n",
       "3 2021-01-01 04:09:16  \n",
       "\n",
       "[4 rows x 24 columns]"
      ]
     },
     "execution_count": 10,
     "metadata": {},
     "output_type": "execute_result"
    }
   ],
   "source": [
    "ops_flight.head(4)"
   ]
  },
  {
   "cell_type": "code",
   "execution_count": 11,
   "id": "5a1103f1",
   "metadata": {},
   "outputs": [],
   "source": [
    "#Fitlering data for just departing flights\n",
    "sch_flight = sch_flight[sch_flight.Flight_Direction=='Departure']\n",
    "ops_flight = ops_flight[ops_flight.Flight_Direction=='Departure']"
   ]
  },
  {
   "cell_type": "code",
   "execution_count": 12,
   "id": "f28f014d",
   "metadata": {},
   "outputs": [],
   "source": [
    "#Data was filter for only September 2021\n",
    "sch_flight = sch_flight[(sch_flight['Date']>='9/1/2021') & (sch_flight['Date']<='9/30/2021')]\n",
    "ops_flight = ops_flight[(ops_flight['Date']>='9/1/2021') & (ops_flight['Date']<='9/30/2021')]"
   ]
  },
  {
   "cell_type": "code",
   "execution_count": 13,
   "id": "5211c64f",
   "metadata": {},
   "outputs": [
    {
     "data": {
      "text/plain": [
       "('9/1/2021', '9/30/2021')"
      ]
     },
     "execution_count": 13,
     "metadata": {},
     "output_type": "execute_result"
    }
   ],
   "source": [
    "(ops_flight['Date'].min(), ops_flight['Date'].max())"
   ]
  },
  {
   "cell_type": "code",
   "execution_count": 14,
   "id": "8b3eab5a",
   "metadata": {},
   "outputs": [
    {
     "data": {
      "text/plain": [
       "((1471, 20), (1233, 24))"
      ]
     },
     "execution_count": 14,
     "metadata": {},
     "output_type": "execute_result"
    }
   ],
   "source": [
    "sch_flight.shape,ops_flight.shape"
   ]
  },
  {
   "cell_type": "code",
   "execution_count": 15,
   "id": "63aca806",
   "metadata": {},
   "outputs": [
    {
     "data": {
      "text/plain": [
       "<bound method IndexOpsMixin.value_counts of 32286               Frontier Airlines\n",
       "32293                 Spirit Airlines\n",
       "32295                 Spirit Airlines\n",
       "32298                 Delta Air Lines\n",
       "32299                 Delta Air Lines\n",
       "                     ...             \n",
       "37247                 Spirit Airlines\n",
       "37248    Swiss International Airlines\n",
       "37253             LOT Polish Airlines\n",
       "37255                    TAP Portugal\n",
       "37259                        Emirates\n",
       "Name: Operating_Airline_Desc, Length: 1471, dtype: object>"
      ]
     },
     "execution_count": 15,
     "metadata": {},
     "output_type": "execute_result"
    }
   ],
   "source": [
    "sch_flight.Operating_Airline_Desc.value_counts"
   ]
  },
  {
   "cell_type": "code",
   "execution_count": 16,
   "id": "f1246fe1",
   "metadata": {},
   "outputs": [
    {
     "data": {
      "text/plain": [
       "(<bound method Series.unique of 32286    EWR-Terminal B\n",
       " 32293    EWR-Terminal B\n",
       " 32295    EWR-Terminal B\n",
       " 32298    EWR-Terminal B\n",
       " 32299    EWR-Terminal B\n",
       "               ...      \n",
       " 37247    EWR-Terminal B\n",
       " 37248    EWR-Terminal B\n",
       " 37253    EWR-Terminal B\n",
       " 37255    EWR-Terminal B\n",
       " 37259    EWR-Terminal B\n",
       " Name: Terminal_Desc, Length: 1471, dtype: object>,\n",
       " <bound method Series.unique of 32962    EWR-Terminal B\n",
       " 32963    EWR-Terminal B\n",
       " 32970    EWR-Terminal B\n",
       " 32972    EWR-Terminal B\n",
       " 32974    EWR-Terminal B\n",
       "               ...      \n",
       " 37336    EWR-Terminal B\n",
       " 37337    EWR-Terminal B\n",
       " 37339    EWR-Terminal B\n",
       " 37343    EWR-Terminal B\n",
       " 37345    EWR-Terminal B\n",
       " Name: Terminal_Desc, Length: 1233, dtype: object>)"
      ]
     },
     "execution_count": 16,
     "metadata": {},
     "output_type": "execute_result"
    }
   ],
   "source": [
    "sch_flight.Terminal_Desc.unique, ops_flight.Terminal_Desc.unique"
   ]
  },
  {
   "cell_type": "code",
   "execution_count": 17,
   "id": "74b36b1c",
   "metadata": {},
   "outputs": [],
   "source": [
    "#Sorting the data for proper alignment before merging.\n",
    "sch_flight=sch_flight.sort_values(by=['Date','Operating_Airline_ICAO_Code'])\n",
    "ops_flight=ops_flight.sort_values(by=['Date','Operating_Airline_ICAO_Code'])"
   ]
  },
  {
   "cell_type": "code",
   "execution_count": 18,
   "id": "8d0b920f",
   "metadata": {},
   "outputs": [
    {
     "data": {
      "text/plain": [
       "dtype('int64')"
      ]
     },
     "execution_count": 18,
     "metadata": {},
     "output_type": "execute_result"
    }
   ],
   "source": [
    "sch_flight['Flight_Number'].dtype"
   ]
  },
  {
   "cell_type": "code",
   "execution_count": 19,
   "id": "ee8c28ad",
   "metadata": {},
   "outputs": [
    {
     "data": {
      "text/plain": [
       "dtype('O')"
      ]
     },
     "execution_count": 19,
     "metadata": {},
     "output_type": "execute_result"
    }
   ],
   "source": [
    "ops_flight['Call_Sign'].dtype"
   ]
  },
  {
   "cell_type": "code",
   "execution_count": 20,
   "id": "d3ee67f4",
   "metadata": {},
   "outputs": [],
   "source": [
    "ops_flight ['Actual_Departure'] = ops_flight ['Military_Time']\n",
    "sch_flight ['Actual_Scheduled'] = sch_flight ['Military_Time']"
   ]
  },
  {
   "cell_type": "code",
   "execution_count": 136,
   "id": "4bf4d8a8",
   "metadata": {},
   "outputs": [],
   "source": [
    "#Select relevant columns for further analysis\n",
    "sch_flight = sch_flight[['Date','Actual_Scheduled','Non-PA_Airport_Country_Desc', 'International_Domestic',\\\n",
    "                          'State_Desc','Operating_Airline_Desc','Flight_Number','Operating_Airline_ICAO_Code']]"
   ]
  },
  {
   "cell_type": "code",
   "execution_count": 22,
   "id": "4545d960",
   "metadata": {},
   "outputs": [],
   "source": [
    "#Select relevant columns for further analysis\n",
    "ops_flight = ops_flight[['Date','Actual_Departure' ,'Block_Schedule', 'Flight_Departure','Gate_Desc','Non-PA_Airport_Country_Desc', 'State_Desc',\\\n",
    "                         'Operating_Airline_Desc', 'Call_Sign','Operating_Airline_ICAO_Code']]"
   ]
  },
  {
   "cell_type": "code",
   "execution_count": 23,
   "id": "ced050c7",
   "metadata": {},
   "outputs": [
    {
     "data": {
      "text/plain": [
       "(1233, 10)"
      ]
     },
     "execution_count": 23,
     "metadata": {},
     "output_type": "execute_result"
    }
   ],
   "source": [
    "ops_flight.shape"
   ]
  },
  {
   "cell_type": "code",
   "execution_count": 24,
   "id": "9ad618dd",
   "metadata": {},
   "outputs": [
    {
     "data": {
      "text/plain": [
       "(1471, 8)"
      ]
     },
     "execution_count": 24,
     "metadata": {},
     "output_type": "execute_result"
    }
   ],
   "source": [
    "sch_flight.shape"
   ]
  },
  {
   "cell_type": "code",
   "execution_count": 25,
   "id": "ba272e28",
   "metadata": {},
   "outputs": [],
   "source": [
    "ops_flight['flight_Scheduled'] = pd.to_datetime(ops_flight['Block_Schedule']).dt.date"
   ]
  },
  {
   "cell_type": "code",
   "execution_count": 26,
   "id": "237a8bfd",
   "metadata": {},
   "outputs": [],
   "source": [
    "ops_flight['Scheduled_time'] = pd.to_datetime(ops_flight['Block_Schedule']).dt.time"
   ]
  },
  {
   "cell_type": "code",
   "execution_count": 27,
   "id": "2988b9ab",
   "metadata": {},
   "outputs": [
    {
     "data": {
      "text/html": [
       "<div>\n",
       "<style scoped>\n",
       "    .dataframe tbody tr th:only-of-type {\n",
       "        vertical-align: middle;\n",
       "    }\n",
       "\n",
       "    .dataframe tbody tr th {\n",
       "        vertical-align: top;\n",
       "    }\n",
       "\n",
       "    .dataframe thead th {\n",
       "        text-align: right;\n",
       "    }\n",
       "</style>\n",
       "<table border=\"1\" class=\"dataframe\">\n",
       "  <thead>\n",
       "    <tr style=\"text-align: right;\">\n",
       "      <th></th>\n",
       "      <th>Date</th>\n",
       "      <th>Actual_Departure</th>\n",
       "      <th>Block_Schedule</th>\n",
       "      <th>Flight_Departure</th>\n",
       "      <th>Gate_Desc</th>\n",
       "      <th>Non-PA_Airport_Country_Desc</th>\n",
       "      <th>State_Desc</th>\n",
       "      <th>Operating_Airline_Desc</th>\n",
       "      <th>Call_Sign</th>\n",
       "      <th>Operating_Airline_ICAO_Code</th>\n",
       "      <th>flight_Scheduled</th>\n",
       "      <th>Scheduled_time</th>\n",
       "    </tr>\n",
       "  </thead>\n",
       "  <tbody>\n",
       "    <tr>\n",
       "      <th>33058</th>\n",
       "      <td>9/1/2021</td>\n",
       "      <td>16:52:55</td>\n",
       "      <td>9/1/2021 16:35</td>\n",
       "      <td>2021-09-01 16:52:55</td>\n",
       "      <td>B65</td>\n",
       "      <td>Austria</td>\n",
       "      <td>International</td>\n",
       "      <td>Austrian Airlines</td>\n",
       "      <td>AUA90</td>\n",
       "      <td>AUA</td>\n",
       "      <td>2021-09-01</td>\n",
       "      <td>16:35:00</td>\n",
       "    </tr>\n",
       "    <tr>\n",
       "      <th>32974</th>\n",
       "      <td>9/1/2021</td>\n",
       "      <td>6:09:13</td>\n",
       "      <td>9/1/2021 6:00</td>\n",
       "      <td>2021-09-01 06:09:13</td>\n",
       "      <td>B45</td>\n",
       "      <td>USA</td>\n",
       "      <td>Georgia</td>\n",
       "      <td>Delta Air Lines</td>\n",
       "      <td>DAL2060</td>\n",
       "      <td>DAL</td>\n",
       "      <td>2021-09-01</td>\n",
       "      <td>06:00:00</td>\n",
       "    </tr>\n",
       "    <tr>\n",
       "      <th>32975</th>\n",
       "      <td>9/1/2021</td>\n",
       "      <td>6:19:17</td>\n",
       "      <td>9/1/2021 6:10</td>\n",
       "      <td>2021-09-01 06:19:17</td>\n",
       "      <td>B46A</td>\n",
       "      <td>USA</td>\n",
       "      <td>Michigan</td>\n",
       "      <td>Delta Air Lines</td>\n",
       "      <td>DAL1529</td>\n",
       "      <td>DAL</td>\n",
       "      <td>2021-09-01</td>\n",
       "      <td>06:10:00</td>\n",
       "    </tr>\n",
       "  </tbody>\n",
       "</table>\n",
       "</div>"
      ],
      "text/plain": [
       "           Date Actual_Departure  Block_Schedule    Flight_Departure  \\\n",
       "33058  9/1/2021         16:52:55  9/1/2021 16:35 2021-09-01 16:52:55   \n",
       "32974  9/1/2021          6:09:13   9/1/2021 6:00 2021-09-01 06:09:13   \n",
       "32975  9/1/2021          6:19:17   9/1/2021 6:10 2021-09-01 06:19:17   \n",
       "\n",
       "      Gate_Desc Non-PA_Airport_Country_Desc     State_Desc  \\\n",
       "33058       B65                     Austria  International   \n",
       "32974       B45                         USA        Georgia   \n",
       "32975      B46A                         USA       Michigan   \n",
       "\n",
       "      Operating_Airline_Desc Call_Sign Operating_Airline_ICAO_Code  \\\n",
       "33058      Austrian Airlines     AUA90                         AUA   \n",
       "32974        Delta Air Lines   DAL2060                         DAL   \n",
       "32975        Delta Air Lines   DAL1529                         DAL   \n",
       "\n",
       "      flight_Scheduled Scheduled_time  \n",
       "33058       2021-09-01       16:35:00  \n",
       "32974       2021-09-01       06:00:00  \n",
       "32975       2021-09-01       06:10:00  "
      ]
     },
     "execution_count": 27,
     "metadata": {},
     "output_type": "execute_result"
    }
   ],
   "source": [
    "ops_flight.head(3)"
   ]
  },
  {
   "cell_type": "code",
   "execution_count": 28,
   "id": "1ed99b92",
   "metadata": {},
   "outputs": [],
   "source": [
    "sch_flight['Flight_Number'] = sch_flight['Flight_Number'].astype(int)\n",
    "sch_flight['flight_Scheduled'] = pd.to_datetime(sch_flight['Date']).dt.date"
   ]
  },
  {
   "cell_type": "code",
   "execution_count": 29,
   "id": "7b7e57a2",
   "metadata": {},
   "outputs": [],
   "source": [
    "#create a call sign field to flight schedule data with flight operation data\n",
    "sch_flight['Call_Sign'] = sch_flight['Operating_Airline_ICAO_Code']+''+sch_flight['Flight_Number'].astype(str)"
   ]
  },
  {
   "cell_type": "code",
   "execution_count": 30,
   "id": "926512fb",
   "metadata": {},
   "outputs": [
    {
     "data": {
      "text/html": [
       "<div>\n",
       "<style scoped>\n",
       "    .dataframe tbody tr th:only-of-type {\n",
       "        vertical-align: middle;\n",
       "    }\n",
       "\n",
       "    .dataframe tbody tr th {\n",
       "        vertical-align: top;\n",
       "    }\n",
       "\n",
       "    .dataframe thead th {\n",
       "        text-align: right;\n",
       "    }\n",
       "</style>\n",
       "<table border=\"1\" class=\"dataframe\">\n",
       "  <thead>\n",
       "    <tr style=\"text-align: right;\">\n",
       "      <th></th>\n",
       "      <th>Date</th>\n",
       "      <th>Actual_Scheduled</th>\n",
       "      <th>Non-PA_Airport_Country_Desc</th>\n",
       "      <th>International_Domestic</th>\n",
       "      <th>State_Desc</th>\n",
       "      <th>Operating_Airline_Desc</th>\n",
       "      <th>Flight_Number</th>\n",
       "      <th>Operating_Airline_ICAO_Code</th>\n",
       "      <th>flight_Scheduled</th>\n",
       "      <th>Call_Sign</th>\n",
       "    </tr>\n",
       "  </thead>\n",
       "  <tbody>\n",
       "    <tr>\n",
       "      <th>32385</th>\n",
       "      <td>9/1/2021</td>\n",
       "      <td>16:35:00</td>\n",
       "      <td>Austria</td>\n",
       "      <td>International</td>\n",
       "      <td>International</td>\n",
       "      <td>Austrian Airlines</td>\n",
       "      <td>90</td>\n",
       "      <td>AUA</td>\n",
       "      <td>2021-09-01</td>\n",
       "      <td>AUA90</td>\n",
       "    </tr>\n",
       "    <tr>\n",
       "      <th>32298</th>\n",
       "      <td>9/1/2021</td>\n",
       "      <td>6:00:00</td>\n",
       "      <td>USA</td>\n",
       "      <td>Domestic</td>\n",
       "      <td>Georgia</td>\n",
       "      <td>Delta Air Lines</td>\n",
       "      <td>2060</td>\n",
       "      <td>DAL</td>\n",
       "      <td>2021-09-01</td>\n",
       "      <td>DAL2060</td>\n",
       "    </tr>\n",
       "    <tr>\n",
       "      <th>32299</th>\n",
       "      <td>9/1/2021</td>\n",
       "      <td>6:10:00</td>\n",
       "      <td>USA</td>\n",
       "      <td>Domestic</td>\n",
       "      <td>Michigan</td>\n",
       "      <td>Delta Air Lines</td>\n",
       "      <td>1529</td>\n",
       "      <td>DAL</td>\n",
       "      <td>2021-09-01</td>\n",
       "      <td>DAL1529</td>\n",
       "    </tr>\n",
       "  </tbody>\n",
       "</table>\n",
       "</div>"
      ],
      "text/plain": [
       "           Date Actual_Scheduled Non-PA_Airport_Country_Desc  \\\n",
       "32385  9/1/2021         16:35:00                     Austria   \n",
       "32298  9/1/2021          6:00:00                         USA   \n",
       "32299  9/1/2021          6:10:00                         USA   \n",
       "\n",
       "      International_Domestic     State_Desc Operating_Airline_Desc  \\\n",
       "32385          International  International      Austrian Airlines   \n",
       "32298               Domestic        Georgia        Delta Air Lines   \n",
       "32299               Domestic       Michigan        Delta Air Lines   \n",
       "\n",
       "       Flight_Number Operating_Airline_ICAO_Code flight_Scheduled Call_Sign  \n",
       "32385             90                         AUA       2021-09-01     AUA90  \n",
       "32298           2060                         DAL       2021-09-01   DAL2060  \n",
       "32299           1529                         DAL       2021-09-01   DAL1529  "
      ]
     },
     "execution_count": 30,
     "metadata": {},
     "output_type": "execute_result"
    }
   ],
   "source": [
    "sch_flight.head(3)"
   ]
  },
  {
   "cell_type": "code",
   "execution_count": 31,
   "id": "505a4081",
   "metadata": {},
   "outputs": [],
   "source": [
    "#Both flight schedule and operation data merged\n",
    "flightmerge = sch_flight.merge(ops_flight, on = ['flight_Scheduled','Call_Sign'], how = 'left', indicator = True)"
   ]
  },
  {
   "cell_type": "code",
   "execution_count": 32,
   "id": "b02ae4a6",
   "metadata": {},
   "outputs": [
    {
     "name": "stdout",
     "output_type": "stream",
     "text": [
      "(1233, 12)\n",
      "(1471, 10)\n",
      "(1474, 21)\n"
     ]
    }
   ],
   "source": [
    "print(ops_flight.shape)\n",
    "print(sch_flight.shape)\n",
    "print(flightmerge.shape)"
   ]
  },
  {
   "cell_type": "code",
   "execution_count": 33,
   "id": "7beca9ac",
   "metadata": {},
   "outputs": [
    {
     "data": {
      "text/plain": [
       "both          1179\n",
       "left_only      295\n",
       "right_only       0\n",
       "Name: _merge, dtype: int64"
      ]
     },
     "execution_count": 33,
     "metadata": {},
     "output_type": "execute_result"
    }
   ],
   "source": [
    "flightmerge._merge.value_counts()"
   ]
  },
  {
   "cell_type": "code",
   "execution_count": 34,
   "id": "fdcc8753",
   "metadata": {},
   "outputs": [
    {
     "data": {
      "text/html": [
       "<div>\n",
       "<style scoped>\n",
       "    .dataframe tbody tr th:only-of-type {\n",
       "        vertical-align: middle;\n",
       "    }\n",
       "\n",
       "    .dataframe tbody tr th {\n",
       "        vertical-align: top;\n",
       "    }\n",
       "\n",
       "    .dataframe thead th {\n",
       "        text-align: right;\n",
       "    }\n",
       "</style>\n",
       "<table border=\"1\" class=\"dataframe\">\n",
       "  <thead>\n",
       "    <tr style=\"text-align: right;\">\n",
       "      <th></th>\n",
       "      <th>Date_x</th>\n",
       "      <th>Actual_Scheduled</th>\n",
       "      <th>Non-PA_Airport_Country_Desc_x</th>\n",
       "      <th>International_Domestic</th>\n",
       "      <th>State_Desc_x</th>\n",
       "      <th>Operating_Airline_Desc_x</th>\n",
       "      <th>Flight_Number</th>\n",
       "      <th>Operating_Airline_ICAO_Code_x</th>\n",
       "      <th>flight_Scheduled</th>\n",
       "      <th>Call_Sign</th>\n",
       "      <th>...</th>\n",
       "      <th>Actual_Departure</th>\n",
       "      <th>Block_Schedule</th>\n",
       "      <th>Flight_Departure</th>\n",
       "      <th>Gate_Desc</th>\n",
       "      <th>Non-PA_Airport_Country_Desc_y</th>\n",
       "      <th>State_Desc_y</th>\n",
       "      <th>Operating_Airline_Desc_y</th>\n",
       "      <th>Operating_Airline_ICAO_Code_y</th>\n",
       "      <th>Scheduled_time</th>\n",
       "      <th>_merge</th>\n",
       "    </tr>\n",
       "  </thead>\n",
       "  <tbody>\n",
       "    <tr>\n",
       "      <th>0</th>\n",
       "      <td>9/1/2021</td>\n",
       "      <td>16:35:00</td>\n",
       "      <td>Austria</td>\n",
       "      <td>International</td>\n",
       "      <td>International</td>\n",
       "      <td>Austrian Airlines</td>\n",
       "      <td>90</td>\n",
       "      <td>AUA</td>\n",
       "      <td>2021-09-01</td>\n",
       "      <td>AUA90</td>\n",
       "      <td>...</td>\n",
       "      <td>16:52:55</td>\n",
       "      <td>9/1/2021 16:35</td>\n",
       "      <td>2021-09-01 16:52:55</td>\n",
       "      <td>B65</td>\n",
       "      <td>Austria</td>\n",
       "      <td>International</td>\n",
       "      <td>Austrian Airlines</td>\n",
       "      <td>AUA</td>\n",
       "      <td>16:35:00</td>\n",
       "      <td>both</td>\n",
       "    </tr>\n",
       "    <tr>\n",
       "      <th>1</th>\n",
       "      <td>9/1/2021</td>\n",
       "      <td>6:00:00</td>\n",
       "      <td>USA</td>\n",
       "      <td>Domestic</td>\n",
       "      <td>Georgia</td>\n",
       "      <td>Delta Air Lines</td>\n",
       "      <td>2060</td>\n",
       "      <td>DAL</td>\n",
       "      <td>2021-09-01</td>\n",
       "      <td>DAL2060</td>\n",
       "      <td>...</td>\n",
       "      <td>6:09:13</td>\n",
       "      <td>9/1/2021 6:00</td>\n",
       "      <td>2021-09-01 06:09:13</td>\n",
       "      <td>B45</td>\n",
       "      <td>USA</td>\n",
       "      <td>Georgia</td>\n",
       "      <td>Delta Air Lines</td>\n",
       "      <td>DAL</td>\n",
       "      <td>06:00:00</td>\n",
       "      <td>both</td>\n",
       "    </tr>\n",
       "    <tr>\n",
       "      <th>2</th>\n",
       "      <td>9/1/2021</td>\n",
       "      <td>6:10:00</td>\n",
       "      <td>USA</td>\n",
       "      <td>Domestic</td>\n",
       "      <td>Michigan</td>\n",
       "      <td>Delta Air Lines</td>\n",
       "      <td>1529</td>\n",
       "      <td>DAL</td>\n",
       "      <td>2021-09-01</td>\n",
       "      <td>DAL1529</td>\n",
       "      <td>...</td>\n",
       "      <td>6:19:17</td>\n",
       "      <td>9/1/2021 6:10</td>\n",
       "      <td>2021-09-01 06:19:17</td>\n",
       "      <td>B46A</td>\n",
       "      <td>USA</td>\n",
       "      <td>Michigan</td>\n",
       "      <td>Delta Air Lines</td>\n",
       "      <td>DAL</td>\n",
       "      <td>06:10:00</td>\n",
       "      <td>both</td>\n",
       "    </tr>\n",
       "    <tr>\n",
       "      <th>3</th>\n",
       "      <td>9/1/2021</td>\n",
       "      <td>6:25:00</td>\n",
       "      <td>USA</td>\n",
       "      <td>Domestic</td>\n",
       "      <td>Minnesota</td>\n",
       "      <td>Delta Air Lines</td>\n",
       "      <td>1594</td>\n",
       "      <td>DAL</td>\n",
       "      <td>2021-09-01</td>\n",
       "      <td>DAL1594</td>\n",
       "      <td>...</td>\n",
       "      <td>6:32:45</td>\n",
       "      <td>9/1/2021 6:25</td>\n",
       "      <td>2021-09-01 06:32:45</td>\n",
       "      <td>B47</td>\n",
       "      <td>USA</td>\n",
       "      <td>Minnesota</td>\n",
       "      <td>Delta Air Lines</td>\n",
       "      <td>DAL</td>\n",
       "      <td>06:25:00</td>\n",
       "      <td>both</td>\n",
       "    </tr>\n",
       "    <tr>\n",
       "      <th>4</th>\n",
       "      <td>9/1/2021</td>\n",
       "      <td>7:15:00</td>\n",
       "      <td>USA</td>\n",
       "      <td>Domestic</td>\n",
       "      <td>Georgia</td>\n",
       "      <td>Delta Air Lines</td>\n",
       "      <td>2773</td>\n",
       "      <td>DAL</td>\n",
       "      <td>2021-09-01</td>\n",
       "      <td>DAL2773</td>\n",
       "      <td>...</td>\n",
       "      <td>7:27:07</td>\n",
       "      <td>9/1/2021 7:15</td>\n",
       "      <td>2021-09-01 07:27:07</td>\n",
       "      <td>B45</td>\n",
       "      <td>USA</td>\n",
       "      <td>Georgia</td>\n",
       "      <td>Delta Air Lines</td>\n",
       "      <td>DAL</td>\n",
       "      <td>07:15:00</td>\n",
       "      <td>both</td>\n",
       "    </tr>\n",
       "  </tbody>\n",
       "</table>\n",
       "<p>5 rows × 21 columns</p>\n",
       "</div>"
      ],
      "text/plain": [
       "     Date_x Actual_Scheduled Non-PA_Airport_Country_Desc_x  \\\n",
       "0  9/1/2021         16:35:00                       Austria   \n",
       "1  9/1/2021          6:00:00                           USA   \n",
       "2  9/1/2021          6:10:00                           USA   \n",
       "3  9/1/2021          6:25:00                           USA   \n",
       "4  9/1/2021          7:15:00                           USA   \n",
       "\n",
       "  International_Domestic   State_Desc_x Operating_Airline_Desc_x  \\\n",
       "0          International  International        Austrian Airlines   \n",
       "1               Domestic        Georgia          Delta Air Lines   \n",
       "2               Domestic       Michigan          Delta Air Lines   \n",
       "3               Domestic      Minnesota          Delta Air Lines   \n",
       "4               Domestic        Georgia          Delta Air Lines   \n",
       "\n",
       "   Flight_Number Operating_Airline_ICAO_Code_x flight_Scheduled Call_Sign  \\\n",
       "0             90                           AUA       2021-09-01     AUA90   \n",
       "1           2060                           DAL       2021-09-01   DAL2060   \n",
       "2           1529                           DAL       2021-09-01   DAL1529   \n",
       "3           1594                           DAL       2021-09-01   DAL1594   \n",
       "4           2773                           DAL       2021-09-01   DAL2773   \n",
       "\n",
       "   ... Actual_Departure  Block_Schedule    Flight_Departure Gate_Desc  \\\n",
       "0  ...         16:52:55  9/1/2021 16:35 2021-09-01 16:52:55       B65   \n",
       "1  ...          6:09:13   9/1/2021 6:00 2021-09-01 06:09:13       B45   \n",
       "2  ...          6:19:17   9/1/2021 6:10 2021-09-01 06:19:17      B46A   \n",
       "3  ...          6:32:45   9/1/2021 6:25 2021-09-01 06:32:45       B47   \n",
       "4  ...          7:27:07   9/1/2021 7:15 2021-09-01 07:27:07       B45   \n",
       "\n",
       "  Non-PA_Airport_Country_Desc_y   State_Desc_y Operating_Airline_Desc_y  \\\n",
       "0                       Austria  International        Austrian Airlines   \n",
       "1                           USA        Georgia          Delta Air Lines   \n",
       "2                           USA       Michigan          Delta Air Lines   \n",
       "3                           USA      Minnesota          Delta Air Lines   \n",
       "4                           USA        Georgia          Delta Air Lines   \n",
       "\n",
       "  Operating_Airline_ICAO_Code_y Scheduled_time _merge  \n",
       "0                           AUA       16:35:00   both  \n",
       "1                           DAL       06:00:00   both  \n",
       "2                           DAL       06:10:00   both  \n",
       "3                           DAL       06:25:00   both  \n",
       "4                           DAL       07:15:00   both  \n",
       "\n",
       "[5 rows x 21 columns]"
      ]
     },
     "execution_count": 34,
     "metadata": {},
     "output_type": "execute_result"
    }
   ],
   "source": [
    "flightmerge.head(5)"
   ]
  },
  {
   "cell_type": "code",
   "execution_count": 37,
   "id": "29774c03",
   "metadata": {},
   "outputs": [
    {
     "data": {
      "text/plain": [
       "Date_x                             0\n",
       "Actual_Scheduled                   0\n",
       "Non-PA_Airport_Country_Desc_x      0\n",
       "International_Domestic             0\n",
       "State_Desc_x                       0\n",
       "Operating_Airline_Desc_x           0\n",
       "Flight_Number                      0\n",
       "Operating_Airline_ICAO_Code_x      0\n",
       "flight_Scheduled                   0\n",
       "Call_Sign                          0\n",
       "Date_y                           295\n",
       "Actual_Departure                 295\n",
       "Block_Schedule                   295\n",
       "Flight_Departure                 295\n",
       "Gate_Desc                        295\n",
       "Non-PA_Airport_Country_Desc_y    295\n",
       "State_Desc_y                     295\n",
       "Operating_Airline_Desc_y         295\n",
       "Operating_Airline_ICAO_Code_y    295\n",
       "Scheduled_time                   295\n",
       "_merge                             0\n",
       "dtype: int64"
      ]
     },
     "execution_count": 37,
     "metadata": {},
     "output_type": "execute_result"
    }
   ],
   "source": [
    "flightmerge.isna().sum()"
   ]
  },
  {
   "cell_type": "code",
   "execution_count": 38,
   "id": "377e7e75",
   "metadata": {},
   "outputs": [],
   "source": [
    "#merge data\n",
    "flightmerge = flightmerge[flightmerge._merge=='both']\n",
    "flightmerge.to_csv('Flight_Scheduled_Merge_w_Ops')"
   ]
  },
  {
   "cell_type": "code",
   "execution_count": 39,
   "id": "fc61a3d8",
   "metadata": {},
   "outputs": [
    {
     "data": {
      "text/plain": [
       "Index(['Date_x', 'Actual_Scheduled', 'Non-PA_Airport_Country_Desc_x',\n",
       "       'International_Domestic', 'State_Desc_x', 'Operating_Airline_Desc_x',\n",
       "       'Flight_Number', 'Operating_Airline_ICAO_Code_x', 'flight_Scheduled',\n",
       "       'Call_Sign', 'Date_y', 'Actual_Departure', 'Block_Schedule',\n",
       "       'Flight_Departure', 'Gate_Desc', 'Non-PA_Airport_Country_Desc_y',\n",
       "       'State_Desc_y', 'Operating_Airline_Desc_y',\n",
       "       'Operating_Airline_ICAO_Code_y', 'Scheduled_time', '_merge'],\n",
       "      dtype='object')"
      ]
     },
     "execution_count": 39,
     "metadata": {},
     "output_type": "execute_result"
    }
   ],
   "source": [
    "flightmerge.columns"
   ]
  },
  {
   "cell_type": "code",
   "execution_count": 40,
   "id": "e3f341e7",
   "metadata": {},
   "outputs": [],
   "source": [
    "#Selecting relevant fields from clean data\n",
    "flightmerge = flightmerge[['Date_x','Actual_Scheduled','Actual_Departure', 'Flight_Departure','Block_Schedule','Non-PA_Airport_Country_Desc_x',\\\n",
    "                         'International_Domestic', 'Operating_Airline_Desc_x','Operating_Airline_ICAO_Code_x',\\\n",
    "                         'Gate_Desc']]"
   ]
  },
  {
   "cell_type": "code",
   "execution_count": 41,
   "id": "5394e0e7",
   "metadata": {},
   "outputs": [
    {
     "data": {
      "text/plain": [
       "(1179, 10)"
      ]
     },
     "execution_count": 41,
     "metadata": {},
     "output_type": "execute_result"
    }
   ],
   "source": [
    "flightmerge.shape"
   ]
  },
  {
   "cell_type": "code",
   "execution_count": 137,
   "id": "328c7d68",
   "metadata": {},
   "outputs": [],
   "source": [
    "#Removing _x for the columns names\n",
    "flightmerge.columns = [x.replace('_x','') for x in flightmerge.columns]"
   ]
  },
  {
   "cell_type": "code",
   "execution_count": 43,
   "id": "f26fa1dc",
   "metadata": {},
   "outputs": [
    {
     "data": {
      "text/html": [
       "<div>\n",
       "<style scoped>\n",
       "    .dataframe tbody tr th:only-of-type {\n",
       "        vertical-align: middle;\n",
       "    }\n",
       "\n",
       "    .dataframe tbody tr th {\n",
       "        vertical-align: top;\n",
       "    }\n",
       "\n",
       "    .dataframe thead th {\n",
       "        text-align: right;\n",
       "    }\n",
       "</style>\n",
       "<table border=\"1\" class=\"dataframe\">\n",
       "  <thead>\n",
       "    <tr style=\"text-align: right;\">\n",
       "      <th></th>\n",
       "      <th>Date</th>\n",
       "      <th>Actual_Scheduled</th>\n",
       "      <th>Actual_Departure</th>\n",
       "      <th>Flight_Departure</th>\n",
       "      <th>Block_Schedule</th>\n",
       "      <th>Non-PA_Airport_Country_Desc</th>\n",
       "      <th>International_Domestic</th>\n",
       "      <th>Operating_Airline_Desc</th>\n",
       "      <th>Operating_Airline_ICAO_Code</th>\n",
       "      <th>Gate_Desc</th>\n",
       "    </tr>\n",
       "  </thead>\n",
       "  <tbody>\n",
       "    <tr>\n",
       "      <th>0</th>\n",
       "      <td>9/1/2021</td>\n",
       "      <td>16:35:00</td>\n",
       "      <td>16:52:55</td>\n",
       "      <td>2021-09-01 16:52:55</td>\n",
       "      <td>9/1/2021 16:35</td>\n",
       "      <td>Austria</td>\n",
       "      <td>International</td>\n",
       "      <td>Austrian Airlines</td>\n",
       "      <td>AUA</td>\n",
       "      <td>B65</td>\n",
       "    </tr>\n",
       "    <tr>\n",
       "      <th>1</th>\n",
       "      <td>9/1/2021</td>\n",
       "      <td>6:00:00</td>\n",
       "      <td>6:09:13</td>\n",
       "      <td>2021-09-01 06:09:13</td>\n",
       "      <td>9/1/2021 6:00</td>\n",
       "      <td>USA</td>\n",
       "      <td>Domestic</td>\n",
       "      <td>Delta Air Lines</td>\n",
       "      <td>DAL</td>\n",
       "      <td>B45</td>\n",
       "    </tr>\n",
       "    <tr>\n",
       "      <th>2</th>\n",
       "      <td>9/1/2021</td>\n",
       "      <td>6:10:00</td>\n",
       "      <td>6:19:17</td>\n",
       "      <td>2021-09-01 06:19:17</td>\n",
       "      <td>9/1/2021 6:10</td>\n",
       "      <td>USA</td>\n",
       "      <td>Domestic</td>\n",
       "      <td>Delta Air Lines</td>\n",
       "      <td>DAL</td>\n",
       "      <td>B46A</td>\n",
       "    </tr>\n",
       "    <tr>\n",
       "      <th>3</th>\n",
       "      <td>9/1/2021</td>\n",
       "      <td>6:25:00</td>\n",
       "      <td>6:32:45</td>\n",
       "      <td>2021-09-01 06:32:45</td>\n",
       "      <td>9/1/2021 6:25</td>\n",
       "      <td>USA</td>\n",
       "      <td>Domestic</td>\n",
       "      <td>Delta Air Lines</td>\n",
       "      <td>DAL</td>\n",
       "      <td>B47</td>\n",
       "    </tr>\n",
       "    <tr>\n",
       "      <th>4</th>\n",
       "      <td>9/1/2021</td>\n",
       "      <td>7:15:00</td>\n",
       "      <td>7:27:07</td>\n",
       "      <td>2021-09-01 07:27:07</td>\n",
       "      <td>9/1/2021 7:15</td>\n",
       "      <td>USA</td>\n",
       "      <td>Domestic</td>\n",
       "      <td>Delta Air Lines</td>\n",
       "      <td>DAL</td>\n",
       "      <td>B45</td>\n",
       "    </tr>\n",
       "  </tbody>\n",
       "</table>\n",
       "</div>"
      ],
      "text/plain": [
       "       Date Actual_Scheduled Actual_Departure    Flight_Departure  \\\n",
       "0  9/1/2021         16:35:00         16:52:55 2021-09-01 16:52:55   \n",
       "1  9/1/2021          6:00:00          6:09:13 2021-09-01 06:09:13   \n",
       "2  9/1/2021          6:10:00          6:19:17 2021-09-01 06:19:17   \n",
       "3  9/1/2021          6:25:00          6:32:45 2021-09-01 06:32:45   \n",
       "4  9/1/2021          7:15:00          7:27:07 2021-09-01 07:27:07   \n",
       "\n",
       "   Block_Schedule Non-PA_Airport_Country_Desc International_Domestic  \\\n",
       "0  9/1/2021 16:35                     Austria          International   \n",
       "1   9/1/2021 6:00                         USA               Domestic   \n",
       "2   9/1/2021 6:10                         USA               Domestic   \n",
       "3   9/1/2021 6:25                         USA               Domestic   \n",
       "4   9/1/2021 7:15                         USA               Domestic   \n",
       "\n",
       "  Operating_Airline_Desc Operating_Airline_ICAO_Code Gate_Desc  \n",
       "0      Austrian Airlines                         AUA       B65  \n",
       "1        Delta Air Lines                         DAL       B45  \n",
       "2        Delta Air Lines                         DAL      B46A  \n",
       "3        Delta Air Lines                         DAL       B47  \n",
       "4        Delta Air Lines                         DAL       B45  "
      ]
     },
     "execution_count": 43,
     "metadata": {},
     "output_type": "execute_result"
    }
   ],
   "source": [
    "flightmerge.head(5)"
   ]
  },
  {
   "cell_type": "code",
   "execution_count": 44,
   "id": "e809a06d",
   "metadata": {},
   "outputs": [],
   "source": [
    "flightmerge['Flight_Schedule']=flightmerge['Block_Schedule']"
   ]
  },
  {
   "cell_type": "code",
   "execution_count": 45,
   "id": "6ac8e1c2",
   "metadata": {},
   "outputs": [],
   "source": [
    "flightmerge['Flight_Schedule']=pd.to_datetime(flightmerge['Flight_Schedule'])"
   ]
  },
  {
   "cell_type": "code",
   "execution_count": 46,
   "id": "b6434cfc",
   "metadata": {},
   "outputs": [],
   "source": [
    "flightmerge['Flight_Delay'] = flightmerge['Flight_Departure'] - flightmerge['Flight_Schedule']"
   ]
  },
  {
   "cell_type": "code",
   "execution_count": 47,
   "id": "d64a903f",
   "metadata": {},
   "outputs": [
    {
     "data": {
      "text/html": [
       "<div>\n",
       "<style scoped>\n",
       "    .dataframe tbody tr th:only-of-type {\n",
       "        vertical-align: middle;\n",
       "    }\n",
       "\n",
       "    .dataframe tbody tr th {\n",
       "        vertical-align: top;\n",
       "    }\n",
       "\n",
       "    .dataframe thead th {\n",
       "        text-align: right;\n",
       "    }\n",
       "</style>\n",
       "<table border=\"1\" class=\"dataframe\">\n",
       "  <thead>\n",
       "    <tr style=\"text-align: right;\">\n",
       "      <th></th>\n",
       "      <th>Date</th>\n",
       "      <th>Actual_Scheduled</th>\n",
       "      <th>Actual_Departure</th>\n",
       "      <th>Flight_Departure</th>\n",
       "      <th>Block_Schedule</th>\n",
       "      <th>Non-PA_Airport_Country_Desc</th>\n",
       "      <th>International_Domestic</th>\n",
       "      <th>Operating_Airline_Desc</th>\n",
       "      <th>Operating_Airline_ICAO_Code</th>\n",
       "      <th>Gate_Desc</th>\n",
       "      <th>Flight_Schedule</th>\n",
       "      <th>Flight_Delay</th>\n",
       "    </tr>\n",
       "  </thead>\n",
       "  <tbody>\n",
       "    <tr>\n",
       "      <th>0</th>\n",
       "      <td>9/1/2021</td>\n",
       "      <td>16:35:00</td>\n",
       "      <td>16:52:55</td>\n",
       "      <td>2021-09-01 16:52:55</td>\n",
       "      <td>9/1/2021 16:35</td>\n",
       "      <td>Austria</td>\n",
       "      <td>International</td>\n",
       "      <td>Austrian Airlines</td>\n",
       "      <td>AUA</td>\n",
       "      <td>B65</td>\n",
       "      <td>2021-09-01 16:35:00</td>\n",
       "      <td>0 days 00:17:55</td>\n",
       "    </tr>\n",
       "    <tr>\n",
       "      <th>1</th>\n",
       "      <td>9/1/2021</td>\n",
       "      <td>6:00:00</td>\n",
       "      <td>6:09:13</td>\n",
       "      <td>2021-09-01 06:09:13</td>\n",
       "      <td>9/1/2021 6:00</td>\n",
       "      <td>USA</td>\n",
       "      <td>Domestic</td>\n",
       "      <td>Delta Air Lines</td>\n",
       "      <td>DAL</td>\n",
       "      <td>B45</td>\n",
       "      <td>2021-09-01 06:00:00</td>\n",
       "      <td>0 days 00:09:13</td>\n",
       "    </tr>\n",
       "    <tr>\n",
       "      <th>2</th>\n",
       "      <td>9/1/2021</td>\n",
       "      <td>6:10:00</td>\n",
       "      <td>6:19:17</td>\n",
       "      <td>2021-09-01 06:19:17</td>\n",
       "      <td>9/1/2021 6:10</td>\n",
       "      <td>USA</td>\n",
       "      <td>Domestic</td>\n",
       "      <td>Delta Air Lines</td>\n",
       "      <td>DAL</td>\n",
       "      <td>B46A</td>\n",
       "      <td>2021-09-01 06:10:00</td>\n",
       "      <td>0 days 00:09:17</td>\n",
       "    </tr>\n",
       "  </tbody>\n",
       "</table>\n",
       "</div>"
      ],
      "text/plain": [
       "       Date Actual_Scheduled Actual_Departure    Flight_Departure  \\\n",
       "0  9/1/2021         16:35:00         16:52:55 2021-09-01 16:52:55   \n",
       "1  9/1/2021          6:00:00          6:09:13 2021-09-01 06:09:13   \n",
       "2  9/1/2021          6:10:00          6:19:17 2021-09-01 06:19:17   \n",
       "\n",
       "   Block_Schedule Non-PA_Airport_Country_Desc International_Domestic  \\\n",
       "0  9/1/2021 16:35                     Austria          International   \n",
       "1   9/1/2021 6:00                         USA               Domestic   \n",
       "2   9/1/2021 6:10                         USA               Domestic   \n",
       "\n",
       "  Operating_Airline_Desc Operating_Airline_ICAO_Code Gate_Desc  \\\n",
       "0      Austrian Airlines                         AUA       B65   \n",
       "1        Delta Air Lines                         DAL       B45   \n",
       "2        Delta Air Lines                         DAL      B46A   \n",
       "\n",
       "      Flight_Schedule    Flight_Delay  \n",
       "0 2021-09-01 16:35:00 0 days 00:17:55  \n",
       "1 2021-09-01 06:00:00 0 days 00:09:13  \n",
       "2 2021-09-01 06:10:00 0 days 00:09:17  "
      ]
     },
     "execution_count": 47,
     "metadata": {},
     "output_type": "execute_result"
    }
   ],
   "source": [
    "flightmerge.head(3)"
   ]
  },
  {
   "cell_type": "code",
   "execution_count": 48,
   "id": "edb63fd8",
   "metadata": {},
   "outputs": [
    {
     "data": {
      "text/plain": [
       "(Timedelta('-1 days +23:52:26'), Timedelta('0 days 17:24:32'))"
      ]
     },
     "execution_count": 48,
     "metadata": {},
     "output_type": "execute_result"
    }
   ],
   "source": [
    "flightmerge['Flight_Delay'].min(), flightmerge['Flight_Delay'].max()"
   ]
  },
  {
   "cell_type": "code",
   "execution_count": 51,
   "id": "09dc1984",
   "metadata": {},
   "outputs": [],
   "source": [
    "flightmerge = flightmerge.loc[flightmerge['Flight_Delay']>='00:00:00']"
   ]
  },
  {
   "cell_type": "code",
   "execution_count": 52,
   "id": "93535fe3",
   "metadata": {},
   "outputs": [
    {
     "data": {
      "text/plain": [
       "(1159, 12)"
      ]
     },
     "execution_count": 52,
     "metadata": {},
     "output_type": "execute_result"
    }
   ],
   "source": [
    "flightmerge.shape"
   ]
  },
  {
   "cell_type": "code",
   "execution_count": 53,
   "id": "aa5a81d9",
   "metadata": {},
   "outputs": [
    {
     "data": {
      "text/plain": [
       "(Timedelta('0 days 00:00:01'), Timedelta('0 days 17:24:32'))"
      ]
     },
     "execution_count": 53,
     "metadata": {},
     "output_type": "execute_result"
    }
   ],
   "source": [
    "flightmerge['Flight_Delay'].min(), flightmerge['Flight_Delay'].max()"
   ]
  },
  {
   "cell_type": "code",
   "execution_count": 54,
   "id": "475d3f19",
   "metadata": {},
   "outputs": [],
   "source": [
    "#Converting flight delay from day to hour\n",
    "lst = []\n",
    "for s in flightmerge['Flight_Delay']:\n",
    "    lst.append(s.total_seconds()/3600)"
   ]
  },
  {
   "cell_type": "code",
   "execution_count": 55,
   "id": "d85e93a0",
   "metadata": {},
   "outputs": [],
   "source": [
    "flightmerge['Hour_Delay'] = lst"
   ]
  },
  {
   "cell_type": "code",
   "execution_count": 56,
   "id": "b58cf06a",
   "metadata": {},
   "outputs": [
    {
     "data": {
      "text/html": [
       "<div>\n",
       "<style scoped>\n",
       "    .dataframe tbody tr th:only-of-type {\n",
       "        vertical-align: middle;\n",
       "    }\n",
       "\n",
       "    .dataframe tbody tr th {\n",
       "        vertical-align: top;\n",
       "    }\n",
       "\n",
       "    .dataframe thead th {\n",
       "        text-align: right;\n",
       "    }\n",
       "</style>\n",
       "<table border=\"1\" class=\"dataframe\">\n",
       "  <thead>\n",
       "    <tr style=\"text-align: right;\">\n",
       "      <th></th>\n",
       "      <th>Flight_Delay</th>\n",
       "      <th>Hour_Delay</th>\n",
       "    </tr>\n",
       "  </thead>\n",
       "  <tbody>\n",
       "    <tr>\n",
       "      <th>count</th>\n",
       "      <td>1159</td>\n",
       "      <td>1159.000000</td>\n",
       "    </tr>\n",
       "    <tr>\n",
       "      <th>mean</th>\n",
       "      <td>0 days 00:35:32.045729076</td>\n",
       "      <td>0.592235</td>\n",
       "    </tr>\n",
       "    <tr>\n",
       "      <th>std</th>\n",
       "      <td>0 days 01:04:34.499285781</td>\n",
       "      <td>1.076250</td>\n",
       "    </tr>\n",
       "    <tr>\n",
       "      <th>min</th>\n",
       "      <td>0 days 00:00:01</td>\n",
       "      <td>0.000278</td>\n",
       "    </tr>\n",
       "    <tr>\n",
       "      <th>25%</th>\n",
       "      <td>0 days 00:09:39</td>\n",
       "      <td>0.160833</td>\n",
       "    </tr>\n",
       "    <tr>\n",
       "      <th>50%</th>\n",
       "      <td>0 days 00:17:17</td>\n",
       "      <td>0.288056</td>\n",
       "    </tr>\n",
       "    <tr>\n",
       "      <th>75%</th>\n",
       "      <td>0 days 00:35:27</td>\n",
       "      <td>0.590833</td>\n",
       "    </tr>\n",
       "    <tr>\n",
       "      <th>max</th>\n",
       "      <td>0 days 17:24:32</td>\n",
       "      <td>17.408889</td>\n",
       "    </tr>\n",
       "  </tbody>\n",
       "</table>\n",
       "</div>"
      ],
      "text/plain": [
       "                    Flight_Delay   Hour_Delay\n",
       "count                       1159  1159.000000\n",
       "mean   0 days 00:35:32.045729076     0.592235\n",
       "std    0 days 01:04:34.499285781     1.076250\n",
       "min              0 days 00:00:01     0.000278\n",
       "25%              0 days 00:09:39     0.160833\n",
       "50%              0 days 00:17:17     0.288056\n",
       "75%              0 days 00:35:27     0.590833\n",
       "max              0 days 17:24:32    17.408889"
      ]
     },
     "execution_count": 56,
     "metadata": {},
     "output_type": "execute_result"
    }
   ],
   "source": [
    "flightmerge.describe()"
   ]
  },
  {
   "cell_type": "code",
   "execution_count": 57,
   "id": "8fdbbe5c",
   "metadata": {
    "scrolled": true
   },
   "outputs": [
    {
     "data": {
      "text/html": [
       "<div>\n",
       "<style scoped>\n",
       "    .dataframe tbody tr th:only-of-type {\n",
       "        vertical-align: middle;\n",
       "    }\n",
       "\n",
       "    .dataframe tbody tr th {\n",
       "        vertical-align: top;\n",
       "    }\n",
       "\n",
       "    .dataframe thead th {\n",
       "        text-align: right;\n",
       "    }\n",
       "</style>\n",
       "<table border=\"1\" class=\"dataframe\">\n",
       "  <thead>\n",
       "    <tr style=\"text-align: right;\">\n",
       "      <th></th>\n",
       "      <th>Date</th>\n",
       "      <th>Actual_Scheduled</th>\n",
       "      <th>Actual_Departure</th>\n",
       "      <th>Flight_Departure</th>\n",
       "      <th>Block_Schedule</th>\n",
       "      <th>Non-PA_Airport_Country_Desc</th>\n",
       "      <th>International_Domestic</th>\n",
       "      <th>Operating_Airline_Desc</th>\n",
       "      <th>Operating_Airline_ICAO_Code</th>\n",
       "      <th>Gate_Desc</th>\n",
       "      <th>Flight_Schedule</th>\n",
       "      <th>Flight_Delay</th>\n",
       "      <th>Hour_Delay</th>\n",
       "    </tr>\n",
       "  </thead>\n",
       "  <tbody>\n",
       "    <tr>\n",
       "      <th>0</th>\n",
       "      <td>9/1/2021</td>\n",
       "      <td>16:35:00</td>\n",
       "      <td>16:52:55</td>\n",
       "      <td>2021-09-01 16:52:55</td>\n",
       "      <td>9/1/2021 16:35</td>\n",
       "      <td>Austria</td>\n",
       "      <td>International</td>\n",
       "      <td>Austrian Airlines</td>\n",
       "      <td>AUA</td>\n",
       "      <td>B65</td>\n",
       "      <td>2021-09-01 16:35:00</td>\n",
       "      <td>0 days 00:17:55</td>\n",
       "      <td>0.298611</td>\n",
       "    </tr>\n",
       "    <tr>\n",
       "      <th>1</th>\n",
       "      <td>9/1/2021</td>\n",
       "      <td>6:00:00</td>\n",
       "      <td>6:09:13</td>\n",
       "      <td>2021-09-01 06:09:13</td>\n",
       "      <td>9/1/2021 6:00</td>\n",
       "      <td>USA</td>\n",
       "      <td>Domestic</td>\n",
       "      <td>Delta Air Lines</td>\n",
       "      <td>DAL</td>\n",
       "      <td>B45</td>\n",
       "      <td>2021-09-01 06:00:00</td>\n",
       "      <td>0 days 00:09:13</td>\n",
       "      <td>0.153611</td>\n",
       "    </tr>\n",
       "    <tr>\n",
       "      <th>2</th>\n",
       "      <td>9/1/2021</td>\n",
       "      <td>6:10:00</td>\n",
       "      <td>6:19:17</td>\n",
       "      <td>2021-09-01 06:19:17</td>\n",
       "      <td>9/1/2021 6:10</td>\n",
       "      <td>USA</td>\n",
       "      <td>Domestic</td>\n",
       "      <td>Delta Air Lines</td>\n",
       "      <td>DAL</td>\n",
       "      <td>B46A</td>\n",
       "      <td>2021-09-01 06:10:00</td>\n",
       "      <td>0 days 00:09:17</td>\n",
       "      <td>0.154722</td>\n",
       "    </tr>\n",
       "  </tbody>\n",
       "</table>\n",
       "</div>"
      ],
      "text/plain": [
       "       Date Actual_Scheduled Actual_Departure    Flight_Departure  \\\n",
       "0  9/1/2021         16:35:00         16:52:55 2021-09-01 16:52:55   \n",
       "1  9/1/2021          6:00:00          6:09:13 2021-09-01 06:09:13   \n",
       "2  9/1/2021          6:10:00          6:19:17 2021-09-01 06:19:17   \n",
       "\n",
       "   Block_Schedule Non-PA_Airport_Country_Desc International_Domestic  \\\n",
       "0  9/1/2021 16:35                     Austria          International   \n",
       "1   9/1/2021 6:00                         USA               Domestic   \n",
       "2   9/1/2021 6:10                         USA               Domestic   \n",
       "\n",
       "  Operating_Airline_Desc Operating_Airline_ICAO_Code Gate_Desc  \\\n",
       "0      Austrian Airlines                         AUA       B65   \n",
       "1        Delta Air Lines                         DAL       B45   \n",
       "2        Delta Air Lines                         DAL      B46A   \n",
       "\n",
       "      Flight_Schedule    Flight_Delay  Hour_Delay  \n",
       "0 2021-09-01 16:35:00 0 days 00:17:55    0.298611  \n",
       "1 2021-09-01 06:00:00 0 days 00:09:13    0.153611  \n",
       "2 2021-09-01 06:10:00 0 days 00:09:17    0.154722  "
      ]
     },
     "execution_count": 57,
     "metadata": {},
     "output_type": "execute_result"
    }
   ],
   "source": [
    "flightmerge.head(3)"
   ]
  },
  {
   "cell_type": "code",
   "execution_count": 58,
   "id": "06337ca5",
   "metadata": {},
   "outputs": [],
   "source": [
    "#Filter data for only flight delay that is greater than 1 hour\n",
    "flightmerge = flightmerge.loc[flightmerge['Hour_Delay']>1]"
   ]
  },
  {
   "cell_type": "code",
   "execution_count": 59,
   "id": "a2bd5b8b",
   "metadata": {},
   "outputs": [
    {
     "data": {
      "text/plain": [
       "(146, 13)"
      ]
     },
     "execution_count": 59,
     "metadata": {},
     "output_type": "execute_result"
    }
   ],
   "source": [
    "flightmerge.shape"
   ]
  },
  {
   "cell_type": "code",
   "execution_count": 60,
   "id": "0dd11dae",
   "metadata": {},
   "outputs": [],
   "source": [
    "flightmerge['counter'] = 1"
   ]
  },
  {
   "cell_type": "code",
   "execution_count": 61,
   "id": "55bbfa5e",
   "metadata": {},
   "outputs": [],
   "source": [
    "topDelayAirlines=flightmerge.groupby(['Operating_Airline_Desc']).agg({'counter':'sum'})"
   ]
  },
  {
   "cell_type": "code",
   "execution_count": 62,
   "id": "ffd4f791",
   "metadata": {},
   "outputs": [
    {
     "data": {
      "text/plain": [
       "146"
      ]
     },
     "execution_count": 62,
     "metadata": {},
     "output_type": "execute_result"
    }
   ],
   "source": [
    "topDelayAirlines.counter.sum()"
   ]
  },
  {
   "cell_type": "code",
   "execution_count": 63,
   "id": "7e9c8ddf",
   "metadata": {},
   "outputs": [],
   "source": [
    "#Top 10 airlines with the most delay for 2021 data\n",
    "topDelayAirlines = topDelayAirlines.sort_values(by=['counter'],ascending=False).head(10)"
   ]
  },
  {
   "cell_type": "code",
   "execution_count": 64,
   "id": "531d6386",
   "metadata": {},
   "outputs": [],
   "source": [
    "#Saved to 10 airlines to csv file\n",
    "topDelayAirlines.to_csv('top10DelayAirlineV1.csv')"
   ]
  },
  {
   "cell_type": "code",
   "execution_count": 65,
   "id": "c9eccf76",
   "metadata": {},
   "outputs": [],
   "source": [
    "flightmerge['Hour'] = pd.to_datetime(flightmerge['Flight_Schedule']).dt.hour"
   ]
  },
  {
   "cell_type": "code",
   "execution_count": 66,
   "id": "6e53c0a7",
   "metadata": {
    "scrolled": true
   },
   "outputs": [
    {
     "data": {
      "text/html": [
       "<div>\n",
       "<style scoped>\n",
       "    .dataframe tbody tr th:only-of-type {\n",
       "        vertical-align: middle;\n",
       "    }\n",
       "\n",
       "    .dataframe tbody tr th {\n",
       "        vertical-align: top;\n",
       "    }\n",
       "\n",
       "    .dataframe thead th {\n",
       "        text-align: right;\n",
       "    }\n",
       "</style>\n",
       "<table border=\"1\" class=\"dataframe\">\n",
       "  <thead>\n",
       "    <tr style=\"text-align: right;\">\n",
       "      <th></th>\n",
       "      <th>Date</th>\n",
       "      <th>Actual_Scheduled</th>\n",
       "      <th>Actual_Departure</th>\n",
       "      <th>Flight_Departure</th>\n",
       "      <th>Block_Schedule</th>\n",
       "      <th>Non-PA_Airport_Country_Desc</th>\n",
       "      <th>International_Domestic</th>\n",
       "      <th>Operating_Airline_Desc</th>\n",
       "      <th>Operating_Airline_ICAO_Code</th>\n",
       "      <th>Gate_Desc</th>\n",
       "      <th>Flight_Schedule</th>\n",
       "      <th>Flight_Delay</th>\n",
       "      <th>Hour_Delay</th>\n",
       "      <th>counter</th>\n",
       "      <th>Hour</th>\n",
       "    </tr>\n",
       "  </thead>\n",
       "  <tbody>\n",
       "    <tr>\n",
       "      <th>6</th>\n",
       "      <td>9/1/2021</td>\n",
       "      <td>8:35:00</td>\n",
       "      <td>9:38:22</td>\n",
       "      <td>2021-09-01 09:38:22</td>\n",
       "      <td>9/1/2021 8:35</td>\n",
       "      <td>USA</td>\n",
       "      <td>Domestic</td>\n",
       "      <td>Delta Air Lines</td>\n",
       "      <td>DAL</td>\n",
       "      <td>B45</td>\n",
       "      <td>2021-09-01 08:35:00</td>\n",
       "      <td>0 days 01:03:22</td>\n",
       "      <td>1.056111</td>\n",
       "      <td>1</td>\n",
       "      <td>8</td>\n",
       "    </tr>\n",
       "    <tr>\n",
       "      <th>12</th>\n",
       "      <td>9/1/2021</td>\n",
       "      <td>18:05:00</td>\n",
       "      <td>19:11:53</td>\n",
       "      <td>2021-09-01 19:11:53</td>\n",
       "      <td>9/1/2021 18:05</td>\n",
       "      <td>Germany</td>\n",
       "      <td>International</td>\n",
       "      <td>Lufthansa</td>\n",
       "      <td>DLH</td>\n",
       "      <td>B62</td>\n",
       "      <td>2021-09-01 18:05:00</td>\n",
       "      <td>0 days 01:06:53</td>\n",
       "      <td>1.114722</td>\n",
       "      <td>1</td>\n",
       "      <td>18</td>\n",
       "    </tr>\n",
       "    <tr>\n",
       "      <th>13</th>\n",
       "      <td>9/1/2021</td>\n",
       "      <td>20:35:00</td>\n",
       "      <td>23:12:26</td>\n",
       "      <td>2021-09-01 23:12:26</td>\n",
       "      <td>9/1/2021 20:35</td>\n",
       "      <td>Malta</td>\n",
       "      <td>International</td>\n",
       "      <td>Lufthansa</td>\n",
       "      <td>DLH</td>\n",
       "      <td>B63</td>\n",
       "      <td>2021-09-01 20:35:00</td>\n",
       "      <td>0 days 02:37:26</td>\n",
       "      <td>2.623889</td>\n",
       "      <td>1</td>\n",
       "      <td>20</td>\n",
       "    </tr>\n",
       "  </tbody>\n",
       "</table>\n",
       "</div>"
      ],
      "text/plain": [
       "        Date Actual_Scheduled Actual_Departure    Flight_Departure  \\\n",
       "6   9/1/2021          8:35:00          9:38:22 2021-09-01 09:38:22   \n",
       "12  9/1/2021         18:05:00         19:11:53 2021-09-01 19:11:53   \n",
       "13  9/1/2021         20:35:00         23:12:26 2021-09-01 23:12:26   \n",
       "\n",
       "    Block_Schedule Non-PA_Airport_Country_Desc International_Domestic  \\\n",
       "6    9/1/2021 8:35                         USA               Domestic   \n",
       "12  9/1/2021 18:05                     Germany          International   \n",
       "13  9/1/2021 20:35                       Malta          International   \n",
       "\n",
       "   Operating_Airline_Desc Operating_Airline_ICAO_Code Gate_Desc  \\\n",
       "6         Delta Air Lines                         DAL       B45   \n",
       "12              Lufthansa                         DLH       B62   \n",
       "13              Lufthansa                         DLH       B63   \n",
       "\n",
       "       Flight_Schedule    Flight_Delay  Hour_Delay  counter  Hour  \n",
       "6  2021-09-01 08:35:00 0 days 01:03:22    1.056111        1     8  \n",
       "12 2021-09-01 18:05:00 0 days 01:06:53    1.114722        1    18  \n",
       "13 2021-09-01 20:35:00 0 days 02:37:26    2.623889        1    20  "
      ]
     },
     "execution_count": 66,
     "metadata": {},
     "output_type": "execute_result"
    }
   ],
   "source": [
    "flightmerge.head(3)"
   ]
  },
  {
   "cell_type": "code",
   "execution_count": 67,
   "id": "df92a48f",
   "metadata": {},
   "outputs": [
    {
     "data": {
      "text/plain": [
       "0"
      ]
     },
     "execution_count": 67,
     "metadata": {},
     "output_type": "execute_result"
    }
   ],
   "source": [
    "flightmerge.Hour_Delay.isna().sum()"
   ]
  },
  {
   "cell_type": "code",
   "execution_count": 68,
   "id": "2a4207d9",
   "metadata": {},
   "outputs": [
    {
     "data": {
      "text/plain": [
       "(1.0041666666666667, 17.40888888888889)"
      ]
     },
     "execution_count": 68,
     "metadata": {},
     "output_type": "execute_result"
    }
   ],
   "source": [
    "flightmerge.Hour_Delay.min(), flightmerge.Hour_Delay.max(),"
   ]
  },
  {
   "cell_type": "code",
   "execution_count": 69,
   "id": "ab8a8ada",
   "metadata": {},
   "outputs": [
    {
     "data": {
      "text/plain": [
       "array([ 8, 18, 20, 21,  9, 17, 23, 19, 12,  7, 14, 11, 10,  5, 13, 16,  6,\n",
       "       22, 15], dtype=int64)"
      ]
     },
     "execution_count": 69,
     "metadata": {},
     "output_type": "execute_result"
    }
   ],
   "source": [
    "flightmerge['Hour'].unique()"
   ]
  },
  {
   "cell_type": "code",
   "execution_count": 70,
   "id": "7ac20a88",
   "metadata": {},
   "outputs": [],
   "source": [
    "morning = [6,7,8,9,10,11,12]\n",
    "afternoon = [13,14,15,16,17]\n",
    "evening = [18,19,20,21,22]\n",
    "overnight = [23,0,1,2,3,4,5]"
   ]
  },
  {
   "cell_type": "code",
   "execution_count": 71,
   "id": "824b1dde",
   "metadata": {},
   "outputs": [],
   "source": [
    "#Create a time category to check when delay are happening\n",
    "lsthour = []\n",
    "for s in flightmerge['Hour']:\n",
    "        if s in morning:\n",
    "            lsthour.append('Morning')\n",
    "        elif s in afternoon:\n",
    "            lsthour.append('Afternoon')\n",
    "        elif s in evening:\n",
    "            lsthour.append('Evening')\n",
    "        elif s in overnight:\n",
    "            lsthour.append('Overnight')"
   ]
  },
  {
   "cell_type": "code",
   "execution_count": 72,
   "id": "b9452ca8",
   "metadata": {},
   "outputs": [],
   "source": [
    "flightmerge ['Time Category'] = lsthour"
   ]
  },
  {
   "cell_type": "code",
   "execution_count": 73,
   "id": "7cdd1614",
   "metadata": {},
   "outputs": [
    {
     "data": {
      "text/html": [
       "<div>\n",
       "<style scoped>\n",
       "    .dataframe tbody tr th:only-of-type {\n",
       "        vertical-align: middle;\n",
       "    }\n",
       "\n",
       "    .dataframe tbody tr th {\n",
       "        vertical-align: top;\n",
       "    }\n",
       "\n",
       "    .dataframe thead th {\n",
       "        text-align: right;\n",
       "    }\n",
       "</style>\n",
       "<table border=\"1\" class=\"dataframe\">\n",
       "  <thead>\n",
       "    <tr style=\"text-align: right;\">\n",
       "      <th></th>\n",
       "      <th>Date</th>\n",
       "      <th>Actual_Scheduled</th>\n",
       "      <th>Actual_Departure</th>\n",
       "      <th>Flight_Departure</th>\n",
       "      <th>Block_Schedule</th>\n",
       "      <th>Non-PA_Airport_Country_Desc</th>\n",
       "      <th>International_Domestic</th>\n",
       "      <th>Operating_Airline_Desc</th>\n",
       "      <th>Operating_Airline_ICAO_Code</th>\n",
       "      <th>Gate_Desc</th>\n",
       "      <th>Flight_Schedule</th>\n",
       "      <th>Flight_Delay</th>\n",
       "      <th>Hour_Delay</th>\n",
       "      <th>counter</th>\n",
       "      <th>Hour</th>\n",
       "      <th>Time Category</th>\n",
       "    </tr>\n",
       "  </thead>\n",
       "  <tbody>\n",
       "    <tr>\n",
       "      <th>6</th>\n",
       "      <td>9/1/2021</td>\n",
       "      <td>8:35:00</td>\n",
       "      <td>9:38:22</td>\n",
       "      <td>2021-09-01 09:38:22</td>\n",
       "      <td>9/1/2021 8:35</td>\n",
       "      <td>USA</td>\n",
       "      <td>Domestic</td>\n",
       "      <td>Delta Air Lines</td>\n",
       "      <td>DAL</td>\n",
       "      <td>B45</td>\n",
       "      <td>2021-09-01 08:35:00</td>\n",
       "      <td>0 days 01:03:22</td>\n",
       "      <td>1.056111</td>\n",
       "      <td>1</td>\n",
       "      <td>8</td>\n",
       "      <td>Morning</td>\n",
       "    </tr>\n",
       "    <tr>\n",
       "      <th>12</th>\n",
       "      <td>9/1/2021</td>\n",
       "      <td>18:05:00</td>\n",
       "      <td>19:11:53</td>\n",
       "      <td>2021-09-01 19:11:53</td>\n",
       "      <td>9/1/2021 18:05</td>\n",
       "      <td>Germany</td>\n",
       "      <td>International</td>\n",
       "      <td>Lufthansa</td>\n",
       "      <td>DLH</td>\n",
       "      <td>B62</td>\n",
       "      <td>2021-09-01 18:05:00</td>\n",
       "      <td>0 days 01:06:53</td>\n",
       "      <td>1.114722</td>\n",
       "      <td>1</td>\n",
       "      <td>18</td>\n",
       "      <td>Evening</td>\n",
       "    </tr>\n",
       "    <tr>\n",
       "      <th>13</th>\n",
       "      <td>9/1/2021</td>\n",
       "      <td>20:35:00</td>\n",
       "      <td>23:12:26</td>\n",
       "      <td>2021-09-01 23:12:26</td>\n",
       "      <td>9/1/2021 20:35</td>\n",
       "      <td>Malta</td>\n",
       "      <td>International</td>\n",
       "      <td>Lufthansa</td>\n",
       "      <td>DLH</td>\n",
       "      <td>B63</td>\n",
       "      <td>2021-09-01 20:35:00</td>\n",
       "      <td>0 days 02:37:26</td>\n",
       "      <td>2.623889</td>\n",
       "      <td>1</td>\n",
       "      <td>20</td>\n",
       "      <td>Evening</td>\n",
       "    </tr>\n",
       "    <tr>\n",
       "      <th>17</th>\n",
       "      <td>9/1/2021</td>\n",
       "      <td>21:00:00</td>\n",
       "      <td>23:49:11</td>\n",
       "      <td>2021-09-01 23:49:11</td>\n",
       "      <td>9/1/2021 21:00</td>\n",
       "      <td>Israel</td>\n",
       "      <td>International</td>\n",
       "      <td>El Al Israel Airlines</td>\n",
       "      <td>ELY</td>\n",
       "      <td>B68</td>\n",
       "      <td>2021-09-01 21:00:00</td>\n",
       "      <td>0 days 02:49:11</td>\n",
       "      <td>2.819722</td>\n",
       "      <td>1</td>\n",
       "      <td>21</td>\n",
       "      <td>Evening</td>\n",
       "    </tr>\n",
       "  </tbody>\n",
       "</table>\n",
       "</div>"
      ],
      "text/plain": [
       "        Date Actual_Scheduled Actual_Departure    Flight_Departure  \\\n",
       "6   9/1/2021          8:35:00          9:38:22 2021-09-01 09:38:22   \n",
       "12  9/1/2021         18:05:00         19:11:53 2021-09-01 19:11:53   \n",
       "13  9/1/2021         20:35:00         23:12:26 2021-09-01 23:12:26   \n",
       "17  9/1/2021         21:00:00         23:49:11 2021-09-01 23:49:11   \n",
       "\n",
       "    Block_Schedule Non-PA_Airport_Country_Desc International_Domestic  \\\n",
       "6    9/1/2021 8:35                         USA               Domestic   \n",
       "12  9/1/2021 18:05                     Germany          International   \n",
       "13  9/1/2021 20:35                       Malta          International   \n",
       "17  9/1/2021 21:00                      Israel          International   \n",
       "\n",
       "   Operating_Airline_Desc Operating_Airline_ICAO_Code Gate_Desc  \\\n",
       "6         Delta Air Lines                         DAL       B45   \n",
       "12              Lufthansa                         DLH       B62   \n",
       "13              Lufthansa                         DLH       B63   \n",
       "17  El Al Israel Airlines                         ELY       B68   \n",
       "\n",
       "       Flight_Schedule    Flight_Delay  Hour_Delay  counter  Hour  \\\n",
       "6  2021-09-01 08:35:00 0 days 01:03:22    1.056111        1     8   \n",
       "12 2021-09-01 18:05:00 0 days 01:06:53    1.114722        1    18   \n",
       "13 2021-09-01 20:35:00 0 days 02:37:26    2.623889        1    20   \n",
       "17 2021-09-01 21:00:00 0 days 02:49:11    2.819722        1    21   \n",
       "\n",
       "   Time Category  \n",
       "6        Morning  \n",
       "12       Evening  \n",
       "13       Evening  \n",
       "17       Evening  "
      ]
     },
     "execution_count": 73,
     "metadata": {},
     "output_type": "execute_result"
    }
   ],
   "source": [
    "flightmerge.head(4)"
   ]
  },
  {
   "cell_type": "code",
   "execution_count": 74,
   "id": "0735e504",
   "metadata": {},
   "outputs": [],
   "source": [
    "#Selecting relevant fields from clean merge dataset\n",
    "flightmerge = flightmerge[['Date','Flight_Schedule','Flight_Departure','International_Domestic',\\\n",
    "                           'Non-PA_Airport_Country_Desc',\\\n",
    "                            'Operating_Airline_Desc', 'Gate_Desc',\\\n",
    "                           'Hour_Delay', 'Time Category']]"
   ]
  },
  {
   "cell_type": "code",
   "execution_count": 75,
   "id": "7e5e2200",
   "metadata": {},
   "outputs": [
    {
     "data": {
      "text/plain": [
       "Date                           146\n",
       "Flight_Schedule                146\n",
       "Flight_Departure               146\n",
       "International_Domestic         146\n",
       "Non-PA_Airport_Country_Desc    146\n",
       "Operating_Airline_Desc         146\n",
       "Gate_Desc                      146\n",
       "Hour_Delay                     146\n",
       "Time Category                  146\n",
       "dtype: int64"
      ]
     },
     "execution_count": 75,
     "metadata": {},
     "output_type": "execute_result"
    }
   ],
   "source": [
    "flightmerge.count()"
   ]
  },
  {
   "cell_type": "code",
   "execution_count": 76,
   "id": "69976b38",
   "metadata": {},
   "outputs": [],
   "source": [
    "Airline = flightmerge[['Operating_Airline_Desc', 'Hour_Delay']].groupby(['Operating_Airline_Desc']).count()"
   ]
  },
  {
   "cell_type": "code",
   "execution_count": 79,
   "id": "349f9d25",
   "metadata": {},
   "outputs": [
    {
     "data": {
      "image/png": "[encoded data removed]",
      "text/plain": [
       "<Figure size 864x720 with 1 Axes>"
      ]
     },
     "metadata": {
      "needs_background": "light"
     },
     "output_type": "display_data"
    }
   ],
   "source": [
    "#Number of flight delay by Airline\n",
    "Airlines = flightmerge['Operating_Airline_Desc'].value_counts()\n",
    "plt.figure(figsize=(12,10))\n",
    "sns.barplot( x=Airlines.values , y=list(Airlines.index), \n",
    " orient=\"h\"  ) ;"
   ]
  },
  {
   "cell_type": "code",
   "execution_count": 87,
   "id": "00d271a6",
   "metadata": {},
   "outputs": [
    {
     "data": {
      "image/png": "[encoded data removed]",
      "text/plain": [
       "<Figure size 864x576 with 1 Axes>"
      ]
     },
     "metadata": {
      "needs_background": "light"
     },
     "output_type": "display_data"
    }
   ],
   "source": [
    "bin = np.divide(list(range(50)),2)\n",
    "\n",
    "#What time flight are getting delay\n",
    "plt.rcParams['figure.figsize'] = [12,8]\n",
    "ax = plt.subplot()\n",
    "ax.hist(flightmerge[flightmerge['Time Category'] == 'Morning']['Hour_Delay'], color = 'blue', alpha = 0.7,edgecolor = 'black',bins = bin, label = 'Morning')\n",
    "ax.hist(flightmerge[flightmerge['Time Category'] == 'Afternoon']['Hour_Delay'], color = 'yellow', alpha = 1,edgecolor = 'black',bins = bin, label = 'Afternoon')\n",
    "ax.hist(flightmerge[flightmerge['Time Category'] == 'Evening']['Hour_Delay'], color = 'red', alpha = 0.7,edgecolor = 'black',bins = bin,label = 'Evening')\n",
    "ax.hist(flightmerge[flightmerge['Time Category'] == 'Overnight']['Hour_Delay'], color = 'black', alpha = 0.7,edgecolor = 'black',bins = bin,label = 'Overnight')\n",
    "# Title and labels\n",
    "ax.set_title('Total Number of Flights Delay By Time Category', size = 30)\n",
    "ax.set_xlabel('Average Flight Delay in Hour', size = 22)\n",
    "ax.set_ylabel('Number of Flight', size= 22)\n",
    "plt.legend(loc='upper right')\n",
    "plt.xlim(1,9)\n",
    "plt.ylim(0,27)\n",
    "plt.tight_layout()\n",
    "plt.show()"
   ]
  },
  {
   "cell_type": "code",
   "execution_count": 90,
   "id": "9624bee5",
   "metadata": {},
   "outputs": [
    {
     "data": {
      "image/png": "[encoded data removed]",
      "text/plain": [
       "<Figure size 864x576 with 1 Axes>"
      ]
     },
     "metadata": {
      "needs_background": "light"
     },
     "output_type": "display_data"
    }
   ],
   "source": [
    "#Domestic vs International\n",
    "plt.rcParams['figure.figsize'] = [12,8]\n",
    "ax = plt.subplot()\n",
    "ax.hist(flightmerge[flightmerge['International_Domestic'] == 'Domestic']['Hour_Delay'], color = 'pink', edgecolor = 'black',bins = bin,label = 'Domestic')\n",
    "ax.hist(flightmerge[flightmerge['International_Domestic'] == 'International']['Hour_Delay'], color = 'blue', alpha = 0.7,edgecolor = 'black',bins = bin,label = 'Internatioanl')\n",
    "# Title and labels\n",
    "ax.set_title('Domestic vs International', size = 30)\n",
    "ax.set_xlabel('Flight Delay in Hours', size = 22)\n",
    "ax.set_ylabel('Number of Flights', size= 22)\n",
    "plt.legend(loc='upper right')\n",
    "plt.xlim(1,9)\n",
    "#plt.ylim(0,30)\n",
    "plt.tight_layout()\n",
    "plt.show()"
   ]
  },
  {
   "cell_type": "markdown",
   "id": "f2cf9ac5",
   "metadata": {},
   "source": [
    "# International Flight Delay Analysis"
   ]
  },
  {
   "cell_type": "code",
   "execution_count": 91,
   "id": "9d217615",
   "metadata": {},
   "outputs": [],
   "source": [
    "International = flightmerge[flightmerge.International_Domestic=='International']"
   ]
  },
  {
   "cell_type": "code",
   "execution_count": 92,
   "id": "dd78b8b0",
   "metadata": {},
   "outputs": [
    {
     "data": {
      "text/html": [
       "<div>\n",
       "<style scoped>\n",
       "    .dataframe tbody tr th:only-of-type {\n",
       "        vertical-align: middle;\n",
       "    }\n",
       "\n",
       "    .dataframe tbody tr th {\n",
       "        vertical-align: top;\n",
       "    }\n",
       "\n",
       "    .dataframe thead th {\n",
       "        text-align: right;\n",
       "    }\n",
       "</style>\n",
       "<table border=\"1\" class=\"dataframe\">\n",
       "  <thead>\n",
       "    <tr style=\"text-align: right;\">\n",
       "      <th></th>\n",
       "      <th>Date</th>\n",
       "      <th>Flight_Schedule</th>\n",
       "      <th>Flight_Departure</th>\n",
       "      <th>International_Domestic</th>\n",
       "      <th>Non-PA_Airport_Country_Desc</th>\n",
       "      <th>Operating_Airline_Desc</th>\n",
       "      <th>Gate_Desc</th>\n",
       "      <th>Hour_Delay</th>\n",
       "      <th>Time Category</th>\n",
       "    </tr>\n",
       "  </thead>\n",
       "  <tbody>\n",
       "    <tr>\n",
       "      <th>12</th>\n",
       "      <td>9/1/2021</td>\n",
       "      <td>2021-09-01 18:05:00</td>\n",
       "      <td>2021-09-01 19:11:53</td>\n",
       "      <td>International</td>\n",
       "      <td>Germany</td>\n",
       "      <td>Lufthansa</td>\n",
       "      <td>B62</td>\n",
       "      <td>1.114722</td>\n",
       "      <td>Evening</td>\n",
       "    </tr>\n",
       "    <tr>\n",
       "      <th>13</th>\n",
       "      <td>9/1/2021</td>\n",
       "      <td>2021-09-01 20:35:00</td>\n",
       "      <td>2021-09-01 23:12:26</td>\n",
       "      <td>International</td>\n",
       "      <td>Malta</td>\n",
       "      <td>Lufthansa</td>\n",
       "      <td>B63</td>\n",
       "      <td>2.623889</td>\n",
       "      <td>Evening</td>\n",
       "    </tr>\n",
       "    <tr>\n",
       "      <th>17</th>\n",
       "      <td>9/1/2021</td>\n",
       "      <td>2021-09-01 21:00:00</td>\n",
       "      <td>2021-09-01 23:49:11</td>\n",
       "      <td>International</td>\n",
       "      <td>Israel</td>\n",
       "      <td>El Al Israel Airlines</td>\n",
       "      <td>B68</td>\n",
       "      <td>2.819722</td>\n",
       "      <td>Evening</td>\n",
       "    </tr>\n",
       "  </tbody>\n",
       "</table>\n",
       "</div>"
      ],
      "text/plain": [
       "        Date     Flight_Schedule    Flight_Departure International_Domestic  \\\n",
       "12  9/1/2021 2021-09-01 18:05:00 2021-09-01 19:11:53          International   \n",
       "13  9/1/2021 2021-09-01 20:35:00 2021-09-01 23:12:26          International   \n",
       "17  9/1/2021 2021-09-01 21:00:00 2021-09-01 23:49:11          International   \n",
       "\n",
       "   Non-PA_Airport_Country_Desc Operating_Airline_Desc Gate_Desc  Hour_Delay  \\\n",
       "12                     Germany              Lufthansa       B62    1.114722   \n",
       "13                       Malta              Lufthansa       B63    2.623889   \n",
       "17                      Israel  El Al Israel Airlines       B68    2.819722   \n",
       "\n",
       "   Time Category  \n",
       "12       Evening  \n",
       "13       Evening  \n",
       "17       Evening  "
      ]
     },
     "execution_count": 92,
     "metadata": {},
     "output_type": "execute_result"
    }
   ],
   "source": [
    "International.head(3)"
   ]
  },
  {
   "cell_type": "code",
   "execution_count": 110,
   "id": "6329b217",
   "metadata": {},
   "outputs": [
    {
     "data": {
      "image/png": "[encoded data removed]",
      "text/plain": [
       "<Figure size 864x576 with 1 Axes>"
      ]
     },
     "metadata": {
      "needs_background": "light"
     },
     "output_type": "display_data"
    }
   ],
   "source": [
    "#What time flight are getting delay for International Flight\n",
    "plt.rcParams['figure.figsize'] = [12,8]\n",
    "ax = plt.subplot()\n",
    "ax.hist(International[International['Time Category'] == 'Morning']['Hour_Delay'], color = 'blue', alpha = 0.7,edgecolor = 'black',bins = bin,label = 'Morning')\n",
    "ax.hist(International[International['Time Category'] == 'Afternoon']['Hour_Delay'], color = 'yellow', alpha = 1,edgecolor = 'black',bins = bin,label = 'Afternoon')\n",
    "ax.hist(International[International['Time Category'] == 'Evening']['Hour_Delay'], color = 'red', alpha = 0.7,edgecolor = 'black',bins = bin,label = 'Evening')\n",
    "ax.hist(International[International['Time Category'] == 'Overnight']['Hour_Delay'], color = 'black', alpha = 0.7,edgecolor = 'black',bins = bin,label = 'Overnight')\n",
    "# Title and labels\n",
    "ax.set_title('International Flight Delay', size = 30)\n",
    "ax.set_xlabel('Flight Delay in Hour', size = 22)\n",
    "ax.set_ylabel('Number of International Flight', size= 22)\n",
    "plt.legend(loc='upper right')\n",
    "plt.xlim(1,5)\n",
    "plt.ylim(0,8)\n",
    "plt.tight_layout()\n",
    "plt.show()"
   ]
  },
  {
   "cell_type": "markdown",
   "id": "14fb0565",
   "metadata": {},
   "source": [
    "# Domestic Flight Delay Analysis"
   ]
  },
  {
   "cell_type": "code",
   "execution_count": 100,
   "id": "8671c0c7",
   "metadata": {},
   "outputs": [],
   "source": [
    "Domestic = flightmerge[flightmerge.International_Domestic=='Domestic']"
   ]
  },
  {
   "cell_type": "code",
   "execution_count": 101,
   "id": "d7c787cc",
   "metadata": {},
   "outputs": [
    {
     "data": {
      "text/html": [
       "<div>\n",
       "<style scoped>\n",
       "    .dataframe tbody tr th:only-of-type {\n",
       "        vertical-align: middle;\n",
       "    }\n",
       "\n",
       "    .dataframe tbody tr th {\n",
       "        vertical-align: top;\n",
       "    }\n",
       "\n",
       "    .dataframe thead th {\n",
       "        text-align: right;\n",
       "    }\n",
       "</style>\n",
       "<table border=\"1\" class=\"dataframe\">\n",
       "  <thead>\n",
       "    <tr style=\"text-align: right;\">\n",
       "      <th></th>\n",
       "      <th>Date</th>\n",
       "      <th>Flight_Schedule</th>\n",
       "      <th>Flight_Departure</th>\n",
       "      <th>International_Domestic</th>\n",
       "      <th>Non-PA_Airport_Country_Desc</th>\n",
       "      <th>Operating_Airline_Desc</th>\n",
       "      <th>Gate_Desc</th>\n",
       "      <th>Hour_Delay</th>\n",
       "      <th>Time Category</th>\n",
       "    </tr>\n",
       "  </thead>\n",
       "  <tbody>\n",
       "    <tr>\n",
       "      <th>6</th>\n",
       "      <td>9/1/2021</td>\n",
       "      <td>2021-09-01 08:35:00</td>\n",
       "      <td>2021-09-01 09:38:22</td>\n",
       "      <td>Domestic</td>\n",
       "      <td>USA</td>\n",
       "      <td>Delta Air Lines</td>\n",
       "      <td>B45</td>\n",
       "      <td>1.056111</td>\n",
       "      <td>Morning</td>\n",
       "    </tr>\n",
       "    <tr>\n",
       "      <th>24</th>\n",
       "      <td>9/1/2021</td>\n",
       "      <td>2021-09-01 18:19:00</td>\n",
       "      <td>2021-09-01 19:20:54</td>\n",
       "      <td>Domestic</td>\n",
       "      <td>USA</td>\n",
       "      <td>Frontier Airlines</td>\n",
       "      <td>B44</td>\n",
       "      <td>1.031667</td>\n",
       "      <td>Evening</td>\n",
       "    </tr>\n",
       "    <tr>\n",
       "      <th>33</th>\n",
       "      <td>9/1/2021</td>\n",
       "      <td>2021-09-01 08:27:00</td>\n",
       "      <td>2021-09-01 11:22:35</td>\n",
       "      <td>Domestic</td>\n",
       "      <td>USA</td>\n",
       "      <td>Spirit Airlines</td>\n",
       "      <td>B41A</td>\n",
       "      <td>2.926389</td>\n",
       "      <td>Morning</td>\n",
       "    </tr>\n",
       "  </tbody>\n",
       "</table>\n",
       "</div>"
      ],
      "text/plain": [
       "        Date     Flight_Schedule    Flight_Departure International_Domestic  \\\n",
       "6   9/1/2021 2021-09-01 08:35:00 2021-09-01 09:38:22               Domestic   \n",
       "24  9/1/2021 2021-09-01 18:19:00 2021-09-01 19:20:54               Domestic   \n",
       "33  9/1/2021 2021-09-01 08:27:00 2021-09-01 11:22:35               Domestic   \n",
       "\n",
       "   Non-PA_Airport_Country_Desc Operating_Airline_Desc Gate_Desc  Hour_Delay  \\\n",
       "6                          USA        Delta Air Lines       B45    1.056111   \n",
       "24                         USA      Frontier Airlines       B44    1.031667   \n",
       "33                         USA        Spirit Airlines      B41A    2.926389   \n",
       "\n",
       "   Time Category  \n",
       "6        Morning  \n",
       "24       Evening  \n",
       "33       Morning  "
      ]
     },
     "execution_count": 101,
     "metadata": {},
     "output_type": "execute_result"
    }
   ],
   "source": [
    "Domestic.head(3)"
   ]
  },
  {
   "cell_type": "code",
   "execution_count": 107,
   "id": "f7957426",
   "metadata": {},
   "outputs": [
    {
     "data": {
      "image/png": "[encoded data removed]",
      "text/plain": [
       "<Figure size 864x576 with 1 Axes>"
      ]
     },
     "metadata": {
      "needs_background": "light"
     },
     "output_type": "display_data"
    }
   ],
   "source": [
    "#What time flight are getting delay for Domestice Flight\n",
    "plt.rcParams['figure.figsize'] = [12,8]\n",
    "ax = plt.subplot()\n",
    "ax.hist(Domestic[Domestic['Time Category'] == 'Morning']['Hour_Delay'], color = 'blue', alpha = 0.7,edgecolor = 'black',bins = bin,label = 'Morning')\n",
    "ax.hist(Domestic[Domestic['Time Category'] == 'Afternoon']['Hour_Delay'], color = 'yellow', alpha = 1,edgecolor = 'black',bins = bin,label = 'Afternoon')\n",
    "ax.hist(Domestic[Domestic['Time Category'] == 'Evening']['Hour_Delay'], color = 'red', alpha = 0.7,edgecolor = 'black',bins = bin,label = 'Evening')\n",
    "ax.hist(Domestic[Domestic['Time Category'] == 'Overnight']['Hour_Delay'], color = 'black', alpha = 0.7,edgecolor = 'black',bins = bin,label = 'Overnight')\n",
    "# Title and labels\n",
    "ax.set_title('Domestic Flight Delay', size = 30)\n",
    "ax.set_xlabel('Average Flight Delay in Hour', size = 22)\n",
    "ax.set_ylabel('Number of Domestic Flight', size= 22)\n",
    "plt.legend(loc='upper right')\n",
    "plt.xlim(1,9)\n",
    "plt.ylim(0,21)\n",
    "plt.tight_layout()\n",
    "plt.show()"
   ]
  },
  {
   "cell_type": "markdown",
   "id": "c2dbfd1c",
   "metadata": {},
   "source": [
    "# Finding maximum flight delay for both international and Domestic flights"
   ]
  },
  {
   "cell_type": "code",
   "execution_count": 111,
   "id": "e0abf92c",
   "metadata": {},
   "outputs": [],
   "source": [
    "flightmerge = flightmerge.rename(columns={\"International_Domestic\": \"Destination\", \"Operating_Airline_Desc\": \"Airline\",\"Time Category\":\"Time Of Day\" })"
   ]
  },
  {
   "cell_type": "code",
   "execution_count": 112,
   "id": "0b40b988",
   "metadata": {},
   "outputs": [],
   "source": [
    "col1 = 'Airline'\n",
    "col2 = 'Destination'\n",
    "col3 = 'Time Of Day'"
   ]
  },
  {
   "cell_type": "code",
   "execution_count": 113,
   "id": "ecb2a156",
   "metadata": {},
   "outputs": [],
   "source": [
    "#statistical values\n",
    "df_stat = flightmerge.groupby([col1, col2, col3]).agg({'Hour_Delay':'count'})"
   ]
  },
  {
   "cell_type": "code",
   "execution_count": 114,
   "id": "7ad14570",
   "metadata": {},
   "outputs": [],
   "source": [
    "df_max = flightmerge.groupby([col1,col2,col3])['Hour_Delay'].max()"
   ]
  },
  {
   "cell_type": "code",
   "execution_count": 115,
   "id": "a9914e6c",
   "metadata": {},
   "outputs": [],
   "source": [
    "df_stat['Max Hour Delay'] = df_max.values"
   ]
  },
  {
   "cell_type": "code",
   "execution_count": 116,
   "id": "cb3a49f0",
   "metadata": {},
   "outputs": [],
   "source": [
    "df_median = flightmerge.groupby([col1,col2,col3])['Hour_Delay'].median()"
   ]
  },
  {
   "cell_type": "code",
   "execution_count": 117,
   "id": "24c9b9af",
   "metadata": {},
   "outputs": [],
   "source": [
    "df_stat['Median Delay'] = df_median.values"
   ]
  },
  {
   "cell_type": "code",
   "execution_count": 118,
   "id": "e79fb54d",
   "metadata": {},
   "outputs": [],
   "source": [
    "df_std = flightmerge.groupby([col1,col2,col3])['Hour_Delay'].std()"
   ]
  },
  {
   "cell_type": "code",
   "execution_count": 119,
   "id": "3a531ae1",
   "metadata": {},
   "outputs": [],
   "source": [
    "df_stat['Standard Deviation'] = df_std.values"
   ]
  },
  {
   "cell_type": "code",
   "execution_count": 120,
   "id": "be1bbc87",
   "metadata": {},
   "outputs": [
    {
     "data": {
      "text/plain": [
       "Index(['Hour_Delay', 'Max Hour Delay', 'Median Delay', 'Standard Deviation'], dtype='object')"
      ]
     },
     "execution_count": 120,
     "metadata": {},
     "output_type": "execute_result"
    }
   ],
   "source": [
    "df_stat.columns"
   ]
  },
  {
   "cell_type": "code",
   "execution_count": 121,
   "id": "6c31f026",
   "metadata": {},
   "outputs": [],
   "source": [
    "df_stat = df_stat.rename(columns={\"Hour_Delay\": \"Total Hour Delay\", })"
   ]
  },
  {
   "cell_type": "code",
   "execution_count": 122,
   "id": "3607c080",
   "metadata": {},
   "outputs": [
    {
     "data": {
      "text/html": [
       "<div>\n",
       "<style scoped>\n",
       "    .dataframe tbody tr th:only-of-type {\n",
       "        vertical-align: middle;\n",
       "    }\n",
       "\n",
       "    .dataframe tbody tr th {\n",
       "        vertical-align: top;\n",
       "    }\n",
       "\n",
       "    .dataframe thead th {\n",
       "        text-align: right;\n",
       "    }\n",
       "</style>\n",
       "<table border=\"1\" class=\"dataframe\">\n",
       "  <thead>\n",
       "    <tr style=\"text-align: right;\">\n",
       "      <th></th>\n",
       "      <th></th>\n",
       "      <th></th>\n",
       "      <th>Total Hour Delay</th>\n",
       "      <th>Max Hour Delay</th>\n",
       "      <th>Median Delay</th>\n",
       "      <th>Standard Deviation</th>\n",
       "    </tr>\n",
       "    <tr>\n",
       "      <th>Airline</th>\n",
       "      <th>Destination</th>\n",
       "      <th>Time Of Day</th>\n",
       "      <th></th>\n",
       "      <th></th>\n",
       "      <th></th>\n",
       "      <th></th>\n",
       "    </tr>\n",
       "  </thead>\n",
       "  <tbody>\n",
       "    <tr>\n",
       "      <th>Spirit Airlines</th>\n",
       "      <th>Domestic</th>\n",
       "      <th>Evening</th>\n",
       "      <td>19</td>\n",
       "      <td>4.412778</td>\n",
       "      <td>1.636944</td>\n",
       "      <td>1.081459</td>\n",
       "    </tr>\n",
       "    <tr>\n",
       "      <th>Frontier Airlines</th>\n",
       "      <th>Domestic</th>\n",
       "      <th>Evening</th>\n",
       "      <td>18</td>\n",
       "      <td>17.408889</td>\n",
       "      <td>1.490694</td>\n",
       "      <td>3.843204</td>\n",
       "    </tr>\n",
       "    <tr>\n",
       "      <th rowspan=\"2\" valign=\"top\">Spirit Airlines</th>\n",
       "      <th rowspan=\"2\" valign=\"top\">Domestic</th>\n",
       "      <th>Afternoon</th>\n",
       "      <td>11</td>\n",
       "      <td>4.668333</td>\n",
       "      <td>1.425000</td>\n",
       "      <td>1.275387</td>\n",
       "    </tr>\n",
       "    <tr>\n",
       "      <th>Morning</th>\n",
       "      <td>10</td>\n",
       "      <td>4.041389</td>\n",
       "      <td>1.463056</td>\n",
       "      <td>1.068507</td>\n",
       "    </tr>\n",
       "    <tr>\n",
       "      <th>Porter Airlines</th>\n",
       "      <th>International</th>\n",
       "      <th>Morning</th>\n",
       "      <td>9</td>\n",
       "      <td>4.201667</td>\n",
       "      <td>1.226667</td>\n",
       "      <td>1.008280</td>\n",
       "    </tr>\n",
       "    <tr>\n",
       "      <th>Frontier Airlines</th>\n",
       "      <th>Domestic</th>\n",
       "      <th>Morning</th>\n",
       "      <td>9</td>\n",
       "      <td>6.083611</td>\n",
       "      <td>1.250556</td>\n",
       "      <td>1.755623</td>\n",
       "    </tr>\n",
       "    <tr>\n",
       "      <th>Delta Air Lines</th>\n",
       "      <th>Domestic</th>\n",
       "      <th>Morning</th>\n",
       "      <td>8</td>\n",
       "      <td>8.786944</td>\n",
       "      <td>8.048056</td>\n",
       "      <td>3.204184</td>\n",
       "    </tr>\n",
       "    <tr>\n",
       "      <th>Frontier Airlines</th>\n",
       "      <th>Domestic</th>\n",
       "      <th>Afternoon</th>\n",
       "      <td>8</td>\n",
       "      <td>6.660000</td>\n",
       "      <td>1.446250</td>\n",
       "      <td>2.040919</td>\n",
       "    </tr>\n",
       "    <tr>\n",
       "      <th>Delta Air Lines</th>\n",
       "      <th>Domestic</th>\n",
       "      <th>Evening</th>\n",
       "      <td>6</td>\n",
       "      <td>7.250000</td>\n",
       "      <td>1.389722</td>\n",
       "      <td>2.498827</td>\n",
       "    </tr>\n",
       "    <tr>\n",
       "      <th>Lufthansa</th>\n",
       "      <th>International</th>\n",
       "      <th>Evening</th>\n",
       "      <td>4</td>\n",
       "      <td>2.623889</td>\n",
       "      <td>1.690833</td>\n",
       "      <td>0.666291</td>\n",
       "    </tr>\n",
       "  </tbody>\n",
       "</table>\n",
       "</div>"
      ],
      "text/plain": [
       "                                             Total Hour Delay  Max Hour Delay  \\\n",
       "Airline           Destination   Time Of Day                                     \n",
       "Spirit Airlines   Domestic      Evening                    19        4.412778   \n",
       "Frontier Airlines Domestic      Evening                    18       17.408889   \n",
       "Spirit Airlines   Domestic      Afternoon                  11        4.668333   \n",
       "                                Morning                    10        4.041389   \n",
       "Porter Airlines   International Morning                     9        4.201667   \n",
       "Frontier Airlines Domestic      Morning                     9        6.083611   \n",
       "Delta Air Lines   Domestic      Morning                     8        8.786944   \n",
       "Frontier Airlines Domestic      Afternoon                   8        6.660000   \n",
       "Delta Air Lines   Domestic      Evening                     6        7.250000   \n",
       "Lufthansa         International Evening                     4        2.623889   \n",
       "\n",
       "                                             Median Delay  Standard Deviation  \n",
       "Airline           Destination   Time Of Day                                    \n",
       "Spirit Airlines   Domestic      Evening          1.636944            1.081459  \n",
       "Frontier Airlines Domestic      Evening          1.490694            3.843204  \n",
       "Spirit Airlines   Domestic      Afternoon        1.425000            1.275387  \n",
       "                                Morning          1.463056            1.068507  \n",
       "Porter Airlines   International Morning          1.226667            1.008280  \n",
       "Frontier Airlines Domestic      Morning          1.250556            1.755623  \n",
       "Delta Air Lines   Domestic      Morning          8.048056            3.204184  \n",
       "Frontier Airlines Domestic      Afternoon        1.446250            2.040919  \n",
       "Delta Air Lines   Domestic      Evening          1.389722            2.498827  \n",
       "Lufthansa         International Evening          1.690833            0.666291  "
      ]
     },
     "execution_count": 122,
     "metadata": {},
     "output_type": "execute_result"
    }
   ],
   "source": [
    "df_stat.sort_values(by=['Total Hour Delay'],ascending=False).head(10)"
   ]
  },
  {
   "cell_type": "code",
   "execution_count": 123,
   "id": "000fa5e0",
   "metadata": {},
   "outputs": [],
   "source": [
    "#change the aggregated table to a dataframe and saved as a csv file to retrieve airlines names\n",
    "df_stat = pd.DataFrame(df_stat)"
   ]
  },
  {
   "cell_type": "code",
   "execution_count": 125,
   "id": "ba39e7ab",
   "metadata": {},
   "outputs": [],
   "source": [
    "df_stat.to_csv('Flight_Schedule_Analysis.csv')"
   ]
  },
  {
   "cell_type": "code",
   "execution_count": 126,
   "id": "c4fdeef2",
   "metadata": {},
   "outputs": [],
   "source": [
    "df=pd.read_csv('Flight_Schedule_Analysis.csv')"
   ]
  },
  {
   "cell_type": "code",
   "execution_count": 132,
   "id": "c8515ade",
   "metadata": {},
   "outputs": [
    {
     "data": {
      "text/html": [
       "<div>\n",
       "<style scoped>\n",
       "    .dataframe tbody tr th:only-of-type {\n",
       "        vertical-align: middle;\n",
       "    }\n",
       "\n",
       "    .dataframe tbody tr th {\n",
       "        vertical-align: top;\n",
       "    }\n",
       "\n",
       "    .dataframe thead th {\n",
       "        text-align: right;\n",
       "    }\n",
       "</style>\n",
       "<table border=\"1\" class=\"dataframe\">\n",
       "  <thead>\n",
       "    <tr style=\"text-align: right;\">\n",
       "      <th></th>\n",
       "      <th>Airline</th>\n",
       "      <th>Destination</th>\n",
       "      <th>Time Of Day</th>\n",
       "      <th>Total Hour Delay</th>\n",
       "      <th>Max Hour Delay</th>\n",
       "      <th>Median Delay</th>\n",
       "      <th>Standard Deviation</th>\n",
       "    </tr>\n",
       "  </thead>\n",
       "  <tbody>\n",
       "    <tr>\n",
       "      <th>0</th>\n",
       "      <td>Spirit Airlines</td>\n",
       "      <td>Domestic</td>\n",
       "      <td>Evening</td>\n",
       "      <td>19</td>\n",
       "      <td>4.412778</td>\n",
       "      <td>1.636944</td>\n",
       "      <td>1.081459</td>\n",
       "    </tr>\n",
       "    <tr>\n",
       "      <th>1</th>\n",
       "      <td>Frontier Airlines</td>\n",
       "      <td>Domestic</td>\n",
       "      <td>Evening</td>\n",
       "      <td>18</td>\n",
       "      <td>17.408889</td>\n",
       "      <td>1.490694</td>\n",
       "      <td>3.843204</td>\n",
       "    </tr>\n",
       "    <tr>\n",
       "      <th>2</th>\n",
       "      <td>Spirit Airlines</td>\n",
       "      <td>Domestic</td>\n",
       "      <td>Afternoon</td>\n",
       "      <td>11</td>\n",
       "      <td>4.668333</td>\n",
       "      <td>1.425000</td>\n",
       "      <td>1.275387</td>\n",
       "    </tr>\n",
       "    <tr>\n",
       "      <th>3</th>\n",
       "      <td>Spirit Airlines</td>\n",
       "      <td>Domestic</td>\n",
       "      <td>Morning</td>\n",
       "      <td>10</td>\n",
       "      <td>4.041389</td>\n",
       "      <td>1.463056</td>\n",
       "      <td>1.068507</td>\n",
       "    </tr>\n",
       "    <tr>\n",
       "      <th>4</th>\n",
       "      <td>Porter Airlines</td>\n",
       "      <td>International</td>\n",
       "      <td>Morning</td>\n",
       "      <td>9</td>\n",
       "      <td>4.201667</td>\n",
       "      <td>1.226667</td>\n",
       "      <td>1.008280</td>\n",
       "    </tr>\n",
       "    <tr>\n",
       "      <th>5</th>\n",
       "      <td>Frontier Airlines</td>\n",
       "      <td>Domestic</td>\n",
       "      <td>Morning</td>\n",
       "      <td>9</td>\n",
       "      <td>6.083611</td>\n",
       "      <td>1.250556</td>\n",
       "      <td>1.755623</td>\n",
       "    </tr>\n",
       "    <tr>\n",
       "      <th>6</th>\n",
       "      <td>Delta Air Lines</td>\n",
       "      <td>Domestic</td>\n",
       "      <td>Morning</td>\n",
       "      <td>8</td>\n",
       "      <td>8.786944</td>\n",
       "      <td>8.048056</td>\n",
       "      <td>3.204184</td>\n",
       "    </tr>\n",
       "    <tr>\n",
       "      <th>7</th>\n",
       "      <td>Frontier Airlines</td>\n",
       "      <td>Domestic</td>\n",
       "      <td>Afternoon</td>\n",
       "      <td>8</td>\n",
       "      <td>6.660000</td>\n",
       "      <td>1.446250</td>\n",
       "      <td>2.040919</td>\n",
       "    </tr>\n",
       "    <tr>\n",
       "      <th>8</th>\n",
       "      <td>Delta Air Lines</td>\n",
       "      <td>Domestic</td>\n",
       "      <td>Evening</td>\n",
       "      <td>6</td>\n",
       "      <td>7.250000</td>\n",
       "      <td>1.389722</td>\n",
       "      <td>2.498827</td>\n",
       "    </tr>\n",
       "    <tr>\n",
       "      <th>9</th>\n",
       "      <td>Lufthansa</td>\n",
       "      <td>International</td>\n",
       "      <td>Evening</td>\n",
       "      <td>4</td>\n",
       "      <td>2.623889</td>\n",
       "      <td>1.690833</td>\n",
       "      <td>0.666291</td>\n",
       "    </tr>\n",
       "  </tbody>\n",
       "</table>\n",
       "</div>"
      ],
      "text/plain": [
       "             Airline    Destination Time Of Day  Total Hour Delay  \\\n",
       "0    Spirit Airlines       Domestic     Evening                19   \n",
       "1  Frontier Airlines       Domestic     Evening                18   \n",
       "2    Spirit Airlines       Domestic   Afternoon                11   \n",
       "3    Spirit Airlines       Domestic     Morning                10   \n",
       "4    Porter Airlines  International     Morning                 9   \n",
       "5  Frontier Airlines       Domestic     Morning                 9   \n",
       "6    Delta Air Lines       Domestic     Morning                 8   \n",
       "7  Frontier Airlines       Domestic   Afternoon                 8   \n",
       "8    Delta Air Lines       Domestic     Evening                 6   \n",
       "9          Lufthansa  International     Evening                 4   \n",
       "\n",
       "   Max Hour Delay  Median Delay  Standard Deviation  \n",
       "0        4.412778      1.636944            1.081459  \n",
       "1       17.408889      1.490694            3.843204  \n",
       "2        4.668333      1.425000            1.275387  \n",
       "3        4.041389      1.463056            1.068507  \n",
       "4        4.201667      1.226667            1.008280  \n",
       "5        6.083611      1.250556            1.755623  \n",
       "6        8.786944      8.048056            3.204184  \n",
       "7        6.660000      1.446250            2.040919  \n",
       "8        7.250000      1.389722            2.498827  \n",
       "9        2.623889      1.690833            0.666291  "
      ]
     },
     "execution_count": 132,
     "metadata": {},
     "output_type": "execute_result"
    }
   ],
   "source": [
    "#Top 10 airlines with total hour delay \n",
    "df.sort_values(by=['Total Hour Delay'],ascending=False).head(10).reset_index(drop=True)"
   ]
  },
  {
   "cell_type": "code",
   "execution_count": null,
   "id": "7cd33881",
   "metadata": {},
   "outputs": [],
   "source": []
  }
 ],
 "metadata": {
  "kernelspec": {
   "display_name": "Python 3 (ipykernel)",
   "language": "python",
   "name": "python3"
  },
  "language_info": {
   "codemirror_mode": {
    "name": "ipython",
    "version": 3
   },
   "file_extension": ".py",
   "mimetype": "text/x-python",
   "name": "python",
   "nbconvert_exporter": "python",
   "pygments_lexer": "ipython3",
   "version": "3.8.12"
  }
 },
 "nbformat": 4,
 "nbformat_minor": 5
}
