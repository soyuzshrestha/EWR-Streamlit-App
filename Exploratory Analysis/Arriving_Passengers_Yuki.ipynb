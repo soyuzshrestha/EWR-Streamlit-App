{
 "cells": [
  {
   "cell_type": "markdown",
   "metadata": {},
   "source": [
    "# Arriving Passenger Analysis "
   ]
  },
  {
   "cell_type": "markdown",
   "metadata": {},
   "source": [
    "#### Datasets = Parking, AirTrain, TNC + Concourse"
   ]
  },
  {
   "cell_type": "markdown",
   "metadata": {},
   "source": [
    "## Preprocessing"
   ]
  },
  {
   "cell_type": "code",
   "execution_count": 1,
   "metadata": {},
   "outputs": [],
   "source": [
    "import pandas as pd\n",
    "import warnings\n",
    "warnings.filterwarnings(\"ignore\")\n",
    "from datetime import datetime\n",
    "import numpy as np\n",
    "import matplotlib.pyplot as plt\n",
    "import xlrd\n",
    "import seaborn as sns"
   ]
  },
  {
   "cell_type": "code",
   "execution_count": 2,
   "metadata": {},
   "outputs": [],
   "source": [
    "#import \n",
    "\n",
    "#Flight_Schedule = pd.read_csv('/green-projects/project-airport_dppc_ewr_b/workspace/share/data/Flight Schedule Detailed CUSP Export.csv')\n",
    "Con = pd.read_csv('/green-projects/project-airport_dppc_ewr_b/workspace/share/data/New Data/Flight Schedule w Concourse-Copy1.csv')\n",
    "\n",
    "Parking1 = pd.read_excel('/green-projects/project-airport_dppc_ewr_b/workspace/share/data/Parking Stays Sept 1 _ Sept 15 2021.xlsx')\n",
    "Parking2 = pd.read_excel('/green-projects/project-airport_dppc_ewr_b/workspace/share/data/Parking Stays Sept 16 _ Sept 30 2021.xlsx')\n",
    "\n",
    "AT = pd.read_csv('/green-projects/project-airport_dppc_ewr_b/workspace/share/data/APC.csv')\n",
    "\n",
    "TNC = pd.read_csv('/green-projects/project-airport_dppc_ewr_b/workspace/share/data/TNC_Data_09012021_12312021.csv')"
   ]
  },
  {
   "cell_type": "markdown",
   "metadata": {},
   "source": [
    "### Concourse Data"
   ]
  },
  {
   "cell_type": "code",
   "execution_count": 3,
   "metadata": {},
   "outputs": [
    {
     "data": {
      "text/html": [
       "<div>\n",
       "<style scoped>\n",
       "    .dataframe tbody tr th:only-of-type {\n",
       "        vertical-align: middle;\n",
       "    }\n",
       "\n",
       "    .dataframe tbody tr th {\n",
       "        vertical-align: top;\n",
       "    }\n",
       "\n",
       "    .dataframe thead th {\n",
       "        text-align: right;\n",
       "    }\n",
       "</style>\n",
       "<table border=\"1\" class=\"dataframe\">\n",
       "  <thead>\n",
       "    <tr style=\"text-align: right;\">\n",
       "      <th></th>\n",
       "      <th>Id</th>\n",
       "      <th>Flight Date</th>\n",
       "      <th>Flight Arrving Date Time</th>\n",
       "      <th>Flight Departing Date Time</th>\n",
       "      <th>Flight Date Time</th>\n",
       "      <th>Flight Arriving Time</th>\n",
       "      <th>Flight Departing Time</th>\n",
       "      <th>Date Hour Numeric</th>\n",
       "      <th>PA Time</th>\n",
       "      <th>Non-PA Time</th>\n",
       "      <th>...</th>\n",
       "      <th>Valid Destination Indicator</th>\n",
       "      <th>Valid Carrier Indicator</th>\n",
       "      <th>Operating Airline Code</th>\n",
       "      <th>Operating Airline Name</th>\n",
       "      <th>TerminalId</th>\n",
       "      <th>Operating Airline Id</th>\n",
       "      <th>Flight Time</th>\n",
       "      <th>nonpaxratio</th>\n",
       "      <th>TSALoadFactor</th>\n",
       "      <th>Departure Concourse</th>\n",
       "    </tr>\n",
       "  </thead>\n",
       "  <tbody>\n",
       "    <tr>\n",
       "      <th>0</th>\n",
       "      <td>98394474</td>\n",
       "      <td>2021-01-02</td>\n",
       "      <td>2021-01-02T11:25:00.000Z</td>\n",
       "      <td>2021-01-02T11:15:00.000Z</td>\n",
       "      <td>2021-01-02T11:15:00.000Z</td>\n",
       "      <td>1900-01-01T11:25:00.000Z</td>\n",
       "      <td>1900-01-01T11:15:00.000Z</td>\n",
       "      <td>2021010211</td>\n",
       "      <td>1900-01-01T11:15:00.000Z</td>\n",
       "      <td>1900-01-01T11:25:00.000Z</td>\n",
       "      <td>...</td>\n",
       "      <td>1</td>\n",
       "      <td>1</td>\n",
       "      <td>AI</td>\n",
       "      <td>Air India</td>\n",
       "      <td>10</td>\n",
       "      <td>404</td>\n",
       "      <td>1900-01-01T11:15:00.000Z</td>\n",
       "      <td>NaN</td>\n",
       "      <td>NaN</td>\n",
       "      <td>Concourse B-3</td>\n",
       "    </tr>\n",
       "    <tr>\n",
       "      <th>1</th>\n",
       "      <td>98394693</td>\n",
       "      <td>2021-01-02</td>\n",
       "      <td>2021-01-02T19:10:00.000Z</td>\n",
       "      <td>2021-01-02T15:10:00.000Z</td>\n",
       "      <td>2021-01-02T15:10:00.000Z</td>\n",
       "      <td>1900-01-01T19:10:00.000Z</td>\n",
       "      <td>1900-01-01T15:10:00.000Z</td>\n",
       "      <td>2021010215</td>\n",
       "      <td>1900-01-01T15:10:00.000Z</td>\n",
       "      <td>1900-01-01T19:10:00.000Z</td>\n",
       "      <td>...</td>\n",
       "      <td>1</td>\n",
       "      <td>1</td>\n",
       "      <td>TA</td>\n",
       "      <td>Taca International Airlines</td>\n",
       "      <td>10</td>\n",
       "      <td>6105</td>\n",
       "      <td>1900-01-01T15:10:00.000Z</td>\n",
       "      <td>NaN</td>\n",
       "      <td>NaN</td>\n",
       "      <td>Hard Stand</td>\n",
       "    </tr>\n",
       "    <tr>\n",
       "      <th>2</th>\n",
       "      <td>98394899</td>\n",
       "      <td>2021-01-01</td>\n",
       "      <td>2021-01-01T08:50:00.000Z</td>\n",
       "      <td>2021-01-01T19:30:00.000Z</td>\n",
       "      <td>2021-01-01T19:30:00.000Z</td>\n",
       "      <td>1900-01-01T08:50:00.000Z</td>\n",
       "      <td>1900-01-01T19:30:00.000Z</td>\n",
       "      <td>2021010119</td>\n",
       "      <td>1900-01-01T19:30:00.000Z</td>\n",
       "      <td>1900-01-01T08:50:00.000Z</td>\n",
       "      <td>...</td>\n",
       "      <td>1</td>\n",
       "      <td>1</td>\n",
       "      <td>B0</td>\n",
       "      <td>La Compagnie</td>\n",
       "      <td>10</td>\n",
       "      <td>6110</td>\n",
       "      <td>1900-01-01T19:30:00.000Z</td>\n",
       "      <td>NaN</td>\n",
       "      <td>NaN</td>\n",
       "      <td>Concourse B-2</td>\n",
       "    </tr>\n",
       "    <tr>\n",
       "      <th>3</th>\n",
       "      <td>98394900</td>\n",
       "      <td>2021-01-02</td>\n",
       "      <td>2021-01-02T08:50:00.000Z</td>\n",
       "      <td>2021-01-02T19:30:00.000Z</td>\n",
       "      <td>2021-01-02T19:30:00.000Z</td>\n",
       "      <td>1900-01-01T08:50:00.000Z</td>\n",
       "      <td>1900-01-01T19:30:00.000Z</td>\n",
       "      <td>2021010219</td>\n",
       "      <td>1900-01-01T19:30:00.000Z</td>\n",
       "      <td>1900-01-01T08:50:00.000Z</td>\n",
       "      <td>...</td>\n",
       "      <td>1</td>\n",
       "      <td>1</td>\n",
       "      <td>B0</td>\n",
       "      <td>La Compagnie</td>\n",
       "      <td>10</td>\n",
       "      <td>6110</td>\n",
       "      <td>1900-01-01T19:30:00.000Z</td>\n",
       "      <td>NaN</td>\n",
       "      <td>NaN</td>\n",
       "      <td>Concourse B-2</td>\n",
       "    </tr>\n",
       "    <tr>\n",
       "      <th>4</th>\n",
       "      <td>98394985</td>\n",
       "      <td>2021-01-01</td>\n",
       "      <td>2021-01-01T11:00:00.000Z</td>\n",
       "      <td>2021-01-01T21:50:00.000Z</td>\n",
       "      <td>2021-01-01T21:50:00.000Z</td>\n",
       "      <td>1900-01-01T11:00:00.000Z</td>\n",
       "      <td>1900-01-01T21:50:00.000Z</td>\n",
       "      <td>2021010121</td>\n",
       "      <td>1900-01-01T21:50:00.000Z</td>\n",
       "      <td>1900-01-01T11:00:00.000Z</td>\n",
       "      <td>...</td>\n",
       "      <td>1</td>\n",
       "      <td>1</td>\n",
       "      <td>B0</td>\n",
       "      <td>La Compagnie</td>\n",
       "      <td>10</td>\n",
       "      <td>6110</td>\n",
       "      <td>1900-01-01T21:50:00.000Z</td>\n",
       "      <td>NaN</td>\n",
       "      <td>NaN</td>\n",
       "      <td>Concourse B-3</td>\n",
       "    </tr>\n",
       "  </tbody>\n",
       "</table>\n",
       "<p>5 rows × 45 columns</p>\n",
       "</div>"
      ],
      "text/plain": [
       "         Id Flight Date  Flight Arrving Date Time Flight Departing Date Time  \\\n",
       "0  98394474  2021-01-02  2021-01-02T11:25:00.000Z   2021-01-02T11:15:00.000Z   \n",
       "1  98394693  2021-01-02  2021-01-02T19:10:00.000Z   2021-01-02T15:10:00.000Z   \n",
       "2  98394899  2021-01-01  2021-01-01T08:50:00.000Z   2021-01-01T19:30:00.000Z   \n",
       "3  98394900  2021-01-02  2021-01-02T08:50:00.000Z   2021-01-02T19:30:00.000Z   \n",
       "4  98394985  2021-01-01  2021-01-01T11:00:00.000Z   2021-01-01T21:50:00.000Z   \n",
       "\n",
       "           Flight Date Time      Flight Arriving Time  \\\n",
       "0  2021-01-02T11:15:00.000Z  1900-01-01T11:25:00.000Z   \n",
       "1  2021-01-02T15:10:00.000Z  1900-01-01T19:10:00.000Z   \n",
       "2  2021-01-01T19:30:00.000Z  1900-01-01T08:50:00.000Z   \n",
       "3  2021-01-02T19:30:00.000Z  1900-01-01T08:50:00.000Z   \n",
       "4  2021-01-01T21:50:00.000Z  1900-01-01T11:00:00.000Z   \n",
       "\n",
       "      Flight Departing Time  Date Hour Numeric                   PA Time  \\\n",
       "0  1900-01-01T11:15:00.000Z         2021010211  1900-01-01T11:15:00.000Z   \n",
       "1  1900-01-01T15:10:00.000Z         2021010215  1900-01-01T15:10:00.000Z   \n",
       "2  1900-01-01T19:30:00.000Z         2021010119  1900-01-01T19:30:00.000Z   \n",
       "3  1900-01-01T19:30:00.000Z         2021010219  1900-01-01T19:30:00.000Z   \n",
       "4  1900-01-01T21:50:00.000Z         2021010121  1900-01-01T21:50:00.000Z   \n",
       "\n",
       "                Non-PA Time         ...           Valid Destination Indicator  \\\n",
       "0  1900-01-01T11:25:00.000Z         ...                                     1   \n",
       "1  1900-01-01T19:10:00.000Z         ...                                     1   \n",
       "2  1900-01-01T08:50:00.000Z         ...                                     1   \n",
       "3  1900-01-01T08:50:00.000Z         ...                                     1   \n",
       "4  1900-01-01T11:00:00.000Z         ...                                     1   \n",
       "\n",
       "  Valid Carrier Indicator  Operating Airline Code  \\\n",
       "0                       1                      AI   \n",
       "1                       1                      TA   \n",
       "2                       1                      B0   \n",
       "3                       1                      B0   \n",
       "4                       1                      B0   \n",
       "\n",
       "        Operating Airline Name  TerminalId  Operating Airline Id  \\\n",
       "0                    Air India          10                   404   \n",
       "1  Taca International Airlines          10                  6105   \n",
       "2                 La Compagnie          10                  6110   \n",
       "3                 La Compagnie          10                  6110   \n",
       "4                 La Compagnie          10                  6110   \n",
       "\n",
       "                Flight Time nonpaxratio  TSALoadFactor  Departure Concourse  \n",
       "0  1900-01-01T11:15:00.000Z         NaN            NaN        Concourse B-3  \n",
       "1  1900-01-01T15:10:00.000Z         NaN            NaN           Hard Stand  \n",
       "2  1900-01-01T19:30:00.000Z         NaN            NaN        Concourse B-2  \n",
       "3  1900-01-01T19:30:00.000Z         NaN            NaN        Concourse B-2  \n",
       "4  1900-01-01T21:50:00.000Z         NaN            NaN        Concourse B-3  \n",
       "\n",
       "[5 rows x 45 columns]"
      ]
     },
     "execution_count": 3,
     "metadata": {},
     "output_type": "execute_result"
    }
   ],
   "source": [
    "Con.head()"
   ]
  },
  {
   "cell_type": "code",
   "execution_count": 4,
   "metadata": {},
   "outputs": [],
   "source": [
    "options = ['Concourse B-1', 'Concourse B-2','Concourse B-3']\n",
    "Con_df = Con[Con['Departure Concourse'].isin(options)]"
   ]
  },
  {
   "cell_type": "code",
   "execution_count": 5,
   "metadata": {},
   "outputs": [],
   "source": [
    "Con_df = Con_df[['Id','Flight Date','Flight Departing Date Time','Operating Airline Name',\\\n",
    "                 'Flight No','International Domestic','Flight Distance',\\\n",
    "                'Seats','Departure Concourse']]"
   ]
  },
  {
   "cell_type": "code",
   "execution_count": 6,
   "metadata": {},
   "outputs": [],
   "source": [
    "start, stop = 0, 10\n",
    "\n",
    "Con_df['Dept Date'] = Con_df['Flight Departing Date Time'].str.slice(start, stop)"
   ]
  },
  {
   "cell_type": "code",
   "execution_count": 7,
   "metadata": {},
   "outputs": [],
   "source": [
    "start, stop = 11, 16\n",
    "\n",
    "Con_df['Dept Time'] = Con_df['Flight Departing Date Time'].str.slice(start, stop)"
   ]
  },
  {
   "cell_type": "code",
   "execution_count": 8,
   "metadata": {},
   "outputs": [],
   "source": [
    "Con_df['Dept_Date_Time'] = Con_df['Dept Date']+' '+Con_df['Dept Time'].astype(str)\n",
    "Con_df['Dept_Date_Time'] = pd.to_datetime(Con_df['Dept_Date_Time'], format='%Y-%m-%d %H:%M:%S')"
   ]
  },
  {
   "cell_type": "code",
   "execution_count": 9,
   "metadata": {},
   "outputs": [],
   "source": [
    "Con_df = Con_df[['Id','Dept_Date_Time','Operating Airline Name','International Domestic',\\\n",
    "                'Flight Distance','Seats','Departure Concourse']]"
   ]
  },
  {
   "cell_type": "code",
   "execution_count": 10,
   "metadata": {},
   "outputs": [],
   "source": [
    "Con_df = Con_df.replace({'Departure Concourse':{'Concourse B-1':'B1','Concourse B-2':'B2','Concourse B-3':'B3'}})"
   ]
  },
  {
   "cell_type": "code",
   "execution_count": 11,
   "metadata": {},
   "outputs": [
    {
     "data": {
      "text/html": [
       "<div>\n",
       "<style scoped>\n",
       "    .dataframe tbody tr th:only-of-type {\n",
       "        vertical-align: middle;\n",
       "    }\n",
       "\n",
       "    .dataframe tbody tr th {\n",
       "        vertical-align: top;\n",
       "    }\n",
       "\n",
       "    .dataframe thead th {\n",
       "        text-align: right;\n",
       "    }\n",
       "</style>\n",
       "<table border=\"1\" class=\"dataframe\">\n",
       "  <thead>\n",
       "    <tr style=\"text-align: right;\">\n",
       "      <th></th>\n",
       "      <th>Id</th>\n",
       "      <th>Dept_Date_Time</th>\n",
       "      <th>Operating Airline Name</th>\n",
       "      <th>International Domestic</th>\n",
       "      <th>Flight Distance</th>\n",
       "      <th>Seats</th>\n",
       "      <th>Departure Concourse</th>\n",
       "    </tr>\n",
       "  </thead>\n",
       "  <tbody>\n",
       "    <tr>\n",
       "      <th>52</th>\n",
       "      <td>98412134</td>\n",
       "      <td>2021-01-01 00:59:00</td>\n",
       "      <td>Spirit Airlines</td>\n",
       "      <td>Domestic</td>\n",
       "      <td>1608</td>\n",
       "      <td>228</td>\n",
       "      <td>B3</td>\n",
       "    </tr>\n",
       "    <tr>\n",
       "      <th>84</th>\n",
       "      <td>98415401</td>\n",
       "      <td>2021-01-01 06:00:00</td>\n",
       "      <td>Spirit Airlines</td>\n",
       "      <td>Domestic</td>\n",
       "      <td>1065</td>\n",
       "      <td>228</td>\n",
       "      <td>B1</td>\n",
       "    </tr>\n",
       "    <tr>\n",
       "      <th>24</th>\n",
       "      <td>98400167</td>\n",
       "      <td>2021-01-01 06:00:00</td>\n",
       "      <td>Delta Air Lines</td>\n",
       "      <td>Domestic</td>\n",
       "      <td>488</td>\n",
       "      <td>109</td>\n",
       "      <td>B1</td>\n",
       "    </tr>\n",
       "    <tr>\n",
       "      <th>30</th>\n",
       "      <td>98402025</td>\n",
       "      <td>2021-01-01 06:15:00</td>\n",
       "      <td>Delta Air Lines</td>\n",
       "      <td>Domestic</td>\n",
       "      <td>746</td>\n",
       "      <td>160</td>\n",
       "      <td>B1</td>\n",
       "    </tr>\n",
       "    <tr>\n",
       "      <th>50</th>\n",
       "      <td>98412019</td>\n",
       "      <td>2021-01-01 07:00:00</td>\n",
       "      <td>Spirit Airlines</td>\n",
       "      <td>Domestic</td>\n",
       "      <td>1068</td>\n",
       "      <td>182</td>\n",
       "      <td>B1</td>\n",
       "    </tr>\n",
       "  </tbody>\n",
       "</table>\n",
       "</div>"
      ],
      "text/plain": [
       "          Id      Dept_Date_Time Operating Airline Name  \\\n",
       "52  98412134 2021-01-01 00:59:00        Spirit Airlines   \n",
       "84  98415401 2021-01-01 06:00:00        Spirit Airlines   \n",
       "24  98400167 2021-01-01 06:00:00        Delta Air Lines   \n",
       "30  98402025 2021-01-01 06:15:00        Delta Air Lines   \n",
       "50  98412019 2021-01-01 07:00:00        Spirit Airlines   \n",
       "\n",
       "   International Domestic  Flight Distance  Seats Departure Concourse  \n",
       "52               Domestic             1608    228                  B3  \n",
       "84               Domestic             1065    228                  B1  \n",
       "24               Domestic              488    109                  B1  \n",
       "30               Domestic              746    160                  B1  \n",
       "50               Domestic             1068    182                  B1  "
      ]
     },
     "execution_count": 11,
     "metadata": {},
     "output_type": "execute_result"
    }
   ],
   "source": [
    "Con_df = Con_df.sort_values(by='Dept_Date_Time')\n",
    "Con_df.head()"
   ]
  },
  {
   "cell_type": "code",
   "execution_count": 12,
   "metadata": {},
   "outputs": [],
   "source": [
    "Con_df['Hour'] = Con_df['Dept_Date_Time'].dt.hour"
   ]
  },
  {
   "cell_type": "code",
   "execution_count": 13,
   "metadata": {},
   "outputs": [],
   "source": [
    "morning = [6,7,8,9,10,11,12]\n",
    "afternoon = [13,14,15,16,17]\n",
    "evening = [18,19,20,21,22]\n",
    "overnight = [23,0,1,2,3,4,5]"
   ]
  },
  {
   "cell_type": "code",
   "execution_count": 14,
   "metadata": {},
   "outputs": [],
   "source": [
    "lsthour = []\n",
    "for s in Con_df['Hour']:\n",
    "        if s in morning:\n",
    "            lsthour.append('Morning')\n",
    "        elif s in afternoon:\n",
    "            lsthour.append('Afternoon')\n",
    "        elif s in evening:\n",
    "            lsthour.append('Evening')\n",
    "        elif s in overnight:\n",
    "            lsthour.append('Overnight')"
   ]
  },
  {
   "cell_type": "code",
   "execution_count": 15,
   "metadata": {},
   "outputs": [],
   "source": [
    "Con_df['Time Category'] = lsthour"
   ]
  },
  {
   "cell_type": "code",
   "execution_count": 16,
   "metadata": {},
   "outputs": [],
   "source": [
    "Con_df['DOW'] = Con_df['Dept_Date_Time'].dt.weekday\n",
    "Con_df['DOW_l'] = Con_df['DOW'].copy()\n",
    "Con_df[\"DOW_l\"].replace({0: \"Monday\", 1: \"Tuesday\",2:\"Wednesday\",3:'Thursday',4:'Friday',5:'Saturday',6:'Sunday'}, inplace=True)"
   ]
  },
  {
   "cell_type": "code",
   "execution_count": 17,
   "metadata": {},
   "outputs": [],
   "source": [
    "Con_df['Month'] = Con_df['Dept_Date_Time'].dt.month"
   ]
  },
  {
   "cell_type": "code",
   "execution_count": 18,
   "metadata": {},
   "outputs": [
    {
     "data": {
      "text/html": [
       "<div>\n",
       "<style scoped>\n",
       "    .dataframe tbody tr th:only-of-type {\n",
       "        vertical-align: middle;\n",
       "    }\n",
       "\n",
       "    .dataframe tbody tr th {\n",
       "        vertical-align: top;\n",
       "    }\n",
       "\n",
       "    .dataframe thead th {\n",
       "        text-align: right;\n",
       "    }\n",
       "</style>\n",
       "<table border=\"1\" class=\"dataframe\">\n",
       "  <thead>\n",
       "    <tr style=\"text-align: right;\">\n",
       "      <th></th>\n",
       "      <th>Id</th>\n",
       "      <th>Dept_Date_Time</th>\n",
       "      <th>Operating Airline Name</th>\n",
       "      <th>International Domestic</th>\n",
       "      <th>Flight Distance</th>\n",
       "      <th>Seats</th>\n",
       "      <th>Departure Concourse</th>\n",
       "      <th>Hour</th>\n",
       "      <th>Time Category</th>\n",
       "      <th>DOW</th>\n",
       "      <th>DOW_l</th>\n",
       "      <th>Month</th>\n",
       "    </tr>\n",
       "  </thead>\n",
       "  <tbody>\n",
       "    <tr>\n",
       "      <th>27893</th>\n",
       "      <td>533324386</td>\n",
       "      <td>2022-04-18 21:50:00</td>\n",
       "      <td>Swiss International Airlines</td>\n",
       "      <td>International</td>\n",
       "      <td>3946</td>\n",
       "      <td>236</td>\n",
       "      <td>B3</td>\n",
       "      <td>21</td>\n",
       "      <td>Evening</td>\n",
       "      <td>0</td>\n",
       "      <td>Monday</td>\n",
       "      <td>4</td>\n",
       "    </tr>\n",
       "    <tr>\n",
       "      <th>28215</th>\n",
       "      <td>533334857</td>\n",
       "      <td>2022-04-18 22:18:00</td>\n",
       "      <td>Spirit Airlines</td>\n",
       "      <td>Domestic</td>\n",
       "      <td>1504</td>\n",
       "      <td>182</td>\n",
       "      <td>B1</td>\n",
       "      <td>22</td>\n",
       "      <td>Evening</td>\n",
       "      <td>0</td>\n",
       "      <td>Monday</td>\n",
       "      <td>4</td>\n",
       "    </tr>\n",
       "    <tr>\n",
       "      <th>27552</th>\n",
       "      <td>533312193</td>\n",
       "      <td>2022-04-18 22:55:00</td>\n",
       "      <td>French Bee</td>\n",
       "      <td>International</td>\n",
       "      <td>3648</td>\n",
       "      <td>411</td>\n",
       "      <td>B2</td>\n",
       "      <td>22</td>\n",
       "      <td>Evening</td>\n",
       "      <td>0</td>\n",
       "      <td>Monday</td>\n",
       "      <td>4</td>\n",
       "    </tr>\n",
       "    <tr>\n",
       "      <th>28304</th>\n",
       "      <td>533341355</td>\n",
       "      <td>2022-04-18 23:00:00</td>\n",
       "      <td>Tap-Portuguese Airlines (TAP Portugal)</td>\n",
       "      <td>International</td>\n",
       "      <td>3385</td>\n",
       "      <td>168</td>\n",
       "      <td>B3</td>\n",
       "      <td>23</td>\n",
       "      <td>Overnight</td>\n",
       "      <td>0</td>\n",
       "      <td>Monday</td>\n",
       "      <td>4</td>\n",
       "    </tr>\n",
       "    <tr>\n",
       "      <th>28024</th>\n",
       "      <td>533328125</td>\n",
       "      <td>2022-04-18 23:55:00</td>\n",
       "      <td>Emirates</td>\n",
       "      <td>International</td>\n",
       "      <td>4948</td>\n",
       "      <td>354</td>\n",
       "      <td>B2</td>\n",
       "      <td>23</td>\n",
       "      <td>Overnight</td>\n",
       "      <td>0</td>\n",
       "      <td>Monday</td>\n",
       "      <td>4</td>\n",
       "    </tr>\n",
       "  </tbody>\n",
       "</table>\n",
       "</div>"
      ],
      "text/plain": [
       "              Id      Dept_Date_Time                  Operating Airline Name  \\\n",
       "27893  533324386 2022-04-18 21:50:00            Swiss International Airlines   \n",
       "28215  533334857 2022-04-18 22:18:00                         Spirit Airlines   \n",
       "27552  533312193 2022-04-18 22:55:00                              French Bee   \n",
       "28304  533341355 2022-04-18 23:00:00  Tap-Portuguese Airlines (TAP Portugal)   \n",
       "28024  533328125 2022-04-18 23:55:00                                Emirates   \n",
       "\n",
       "      International Domestic  Flight Distance  Seats Departure Concourse  \\\n",
       "27893          International             3946    236                  B3   \n",
       "28215               Domestic             1504    182                  B1   \n",
       "27552          International             3648    411                  B2   \n",
       "28304          International             3385    168                  B3   \n",
       "28024          International             4948    354                  B2   \n",
       "\n",
       "       Hour Time Category  DOW   DOW_l  Month  \n",
       "27893    21       Evening    0  Monday      4  \n",
       "28215    22       Evening    0  Monday      4  \n",
       "27552    22       Evening    0  Monday      4  \n",
       "28304    23     Overnight    0  Monday      4  \n",
       "28024    23     Overnight    0  Monday      4  "
      ]
     },
     "execution_count": 18,
     "metadata": {},
     "output_type": "execute_result"
    }
   ],
   "source": [
    "Con_df.tail()"
   ]
  },
  {
   "cell_type": "code",
   "execution_count": 19,
   "metadata": {},
   "outputs": [
    {
     "data": {
      "text/html": [
       "<div>\n",
       "<style scoped>\n",
       "    .dataframe tbody tr th:only-of-type {\n",
       "        vertical-align: middle;\n",
       "    }\n",
       "\n",
       "    .dataframe tbody tr th {\n",
       "        vertical-align: top;\n",
       "    }\n",
       "\n",
       "    .dataframe thead th {\n",
       "        text-align: right;\n",
       "    }\n",
       "</style>\n",
       "<table border=\"1\" class=\"dataframe\">\n",
       "  <thead>\n",
       "    <tr style=\"text-align: right;\">\n",
       "      <th></th>\n",
       "      <th>Id</th>\n",
       "      <th>Dept_Date_Time</th>\n",
       "      <th>Operating Airline Name</th>\n",
       "      <th>International Domestic</th>\n",
       "      <th>Flight Distance</th>\n",
       "      <th>Seats</th>\n",
       "      <th>Departure Concourse</th>\n",
       "      <th>Hour</th>\n",
       "      <th>Time Category</th>\n",
       "      <th>DOW</th>\n",
       "      <th>DOW_l</th>\n",
       "      <th>Month</th>\n",
       "    </tr>\n",
       "  </thead>\n",
       "  <tbody>\n",
       "    <tr>\n",
       "      <th>13010</th>\n",
       "      <td>331908792</td>\n",
       "      <td>2021-09-30 21:40:00</td>\n",
       "      <td>Spirit Airlines</td>\n",
       "      <td>Domestic</td>\n",
       "      <td>746</td>\n",
       "      <td>182</td>\n",
       "      <td>B1</td>\n",
       "      <td>21</td>\n",
       "      <td>Evening</td>\n",
       "      <td>3</td>\n",
       "      <td>Thursday</td>\n",
       "      <td>9</td>\n",
       "    </tr>\n",
       "    <tr>\n",
       "      <th>13041</th>\n",
       "      <td>331990100</td>\n",
       "      <td>2021-09-30 21:55:00</td>\n",
       "      <td>Swiss International Airlines</td>\n",
       "      <td>International</td>\n",
       "      <td>3946</td>\n",
       "      <td>236</td>\n",
       "      <td>B3</td>\n",
       "      <td>21</td>\n",
       "      <td>Evening</td>\n",
       "      <td>3</td>\n",
       "      <td>Thursday</td>\n",
       "      <td>9</td>\n",
       "    </tr>\n",
       "    <tr>\n",
       "      <th>13004</th>\n",
       "      <td>331906128</td>\n",
       "      <td>2021-09-30 22:55:00</td>\n",
       "      <td>LOT Polish Airlines</td>\n",
       "      <td>International</td>\n",
       "      <td>4278</td>\n",
       "      <td>252</td>\n",
       "      <td>B3</td>\n",
       "      <td>22</td>\n",
       "      <td>Evening</td>\n",
       "      <td>3</td>\n",
       "      <td>Thursday</td>\n",
       "      <td>9</td>\n",
       "    </tr>\n",
       "    <tr>\n",
       "      <th>13021</th>\n",
       "      <td>331916534</td>\n",
       "      <td>2021-09-30 23:00:00</td>\n",
       "      <td>Tap-Portuguese Airlines (TAP Portugal)</td>\n",
       "      <td>International</td>\n",
       "      <td>3385</td>\n",
       "      <td>168</td>\n",
       "      <td>B3</td>\n",
       "      <td>23</td>\n",
       "      <td>Overnight</td>\n",
       "      <td>3</td>\n",
       "      <td>Thursday</td>\n",
       "      <td>9</td>\n",
       "    </tr>\n",
       "    <tr>\n",
       "      <th>13034</th>\n",
       "      <td>331985621</td>\n",
       "      <td>2021-09-30 23:55:00</td>\n",
       "      <td>Emirates</td>\n",
       "      <td>International</td>\n",
       "      <td>4948</td>\n",
       "      <td>354</td>\n",
       "      <td>B2</td>\n",
       "      <td>23</td>\n",
       "      <td>Overnight</td>\n",
       "      <td>3</td>\n",
       "      <td>Thursday</td>\n",
       "      <td>9</td>\n",
       "    </tr>\n",
       "  </tbody>\n",
       "</table>\n",
       "</div>"
      ],
      "text/plain": [
       "              Id      Dept_Date_Time                  Operating Airline Name  \\\n",
       "13010  331908792 2021-09-30 21:40:00                         Spirit Airlines   \n",
       "13041  331990100 2021-09-30 21:55:00            Swiss International Airlines   \n",
       "13004  331906128 2021-09-30 22:55:00                     LOT Polish Airlines   \n",
       "13021  331916534 2021-09-30 23:00:00  Tap-Portuguese Airlines (TAP Portugal)   \n",
       "13034  331985621 2021-09-30 23:55:00                                Emirates   \n",
       "\n",
       "      International Domestic  Flight Distance  Seats Departure Concourse  \\\n",
       "13010               Domestic              746    182                  B1   \n",
       "13041          International             3946    236                  B3   \n",
       "13004          International             4278    252                  B3   \n",
       "13021          International             3385    168                  B3   \n",
       "13034          International             4948    354                  B2   \n",
       "\n",
       "       Hour Time Category  DOW     DOW_l  Month  \n",
       "13010    21       Evening    3  Thursday      9  \n",
       "13041    21       Evening    3  Thursday      9  \n",
       "13004    22       Evening    3  Thursday      9  \n",
       "13021    23     Overnight    3  Thursday      9  \n",
       "13034    23     Overnight    3  Thursday      9  "
      ]
     },
     "execution_count": 19,
     "metadata": {},
     "output_type": "execute_result"
    }
   ],
   "source": [
    "Con_sept = Con_df[Con_df['Month'] == 9]\n",
    "Con_sept.tail()"
   ]
  },
  {
   "cell_type": "markdown",
   "metadata": {},
   "source": [
    "### Parking"
   ]
  },
  {
   "cell_type": "code",
   "execution_count": 20,
   "metadata": {},
   "outputs": [],
   "source": [
    "n=3\n",
    "Parking1.drop(Parking1.tail(n).index,inplace=True)"
   ]
  },
  {
   "cell_type": "code",
   "execution_count": 21,
   "metadata": {},
   "outputs": [],
   "source": [
    "n=3\n",
    "Parking2.drop(Parking2.tail(n).index,inplace=True)"
   ]
  },
  {
   "cell_type": "code",
   "execution_count": 22,
   "metadata": {},
   "outputs": [],
   "source": [
    "Parking = pd.concat([Parking1, Parking2],ignore_index = True)"
   ]
  },
  {
   "cell_type": "code",
   "execution_count": 23,
   "metadata": {},
   "outputs": [],
   "source": [
    "Parking = Parking [['Entry Date','Entry Military Time']]"
   ]
  },
  {
   "cell_type": "code",
   "execution_count": 24,
   "metadata": {},
   "outputs": [],
   "source": [
    "Parking[\"Entry Date\"]= Parking[\"Entry Date\"].astype(str)"
   ]
  },
  {
   "cell_type": "code",
   "execution_count": 25,
   "metadata": {},
   "outputs": [],
   "source": [
    "start, stop = 0, 11\n",
    "\n",
    "Parking['Date'] = Parking['Entry Date'].str.slice(start, stop)"
   ]
  },
  {
   "cell_type": "code",
   "execution_count": 26,
   "metadata": {},
   "outputs": [
    {
     "data": {
      "text/plain": [
       "Entry Date             object\n",
       "Entry Military Time    object\n",
       "Date                   object\n",
       "dtype: object"
      ]
     },
     "execution_count": 26,
     "metadata": {},
     "output_type": "execute_result"
    }
   ],
   "source": [
    "Parking.dtypes"
   ]
  },
  {
   "cell_type": "code",
   "execution_count": 27,
   "metadata": {},
   "outputs": [
    {
     "data": {
      "text/html": [
       "<div>\n",
       "<style scoped>\n",
       "    .dataframe tbody tr th:only-of-type {\n",
       "        vertical-align: middle;\n",
       "    }\n",
       "\n",
       "    .dataframe tbody tr th {\n",
       "        vertical-align: top;\n",
       "    }\n",
       "\n",
       "    .dataframe thead th {\n",
       "        text-align: right;\n",
       "    }\n",
       "</style>\n",
       "<table border=\"1\" class=\"dataframe\">\n",
       "  <thead>\n",
       "    <tr style=\"text-align: right;\">\n",
       "      <th></th>\n",
       "      <th>Entry Date</th>\n",
       "      <th>Entry Military Time</th>\n",
       "      <th>Date</th>\n",
       "    </tr>\n",
       "  </thead>\n",
       "  <tbody>\n",
       "    <tr>\n",
       "      <th>0</th>\n",
       "      <td>2021-09-01 00:00:00</td>\n",
       "      <td>00:00:06</td>\n",
       "      <td>2021-09-01</td>\n",
       "    </tr>\n",
       "    <tr>\n",
       "      <th>1</th>\n",
       "      <td>2021-09-01 00:00:00</td>\n",
       "      <td>00:00:40</td>\n",
       "      <td>2021-09-01</td>\n",
       "    </tr>\n",
       "    <tr>\n",
       "      <th>2</th>\n",
       "      <td>2021-09-01 00:00:00</td>\n",
       "      <td>00:01:09</td>\n",
       "      <td>2021-09-01</td>\n",
       "    </tr>\n",
       "    <tr>\n",
       "      <th>3</th>\n",
       "      <td>2021-09-01 00:00:00</td>\n",
       "      <td>00:01:40</td>\n",
       "      <td>2021-09-01</td>\n",
       "    </tr>\n",
       "    <tr>\n",
       "      <th>4</th>\n",
       "      <td>2021-09-01 00:00:00</td>\n",
       "      <td>00:01:48</td>\n",
       "      <td>2021-09-01</td>\n",
       "    </tr>\n",
       "  </tbody>\n",
       "</table>\n",
       "</div>"
      ],
      "text/plain": [
       "            Entry Date Entry Military Time         Date\n",
       "0  2021-09-01 00:00:00            00:00:06  2021-09-01 \n",
       "1  2021-09-01 00:00:00            00:00:40  2021-09-01 \n",
       "2  2021-09-01 00:00:00            00:01:09  2021-09-01 \n",
       "3  2021-09-01 00:00:00            00:01:40  2021-09-01 \n",
       "4  2021-09-01 00:00:00            00:01:48  2021-09-01 "
      ]
     },
     "execution_count": 27,
     "metadata": {},
     "output_type": "execute_result"
    }
   ],
   "source": [
    "Parking.head()"
   ]
  },
  {
   "cell_type": "code",
   "execution_count": 28,
   "metadata": {},
   "outputs": [],
   "source": [
    "Parking['Parking_Time'] = Parking['Date']+' '+Parking['Entry Military Time'].astype(str)"
   ]
  },
  {
   "cell_type": "code",
   "execution_count": 29,
   "metadata": {},
   "outputs": [],
   "source": [
    "Parking['Parking_Time'] = pd.to_datetime(Parking['Parking_Time'])"
   ]
  },
  {
   "cell_type": "code",
   "execution_count": 30,
   "metadata": {},
   "outputs": [
    {
     "data": {
      "text/plain": [
       "Entry Date                     object\n",
       "Entry Military Time            object\n",
       "Date                           object\n",
       "Parking_Time           datetime64[ns]\n",
       "dtype: object"
      ]
     },
     "execution_count": 30,
     "metadata": {},
     "output_type": "execute_result"
    }
   ],
   "source": [
    "Parking.dtypes"
   ]
  },
  {
   "cell_type": "code",
   "execution_count": 31,
   "metadata": {},
   "outputs": [],
   "source": [
    "Parking['MM-DD'] = Parking['Parking_Time'].dt.strftime('%m-%d')\n",
    "Parking['Day'] = Parking['Parking_Time'].dt.day\n",
    "Parking['Hour'] = Parking['Parking_Time'].dt.hour\n",
    "Parking['DOW'] = Parking['Parking_Time'].dt.weekday\n",
    "Parking['DOW_l'] = Parking['DOW'].copy()\n",
    "Parking[\"DOW_l\"].replace({0: \"Monday\", 1: \"Tuesday\",2:\"Wednesday\",3:'Thursday',4:'Friday',5:'Saturday',6:'Sunday'}, inplace=True)"
   ]
  },
  {
   "cell_type": "code",
   "execution_count": 32,
   "metadata": {},
   "outputs": [
    {
     "data": {
      "text/html": [
       "<div>\n",
       "<style scoped>\n",
       "    .dataframe tbody tr th:only-of-type {\n",
       "        vertical-align: middle;\n",
       "    }\n",
       "\n",
       "    .dataframe tbody tr th {\n",
       "        vertical-align: top;\n",
       "    }\n",
       "\n",
       "    .dataframe thead th {\n",
       "        text-align: right;\n",
       "    }\n",
       "</style>\n",
       "<table border=\"1\" class=\"dataframe\">\n",
       "  <thead>\n",
       "    <tr style=\"text-align: right;\">\n",
       "      <th></th>\n",
       "      <th>Entry Date</th>\n",
       "      <th>Entry Military Time</th>\n",
       "      <th>Date</th>\n",
       "      <th>Parking_Time</th>\n",
       "      <th>MM-DD</th>\n",
       "      <th>Day</th>\n",
       "      <th>Hour</th>\n",
       "      <th>DOW</th>\n",
       "      <th>DOW_l</th>\n",
       "    </tr>\n",
       "  </thead>\n",
       "  <tbody>\n",
       "    <tr>\n",
       "      <th>0</th>\n",
       "      <td>2021-09-01 00:00:00</td>\n",
       "      <td>00:00:06</td>\n",
       "      <td>2021-09-01</td>\n",
       "      <td>2021-09-01 00:00:06</td>\n",
       "      <td>09-01</td>\n",
       "      <td>1</td>\n",
       "      <td>0</td>\n",
       "      <td>2</td>\n",
       "      <td>Wednesday</td>\n",
       "    </tr>\n",
       "    <tr>\n",
       "      <th>1</th>\n",
       "      <td>2021-09-01 00:00:00</td>\n",
       "      <td>00:00:40</td>\n",
       "      <td>2021-09-01</td>\n",
       "      <td>2021-09-01 00:00:40</td>\n",
       "      <td>09-01</td>\n",
       "      <td>1</td>\n",
       "      <td>0</td>\n",
       "      <td>2</td>\n",
       "      <td>Wednesday</td>\n",
       "    </tr>\n",
       "    <tr>\n",
       "      <th>2</th>\n",
       "      <td>2021-09-01 00:00:00</td>\n",
       "      <td>00:01:09</td>\n",
       "      <td>2021-09-01</td>\n",
       "      <td>2021-09-01 00:01:09</td>\n",
       "      <td>09-01</td>\n",
       "      <td>1</td>\n",
       "      <td>0</td>\n",
       "      <td>2</td>\n",
       "      <td>Wednesday</td>\n",
       "    </tr>\n",
       "    <tr>\n",
       "      <th>3</th>\n",
       "      <td>2021-09-01 00:00:00</td>\n",
       "      <td>00:01:40</td>\n",
       "      <td>2021-09-01</td>\n",
       "      <td>2021-09-01 00:01:40</td>\n",
       "      <td>09-01</td>\n",
       "      <td>1</td>\n",
       "      <td>0</td>\n",
       "      <td>2</td>\n",
       "      <td>Wednesday</td>\n",
       "    </tr>\n",
       "    <tr>\n",
       "      <th>4</th>\n",
       "      <td>2021-09-01 00:00:00</td>\n",
       "      <td>00:01:48</td>\n",
       "      <td>2021-09-01</td>\n",
       "      <td>2021-09-01 00:01:48</td>\n",
       "      <td>09-01</td>\n",
       "      <td>1</td>\n",
       "      <td>0</td>\n",
       "      <td>2</td>\n",
       "      <td>Wednesday</td>\n",
       "    </tr>\n",
       "  </tbody>\n",
       "</table>\n",
       "</div>"
      ],
      "text/plain": [
       "            Entry Date Entry Military Time         Date        Parking_Time  \\\n",
       "0  2021-09-01 00:00:00            00:00:06  2021-09-01  2021-09-01 00:00:06   \n",
       "1  2021-09-01 00:00:00            00:00:40  2021-09-01  2021-09-01 00:00:40   \n",
       "2  2021-09-01 00:00:00            00:01:09  2021-09-01  2021-09-01 00:01:09   \n",
       "3  2021-09-01 00:00:00            00:01:40  2021-09-01  2021-09-01 00:01:40   \n",
       "4  2021-09-01 00:00:00            00:01:48  2021-09-01  2021-09-01 00:01:48   \n",
       "\n",
       "   MM-DD  Day  Hour  DOW      DOW_l  \n",
       "0  09-01    1     0    2  Wednesday  \n",
       "1  09-01    1     0    2  Wednesday  \n",
       "2  09-01    1     0    2  Wednesday  \n",
       "3  09-01    1     0    2  Wednesday  \n",
       "4  09-01    1     0    2  Wednesday  "
      ]
     },
     "execution_count": 32,
     "metadata": {},
     "output_type": "execute_result"
    }
   ],
   "source": [
    "Parking.head()"
   ]
  },
  {
   "cell_type": "code",
   "execution_count": 33,
   "metadata": {},
   "outputs": [],
   "source": [
    "Parking_sept = Parking[['Parking_Time','MM-DD','Day','Hour','DOW','DOW_l']]"
   ]
  },
  {
   "cell_type": "code",
   "execution_count": 34,
   "metadata": {},
   "outputs": [
    {
     "data": {
      "text/html": [
       "<div>\n",
       "<style scoped>\n",
       "    .dataframe tbody tr th:only-of-type {\n",
       "        vertical-align: middle;\n",
       "    }\n",
       "\n",
       "    .dataframe tbody tr th {\n",
       "        vertical-align: top;\n",
       "    }\n",
       "\n",
       "    .dataframe thead th {\n",
       "        text-align: right;\n",
       "    }\n",
       "</style>\n",
       "<table border=\"1\" class=\"dataframe\">\n",
       "  <thead>\n",
       "    <tr style=\"text-align: right;\">\n",
       "      <th></th>\n",
       "      <th>Parking_Time</th>\n",
       "      <th>MM-DD</th>\n",
       "      <th>Day</th>\n",
       "      <th>Hour</th>\n",
       "      <th>DOW</th>\n",
       "      <th>DOW_l</th>\n",
       "    </tr>\n",
       "  </thead>\n",
       "  <tbody>\n",
       "    <tr>\n",
       "      <th>0</th>\n",
       "      <td>2021-09-01 00:00:06</td>\n",
       "      <td>09-01</td>\n",
       "      <td>1</td>\n",
       "      <td>0</td>\n",
       "      <td>2</td>\n",
       "      <td>Wednesday</td>\n",
       "    </tr>\n",
       "    <tr>\n",
       "      <th>1</th>\n",
       "      <td>2021-09-01 00:00:40</td>\n",
       "      <td>09-01</td>\n",
       "      <td>1</td>\n",
       "      <td>0</td>\n",
       "      <td>2</td>\n",
       "      <td>Wednesday</td>\n",
       "    </tr>\n",
       "    <tr>\n",
       "      <th>2</th>\n",
       "      <td>2021-09-01 00:01:09</td>\n",
       "      <td>09-01</td>\n",
       "      <td>1</td>\n",
       "      <td>0</td>\n",
       "      <td>2</td>\n",
       "      <td>Wednesday</td>\n",
       "    </tr>\n",
       "    <tr>\n",
       "      <th>3</th>\n",
       "      <td>2021-09-01 00:01:40</td>\n",
       "      <td>09-01</td>\n",
       "      <td>1</td>\n",
       "      <td>0</td>\n",
       "      <td>2</td>\n",
       "      <td>Wednesday</td>\n",
       "    </tr>\n",
       "    <tr>\n",
       "      <th>4</th>\n",
       "      <td>2021-09-01 00:01:48</td>\n",
       "      <td>09-01</td>\n",
       "      <td>1</td>\n",
       "      <td>0</td>\n",
       "      <td>2</td>\n",
       "      <td>Wednesday</td>\n",
       "    </tr>\n",
       "  </tbody>\n",
       "</table>\n",
       "</div>"
      ],
      "text/plain": [
       "         Parking_Time  MM-DD  Day  Hour  DOW      DOW_l\n",
       "0 2021-09-01 00:00:06  09-01    1     0    2  Wednesday\n",
       "1 2021-09-01 00:00:40  09-01    1     0    2  Wednesday\n",
       "2 2021-09-01 00:01:09  09-01    1     0    2  Wednesday\n",
       "3 2021-09-01 00:01:40  09-01    1     0    2  Wednesday\n",
       "4 2021-09-01 00:01:48  09-01    1     0    2  Wednesday"
      ]
     },
     "execution_count": 34,
     "metadata": {},
     "output_type": "execute_result"
    }
   ],
   "source": [
    "Parking_sept.head()"
   ]
  },
  {
   "cell_type": "code",
   "execution_count": 35,
   "metadata": {},
   "outputs": [],
   "source": [
    "lsthour = []\n",
    "for s in Parking_sept['Hour']:\n",
    "        if s in morning:\n",
    "            lsthour.append('Morning')\n",
    "        elif s in afternoon:\n",
    "            lsthour.append('Afternoon')\n",
    "        elif s in evening:\n",
    "            lsthour.append('Evening')\n",
    "        elif s in overnight:\n",
    "            lsthour.append('Overnight')"
   ]
  },
  {
   "cell_type": "code",
   "execution_count": 36,
   "metadata": {},
   "outputs": [],
   "source": [
    "Parking_sept['Time Category'] = lsthour"
   ]
  },
  {
   "cell_type": "markdown",
   "metadata": {},
   "source": [
    "### AirTrain Data"
   ]
  },
  {
   "cell_type": "code",
   "execution_count": 37,
   "metadata": {},
   "outputs": [],
   "source": [
    "AT_og = AT.copy()"
   ]
  },
  {
   "cell_type": "code",
   "execution_count": 38,
   "metadata": {},
   "outputs": [
    {
     "data": {
      "text/plain": [
       "array(['P2', 'P3', 'P4', 'Rail Link', 'Terminal A', 'Terminal B',\n",
       "       'Terminal C'], dtype=object)"
      ]
     },
     "execution_count": 38,
     "metadata": {},
     "output_type": "execute_result"
    }
   ],
   "source": [
    "AT_og['Station'].unique()"
   ]
  },
  {
   "cell_type": "code",
   "execution_count": 39,
   "metadata": {},
   "outputs": [],
   "source": [
    "AT = AT_og[AT_og['Station'] == 'Terminal B']\n",
    "AT = AT[AT['Month'] == 'September']\n",
    "AT = AT[AT['Year'] == 2021]"
   ]
  },
  {
   "cell_type": "code",
   "execution_count": 40,
   "metadata": {},
   "outputs": [
    {
     "data": {
      "text/html": [
       "<div>\n",
       "<style scoped>\n",
       "    .dataframe tbody tr th:only-of-type {\n",
       "        vertical-align: middle;\n",
       "    }\n",
       "\n",
       "    .dataframe tbody tr th {\n",
       "        vertical-align: top;\n",
       "    }\n",
       "\n",
       "    .dataframe thead th {\n",
       "        text-align: right;\n",
       "    }\n",
       "</style>\n",
       "<table border=\"1\" class=\"dataframe\">\n",
       "  <thead>\n",
       "    <tr style=\"text-align: right;\">\n",
       "      <th></th>\n",
       "      <th>Platform</th>\n",
       "      <th>Date</th>\n",
       "      <th>Hour</th>\n",
       "      <th>TotalOn</th>\n",
       "      <th>TotalOff</th>\n",
       "      <th>TotalOn&amp;Off</th>\n",
       "      <th>DayOfWeek</th>\n",
       "      <th>Week</th>\n",
       "      <th>Month</th>\n",
       "      <th>Year</th>\n",
       "      <th>Station</th>\n",
       "      <th>PlatformSide</th>\n",
       "      <th>Unnamed: 12</th>\n",
       "      <th>Unnamed: 13</th>\n",
       "    </tr>\n",
       "  </thead>\n",
       "  <tbody>\n",
       "    <tr>\n",
       "      <th>81658</th>\n",
       "      <td>Terminal B Airside</td>\n",
       "      <td>2021/9/1</td>\n",
       "      <td>0</td>\n",
       "      <td>50.0</td>\n",
       "      <td>50.0</td>\n",
       "      <td>100.0</td>\n",
       "      <td>Wednesday</td>\n",
       "      <td>36</td>\n",
       "      <td>September</td>\n",
       "      <td>2021</td>\n",
       "      <td>Terminal B</td>\n",
       "      <td>Airside</td>\n",
       "      <td>NaN</td>\n",
       "      <td>NaN</td>\n",
       "    </tr>\n",
       "    <tr>\n",
       "      <th>81659</th>\n",
       "      <td>Terminal B Landside</td>\n",
       "      <td>2021/9/1</td>\n",
       "      <td>0</td>\n",
       "      <td>1.0</td>\n",
       "      <td>1.0</td>\n",
       "      <td>2.0</td>\n",
       "      <td>Wednesday</td>\n",
       "      <td>36</td>\n",
       "      <td>September</td>\n",
       "      <td>2021</td>\n",
       "      <td>Terminal B</td>\n",
       "      <td>Landside</td>\n",
       "      <td>NaN</td>\n",
       "      <td>NaN</td>\n",
       "    </tr>\n",
       "    <tr>\n",
       "      <th>81672</th>\n",
       "      <td>Terminal B Airside</td>\n",
       "      <td>2021/9/1</td>\n",
       "      <td>1</td>\n",
       "      <td>22.0</td>\n",
       "      <td>22.0</td>\n",
       "      <td>44.0</td>\n",
       "      <td>Wednesday</td>\n",
       "      <td>36</td>\n",
       "      <td>September</td>\n",
       "      <td>2021</td>\n",
       "      <td>Terminal B</td>\n",
       "      <td>Airside</td>\n",
       "      <td>NaN</td>\n",
       "      <td>NaN</td>\n",
       "    </tr>\n",
       "    <tr>\n",
       "      <th>81673</th>\n",
       "      <td>Terminal B Landside</td>\n",
       "      <td>2021/9/1</td>\n",
       "      <td>1</td>\n",
       "      <td>0.0</td>\n",
       "      <td>0.0</td>\n",
       "      <td>0.0</td>\n",
       "      <td>Wednesday</td>\n",
       "      <td>36</td>\n",
       "      <td>September</td>\n",
       "      <td>2021</td>\n",
       "      <td>Terminal B</td>\n",
       "      <td>Landside</td>\n",
       "      <td>NaN</td>\n",
       "      <td>NaN</td>\n",
       "    </tr>\n",
       "    <tr>\n",
       "      <th>81686</th>\n",
       "      <td>Terminal B Airside</td>\n",
       "      <td>2021/9/1</td>\n",
       "      <td>2</td>\n",
       "      <td>18.0</td>\n",
       "      <td>18.0</td>\n",
       "      <td>36.0</td>\n",
       "      <td>Wednesday</td>\n",
       "      <td>36</td>\n",
       "      <td>September</td>\n",
       "      <td>2021</td>\n",
       "      <td>Terminal B</td>\n",
       "      <td>Airside</td>\n",
       "      <td>NaN</td>\n",
       "      <td>NaN</td>\n",
       "    </tr>\n",
       "  </tbody>\n",
       "</table>\n",
       "</div>"
      ],
      "text/plain": [
       "                  Platform      Date  Hour  TotalOn  TotalOff  TotalOn&Off  \\\n",
       "81658   Terminal B Airside  2021/9/1     0     50.0      50.0        100.0   \n",
       "81659  Terminal B Landside  2021/9/1     0      1.0       1.0          2.0   \n",
       "81672   Terminal B Airside  2021/9/1     1     22.0      22.0         44.0   \n",
       "81673  Terminal B Landside  2021/9/1     1      0.0       0.0          0.0   \n",
       "81686   Terminal B Airside  2021/9/1     2     18.0      18.0         36.0   \n",
       "\n",
       "       DayOfWeek  Week      Month  Year     Station PlatformSide  Unnamed: 12  \\\n",
       "81658  Wednesday    36  September  2021  Terminal B      Airside          NaN   \n",
       "81659  Wednesday    36  September  2021  Terminal B     Landside          NaN   \n",
       "81672  Wednesday    36  September  2021  Terminal B      Airside          NaN   \n",
       "81673  Wednesday    36  September  2021  Terminal B     Landside          NaN   \n",
       "81686  Wednesday    36  September  2021  Terminal B      Airside          NaN   \n",
       "\n",
       "       Unnamed: 13  \n",
       "81658          NaN  \n",
       "81659          NaN  \n",
       "81672          NaN  \n",
       "81673          NaN  \n",
       "81686          NaN  "
      ]
     },
     "execution_count": 40,
     "metadata": {},
     "output_type": "execute_result"
    }
   ],
   "source": [
    "AT.head()"
   ]
  },
  {
   "cell_type": "code",
   "execution_count": 41,
   "metadata": {},
   "outputs": [
    {
     "data": {
      "text/html": [
       "<div>\n",
       "<style scoped>\n",
       "    .dataframe tbody tr th:only-of-type {\n",
       "        vertical-align: middle;\n",
       "    }\n",
       "\n",
       "    .dataframe tbody tr th {\n",
       "        vertical-align: top;\n",
       "    }\n",
       "\n",
       "    .dataframe thead th {\n",
       "        text-align: right;\n",
       "    }\n",
       "</style>\n",
       "<table border=\"1\" class=\"dataframe\">\n",
       "  <thead>\n",
       "    <tr style=\"text-align: right;\">\n",
       "      <th></th>\n",
       "      <th>Date</th>\n",
       "      <th>Hour</th>\n",
       "      <th>TotalOff</th>\n",
       "      <th>DayOfWeek</th>\n",
       "    </tr>\n",
       "  </thead>\n",
       "  <tbody>\n",
       "    <tr>\n",
       "      <th>81658</th>\n",
       "      <td>2021/9/1</td>\n",
       "      <td>0</td>\n",
       "      <td>50.0</td>\n",
       "      <td>Wednesday</td>\n",
       "    </tr>\n",
       "    <tr>\n",
       "      <th>81659</th>\n",
       "      <td>2021/9/1</td>\n",
       "      <td>0</td>\n",
       "      <td>1.0</td>\n",
       "      <td>Wednesday</td>\n",
       "    </tr>\n",
       "    <tr>\n",
       "      <th>81672</th>\n",
       "      <td>2021/9/1</td>\n",
       "      <td>1</td>\n",
       "      <td>22.0</td>\n",
       "      <td>Wednesday</td>\n",
       "    </tr>\n",
       "    <tr>\n",
       "      <th>81673</th>\n",
       "      <td>2021/9/1</td>\n",
       "      <td>1</td>\n",
       "      <td>0.0</td>\n",
       "      <td>Wednesday</td>\n",
       "    </tr>\n",
       "    <tr>\n",
       "      <th>81686</th>\n",
       "      <td>2021/9/1</td>\n",
       "      <td>2</td>\n",
       "      <td>18.0</td>\n",
       "      <td>Wednesday</td>\n",
       "    </tr>\n",
       "  </tbody>\n",
       "</table>\n",
       "</div>"
      ],
      "text/plain": [
       "           Date  Hour  TotalOff  DayOfWeek\n",
       "81658  2021/9/1     0      50.0  Wednesday\n",
       "81659  2021/9/1     0       1.0  Wednesday\n",
       "81672  2021/9/1     1      22.0  Wednesday\n",
       "81673  2021/9/1     1       0.0  Wednesday\n",
       "81686  2021/9/1     2      18.0  Wednesday"
      ]
     },
     "execution_count": 41,
     "metadata": {},
     "output_type": "execute_result"
    }
   ],
   "source": [
    "AT_sept = AT[['Date','Hour','TotalOff','DayOfWeek']]\n",
    "AT_sept.head()"
   ]
  },
  {
   "cell_type": "code",
   "execution_count": 42,
   "metadata": {},
   "outputs": [],
   "source": [
    "lsthour = []\n",
    "for s in AT_sept['Hour']:\n",
    "        if s in morning:\n",
    "            lsthour.append('Morning')\n",
    "        elif s in afternoon:\n",
    "            lsthour.append('Afternoon')\n",
    "        elif s in evening:\n",
    "            lsthour.append('Evening')\n",
    "        elif s in overnight:\n",
    "            lsthour.append('Overnight')"
   ]
  },
  {
   "cell_type": "code",
   "execution_count": 43,
   "metadata": {},
   "outputs": [],
   "source": [
    "AT_sept['Time Category'] = lsthour"
   ]
  },
  {
   "cell_type": "code",
   "execution_count": 44,
   "metadata": {},
   "outputs": [
    {
     "data": {
      "text/html": [
       "<div>\n",
       "<style scoped>\n",
       "    .dataframe tbody tr th:only-of-type {\n",
       "        vertical-align: middle;\n",
       "    }\n",
       "\n",
       "    .dataframe tbody tr th {\n",
       "        vertical-align: top;\n",
       "    }\n",
       "\n",
       "    .dataframe thead th {\n",
       "        text-align: right;\n",
       "    }\n",
       "</style>\n",
       "<table border=\"1\" class=\"dataframe\">\n",
       "  <thead>\n",
       "    <tr style=\"text-align: right;\">\n",
       "      <th></th>\n",
       "      <th>Date</th>\n",
       "      <th>Hour</th>\n",
       "      <th>TotalOff</th>\n",
       "      <th>DayOfWeek</th>\n",
       "      <th>Time Category</th>\n",
       "    </tr>\n",
       "  </thead>\n",
       "  <tbody>\n",
       "    <tr>\n",
       "      <th>81658</th>\n",
       "      <td>2021/9/1</td>\n",
       "      <td>0</td>\n",
       "      <td>50.0</td>\n",
       "      <td>Wednesday</td>\n",
       "      <td>Overnight</td>\n",
       "    </tr>\n",
       "    <tr>\n",
       "      <th>81659</th>\n",
       "      <td>2021/9/1</td>\n",
       "      <td>0</td>\n",
       "      <td>1.0</td>\n",
       "      <td>Wednesday</td>\n",
       "      <td>Overnight</td>\n",
       "    </tr>\n",
       "    <tr>\n",
       "      <th>81672</th>\n",
       "      <td>2021/9/1</td>\n",
       "      <td>1</td>\n",
       "      <td>22.0</td>\n",
       "      <td>Wednesday</td>\n",
       "      <td>Overnight</td>\n",
       "    </tr>\n",
       "    <tr>\n",
       "      <th>81673</th>\n",
       "      <td>2021/9/1</td>\n",
       "      <td>1</td>\n",
       "      <td>0.0</td>\n",
       "      <td>Wednesday</td>\n",
       "      <td>Overnight</td>\n",
       "    </tr>\n",
       "    <tr>\n",
       "      <th>81686</th>\n",
       "      <td>2021/9/1</td>\n",
       "      <td>2</td>\n",
       "      <td>18.0</td>\n",
       "      <td>Wednesday</td>\n",
       "      <td>Overnight</td>\n",
       "    </tr>\n",
       "  </tbody>\n",
       "</table>\n",
       "</div>"
      ],
      "text/plain": [
       "           Date  Hour  TotalOff  DayOfWeek Time Category\n",
       "81658  2021/9/1     0      50.0  Wednesday     Overnight\n",
       "81659  2021/9/1     0       1.0  Wednesday     Overnight\n",
       "81672  2021/9/1     1      22.0  Wednesday     Overnight\n",
       "81673  2021/9/1     1       0.0  Wednesday     Overnight\n",
       "81686  2021/9/1     2      18.0  Wednesday     Overnight"
      ]
     },
     "execution_count": 44,
     "metadata": {},
     "output_type": "execute_result"
    }
   ],
   "source": [
    "AT_sept.head()"
   ]
  },
  {
   "cell_type": "markdown",
   "metadata": {},
   "source": [
    "### TNC Data"
   ]
  },
  {
   "cell_type": "code",
   "execution_count": 45,
   "metadata": {},
   "outputs": [
    {
     "data": {
      "text/html": [
       "<div>\n",
       "<style scoped>\n",
       "    .dataframe tbody tr th:only-of-type {\n",
       "        vertical-align: middle;\n",
       "    }\n",
       "\n",
       "    .dataframe tbody tr th {\n",
       "        vertical-align: top;\n",
       "    }\n",
       "\n",
       "    .dataframe thead th {\n",
       "        text-align: right;\n",
       "    }\n",
       "</style>\n",
       "<table border=\"1\" class=\"dataframe\">\n",
       "  <thead>\n",
       "    <tr style=\"text-align: right;\">\n",
       "      <th></th>\n",
       "      <th>Dispatch Id</th>\n",
       "      <th>Airport Code</th>\n",
       "      <th>Location</th>\n",
       "      <th>Latitude</th>\n",
       "      <th>Longitude</th>\n",
       "      <th>Car Company</th>\n",
       "      <th>Ride Date and Time</th>\n",
       "    </tr>\n",
       "  </thead>\n",
       "  <tbody>\n",
       "    <tr>\n",
       "      <th>0</th>\n",
       "      <td>[B@2c4bf540</td>\n",
       "      <td>EWR</td>\n",
       "      <td>TermB</td>\n",
       "      <td>40.6906</td>\n",
       "      <td>-74.1776</td>\n",
       "      <td>Uber</td>\n",
       "      <td>2021-10-23T14:59:38.000Z</td>\n",
       "    </tr>\n",
       "    <tr>\n",
       "      <th>1</th>\n",
       "      <td>[B@82596c2</td>\n",
       "      <td>EWR</td>\n",
       "      <td>TermB</td>\n",
       "      <td>40.6908</td>\n",
       "      <td>-74.1774</td>\n",
       "      <td>Uber</td>\n",
       "      <td>2021-10-18T17:49:03.000Z</td>\n",
       "    </tr>\n",
       "    <tr>\n",
       "      <th>2</th>\n",
       "      <td>[B@54d2b33b</td>\n",
       "      <td>EWR</td>\n",
       "      <td>TermB</td>\n",
       "      <td>40.6903</td>\n",
       "      <td>-74.1778</td>\n",
       "      <td>Uber</td>\n",
       "      <td>2021-10-26T06:36:01.000Z</td>\n",
       "    </tr>\n",
       "    <tr>\n",
       "      <th>3</th>\n",
       "      <td>[B@59797143</td>\n",
       "      <td>EWR</td>\n",
       "      <td>TermB</td>\n",
       "      <td>40.6903</td>\n",
       "      <td>-74.1778</td>\n",
       "      <td>Uber</td>\n",
       "      <td>2021-10-30T07:54:49.000Z</td>\n",
       "    </tr>\n",
       "    <tr>\n",
       "      <th>4</th>\n",
       "      <td>[B@2a6b7ed9</td>\n",
       "      <td>EWR</td>\n",
       "      <td>TermB</td>\n",
       "      <td>40.6903</td>\n",
       "      <td>-74.1779</td>\n",
       "      <td>Uber</td>\n",
       "      <td>2021-11-17T06:52:43.000Z</td>\n",
       "    </tr>\n",
       "  </tbody>\n",
       "</table>\n",
       "</div>"
      ],
      "text/plain": [
       "   Dispatch Id Airport Code Location  Latitude  Longitude Car Company  \\\n",
       "0  [B@2c4bf540          EWR    TermB   40.6906   -74.1776        Uber   \n",
       "1   [B@82596c2          EWR    TermB   40.6908   -74.1774        Uber   \n",
       "2  [B@54d2b33b          EWR    TermB   40.6903   -74.1778        Uber   \n",
       "3  [B@59797143          EWR    TermB   40.6903   -74.1778        Uber   \n",
       "4  [B@2a6b7ed9          EWR    TermB   40.6903   -74.1779        Uber   \n",
       "\n",
       "         Ride Date and Time  \n",
       "0  2021-10-23T14:59:38.000Z  \n",
       "1  2021-10-18T17:49:03.000Z  \n",
       "2  2021-10-26T06:36:01.000Z  \n",
       "3  2021-10-30T07:54:49.000Z  \n",
       "4  2021-11-17T06:52:43.000Z  "
      ]
     },
     "execution_count": 45,
     "metadata": {},
     "output_type": "execute_result"
    }
   ],
   "source": [
    "TNC.head()"
   ]
  },
  {
   "cell_type": "code",
   "execution_count": 46,
   "metadata": {},
   "outputs": [],
   "source": [
    "start, stop = 0, 10\n",
    "\n",
    "TNC['Date'] = TNC[\"Ride Date and Time\"].str.slice(start, stop)"
   ]
  },
  {
   "cell_type": "code",
   "execution_count": 47,
   "metadata": {},
   "outputs": [],
   "source": [
    "start, stop = 11, 16\n",
    "\n",
    "TNC['Time'] = TNC[\"Ride Date and Time\"].str.slice(start, stop)"
   ]
  },
  {
   "cell_type": "code",
   "execution_count": 48,
   "metadata": {},
   "outputs": [
    {
     "data": {
      "text/html": [
       "<div>\n",
       "<style scoped>\n",
       "    .dataframe tbody tr th:only-of-type {\n",
       "        vertical-align: middle;\n",
       "    }\n",
       "\n",
       "    .dataframe tbody tr th {\n",
       "        vertical-align: top;\n",
       "    }\n",
       "\n",
       "    .dataframe thead th {\n",
       "        text-align: right;\n",
       "    }\n",
       "</style>\n",
       "<table border=\"1\" class=\"dataframe\">\n",
       "  <thead>\n",
       "    <tr style=\"text-align: right;\">\n",
       "      <th></th>\n",
       "      <th>Dispatch Id</th>\n",
       "      <th>Airport Code</th>\n",
       "      <th>Location</th>\n",
       "      <th>Latitude</th>\n",
       "      <th>Longitude</th>\n",
       "      <th>Car Company</th>\n",
       "      <th>Ride Date and Time</th>\n",
       "      <th>Date</th>\n",
       "      <th>Time</th>\n",
       "      <th>TNC_Arrival_Time</th>\n",
       "    </tr>\n",
       "  </thead>\n",
       "  <tbody>\n",
       "    <tr>\n",
       "      <th>0</th>\n",
       "      <td>[B@2c4bf540</td>\n",
       "      <td>EWR</td>\n",
       "      <td>TermB</td>\n",
       "      <td>40.6906</td>\n",
       "      <td>-74.1776</td>\n",
       "      <td>Uber</td>\n",
       "      <td>2021-10-23T14:59:38.000Z</td>\n",
       "      <td>2021-10-23</td>\n",
       "      <td>14:59</td>\n",
       "      <td>2021-10-23 14:59:00</td>\n",
       "    </tr>\n",
       "    <tr>\n",
       "      <th>1</th>\n",
       "      <td>[B@82596c2</td>\n",
       "      <td>EWR</td>\n",
       "      <td>TermB</td>\n",
       "      <td>40.6908</td>\n",
       "      <td>-74.1774</td>\n",
       "      <td>Uber</td>\n",
       "      <td>2021-10-18T17:49:03.000Z</td>\n",
       "      <td>2021-10-18</td>\n",
       "      <td>17:49</td>\n",
       "      <td>2021-10-18 17:49:00</td>\n",
       "    </tr>\n",
       "    <tr>\n",
       "      <th>2</th>\n",
       "      <td>[B@54d2b33b</td>\n",
       "      <td>EWR</td>\n",
       "      <td>TermB</td>\n",
       "      <td>40.6903</td>\n",
       "      <td>-74.1778</td>\n",
       "      <td>Uber</td>\n",
       "      <td>2021-10-26T06:36:01.000Z</td>\n",
       "      <td>2021-10-26</td>\n",
       "      <td>06:36</td>\n",
       "      <td>2021-10-26 06:36:00</td>\n",
       "    </tr>\n",
       "    <tr>\n",
       "      <th>3</th>\n",
       "      <td>[B@59797143</td>\n",
       "      <td>EWR</td>\n",
       "      <td>TermB</td>\n",
       "      <td>40.6903</td>\n",
       "      <td>-74.1778</td>\n",
       "      <td>Uber</td>\n",
       "      <td>2021-10-30T07:54:49.000Z</td>\n",
       "      <td>2021-10-30</td>\n",
       "      <td>07:54</td>\n",
       "      <td>2021-10-30 07:54:00</td>\n",
       "    </tr>\n",
       "    <tr>\n",
       "      <th>4</th>\n",
       "      <td>[B@2a6b7ed9</td>\n",
       "      <td>EWR</td>\n",
       "      <td>TermB</td>\n",
       "      <td>40.6903</td>\n",
       "      <td>-74.1779</td>\n",
       "      <td>Uber</td>\n",
       "      <td>2021-11-17T06:52:43.000Z</td>\n",
       "      <td>2021-11-17</td>\n",
       "      <td>06:52</td>\n",
       "      <td>2021-11-17 06:52:00</td>\n",
       "    </tr>\n",
       "  </tbody>\n",
       "</table>\n",
       "</div>"
      ],
      "text/plain": [
       "   Dispatch Id Airport Code Location  Latitude  Longitude Car Company  \\\n",
       "0  [B@2c4bf540          EWR    TermB   40.6906   -74.1776        Uber   \n",
       "1   [B@82596c2          EWR    TermB   40.6908   -74.1774        Uber   \n",
       "2  [B@54d2b33b          EWR    TermB   40.6903   -74.1778        Uber   \n",
       "3  [B@59797143          EWR    TermB   40.6903   -74.1778        Uber   \n",
       "4  [B@2a6b7ed9          EWR    TermB   40.6903   -74.1779        Uber   \n",
       "\n",
       "         Ride Date and Time        Date   Time    TNC_Arrival_Time  \n",
       "0  2021-10-23T14:59:38.000Z  2021-10-23  14:59 2021-10-23 14:59:00  \n",
       "1  2021-10-18T17:49:03.000Z  2021-10-18  17:49 2021-10-18 17:49:00  \n",
       "2  2021-10-26T06:36:01.000Z  2021-10-26  06:36 2021-10-26 06:36:00  \n",
       "3  2021-10-30T07:54:49.000Z  2021-10-30  07:54 2021-10-30 07:54:00  \n",
       "4  2021-11-17T06:52:43.000Z  2021-11-17  06:52 2021-11-17 06:52:00  "
      ]
     },
     "execution_count": 48,
     "metadata": {},
     "output_type": "execute_result"
    }
   ],
   "source": [
    "TNC['TNC_Arrival_Time'] = TNC['Date']+' '+TNC['Time'].astype(str)\n",
    "TNC['TNC_Arrival_Time'] = pd.to_datetime(TNC['TNC_Arrival_Time'], format='%Y-%m-%d %H:%M:%S')\n",
    "TNC.head()"
   ]
  },
  {
   "cell_type": "code",
   "execution_count": 49,
   "metadata": {},
   "outputs": [],
   "source": [
    "TNC['Month'] = TNC['TNC_Arrival_Time'].dt.month"
   ]
  },
  {
   "cell_type": "code",
   "execution_count": 50,
   "metadata": {},
   "outputs": [],
   "source": [
    "TNC = TNC[TNC['Month']==9] "
   ]
  },
  {
   "cell_type": "code",
   "execution_count": 51,
   "metadata": {},
   "outputs": [],
   "source": [
    "TNC = TNC.sort_values(by='TNC_Arrival_Time')"
   ]
  },
  {
   "cell_type": "code",
   "execution_count": 52,
   "metadata": {},
   "outputs": [
    {
     "data": {
      "text/html": [
       "<div>\n",
       "<style scoped>\n",
       "    .dataframe tbody tr th:only-of-type {\n",
       "        vertical-align: middle;\n",
       "    }\n",
       "\n",
       "    .dataframe tbody tr th {\n",
       "        vertical-align: top;\n",
       "    }\n",
       "\n",
       "    .dataframe thead th {\n",
       "        text-align: right;\n",
       "    }\n",
       "</style>\n",
       "<table border=\"1\" class=\"dataframe\">\n",
       "  <thead>\n",
       "    <tr style=\"text-align: right;\">\n",
       "      <th></th>\n",
       "      <th>Dispatch Id</th>\n",
       "      <th>Airport Code</th>\n",
       "      <th>Location</th>\n",
       "      <th>Latitude</th>\n",
       "      <th>Longitude</th>\n",
       "      <th>Car Company</th>\n",
       "      <th>Ride Date and Time</th>\n",
       "      <th>Date</th>\n",
       "      <th>Time</th>\n",
       "      <th>TNC_Arrival_Time</th>\n",
       "      <th>Month</th>\n",
       "    </tr>\n",
       "  </thead>\n",
       "  <tbody>\n",
       "    <tr>\n",
       "      <th>414229</th>\n",
       "      <td>[B@34cbe323</td>\n",
       "      <td>EWR</td>\n",
       "      <td>TermB</td>\n",
       "      <td>40.6906</td>\n",
       "      <td>-74.1777</td>\n",
       "      <td>Uber</td>\n",
       "      <td>2021-09-30T22:41:02.000Z</td>\n",
       "      <td>2021-09-30</td>\n",
       "      <td>22:41</td>\n",
       "      <td>2021-09-30 22:41:00</td>\n",
       "      <td>9</td>\n",
       "    </tr>\n",
       "    <tr>\n",
       "      <th>481751</th>\n",
       "      <td>[B@e2950fb</td>\n",
       "      <td>EWR</td>\n",
       "      <td>TermB</td>\n",
       "      <td>40.6906</td>\n",
       "      <td>-74.1777</td>\n",
       "      <td>Uber</td>\n",
       "      <td>2021-09-30T22:41:02.000Z</td>\n",
       "      <td>2021-09-30</td>\n",
       "      <td>22:41</td>\n",
       "      <td>2021-09-30 22:41:00</td>\n",
       "      <td>9</td>\n",
       "    </tr>\n",
       "    <tr>\n",
       "      <th>463171</th>\n",
       "      <td>[B@b256d82</td>\n",
       "      <td>EWR</td>\n",
       "      <td>TermB</td>\n",
       "      <td>40.6906</td>\n",
       "      <td>-74.1777</td>\n",
       "      <td>Lyft</td>\n",
       "      <td>2021-09-30T22:50:16.000Z</td>\n",
       "      <td>2021-09-30</td>\n",
       "      <td>22:50</td>\n",
       "      <td>2021-09-30 22:50:00</td>\n",
       "      <td>9</td>\n",
       "    </tr>\n",
       "    <tr>\n",
       "      <th>11015</th>\n",
       "      <td>[B@412b1531</td>\n",
       "      <td>EWR</td>\n",
       "      <td>TermB</td>\n",
       "      <td>40.6906</td>\n",
       "      <td>-74.1777</td>\n",
       "      <td>Lyft</td>\n",
       "      <td>2021-09-30T22:50:16.000Z</td>\n",
       "      <td>2021-09-30</td>\n",
       "      <td>22:50</td>\n",
       "      <td>2021-09-30 22:50:00</td>\n",
       "      <td>9</td>\n",
       "    </tr>\n",
       "    <tr>\n",
       "      <th>468162</th>\n",
       "      <td>[B@487eee26</td>\n",
       "      <td>EWR</td>\n",
       "      <td>TermB</td>\n",
       "      <td>40.6906</td>\n",
       "      <td>-74.1777</td>\n",
       "      <td>Lyft</td>\n",
       "      <td>2021-09-30T22:50:16.000Z</td>\n",
       "      <td>2021-09-30</td>\n",
       "      <td>22:50</td>\n",
       "      <td>2021-09-30 22:50:00</td>\n",
       "      <td>9</td>\n",
       "    </tr>\n",
       "  </tbody>\n",
       "</table>\n",
       "</div>"
      ],
      "text/plain": [
       "        Dispatch Id Airport Code Location  Latitude  Longitude Car Company  \\\n",
       "414229  [B@34cbe323          EWR    TermB   40.6906   -74.1777        Uber   \n",
       "481751   [B@e2950fb          EWR    TermB   40.6906   -74.1777        Uber   \n",
       "463171   [B@b256d82          EWR    TermB   40.6906   -74.1777        Lyft   \n",
       "11015   [B@412b1531          EWR    TermB   40.6906   -74.1777        Lyft   \n",
       "468162  [B@487eee26          EWR    TermB   40.6906   -74.1777        Lyft   \n",
       "\n",
       "              Ride Date and Time        Date   Time    TNC_Arrival_Time  Month  \n",
       "414229  2021-09-30T22:41:02.000Z  2021-09-30  22:41 2021-09-30 22:41:00      9  \n",
       "481751  2021-09-30T22:41:02.000Z  2021-09-30  22:41 2021-09-30 22:41:00      9  \n",
       "463171  2021-09-30T22:50:16.000Z  2021-09-30  22:50 2021-09-30 22:50:00      9  \n",
       "11015   2021-09-30T22:50:16.000Z  2021-09-30  22:50 2021-09-30 22:50:00      9  \n",
       "468162  2021-09-30T22:50:16.000Z  2021-09-30  22:50 2021-09-30 22:50:00      9  "
      ]
     },
     "execution_count": 52,
     "metadata": {},
     "output_type": "execute_result"
    }
   ],
   "source": [
    "TNC.tail()"
   ]
  },
  {
   "cell_type": "code",
   "execution_count": 53,
   "metadata": {},
   "outputs": [],
   "source": [
    "TNC_sept = TNC[['Dispatch Id','TNC_Arrival_Time','Date','Month','Time']]"
   ]
  },
  {
   "cell_type": "code",
   "execution_count": 54,
   "metadata": {},
   "outputs": [],
   "source": [
    "TNC_sept['Hour'] = TNC_sept['TNC_Arrival_Time'].dt.hour"
   ]
  },
  {
   "cell_type": "code",
   "execution_count": 55,
   "metadata": {},
   "outputs": [],
   "source": [
    "lsthour = []\n",
    "for s in TNC_sept['Hour']:\n",
    "        if s in morning:\n",
    "            lsthour.append('Morning')\n",
    "        elif s in afternoon:\n",
    "            lsthour.append('Afternoon')\n",
    "        elif s in evening:\n",
    "            lsthour.append('Evening')\n",
    "        elif s in overnight:\n",
    "            lsthour.append('Overnight')"
   ]
  },
  {
   "cell_type": "code",
   "execution_count": 56,
   "metadata": {},
   "outputs": [],
   "source": [
    "TNC_sept['Time Category'] = lsthour"
   ]
  },
  {
   "cell_type": "code",
   "execution_count": 57,
   "metadata": {},
   "outputs": [],
   "source": [
    "TNC_sept['DOW'] = TNC_sept['TNC_Arrival_Time'].dt.weekday\n",
    "TNC_sept['DOW_l'] = TNC_sept['DOW'].copy()\n",
    "TNC_sept[\"DOW_l\"].replace({0: \"Monday\", 1: \"Tuesday\",2:\"Wednesday\",3:'Thursday',4:'Friday',5:'Saturday',6:'Sunday'}, inplace=True)"
   ]
  },
  {
   "cell_type": "code",
   "execution_count": 58,
   "metadata": {},
   "outputs": [
    {
     "data": {
      "text/html": [
       "<div>\n",
       "<style scoped>\n",
       "    .dataframe tbody tr th:only-of-type {\n",
       "        vertical-align: middle;\n",
       "    }\n",
       "\n",
       "    .dataframe tbody tr th {\n",
       "        vertical-align: top;\n",
       "    }\n",
       "\n",
       "    .dataframe thead th {\n",
       "        text-align: right;\n",
       "    }\n",
       "</style>\n",
       "<table border=\"1\" class=\"dataframe\">\n",
       "  <thead>\n",
       "    <tr style=\"text-align: right;\">\n",
       "      <th></th>\n",
       "      <th>Dispatch Id</th>\n",
       "      <th>TNC_Arrival_Time</th>\n",
       "      <th>Date</th>\n",
       "      <th>Month</th>\n",
       "      <th>Time</th>\n",
       "      <th>Hour</th>\n",
       "      <th>Time Category</th>\n",
       "      <th>DOW</th>\n",
       "      <th>DOW_l</th>\n",
       "    </tr>\n",
       "  </thead>\n",
       "  <tbody>\n",
       "    <tr>\n",
       "      <th>279259</th>\n",
       "      <td>[B@2128e7c2</td>\n",
       "      <td>2021-09-01 05:01:00</td>\n",
       "      <td>2021-09-01</td>\n",
       "      <td>9</td>\n",
       "      <td>05:01</td>\n",
       "      <td>5</td>\n",
       "      <td>Overnight</td>\n",
       "      <td>2</td>\n",
       "      <td>Wednesday</td>\n",
       "    </tr>\n",
       "    <tr>\n",
       "      <th>123148</th>\n",
       "      <td>[B@4ab7654e</td>\n",
       "      <td>2021-09-01 05:01:00</td>\n",
       "      <td>2021-09-01</td>\n",
       "      <td>9</td>\n",
       "      <td>05:01</td>\n",
       "      <td>5</td>\n",
       "      <td>Overnight</td>\n",
       "      <td>2</td>\n",
       "      <td>Wednesday</td>\n",
       "    </tr>\n",
       "    <tr>\n",
       "      <th>287856</th>\n",
       "      <td>[B@2adb3f00</td>\n",
       "      <td>2021-09-01 05:01:00</td>\n",
       "      <td>2021-09-01</td>\n",
       "      <td>9</td>\n",
       "      <td>05:01</td>\n",
       "      <td>5</td>\n",
       "      <td>Overnight</td>\n",
       "      <td>2</td>\n",
       "      <td>Wednesday</td>\n",
       "    </tr>\n",
       "    <tr>\n",
       "      <th>143302</th>\n",
       "      <td>[B@f63c0ff</td>\n",
       "      <td>2021-09-01 05:02:00</td>\n",
       "      <td>2021-09-01</td>\n",
       "      <td>9</td>\n",
       "      <td>05:02</td>\n",
       "      <td>5</td>\n",
       "      <td>Overnight</td>\n",
       "      <td>2</td>\n",
       "      <td>Wednesday</td>\n",
       "    </tr>\n",
       "    <tr>\n",
       "      <th>48232</th>\n",
       "      <td>[B@700602a0</td>\n",
       "      <td>2021-09-01 05:02:00</td>\n",
       "      <td>2021-09-01</td>\n",
       "      <td>9</td>\n",
       "      <td>05:02</td>\n",
       "      <td>5</td>\n",
       "      <td>Overnight</td>\n",
       "      <td>2</td>\n",
       "      <td>Wednesday</td>\n",
       "    </tr>\n",
       "  </tbody>\n",
       "</table>\n",
       "</div>"
      ],
      "text/plain": [
       "        Dispatch Id    TNC_Arrival_Time        Date  Month   Time  Hour  \\\n",
       "279259  [B@2128e7c2 2021-09-01 05:01:00  2021-09-01      9  05:01     5   \n",
       "123148  [B@4ab7654e 2021-09-01 05:01:00  2021-09-01      9  05:01     5   \n",
       "287856  [B@2adb3f00 2021-09-01 05:01:00  2021-09-01      9  05:01     5   \n",
       "143302   [B@f63c0ff 2021-09-01 05:02:00  2021-09-01      9  05:02     5   \n",
       "48232   [B@700602a0 2021-09-01 05:02:00  2021-09-01      9  05:02     5   \n",
       "\n",
       "       Time Category  DOW      DOW_l  \n",
       "279259     Overnight    2  Wednesday  \n",
       "123148     Overnight    2  Wednesday  \n",
       "287856     Overnight    2  Wednesday  \n",
       "143302     Overnight    2  Wednesday  \n",
       "48232      Overnight    2  Wednesday  "
      ]
     },
     "execution_count": 58,
     "metadata": {},
     "output_type": "execute_result"
    }
   ],
   "source": [
    "TNC_sept.head()"
   ]
  },
  {
   "cell_type": "code",
   "execution_count": 59,
   "metadata": {},
   "outputs": [],
   "source": [
    "#Dataframes\n",
    "\n",
    "#Concourse = Con_sept \n",
    "#Parking = Parking_sept\n",
    "#Airtrain = AT_sept \n",
    "#TNC = TNC_sept "
   ]
  },
  {
   "cell_type": "markdown",
   "metadata": {},
   "source": [
    "## 1. Peaks of TNC/AirTrain/Parking vs Flight Schedule "
   ]
  },
  {
   "cell_type": "markdown",
   "metadata": {},
   "source": [
    "### Extra Processing"
   ]
  },
  {
   "cell_type": "markdown",
   "metadata": {},
   "source": [
    "#### Concourse"
   ]
  },
  {
   "cell_type": "code",
   "execution_count": 60,
   "metadata": {},
   "outputs": [
    {
     "data": {
      "text/html": [
       "<div>\n",
       "<style scoped>\n",
       "    .dataframe tbody tr th:only-of-type {\n",
       "        vertical-align: middle;\n",
       "    }\n",
       "\n",
       "    .dataframe tbody tr th {\n",
       "        vertical-align: top;\n",
       "    }\n",
       "\n",
       "    .dataframe thead th {\n",
       "        text-align: right;\n",
       "    }\n",
       "</style>\n",
       "<table border=\"1\" class=\"dataframe\">\n",
       "  <thead>\n",
       "    <tr style=\"text-align: right;\">\n",
       "      <th></th>\n",
       "      <th>Id</th>\n",
       "      <th>Dept_Date_Time</th>\n",
       "      <th>Operating Airline Name</th>\n",
       "      <th>International Domestic</th>\n",
       "      <th>Flight Distance</th>\n",
       "      <th>Seats</th>\n",
       "      <th>Departure Concourse</th>\n",
       "      <th>Hour</th>\n",
       "      <th>Time Category</th>\n",
       "      <th>DOW</th>\n",
       "      <th>DOW_l</th>\n",
       "      <th>Month</th>\n",
       "    </tr>\n",
       "  </thead>\n",
       "  <tbody>\n",
       "    <tr>\n",
       "      <th>11255</th>\n",
       "      <td>302459807</td>\n",
       "      <td>2021-09-01 00:34:00</td>\n",
       "      <td>Frontier Airlines</td>\n",
       "      <td>Domestic</td>\n",
       "      <td>1608</td>\n",
       "      <td>186</td>\n",
       "      <td>B3</td>\n",
       "      <td>0</td>\n",
       "      <td>Overnight</td>\n",
       "      <td>2</td>\n",
       "      <td>Wednesday</td>\n",
       "      <td>9</td>\n",
       "    </tr>\n",
       "    <tr>\n",
       "      <th>11273</th>\n",
       "      <td>302464702</td>\n",
       "      <td>2021-09-01 05:00:00</td>\n",
       "      <td>Spirit Airlines</td>\n",
       "      <td>Domestic</td>\n",
       "      <td>1065</td>\n",
       "      <td>228</td>\n",
       "      <td>B3</td>\n",
       "      <td>5</td>\n",
       "      <td>Overnight</td>\n",
       "      <td>2</td>\n",
       "      <td>Wednesday</td>\n",
       "      <td>9</td>\n",
       "    </tr>\n",
       "    <tr>\n",
       "      <th>11280</th>\n",
       "      <td>302465672</td>\n",
       "      <td>2021-09-01 05:15:00</td>\n",
       "      <td>Spirit Airlines</td>\n",
       "      <td>Domestic</td>\n",
       "      <td>937</td>\n",
       "      <td>228</td>\n",
       "      <td>B3</td>\n",
       "      <td>5</td>\n",
       "      <td>Overnight</td>\n",
       "      <td>2</td>\n",
       "      <td>Wednesday</td>\n",
       "      <td>9</td>\n",
       "    </tr>\n",
       "    <tr>\n",
       "      <th>11241</th>\n",
       "      <td>302454821</td>\n",
       "      <td>2021-09-01 06:00:00</td>\n",
       "      <td>Delta Air Lines</td>\n",
       "      <td>Domestic</td>\n",
       "      <td>746</td>\n",
       "      <td>180</td>\n",
       "      <td>B1</td>\n",
       "      <td>6</td>\n",
       "      <td>Morning</td>\n",
       "      <td>2</td>\n",
       "      <td>Wednesday</td>\n",
       "      <td>9</td>\n",
       "    </tr>\n",
       "    <tr>\n",
       "      <th>11238</th>\n",
       "      <td>302453086</td>\n",
       "      <td>2021-09-01 06:10:00</td>\n",
       "      <td>Delta Air Lines</td>\n",
       "      <td>Domestic</td>\n",
       "      <td>488</td>\n",
       "      <td>180</td>\n",
       "      <td>B1</td>\n",
       "      <td>6</td>\n",
       "      <td>Morning</td>\n",
       "      <td>2</td>\n",
       "      <td>Wednesday</td>\n",
       "      <td>9</td>\n",
       "    </tr>\n",
       "  </tbody>\n",
       "</table>\n",
       "</div>"
      ],
      "text/plain": [
       "              Id      Dept_Date_Time Operating Airline Name  \\\n",
       "11255  302459807 2021-09-01 00:34:00      Frontier Airlines   \n",
       "11273  302464702 2021-09-01 05:00:00        Spirit Airlines   \n",
       "11280  302465672 2021-09-01 05:15:00        Spirit Airlines   \n",
       "11241  302454821 2021-09-01 06:00:00        Delta Air Lines   \n",
       "11238  302453086 2021-09-01 06:10:00        Delta Air Lines   \n",
       "\n",
       "      International Domestic  Flight Distance  Seats Departure Concourse  \\\n",
       "11255               Domestic             1608    186                  B3   \n",
       "11273               Domestic             1065    228                  B3   \n",
       "11280               Domestic              937    228                  B3   \n",
       "11241               Domestic              746    180                  B1   \n",
       "11238               Domestic              488    180                  B1   \n",
       "\n",
       "       Hour Time Category  DOW      DOW_l  Month  \n",
       "11255     0     Overnight    2  Wednesday      9  \n",
       "11273     5     Overnight    2  Wednesday      9  \n",
       "11280     5     Overnight    2  Wednesday      9  \n",
       "11241     6       Morning    2  Wednesday      9  \n",
       "11238     6       Morning    2  Wednesday      9  "
      ]
     },
     "execution_count": 60,
     "metadata": {},
     "output_type": "execute_result"
    }
   ],
   "source": [
    "Con_sept.head()"
   ]
  },
  {
   "cell_type": "code",
   "execution_count": 61,
   "metadata": {},
   "outputs": [],
   "source": [
    "#total\n",
    "Con_hour = Con_sept.groupby('Hour',as_index = False).agg({'Flight Distance':'mean','Seats':'sum','Id':'count'})\n",
    "Con_hour.sort_values(by='Hour')\n",
    "Con_hour.rename(columns={'Id':'N_flights'}, inplace=True)"
   ]
  },
  {
   "cell_type": "code",
   "execution_count": 62,
   "metadata": {},
   "outputs": [
    {
     "data": {
      "text/html": [
       "<div>\n",
       "<style scoped>\n",
       "    .dataframe tbody tr th:only-of-type {\n",
       "        vertical-align: middle;\n",
       "    }\n",
       "\n",
       "    .dataframe tbody tr th {\n",
       "        vertical-align: top;\n",
       "    }\n",
       "\n",
       "    .dataframe thead th {\n",
       "        text-align: right;\n",
       "    }\n",
       "</style>\n",
       "<table border=\"1\" class=\"dataframe\">\n",
       "  <thead>\n",
       "    <tr style=\"text-align: right;\">\n",
       "      <th></th>\n",
       "      <th>Hour</th>\n",
       "      <th>Seats</th>\n",
       "      <th>N_flights</th>\n",
       "      <th>Flight Distance</th>\n",
       "    </tr>\n",
       "  </thead>\n",
       "  <tbody>\n",
       "    <tr>\n",
       "      <th>0</th>\n",
       "      <td>0</td>\n",
       "      <td>1302</td>\n",
       "      <td>7</td>\n",
       "      <td>1608.000000</td>\n",
       "    </tr>\n",
       "    <tr>\n",
       "      <th>1</th>\n",
       "      <td>5</td>\n",
       "      <td>4788</td>\n",
       "      <td>21</td>\n",
       "      <td>1034.523810</td>\n",
       "    </tr>\n",
       "    <tr>\n",
       "      <th>2</th>\n",
       "      <td>6</td>\n",
       "      <td>22576</td>\n",
       "      <td>130</td>\n",
       "      <td>976.046154</td>\n",
       "    </tr>\n",
       "    <tr>\n",
       "      <th>3</th>\n",
       "      <td>7</td>\n",
       "      <td>12073</td>\n",
       "      <td>72</td>\n",
       "      <td>1438.819444</td>\n",
       "    </tr>\n",
       "    <tr>\n",
       "      <th>4</th>\n",
       "      <td>8</td>\n",
       "      <td>11665</td>\n",
       "      <td>66</td>\n",
       "      <td>1205.924242</td>\n",
       "    </tr>\n",
       "  </tbody>\n",
       "</table>\n",
       "</div>"
      ],
      "text/plain": [
       "   Hour  Seats  N_flights  Flight Distance\n",
       "0     0   1302          7      1608.000000\n",
       "1     5   4788         21      1034.523810\n",
       "2     6  22576        130       976.046154\n",
       "3     7  12073         72      1438.819444\n",
       "4     8  11665         66      1205.924242"
      ]
     },
     "execution_count": 62,
     "metadata": {},
     "output_type": "execute_result"
    }
   ],
   "source": [
    "Con_hour.head()"
   ]
  },
  {
   "cell_type": "code",
   "execution_count": 63,
   "metadata": {},
   "outputs": [],
   "source": [
    "#monday\n",
    "Con_mon = Con_sept[Con_sept['DOW_l'] == 'Monday']"
   ]
  },
  {
   "cell_type": "code",
   "execution_count": 64,
   "metadata": {},
   "outputs": [],
   "source": [
    "Con_mon = Con_mon.groupby('Hour',as_index = False).agg({'Flight Distance':'mean','Seats':'sum','Id':'count'})\n",
    "Con_mon.sort_values(by='Hour')\n",
    "Con_mon.rename(columns={'Id':'N_flights'}, inplace=True)"
   ]
  },
  {
   "cell_type": "code",
   "execution_count": 65,
   "metadata": {},
   "outputs": [],
   "source": [
    "#Tuesday\n",
    "Con_tue = Con_sept[Con_sept['DOW_l'] == 'Tuesday']\n",
    "Con_tue = Con_tue.groupby('Hour',as_index = False).agg({'Flight Distance':'mean','Seats':'sum','Id':'count'})\n",
    "Con_tue.sort_values(by='Hour')\n",
    "Con_tue.rename(columns={'Id':'N_flights'}, inplace=True)"
   ]
  },
  {
   "cell_type": "code",
   "execution_count": 66,
   "metadata": {},
   "outputs": [],
   "source": [
    "#Wednesday\n",
    "Con_wed = Con_sept[Con_sept['DOW_l'] == 'Wednesday']\n",
    "Con_wed = Con_wed.groupby('Hour',as_index = False).agg({'Flight Distance':'mean','Seats':'sum','Id':'count'})\n",
    "Con_wed.sort_values(by='Hour')\n",
    "Con_wed.rename(columns={'Id':'N_flights'}, inplace=True)"
   ]
  },
  {
   "cell_type": "code",
   "execution_count": 67,
   "metadata": {},
   "outputs": [],
   "source": [
    "#Thursday\n",
    "Con_thr = Con_sept[Con_sept['DOW_l'] == 'Thursday']\n",
    "Con_thr = Con_thr.groupby('Hour',as_index = False).agg({'Flight Distance':'mean','Seats':'sum','Id':'count'})\n",
    "Con_thr.sort_values(by='Hour')\n",
    "Con_thr.rename(columns={'Id':'N_flights'}, inplace=True)"
   ]
  },
  {
   "cell_type": "code",
   "execution_count": 68,
   "metadata": {},
   "outputs": [],
   "source": [
    "#Friday\n",
    "Con_fri = Con_sept[Con_sept['DOW_l'] == 'Friday']\n",
    "Con_fri = Con_fri.groupby('Hour',as_index = False).agg({'Flight Distance':'mean','Seats':'sum','Id':'count'})\n",
    "Con_fri.sort_values(by='Hour')\n",
    "Con_fri.rename(columns={'Id':'N_flights'}, inplace=True)"
   ]
  },
  {
   "cell_type": "code",
   "execution_count": 69,
   "metadata": {},
   "outputs": [],
   "source": [
    "#Saturday\n",
    "Con_sat = Con_sept[Con_sept['DOW_l'] == 'Saturday']\n",
    "Con_sat = Con_sat.groupby('Hour',as_index = False).agg({'Flight Distance':'mean','Seats':'sum','Id':'count'})\n",
    "Con_sat.sort_values(by='Hour')\n",
    "Con_sat.rename(columns={'Id':'N_flights'}, inplace=True)"
   ]
  },
  {
   "cell_type": "code",
   "execution_count": 70,
   "metadata": {},
   "outputs": [],
   "source": [
    "#Sunday\n",
    "Con_sun = Con_sept[Con_sept['DOW_l'] == 'Sunday']\n",
    "Con_sun = Con_sun.groupby('Hour',as_index = False).agg({'Flight Distance':'mean','Seats':'sum','Id':'count'})\n",
    "Con_sun.sort_values(by='Hour')\n",
    "Con_sun.rename(columns={'Id':'N_flights'}, inplace=True)"
   ]
  },
  {
   "cell_type": "markdown",
   "metadata": {},
   "source": [
    "#### Parking"
   ]
  },
  {
   "cell_type": "code",
   "execution_count": 71,
   "metadata": {},
   "outputs": [
    {
     "data": {
      "text/html": [
       "<div>\n",
       "<style scoped>\n",
       "    .dataframe tbody tr th:only-of-type {\n",
       "        vertical-align: middle;\n",
       "    }\n",
       "\n",
       "    .dataframe tbody tr th {\n",
       "        vertical-align: top;\n",
       "    }\n",
       "\n",
       "    .dataframe thead th {\n",
       "        text-align: right;\n",
       "    }\n",
       "</style>\n",
       "<table border=\"1\" class=\"dataframe\">\n",
       "  <thead>\n",
       "    <tr style=\"text-align: right;\">\n",
       "      <th></th>\n",
       "      <th>Parking_Time</th>\n",
       "      <th>MM-DD</th>\n",
       "      <th>Day</th>\n",
       "      <th>Hour</th>\n",
       "      <th>DOW</th>\n",
       "      <th>DOW_l</th>\n",
       "      <th>Time Category</th>\n",
       "    </tr>\n",
       "  </thead>\n",
       "  <tbody>\n",
       "    <tr>\n",
       "      <th>0</th>\n",
       "      <td>2021-09-01 00:00:06</td>\n",
       "      <td>09-01</td>\n",
       "      <td>1</td>\n",
       "      <td>0</td>\n",
       "      <td>2</td>\n",
       "      <td>Wednesday</td>\n",
       "      <td>Overnight</td>\n",
       "    </tr>\n",
       "    <tr>\n",
       "      <th>1</th>\n",
       "      <td>2021-09-01 00:00:40</td>\n",
       "      <td>09-01</td>\n",
       "      <td>1</td>\n",
       "      <td>0</td>\n",
       "      <td>2</td>\n",
       "      <td>Wednesday</td>\n",
       "      <td>Overnight</td>\n",
       "    </tr>\n",
       "    <tr>\n",
       "      <th>2</th>\n",
       "      <td>2021-09-01 00:01:09</td>\n",
       "      <td>09-01</td>\n",
       "      <td>1</td>\n",
       "      <td>0</td>\n",
       "      <td>2</td>\n",
       "      <td>Wednesday</td>\n",
       "      <td>Overnight</td>\n",
       "    </tr>\n",
       "    <tr>\n",
       "      <th>3</th>\n",
       "      <td>2021-09-01 00:01:40</td>\n",
       "      <td>09-01</td>\n",
       "      <td>1</td>\n",
       "      <td>0</td>\n",
       "      <td>2</td>\n",
       "      <td>Wednesday</td>\n",
       "      <td>Overnight</td>\n",
       "    </tr>\n",
       "    <tr>\n",
       "      <th>4</th>\n",
       "      <td>2021-09-01 00:01:48</td>\n",
       "      <td>09-01</td>\n",
       "      <td>1</td>\n",
       "      <td>0</td>\n",
       "      <td>2</td>\n",
       "      <td>Wednesday</td>\n",
       "      <td>Overnight</td>\n",
       "    </tr>\n",
       "  </tbody>\n",
       "</table>\n",
       "</div>"
      ],
      "text/plain": [
       "         Parking_Time  MM-DD  Day  Hour  DOW      DOW_l Time Category\n",
       "0 2021-09-01 00:00:06  09-01    1     0    2  Wednesday     Overnight\n",
       "1 2021-09-01 00:00:40  09-01    1     0    2  Wednesday     Overnight\n",
       "2 2021-09-01 00:01:09  09-01    1     0    2  Wednesday     Overnight\n",
       "3 2021-09-01 00:01:40  09-01    1     0    2  Wednesday     Overnight\n",
       "4 2021-09-01 00:01:48  09-01    1     0    2  Wednesday     Overnight"
      ]
     },
     "execution_count": 71,
     "metadata": {},
     "output_type": "execute_result"
    }
   ],
   "source": [
    "Parking_sept.head()"
   ]
  },
  {
   "cell_type": "code",
   "execution_count": 72,
   "metadata": {},
   "outputs": [],
   "source": [
    "#Total\n",
    "Parking_hour = Parking_sept.groupby('Hour',as_index = False).agg({'Parking_Time':'count'})\n",
    "Parking_hour.sort_values(by='Hour')\n",
    "Parking_hour.rename(columns={'Parking_Time':'N_cars'}, inplace=True)"
   ]
  },
  {
   "cell_type": "code",
   "execution_count": 73,
   "metadata": {},
   "outputs": [],
   "source": [
    "#Monday\n",
    "Parking_mon = Parking_sept[Parking_sept['DOW_l'] == 'Monday']\n",
    "Parking_mon = Parking_mon.groupby('Hour',as_index = False).agg({'Parking_Time':'count'})\n",
    "Parking_mon.sort_values(by='Hour')\n",
    "Parking_mon.rename(columns={'Parking_Time':'N_cars'}, inplace=True)"
   ]
  },
  {
   "cell_type": "code",
   "execution_count": 74,
   "metadata": {},
   "outputs": [],
   "source": [
    "#Tuesday\n",
    "Parking_tue = Parking_sept[Parking_sept['DOW_l'] == 'Tuesday']\n",
    "Parking_tue = Parking_tue.groupby('Hour',as_index = False).agg({'Parking_Time':'count'})\n",
    "Parking_tue.sort_values(by='Hour')\n",
    "Parking_tue.rename(columns={'Parking_Time':'N_cars'}, inplace=True)"
   ]
  },
  {
   "cell_type": "code",
   "execution_count": 75,
   "metadata": {},
   "outputs": [],
   "source": [
    "#Wednesday\n",
    "Parking_wed = Parking_sept[Parking_sept['DOW_l'] == 'Wednesday']\n",
    "Parking_wed = Parking_wed.groupby('Hour',as_index = False).agg({'Parking_Time':'count'})\n",
    "Parking_wed.sort_values(by='Hour')\n",
    "Parking_wed.rename(columns={'Parking_Time':'N_cars'}, inplace=True)"
   ]
  },
  {
   "cell_type": "code",
   "execution_count": 76,
   "metadata": {},
   "outputs": [],
   "source": [
    "#Thursday\n",
    "Parking_thr = Parking_sept[Parking_sept['DOW_l'] == 'Thursday']\n",
    "Parking_thr = Parking_thr.groupby('Hour',as_index = False).agg({'Parking_Time':'count'})\n",
    "Parking_thr.sort_values(by='Hour')\n",
    "Parking_thr.rename(columns={'Parking_Time':'N_cars'}, inplace=True)"
   ]
  },
  {
   "cell_type": "code",
   "execution_count": 77,
   "metadata": {},
   "outputs": [],
   "source": [
    "#Friday\n",
    "Parking_fri = Parking_sept[Parking_sept['DOW_l'] == 'Friday']\n",
    "Parking_fri = Parking_fri.groupby('Hour',as_index = False).agg({'Parking_Time':'count'})\n",
    "Parking_fri.sort_values(by='Hour')\n",
    "Parking_fri.rename(columns={'Parking_Time':'N_cars'}, inplace=True)"
   ]
  },
  {
   "cell_type": "code",
   "execution_count": 78,
   "metadata": {},
   "outputs": [],
   "source": [
    "#Saturday\n",
    "Parking_sat = Parking_sept[Parking_sept['DOW_l'] == 'Saturday']\n",
    "Parking_sat = Parking_sat.groupby('Hour',as_index = False).agg({'Parking_Time':'count'})\n",
    "Parking_sat.sort_values(by='Hour')\n",
    "Parking_sat.rename(columns={'Parking_Time':'N_cars'}, inplace=True)"
   ]
  },
  {
   "cell_type": "code",
   "execution_count": 79,
   "metadata": {},
   "outputs": [],
   "source": [
    "#Sunday\n",
    "Parking_sun = Parking_sept[Parking_sept['DOW_l'] == 'Sunday']\n",
    "Parking_sun = Parking_sun.groupby('Hour',as_index = False).agg({'Parking_Time':'count'})\n",
    "Parking_sun.sort_values(by='Hour')\n",
    "Parking_sun.rename(columns={'Parking_Time':'N_cars'}, inplace=True)"
   ]
  },
  {
   "cell_type": "markdown",
   "metadata": {},
   "source": [
    "#### AirTrain"
   ]
  },
  {
   "cell_type": "code",
   "execution_count": 80,
   "metadata": {},
   "outputs": [
    {
     "data": {
      "text/html": [
       "<div>\n",
       "<style scoped>\n",
       "    .dataframe tbody tr th:only-of-type {\n",
       "        vertical-align: middle;\n",
       "    }\n",
       "\n",
       "    .dataframe tbody tr th {\n",
       "        vertical-align: top;\n",
       "    }\n",
       "\n",
       "    .dataframe thead th {\n",
       "        text-align: right;\n",
       "    }\n",
       "</style>\n",
       "<table border=\"1\" class=\"dataframe\">\n",
       "  <thead>\n",
       "    <tr style=\"text-align: right;\">\n",
       "      <th></th>\n",
       "      <th>Date</th>\n",
       "      <th>Hour</th>\n",
       "      <th>TotalOff</th>\n",
       "      <th>DayOfWeek</th>\n",
       "      <th>Time Category</th>\n",
       "    </tr>\n",
       "  </thead>\n",
       "  <tbody>\n",
       "    <tr>\n",
       "      <th>81658</th>\n",
       "      <td>2021/9/1</td>\n",
       "      <td>0</td>\n",
       "      <td>50.0</td>\n",
       "      <td>Wednesday</td>\n",
       "      <td>Overnight</td>\n",
       "    </tr>\n",
       "    <tr>\n",
       "      <th>81659</th>\n",
       "      <td>2021/9/1</td>\n",
       "      <td>0</td>\n",
       "      <td>1.0</td>\n",
       "      <td>Wednesday</td>\n",
       "      <td>Overnight</td>\n",
       "    </tr>\n",
       "    <tr>\n",
       "      <th>81672</th>\n",
       "      <td>2021/9/1</td>\n",
       "      <td>1</td>\n",
       "      <td>22.0</td>\n",
       "      <td>Wednesday</td>\n",
       "      <td>Overnight</td>\n",
       "    </tr>\n",
       "    <tr>\n",
       "      <th>81673</th>\n",
       "      <td>2021/9/1</td>\n",
       "      <td>1</td>\n",
       "      <td>0.0</td>\n",
       "      <td>Wednesday</td>\n",
       "      <td>Overnight</td>\n",
       "    </tr>\n",
       "    <tr>\n",
       "      <th>81686</th>\n",
       "      <td>2021/9/1</td>\n",
       "      <td>2</td>\n",
       "      <td>18.0</td>\n",
       "      <td>Wednesday</td>\n",
       "      <td>Overnight</td>\n",
       "    </tr>\n",
       "  </tbody>\n",
       "</table>\n",
       "</div>"
      ],
      "text/plain": [
       "           Date  Hour  TotalOff  DayOfWeek Time Category\n",
       "81658  2021/9/1     0      50.0  Wednesday     Overnight\n",
       "81659  2021/9/1     0       1.0  Wednesday     Overnight\n",
       "81672  2021/9/1     1      22.0  Wednesday     Overnight\n",
       "81673  2021/9/1     1       0.0  Wednesday     Overnight\n",
       "81686  2021/9/1     2      18.0  Wednesday     Overnight"
      ]
     },
     "execution_count": 80,
     "metadata": {},
     "output_type": "execute_result"
    }
   ],
   "source": [
    "AT_sept.head()"
   ]
  },
  {
   "cell_type": "code",
   "execution_count": 81,
   "metadata": {},
   "outputs": [],
   "source": [
    "AT_sept.reset_index(inplace=True)"
   ]
  },
  {
   "cell_type": "code",
   "execution_count": 82,
   "metadata": {},
   "outputs": [
    {
     "data": {
      "text/html": [
       "<div>\n",
       "<style scoped>\n",
       "    .dataframe tbody tr th:only-of-type {\n",
       "        vertical-align: middle;\n",
       "    }\n",
       "\n",
       "    .dataframe tbody tr th {\n",
       "        vertical-align: top;\n",
       "    }\n",
       "\n",
       "    .dataframe thead th {\n",
       "        text-align: right;\n",
       "    }\n",
       "</style>\n",
       "<table border=\"1\" class=\"dataframe\">\n",
       "  <thead>\n",
       "    <tr style=\"text-align: right;\">\n",
       "      <th></th>\n",
       "      <th>index</th>\n",
       "      <th>Date</th>\n",
       "      <th>Hour</th>\n",
       "      <th>TotalOff</th>\n",
       "      <th>DayOfWeek</th>\n",
       "      <th>Time Category</th>\n",
       "    </tr>\n",
       "  </thead>\n",
       "  <tbody>\n",
       "    <tr>\n",
       "      <th>0</th>\n",
       "      <td>81658</td>\n",
       "      <td>2021/9/1</td>\n",
       "      <td>0</td>\n",
       "      <td>50.0</td>\n",
       "      <td>Wednesday</td>\n",
       "      <td>Overnight</td>\n",
       "    </tr>\n",
       "    <tr>\n",
       "      <th>1</th>\n",
       "      <td>81659</td>\n",
       "      <td>2021/9/1</td>\n",
       "      <td>0</td>\n",
       "      <td>1.0</td>\n",
       "      <td>Wednesday</td>\n",
       "      <td>Overnight</td>\n",
       "    </tr>\n",
       "    <tr>\n",
       "      <th>2</th>\n",
       "      <td>81672</td>\n",
       "      <td>2021/9/1</td>\n",
       "      <td>1</td>\n",
       "      <td>22.0</td>\n",
       "      <td>Wednesday</td>\n",
       "      <td>Overnight</td>\n",
       "    </tr>\n",
       "    <tr>\n",
       "      <th>3</th>\n",
       "      <td>81673</td>\n",
       "      <td>2021/9/1</td>\n",
       "      <td>1</td>\n",
       "      <td>0.0</td>\n",
       "      <td>Wednesday</td>\n",
       "      <td>Overnight</td>\n",
       "    </tr>\n",
       "    <tr>\n",
       "      <th>4</th>\n",
       "      <td>81686</td>\n",
       "      <td>2021/9/1</td>\n",
       "      <td>2</td>\n",
       "      <td>18.0</td>\n",
       "      <td>Wednesday</td>\n",
       "      <td>Overnight</td>\n",
       "    </tr>\n",
       "  </tbody>\n",
       "</table>\n",
       "</div>"
      ],
      "text/plain": [
       "   index      Date  Hour  TotalOff  DayOfWeek Time Category\n",
       "0  81658  2021/9/1     0      50.0  Wednesday     Overnight\n",
       "1  81659  2021/9/1     0       1.0  Wednesday     Overnight\n",
       "2  81672  2021/9/1     1      22.0  Wednesday     Overnight\n",
       "3  81673  2021/9/1     1       0.0  Wednesday     Overnight\n",
       "4  81686  2021/9/1     2      18.0  Wednesday     Overnight"
      ]
     },
     "execution_count": 82,
     "metadata": {},
     "output_type": "execute_result"
    }
   ],
   "source": [
    "AT_sept.head()"
   ]
  },
  {
   "cell_type": "code",
   "execution_count": 83,
   "metadata": {},
   "outputs": [],
   "source": [
    "#Total\n",
    "AT_hour = AT_sept.groupby('Hour',as_index = False).agg({'TotalOff':'sum'})\n",
    "AT_hour.sort_values(by='Hour')\n",
    "AT_hour.rename(columns={'TotalOff':'N_passengers'}, inplace=True)"
   ]
  },
  {
   "cell_type": "code",
   "execution_count": 84,
   "metadata": {},
   "outputs": [],
   "source": [
    "#Monday\n",
    "AT_mon = AT_sept[AT_sept['DayOfWeek'] == 'Monday']\n",
    "AT_mon = AT_mon.groupby('Hour',as_index = False).agg({'TotalOff':'sum'})\n",
    "AT_mon.sort_values(by='Hour')\n",
    "AT_mon.rename(columns={'TotalOff':'N_passengers'}, inplace=True)"
   ]
  },
  {
   "cell_type": "code",
   "execution_count": 85,
   "metadata": {},
   "outputs": [],
   "source": [
    "#Tuesday\n",
    "AT_tue = AT_sept[AT_sept['DayOfWeek'] == 'Tuesday']\n",
    "AT_tue = AT_tue.groupby('Hour',as_index = False).agg({'TotalOff':'sum'})\n",
    "AT_tue.sort_values(by='Hour')\n",
    "AT_tue.rename(columns={'TotalOff':'N_passengers'}, inplace=True)"
   ]
  },
  {
   "cell_type": "code",
   "execution_count": 86,
   "metadata": {},
   "outputs": [],
   "source": [
    "#Wednesday\n",
    "AT_wed = AT_sept[AT_sept['DayOfWeek'] == 'Wednesday']\n",
    "AT_wed = AT_wed.groupby('Hour',as_index = False).agg({'TotalOff':'sum'})\n",
    "AT_wed.sort_values(by='Hour')\n",
    "AT_wed.rename(columns={'TotalOff':'N_passengers'}, inplace=True)"
   ]
  },
  {
   "cell_type": "code",
   "execution_count": 87,
   "metadata": {},
   "outputs": [],
   "source": [
    "#Thurday\n",
    "AT_thr = AT_sept[AT_sept['DayOfWeek'] == 'Thursday']\n",
    "AT_thr = AT_thr.groupby('Hour',as_index = False).agg({'TotalOff':'sum'})\n",
    "AT_thr.sort_values(by='Hour')\n",
    "AT_thr.rename(columns={'TotalOff':'N_passengers'}, inplace=True)"
   ]
  },
  {
   "cell_type": "code",
   "execution_count": 88,
   "metadata": {},
   "outputs": [],
   "source": [
    "#Friday\n",
    "AT_fri = AT_sept[AT_sept['DayOfWeek'] == 'Friday']\n",
    "AT_fri = AT_fri.groupby('Hour',as_index = False).agg({'TotalOff':'sum'})\n",
    "AT_fri.sort_values(by='Hour')\n",
    "AT_fri.rename(columns={'TotalOff':'N_passengers'}, inplace=True)"
   ]
  },
  {
   "cell_type": "code",
   "execution_count": 89,
   "metadata": {},
   "outputs": [],
   "source": [
    "#Saturday\n",
    "AT_sat = AT_sept[AT_sept['DayOfWeek'] == 'Saturday']\n",
    "AT_sat = AT_sat.groupby('Hour',as_index = False).agg({'TotalOff':'sum'})\n",
    "AT_sat.sort_values(by='Hour')\n",
    "AT_sat.rename(columns={'TotalOff':'N_passengers'}, inplace=True)"
   ]
  },
  {
   "cell_type": "code",
   "execution_count": 90,
   "metadata": {},
   "outputs": [],
   "source": [
    "#Sunday\n",
    "AT_sun = AT_sept[AT_sept['DayOfWeek'] == 'Sunday']\n",
    "AT_sun = AT_sun.groupby('Hour',as_index = False).agg({'TotalOff':'sum'})\n",
    "AT_sun.sort_values(by='Hour')\n",
    "AT_sun.rename(columns={'TotalOff':'N_passengers'}, inplace=True)"
   ]
  },
  {
   "cell_type": "markdown",
   "metadata": {},
   "source": [
    "#### TNC"
   ]
  },
  {
   "cell_type": "code",
   "execution_count": 91,
   "metadata": {},
   "outputs": [
    {
     "data": {
      "text/html": [
       "<div>\n",
       "<style scoped>\n",
       "    .dataframe tbody tr th:only-of-type {\n",
       "        vertical-align: middle;\n",
       "    }\n",
       "\n",
       "    .dataframe tbody tr th {\n",
       "        vertical-align: top;\n",
       "    }\n",
       "\n",
       "    .dataframe thead th {\n",
       "        text-align: right;\n",
       "    }\n",
       "</style>\n",
       "<table border=\"1\" class=\"dataframe\">\n",
       "  <thead>\n",
       "    <tr style=\"text-align: right;\">\n",
       "      <th></th>\n",
       "      <th>Dispatch Id</th>\n",
       "      <th>TNC_Arrival_Time</th>\n",
       "      <th>Date</th>\n",
       "      <th>Month</th>\n",
       "      <th>Time</th>\n",
       "      <th>Hour</th>\n",
       "      <th>Time Category</th>\n",
       "      <th>DOW</th>\n",
       "      <th>DOW_l</th>\n",
       "    </tr>\n",
       "  </thead>\n",
       "  <tbody>\n",
       "    <tr>\n",
       "      <th>279259</th>\n",
       "      <td>[B@2128e7c2</td>\n",
       "      <td>2021-09-01 05:01:00</td>\n",
       "      <td>2021-09-01</td>\n",
       "      <td>9</td>\n",
       "      <td>05:01</td>\n",
       "      <td>5</td>\n",
       "      <td>Overnight</td>\n",
       "      <td>2</td>\n",
       "      <td>Wednesday</td>\n",
       "    </tr>\n",
       "    <tr>\n",
       "      <th>123148</th>\n",
       "      <td>[B@4ab7654e</td>\n",
       "      <td>2021-09-01 05:01:00</td>\n",
       "      <td>2021-09-01</td>\n",
       "      <td>9</td>\n",
       "      <td>05:01</td>\n",
       "      <td>5</td>\n",
       "      <td>Overnight</td>\n",
       "      <td>2</td>\n",
       "      <td>Wednesday</td>\n",
       "    </tr>\n",
       "    <tr>\n",
       "      <th>287856</th>\n",
       "      <td>[B@2adb3f00</td>\n",
       "      <td>2021-09-01 05:01:00</td>\n",
       "      <td>2021-09-01</td>\n",
       "      <td>9</td>\n",
       "      <td>05:01</td>\n",
       "      <td>5</td>\n",
       "      <td>Overnight</td>\n",
       "      <td>2</td>\n",
       "      <td>Wednesday</td>\n",
       "    </tr>\n",
       "    <tr>\n",
       "      <th>143302</th>\n",
       "      <td>[B@f63c0ff</td>\n",
       "      <td>2021-09-01 05:02:00</td>\n",
       "      <td>2021-09-01</td>\n",
       "      <td>9</td>\n",
       "      <td>05:02</td>\n",
       "      <td>5</td>\n",
       "      <td>Overnight</td>\n",
       "      <td>2</td>\n",
       "      <td>Wednesday</td>\n",
       "    </tr>\n",
       "    <tr>\n",
       "      <th>48232</th>\n",
       "      <td>[B@700602a0</td>\n",
       "      <td>2021-09-01 05:02:00</td>\n",
       "      <td>2021-09-01</td>\n",
       "      <td>9</td>\n",
       "      <td>05:02</td>\n",
       "      <td>5</td>\n",
       "      <td>Overnight</td>\n",
       "      <td>2</td>\n",
       "      <td>Wednesday</td>\n",
       "    </tr>\n",
       "  </tbody>\n",
       "</table>\n",
       "</div>"
      ],
      "text/plain": [
       "        Dispatch Id    TNC_Arrival_Time        Date  Month   Time  Hour  \\\n",
       "279259  [B@2128e7c2 2021-09-01 05:01:00  2021-09-01      9  05:01     5   \n",
       "123148  [B@4ab7654e 2021-09-01 05:01:00  2021-09-01      9  05:01     5   \n",
       "287856  [B@2adb3f00 2021-09-01 05:01:00  2021-09-01      9  05:01     5   \n",
       "143302   [B@f63c0ff 2021-09-01 05:02:00  2021-09-01      9  05:02     5   \n",
       "48232   [B@700602a0 2021-09-01 05:02:00  2021-09-01      9  05:02     5   \n",
       "\n",
       "       Time Category  DOW      DOW_l  \n",
       "279259     Overnight    2  Wednesday  \n",
       "123148     Overnight    2  Wednesday  \n",
       "287856     Overnight    2  Wednesday  \n",
       "143302     Overnight    2  Wednesday  \n",
       "48232      Overnight    2  Wednesday  "
      ]
     },
     "execution_count": 91,
     "metadata": {},
     "output_type": "execute_result"
    }
   ],
   "source": [
    "TNC_sept.head()"
   ]
  },
  {
   "cell_type": "code",
   "execution_count": 92,
   "metadata": {},
   "outputs": [],
   "source": [
    "#Total\n",
    "TNC_hour = TNC_sept.groupby('Hour',as_index = False).agg({'Dispatch Id':'count'})\n",
    "TNC_hour.sort_values(by='Hour')\n",
    "TNC_hour.rename(columns={'Dispatch Id':'N_fhv'}, inplace=True)"
   ]
  },
  {
   "cell_type": "code",
   "execution_count": 93,
   "metadata": {},
   "outputs": [],
   "source": [
    "#Monday\n",
    "TNC_mon = TNC_sept[TNC_sept['DOW_l'] == 'Monday']\n",
    "TNC_mon = TNC_mon.groupby('Hour',as_index = False).agg({'Dispatch Id':'count'})\n",
    "TNC_mon.sort_values(by='Hour')\n",
    "TNC_mon.rename(columns={'Dispatch Id':'N_fhv'}, inplace=True)"
   ]
  },
  {
   "cell_type": "code",
   "execution_count": 94,
   "metadata": {},
   "outputs": [],
   "source": [
    "#Tuesday\n",
    "TNC_tue = TNC_sept[TNC_sept['DOW_l'] == 'Tuesday']\n",
    "TNC_tue = TNC_tue.groupby('Hour',as_index = False).agg({'Dispatch Id':'count'})\n",
    "TNC_tue.sort_values(by='Hour')\n",
    "TNC_tue.rename(columns={'Dispatch Id':'N_fhv'}, inplace=True)"
   ]
  },
  {
   "cell_type": "code",
   "execution_count": 95,
   "metadata": {},
   "outputs": [],
   "source": [
    "#Wednesday\n",
    "TNC_wed = TNC_sept[TNC_sept['DOW_l'] == 'Wednesday']\n",
    "TNC_wed = TNC_wed.groupby('Hour',as_index = False).agg({'Dispatch Id':'count'})\n",
    "TNC_wed.sort_values(by='Hour')\n",
    "TNC_wed.rename(columns={'Dispatch Id':'N_fhv'}, inplace=True)"
   ]
  },
  {
   "cell_type": "code",
   "execution_count": 96,
   "metadata": {},
   "outputs": [],
   "source": [
    "#Thursday\n",
    "TNC_thr = TNC_sept[TNC_sept['DOW_l'] == 'Thursday']\n",
    "TNC_thr = TNC_thr.groupby('Hour',as_index = False).agg({'Dispatch Id':'count'})\n",
    "TNC_thr.sort_values(by='Hour')\n",
    "TNC_thr.rename(columns={'Dispatch Id':'N_fhv'}, inplace=True)"
   ]
  },
  {
   "cell_type": "code",
   "execution_count": 97,
   "metadata": {},
   "outputs": [],
   "source": [
    "#Friday\n",
    "TNC_fri = TNC_sept[TNC_sept['DOW_l'] == 'Friday']\n",
    "TNC_fri = TNC_fri.groupby('Hour',as_index = False).agg({'Dispatch Id':'count'})\n",
    "TNC_fri.sort_values(by='Hour')\n",
    "TNC_fri.rename(columns={'Dispatch Id':'N_fhv'}, inplace=True)"
   ]
  },
  {
   "cell_type": "code",
   "execution_count": 98,
   "metadata": {},
   "outputs": [],
   "source": [
    "#Saturday\n",
    "TNC_sat = TNC_sept[TNC_sept['DOW_l'] == 'Saturday']\n",
    "TNC_sat = TNC_sat.groupby('Hour',as_index = False).agg({'Dispatch Id':'count'})\n",
    "TNC_sat.sort_values(by='Hour')\n",
    "TNC_sat.rename(columns={'Dispatch Id':'N_fhv'}, inplace=True)"
   ]
  },
  {
   "cell_type": "code",
   "execution_count": 99,
   "metadata": {},
   "outputs": [],
   "source": [
    "#Sunday\n",
    "TNC_sun = TNC_sept[TNC_sept['DOW_l'] == 'Sunday']\n",
    "TNC_sun = TNC_sun.groupby('Hour',as_index = False).agg({'Dispatch Id':'count'})\n",
    "TNC_sun.sort_values(by='Hour')\n",
    "TNC_sun.rename(columns={'Dispatch Id':'N_fhv'}, inplace=True)"
   ]
  },
  {
   "cell_type": "markdown",
   "metadata": {},
   "source": [
    "### Merging by Day of the Week"
   ]
  },
  {
   "cell_type": "code",
   "execution_count": 100,
   "metadata": {},
   "outputs": [],
   "source": [
    "from functools import reduce"
   ]
  },
  {
   "cell_type": "code",
   "execution_count": 101,
   "metadata": {},
   "outputs": [],
   "source": [
    "#monday\n",
    "data_frames_mon = [Con_mon, Parking_mon, AT_mon,TNC_mon]\n",
    "mon_merged = reduce(lambda  left,right: pd.merge(left,right,on=['Hour'],how='inner'), data_frames_mon).fillna('0')"
   ]
  },
  {
   "cell_type": "code",
   "execution_count": 102,
   "metadata": {},
   "outputs": [],
   "source": [
    "#tuesday\n",
    "data_frames_tue = [Con_tue, Parking_tue, AT_tue,TNC_tue]\n",
    "tue_merged = reduce(lambda  left,right: pd.merge(left,right,on=['Hour'],how='inner'), data_frames_tue).fillna('0')"
   ]
  },
  {
   "cell_type": "code",
   "execution_count": 103,
   "metadata": {},
   "outputs": [],
   "source": [
    "#wednesday \n",
    "data_frames_wed = [Con_wed, Parking_wed, AT_wed,TNC_wed]\n",
    "wed_merged = reduce(lambda  left,right: pd.merge(left,right,on=['Hour'],how='inner'), data_frames_wed).fillna('0')"
   ]
  },
  {
   "cell_type": "code",
   "execution_count": 104,
   "metadata": {},
   "outputs": [],
   "source": [
    "#thursday \n",
    "data_frames_thr = [Con_thr, Parking_thr, AT_thr,TNC_thr]\n",
    "thr_merged = reduce(lambda  left,right: pd.merge(left,right,on=['Hour'],how='inner'), data_frames_thr).fillna('0')"
   ]
  },
  {
   "cell_type": "code",
   "execution_count": 105,
   "metadata": {},
   "outputs": [],
   "source": [
    "#friday \n",
    "data_frames_fri = [Con_fri, Parking_fri, AT_fri,TNC_fri]\n",
    "fri_merged = reduce(lambda  left,right: pd.merge(left,right,on=['Hour'],how='inner'), data_frames_fri).fillna('0')"
   ]
  },
  {
   "cell_type": "code",
   "execution_count": 106,
   "metadata": {},
   "outputs": [],
   "source": [
    "#saturday \n",
    "data_frames_sat = [Con_sat, Parking_sat, AT_sat,TNC_sat]\n",
    "sat_merged = reduce(lambda  left,right: pd.merge(left,right,on=['Hour'],how='inner'), data_frames_sat).fillna('0')"
   ]
  },
  {
   "cell_type": "code",
   "execution_count": 107,
   "metadata": {},
   "outputs": [],
   "source": [
    "#sunday \n",
    "data_frames_sun = [Con_sun, Parking_sun, AT_sun,TNC_sun]\n",
    "sun_merged = reduce(lambda  left,right: pd.merge(left,right,on=['Hour'],how='inner'), data_frames_sun).fillna('0')"
   ]
  },
  {
   "cell_type": "code",
   "execution_count": 108,
   "metadata": {},
   "outputs": [],
   "source": [
    "#total \n",
    "data_frames_tot = [Con_hour,Parking_hour,AT_hour,TNC_hour]\n",
    "tot_merged = reduce(lambda  left,right: pd.merge(left,right,on=['Hour'],how='inner'), data_frames_tot).fillna('0')"
   ]
  },
  {
   "cell_type": "code",
   "execution_count": 109,
   "metadata": {},
   "outputs": [
    {
     "data": {
      "text/html": [
       "<div>\n",
       "<style scoped>\n",
       "    .dataframe tbody tr th:only-of-type {\n",
       "        vertical-align: middle;\n",
       "    }\n",
       "\n",
       "    .dataframe tbody tr th {\n",
       "        vertical-align: top;\n",
       "    }\n",
       "\n",
       "    .dataframe thead th {\n",
       "        text-align: right;\n",
       "    }\n",
       "</style>\n",
       "<table border=\"1\" class=\"dataframe\">\n",
       "  <thead>\n",
       "    <tr style=\"text-align: right;\">\n",
       "      <th></th>\n",
       "      <th>Hour</th>\n",
       "      <th>Seats</th>\n",
       "      <th>N_flights</th>\n",
       "      <th>Flight Distance</th>\n",
       "      <th>N_cars</th>\n",
       "      <th>N_passengers</th>\n",
       "      <th>N_fhv</th>\n",
       "    </tr>\n",
       "  </thead>\n",
       "  <tbody>\n",
       "    <tr>\n",
       "      <th>0</th>\n",
       "      <td>0</td>\n",
       "      <td>186</td>\n",
       "      <td>1</td>\n",
       "      <td>1608.000000</td>\n",
       "      <td>192</td>\n",
       "      <td>268.0</td>\n",
       "      <td>24</td>\n",
       "    </tr>\n",
       "    <tr>\n",
       "      <th>1</th>\n",
       "      <td>5</td>\n",
       "      <td>456</td>\n",
       "      <td>2</td>\n",
       "      <td>1001.000000</td>\n",
       "      <td>1346</td>\n",
       "      <td>1124.0</td>\n",
       "      <td>1650</td>\n",
       "    </tr>\n",
       "    <tr>\n",
       "      <th>2</th>\n",
       "      <td>6</td>\n",
       "      <td>3358</td>\n",
       "      <td>19</td>\n",
       "      <td>966.789474</td>\n",
       "      <td>1880</td>\n",
       "      <td>1230.0</td>\n",
       "      <td>1572</td>\n",
       "    </tr>\n",
       "    <tr>\n",
       "      <th>3</th>\n",
       "      <td>7</td>\n",
       "      <td>1056</td>\n",
       "      <td>7</td>\n",
       "      <td>1475.142857</td>\n",
       "      <td>1631</td>\n",
       "      <td>727.0</td>\n",
       "      <td>1473</td>\n",
       "    </tr>\n",
       "    <tr>\n",
       "      <th>4</th>\n",
       "      <td>8</td>\n",
       "      <td>1951</td>\n",
       "      <td>11</td>\n",
       "      <td>1111.090909</td>\n",
       "      <td>1489</td>\n",
       "      <td>699.0</td>\n",
       "      <td>1654</td>\n",
       "    </tr>\n",
       "  </tbody>\n",
       "</table>\n",
       "</div>"
      ],
      "text/plain": [
       "   Hour  Seats  N_flights  Flight Distance  N_cars  N_passengers  N_fhv\n",
       "0     0    186          1      1608.000000     192         268.0     24\n",
       "1     5    456          2      1001.000000    1346        1124.0   1650\n",
       "2     6   3358         19       966.789474    1880        1230.0   1572\n",
       "3     7   1056          7      1475.142857    1631         727.0   1473\n",
       "4     8   1951         11      1111.090909    1489         699.0   1654"
      ]
     },
     "execution_count": 109,
     "metadata": {},
     "output_type": "execute_result"
    }
   ],
   "source": [
    "mon_merged.head()"
   ]
  },
  {
   "cell_type": "markdown",
   "metadata": {},
   "source": [
    "### Visualization"
   ]
  },
  {
   "cell_type": "code",
   "execution_count": 110,
   "metadata": {},
   "outputs": [
    {
     "data": {
      "image/png": "[encoded data removed]",
      "text/plain": [
       "<matplotlib.figure.Figure at 0x7fd7b9591f28>"
      ]
     },
     "metadata": {
      "needs_background": "light"
     },
     "output_type": "display_data"
    }
   ],
   "source": [
    "colors=['darkblue', 'gold', 'lightseagreen','lightskyblue']\n",
    "\n",
    "tot_merged.plot(x=\"Hour\", y=[\"Seats\", \"N_cars\",\"N_passengers\",'N_fhv'],kind=\"line\", figsize=(17, 6),color=colors)\n",
    "\n",
    "plt.title(\"Total\")\n",
    "plt.show()"
   ]
  },
  {
   "cell_type": "code",
   "execution_count": 111,
   "metadata": {},
   "outputs": [
    {
     "data": {
      "image/png": "[encoded data removed]",
      "text/plain": [
       "<matplotlib.figure.Figure at 0x7fd7b95ff978>"
      ]
     },
     "metadata": {
      "needs_background": "light"
     },
     "output_type": "display_data"
    }
   ],
   "source": [
    "tot_merged.plot(x=\"Hour\", y=[\"Seats\",\"N_cars\",\"N_passengers\",'N_fhv'],kind=\"bar\", figsize=(17, 6))\n",
    "\n",
    "plt.show()"
   ]
  },
  {
   "cell_type": "code",
   "execution_count": 112,
   "metadata": {},
   "outputs": [
    {
     "data": {
      "image/png": "[encoded data removed]",
      "text/plain": [
       "<matplotlib.figure.Figure at 0x7fd7b95e80f0>"
      ]
     },
     "metadata": {
      "needs_background": "light"
     },
     "output_type": "display_data"
    }
   ],
   "source": [
    "mon_merged.plot(x=\"Hour\", y=[\"Seats\", \"N_cars\",\"N_passengers\",'N_fhv'],kind=\"line\", figsize=(17, 6),color=colors)\n",
    "colors=['darkblue', 'gold', 'lightseagreen','lightskyblue']\n",
    "plt.ylim(0, 7000)\n",
    "\n",
    "plt.title(\"Monday\")\n",
    "plt.show()"
   ]
  },
  {
   "cell_type": "code",
   "execution_count": 113,
   "metadata": {},
   "outputs": [
    {
     "data": {
      "image/png": "[encoded data removed]",
      "text/plain": [
       "<matplotlib.figure.Figure at 0x7fd7b95d3668>"
      ]
     },
     "metadata": {
      "needs_background": "light"
     },
     "output_type": "display_data"
    }
   ],
   "source": [
    "tue_merged.plot(x=\"Hour\", y=[\"Seats\", \"N_cars\",\"N_passengers\",'N_fhv'],kind=\"line\", figsize=(17, 6),color=colors)\n",
    "colors=['darkblue', 'gold', 'lightseagreen','lightskyblue']\n",
    "plt.ylim(0, 7000)\n",
    "plt.title(\"Tuesday\")\n",
    "plt.show()"
   ]
  },
  {
   "cell_type": "code",
   "execution_count": 114,
   "metadata": {},
   "outputs": [
    {
     "data": {
      "image/png": "[encoded data removed]",
      "text/plain": [
       "<matplotlib.figure.Figure at 0x7fd7b95cb2e8>"
      ]
     },
     "metadata": {
      "needs_background": "light"
     },
     "output_type": "display_data"
    }
   ],
   "source": [
    "wed_merged.plot(x=\"Hour\", y=[\"Seats\", \"N_cars\",\"N_passengers\",'N_fhv'],kind=\"line\", figsize=(17, 6),color=colors)\n",
    "colors=['darkblue', 'gold', 'lightseagreen','lightskyblue']\n",
    "plt.ylim(0, 7000)\n",
    "plt.title(\"Wednesday\")\n",
    "plt.show()"
   ]
  },
  {
   "cell_type": "code",
   "execution_count": 115,
   "metadata": {},
   "outputs": [
    {
     "data": {
      "image/png": "[encoded data removed]",
      "text/plain": [
       "<matplotlib.figure.Figure at 0x7fd7b9637fd0>"
      ]
     },
     "metadata": {
      "needs_background": "light"
     },
     "output_type": "display_data"
    }
   ],
   "source": [
    "thr_merged.plot(x=\"Hour\", y=[\"Seats\", \"N_cars\",\"N_passengers\",'N_fhv'],kind=\"line\", figsize=(17, 6),color=colors)\n",
    "colors=['darkblue', 'gold', 'lightseagreen','lightskyblue']\n",
    "plt.ylim(0, 7000)\n",
    "plt.title(\"Thursday\")\n",
    "plt.show()"
   ]
  },
  {
   "cell_type": "code",
   "execution_count": 116,
   "metadata": {},
   "outputs": [
    {
     "data": {
      "image/png": "[encoded data removed]",
      "text/plain": [
       "<matplotlib.figure.Figure at 0x7fd7b96190b8>"
      ]
     },
     "metadata": {
      "needs_background": "light"
     },
     "output_type": "display_data"
    }
   ],
   "source": [
    "fri_merged.plot(x=\"Hour\", y=[\"Seats\", \"N_cars\",\"N_passengers\",'N_fhv'],kind=\"line\", figsize=(17, 6),color=colors)\n",
    "colors=['darkblue', 'gold', 'lightseagreen','lightskyblue']\n",
    "plt.ylim(0, 7000)\n",
    "plt.title(\"Friday\")\n",
    "plt.show()"
   ]
  },
  {
   "cell_type": "code",
   "execution_count": 117,
   "metadata": {},
   "outputs": [
    {
     "data": {
      "image/png": "[encoded data removed]",
      "text/plain": [
       "<matplotlib.figure.Figure at 0x7fd7b967a358>"
      ]
     },
     "metadata": {
      "needs_background": "light"
     },
     "output_type": "display_data"
    }
   ],
   "source": [
    "sat_merged.plot(x=\"Hour\", y=[\"Seats\", \"N_cars\",\"N_passengers\",'N_fhv'],kind=\"line\", figsize=(17, 6),color=colors)\n",
    "colors=['darkblue', 'gold', 'lightseagreen','lightskyblue']\n",
    "plt.ylim(0, 7000)\n",
    "plt.title(\"Saturday\")\n",
    "plt.show()"
   ]
  },
  {
   "cell_type": "code",
   "execution_count": 118,
   "metadata": {},
   "outputs": [
    {
     "data": {
      "image/png": "[encoded data removed]",
      "text/plain": [
       "<matplotlib.figure.Figure at 0x7fd7b9675080>"
      ]
     },
     "metadata": {
      "needs_background": "light"
     },
     "output_type": "display_data"
    }
   ],
   "source": [
    "sun_merged.plot(x=\"Hour\", y=[\"Seats\", \"N_cars\",\"N_passengers\",'N_fhv'],kind=\"line\", figsize=(17, 6),color=colors)\n",
    "colors=['darkblue', 'gold', 'lightseagreen','lightskyblue']\n",
    "plt.ylim(0, 7000)\n",
    "plt.title(\"Sunday\")\n",
    "plt.show()"
   ]
  },
  {
   "cell_type": "markdown",
   "metadata": {},
   "source": [
    "## By Concourse"
   ]
  },
  {
   "cell_type": "code",
   "execution_count": 119,
   "metadata": {},
   "outputs": [
    {
     "data": {
      "text/html": [
       "<div>\n",
       "<style scoped>\n",
       "    .dataframe tbody tr th:only-of-type {\n",
       "        vertical-align: middle;\n",
       "    }\n",
       "\n",
       "    .dataframe tbody tr th {\n",
       "        vertical-align: top;\n",
       "    }\n",
       "\n",
       "    .dataframe thead th {\n",
       "        text-align: right;\n",
       "    }\n",
       "</style>\n",
       "<table border=\"1\" class=\"dataframe\">\n",
       "  <thead>\n",
       "    <tr style=\"text-align: right;\">\n",
       "      <th></th>\n",
       "      <th>Id</th>\n",
       "      <th>Dept_Date_Time</th>\n",
       "      <th>Operating Airline Name</th>\n",
       "      <th>International Domestic</th>\n",
       "      <th>Flight Distance</th>\n",
       "      <th>Seats</th>\n",
       "      <th>Departure Concourse</th>\n",
       "      <th>Hour</th>\n",
       "      <th>Time Category</th>\n",
       "      <th>DOW</th>\n",
       "      <th>DOW_l</th>\n",
       "      <th>Month</th>\n",
       "    </tr>\n",
       "  </thead>\n",
       "  <tbody>\n",
       "    <tr>\n",
       "      <th>11255</th>\n",
       "      <td>302459807</td>\n",
       "      <td>2021-09-01 00:34:00</td>\n",
       "      <td>Frontier Airlines</td>\n",
       "      <td>Domestic</td>\n",
       "      <td>1608</td>\n",
       "      <td>186</td>\n",
       "      <td>B3</td>\n",
       "      <td>0</td>\n",
       "      <td>Overnight</td>\n",
       "      <td>2</td>\n",
       "      <td>Wednesday</td>\n",
       "      <td>9</td>\n",
       "    </tr>\n",
       "    <tr>\n",
       "      <th>11273</th>\n",
       "      <td>302464702</td>\n",
       "      <td>2021-09-01 05:00:00</td>\n",
       "      <td>Spirit Airlines</td>\n",
       "      <td>Domestic</td>\n",
       "      <td>1065</td>\n",
       "      <td>228</td>\n",
       "      <td>B3</td>\n",
       "      <td>5</td>\n",
       "      <td>Overnight</td>\n",
       "      <td>2</td>\n",
       "      <td>Wednesday</td>\n",
       "      <td>9</td>\n",
       "    </tr>\n",
       "    <tr>\n",
       "      <th>11280</th>\n",
       "      <td>302465672</td>\n",
       "      <td>2021-09-01 05:15:00</td>\n",
       "      <td>Spirit Airlines</td>\n",
       "      <td>Domestic</td>\n",
       "      <td>937</td>\n",
       "      <td>228</td>\n",
       "      <td>B3</td>\n",
       "      <td>5</td>\n",
       "      <td>Overnight</td>\n",
       "      <td>2</td>\n",
       "      <td>Wednesday</td>\n",
       "      <td>9</td>\n",
       "    </tr>\n",
       "    <tr>\n",
       "      <th>11241</th>\n",
       "      <td>302454821</td>\n",
       "      <td>2021-09-01 06:00:00</td>\n",
       "      <td>Delta Air Lines</td>\n",
       "      <td>Domestic</td>\n",
       "      <td>746</td>\n",
       "      <td>180</td>\n",
       "      <td>B1</td>\n",
       "      <td>6</td>\n",
       "      <td>Morning</td>\n",
       "      <td>2</td>\n",
       "      <td>Wednesday</td>\n",
       "      <td>9</td>\n",
       "    </tr>\n",
       "    <tr>\n",
       "      <th>11238</th>\n",
       "      <td>302453086</td>\n",
       "      <td>2021-09-01 06:10:00</td>\n",
       "      <td>Delta Air Lines</td>\n",
       "      <td>Domestic</td>\n",
       "      <td>488</td>\n",
       "      <td>180</td>\n",
       "      <td>B1</td>\n",
       "      <td>6</td>\n",
       "      <td>Morning</td>\n",
       "      <td>2</td>\n",
       "      <td>Wednesday</td>\n",
       "      <td>9</td>\n",
       "    </tr>\n",
       "  </tbody>\n",
       "</table>\n",
       "</div>"
      ],
      "text/plain": [
       "              Id      Dept_Date_Time Operating Airline Name  \\\n",
       "11255  302459807 2021-09-01 00:34:00      Frontier Airlines   \n",
       "11273  302464702 2021-09-01 05:00:00        Spirit Airlines   \n",
       "11280  302465672 2021-09-01 05:15:00        Spirit Airlines   \n",
       "11241  302454821 2021-09-01 06:00:00        Delta Air Lines   \n",
       "11238  302453086 2021-09-01 06:10:00        Delta Air Lines   \n",
       "\n",
       "      International Domestic  Flight Distance  Seats Departure Concourse  \\\n",
       "11255               Domestic             1608    186                  B3   \n",
       "11273               Domestic             1065    228                  B3   \n",
       "11280               Domestic              937    228                  B3   \n",
       "11241               Domestic              746    180                  B1   \n",
       "11238               Domestic              488    180                  B1   \n",
       "\n",
       "       Hour Time Category  DOW      DOW_l  Month  \n",
       "11255     0     Overnight    2  Wednesday      9  \n",
       "11273     5     Overnight    2  Wednesday      9  \n",
       "11280     5     Overnight    2  Wednesday      9  \n",
       "11241     6       Morning    2  Wednesday      9  \n",
       "11238     6       Morning    2  Wednesday      9  "
      ]
     },
     "execution_count": 119,
     "metadata": {},
     "output_type": "execute_result"
    }
   ],
   "source": [
    "Con_sept.head()"
   ]
  },
  {
   "cell_type": "code",
   "execution_count": 120,
   "metadata": {},
   "outputs": [
    {
     "data": {
      "text/html": [
       "<div>\n",
       "<style scoped>\n",
       "    .dataframe tbody tr th:only-of-type {\n",
       "        vertical-align: middle;\n",
       "    }\n",
       "\n",
       "    .dataframe tbody tr th {\n",
       "        vertical-align: top;\n",
       "    }\n",
       "\n",
       "    .dataframe thead th {\n",
       "        text-align: right;\n",
       "    }\n",
       "</style>\n",
       "<table border=\"1\" class=\"dataframe\">\n",
       "  <thead>\n",
       "    <tr style=\"text-align: right;\">\n",
       "      <th></th>\n",
       "      <th>Parking_Time</th>\n",
       "      <th>MM-DD</th>\n",
       "      <th>Day</th>\n",
       "      <th>Hour</th>\n",
       "      <th>DOW</th>\n",
       "      <th>DOW_l</th>\n",
       "      <th>Time Category</th>\n",
       "    </tr>\n",
       "  </thead>\n",
       "  <tbody>\n",
       "    <tr>\n",
       "      <th>0</th>\n",
       "      <td>2021-09-01 00:00:06</td>\n",
       "      <td>09-01</td>\n",
       "      <td>1</td>\n",
       "      <td>0</td>\n",
       "      <td>2</td>\n",
       "      <td>Wednesday</td>\n",
       "      <td>Overnight</td>\n",
       "    </tr>\n",
       "    <tr>\n",
       "      <th>1</th>\n",
       "      <td>2021-09-01 00:00:40</td>\n",
       "      <td>09-01</td>\n",
       "      <td>1</td>\n",
       "      <td>0</td>\n",
       "      <td>2</td>\n",
       "      <td>Wednesday</td>\n",
       "      <td>Overnight</td>\n",
       "    </tr>\n",
       "    <tr>\n",
       "      <th>2</th>\n",
       "      <td>2021-09-01 00:01:09</td>\n",
       "      <td>09-01</td>\n",
       "      <td>1</td>\n",
       "      <td>0</td>\n",
       "      <td>2</td>\n",
       "      <td>Wednesday</td>\n",
       "      <td>Overnight</td>\n",
       "    </tr>\n",
       "    <tr>\n",
       "      <th>3</th>\n",
       "      <td>2021-09-01 00:01:40</td>\n",
       "      <td>09-01</td>\n",
       "      <td>1</td>\n",
       "      <td>0</td>\n",
       "      <td>2</td>\n",
       "      <td>Wednesday</td>\n",
       "      <td>Overnight</td>\n",
       "    </tr>\n",
       "    <tr>\n",
       "      <th>4</th>\n",
       "      <td>2021-09-01 00:01:48</td>\n",
       "      <td>09-01</td>\n",
       "      <td>1</td>\n",
       "      <td>0</td>\n",
       "      <td>2</td>\n",
       "      <td>Wednesday</td>\n",
       "      <td>Overnight</td>\n",
       "    </tr>\n",
       "  </tbody>\n",
       "</table>\n",
       "</div>"
      ],
      "text/plain": [
       "         Parking_Time  MM-DD  Day  Hour  DOW      DOW_l Time Category\n",
       "0 2021-09-01 00:00:06  09-01    1     0    2  Wednesday     Overnight\n",
       "1 2021-09-01 00:00:40  09-01    1     0    2  Wednesday     Overnight\n",
       "2 2021-09-01 00:01:09  09-01    1     0    2  Wednesday     Overnight\n",
       "3 2021-09-01 00:01:40  09-01    1     0    2  Wednesday     Overnight\n",
       "4 2021-09-01 00:01:48  09-01    1     0    2  Wednesday     Overnight"
      ]
     },
     "execution_count": 120,
     "metadata": {},
     "output_type": "execute_result"
    }
   ],
   "source": [
    "Parking_sept.head()"
   ]
  },
  {
   "cell_type": "code",
   "execution_count": 121,
   "metadata": {},
   "outputs": [
    {
     "data": {
      "text/html": [
       "<div>\n",
       "<style scoped>\n",
       "    .dataframe tbody tr th:only-of-type {\n",
       "        vertical-align: middle;\n",
       "    }\n",
       "\n",
       "    .dataframe tbody tr th {\n",
       "        vertical-align: top;\n",
       "    }\n",
       "\n",
       "    .dataframe thead th {\n",
       "        text-align: right;\n",
       "    }\n",
       "</style>\n",
       "<table border=\"1\" class=\"dataframe\">\n",
       "  <thead>\n",
       "    <tr style=\"text-align: right;\">\n",
       "      <th></th>\n",
       "      <th>Dispatch Id</th>\n",
       "      <th>TNC_Arrival_Time</th>\n",
       "      <th>Date</th>\n",
       "      <th>Month</th>\n",
       "      <th>Time</th>\n",
       "      <th>Hour</th>\n",
       "      <th>Time Category</th>\n",
       "      <th>DOW</th>\n",
       "      <th>DOW_l</th>\n",
       "    </tr>\n",
       "  </thead>\n",
       "  <tbody>\n",
       "    <tr>\n",
       "      <th>279259</th>\n",
       "      <td>[B@2128e7c2</td>\n",
       "      <td>2021-09-01 05:01:00</td>\n",
       "      <td>2021-09-01</td>\n",
       "      <td>9</td>\n",
       "      <td>05:01</td>\n",
       "      <td>5</td>\n",
       "      <td>Overnight</td>\n",
       "      <td>2</td>\n",
       "      <td>Wednesday</td>\n",
       "    </tr>\n",
       "    <tr>\n",
       "      <th>123148</th>\n",
       "      <td>[B@4ab7654e</td>\n",
       "      <td>2021-09-01 05:01:00</td>\n",
       "      <td>2021-09-01</td>\n",
       "      <td>9</td>\n",
       "      <td>05:01</td>\n",
       "      <td>5</td>\n",
       "      <td>Overnight</td>\n",
       "      <td>2</td>\n",
       "      <td>Wednesday</td>\n",
       "    </tr>\n",
       "    <tr>\n",
       "      <th>287856</th>\n",
       "      <td>[B@2adb3f00</td>\n",
       "      <td>2021-09-01 05:01:00</td>\n",
       "      <td>2021-09-01</td>\n",
       "      <td>9</td>\n",
       "      <td>05:01</td>\n",
       "      <td>5</td>\n",
       "      <td>Overnight</td>\n",
       "      <td>2</td>\n",
       "      <td>Wednesday</td>\n",
       "    </tr>\n",
       "    <tr>\n",
       "      <th>143302</th>\n",
       "      <td>[B@f63c0ff</td>\n",
       "      <td>2021-09-01 05:02:00</td>\n",
       "      <td>2021-09-01</td>\n",
       "      <td>9</td>\n",
       "      <td>05:02</td>\n",
       "      <td>5</td>\n",
       "      <td>Overnight</td>\n",
       "      <td>2</td>\n",
       "      <td>Wednesday</td>\n",
       "    </tr>\n",
       "    <tr>\n",
       "      <th>48232</th>\n",
       "      <td>[B@700602a0</td>\n",
       "      <td>2021-09-01 05:02:00</td>\n",
       "      <td>2021-09-01</td>\n",
       "      <td>9</td>\n",
       "      <td>05:02</td>\n",
       "      <td>5</td>\n",
       "      <td>Overnight</td>\n",
       "      <td>2</td>\n",
       "      <td>Wednesday</td>\n",
       "    </tr>\n",
       "  </tbody>\n",
       "</table>\n",
       "</div>"
      ],
      "text/plain": [
       "        Dispatch Id    TNC_Arrival_Time        Date  Month   Time  Hour  \\\n",
       "279259  [B@2128e7c2 2021-09-01 05:01:00  2021-09-01      9  05:01     5   \n",
       "123148  [B@4ab7654e 2021-09-01 05:01:00  2021-09-01      9  05:01     5   \n",
       "287856  [B@2adb3f00 2021-09-01 05:01:00  2021-09-01      9  05:01     5   \n",
       "143302   [B@f63c0ff 2021-09-01 05:02:00  2021-09-01      9  05:02     5   \n",
       "48232   [B@700602a0 2021-09-01 05:02:00  2021-09-01      9  05:02     5   \n",
       "\n",
       "       Time Category  DOW      DOW_l  \n",
       "279259     Overnight    2  Wednesday  \n",
       "123148     Overnight    2  Wednesday  \n",
       "287856     Overnight    2  Wednesday  \n",
       "143302     Overnight    2  Wednesday  \n",
       "48232      Overnight    2  Wednesday  "
      ]
     },
     "execution_count": 121,
     "metadata": {},
     "output_type": "execute_result"
    }
   ],
   "source": [
    "TNC_sept.head()"
   ]
  },
  {
   "cell_type": "code",
   "execution_count": 122,
   "metadata": {},
   "outputs": [
    {
     "data": {
      "text/html": [
       "<div>\n",
       "<style scoped>\n",
       "    .dataframe tbody tr th:only-of-type {\n",
       "        vertical-align: middle;\n",
       "    }\n",
       "\n",
       "    .dataframe tbody tr th {\n",
       "        vertical-align: top;\n",
       "    }\n",
       "\n",
       "    .dataframe thead th {\n",
       "        text-align: right;\n",
       "    }\n",
       "</style>\n",
       "<table border=\"1\" class=\"dataframe\">\n",
       "  <thead>\n",
       "    <tr style=\"text-align: right;\">\n",
       "      <th></th>\n",
       "      <th>index</th>\n",
       "      <th>Date</th>\n",
       "      <th>Hour</th>\n",
       "      <th>TotalOff</th>\n",
       "      <th>DayOfWeek</th>\n",
       "      <th>Time Category</th>\n",
       "    </tr>\n",
       "  </thead>\n",
       "  <tbody>\n",
       "    <tr>\n",
       "      <th>0</th>\n",
       "      <td>81658</td>\n",
       "      <td>2021/9/1</td>\n",
       "      <td>0</td>\n",
       "      <td>50.0</td>\n",
       "      <td>Wednesday</td>\n",
       "      <td>Overnight</td>\n",
       "    </tr>\n",
       "    <tr>\n",
       "      <th>1</th>\n",
       "      <td>81659</td>\n",
       "      <td>2021/9/1</td>\n",
       "      <td>0</td>\n",
       "      <td>1.0</td>\n",
       "      <td>Wednesday</td>\n",
       "      <td>Overnight</td>\n",
       "    </tr>\n",
       "    <tr>\n",
       "      <th>2</th>\n",
       "      <td>81672</td>\n",
       "      <td>2021/9/1</td>\n",
       "      <td>1</td>\n",
       "      <td>22.0</td>\n",
       "      <td>Wednesday</td>\n",
       "      <td>Overnight</td>\n",
       "    </tr>\n",
       "    <tr>\n",
       "      <th>3</th>\n",
       "      <td>81673</td>\n",
       "      <td>2021/9/1</td>\n",
       "      <td>1</td>\n",
       "      <td>0.0</td>\n",
       "      <td>Wednesday</td>\n",
       "      <td>Overnight</td>\n",
       "    </tr>\n",
       "    <tr>\n",
       "      <th>4</th>\n",
       "      <td>81686</td>\n",
       "      <td>2021/9/1</td>\n",
       "      <td>2</td>\n",
       "      <td>18.0</td>\n",
       "      <td>Wednesday</td>\n",
       "      <td>Overnight</td>\n",
       "    </tr>\n",
       "  </tbody>\n",
       "</table>\n",
       "</div>"
      ],
      "text/plain": [
       "   index      Date  Hour  TotalOff  DayOfWeek Time Category\n",
       "0  81658  2021/9/1     0      50.0  Wednesday     Overnight\n",
       "1  81659  2021/9/1     0       1.0  Wednesday     Overnight\n",
       "2  81672  2021/9/1     1      22.0  Wednesday     Overnight\n",
       "3  81673  2021/9/1     1       0.0  Wednesday     Overnight\n",
       "4  81686  2021/9/1     2      18.0  Wednesday     Overnight"
      ]
     },
     "execution_count": 122,
     "metadata": {},
     "output_type": "execute_result"
    }
   ],
   "source": [
    "AT_sept.head()"
   ]
  },
  {
   "cell_type": "code",
   "execution_count": 123,
   "metadata": {},
   "outputs": [],
   "source": [
    "Con_cat = Con_sept.groupby('Time Category',as_index = False).agg({'Id':'sum'})\n",
    "Con_cat.rename(columns={'Id':'N_seats'}, inplace=True)"
   ]
  },
  {
   "cell_type": "code",
   "execution_count": 124,
   "metadata": {},
   "outputs": [
    {
     "data": {
      "text/html": [
       "<div>\n",
       "<style scoped>\n",
       "    .dataframe tbody tr th:only-of-type {\n",
       "        vertical-align: middle;\n",
       "    }\n",
       "\n",
       "    .dataframe tbody tr th {\n",
       "        vertical-align: top;\n",
       "    }\n",
       "\n",
       "    .dataframe thead th {\n",
       "        text-align: right;\n",
       "    }\n",
       "</style>\n",
       "<table border=\"1\" class=\"dataframe\">\n",
       "  <thead>\n",
       "    <tr style=\"text-align: right;\">\n",
       "      <th></th>\n",
       "      <th>Time Category</th>\n",
       "      <th>N_seats</th>\n",
       "    </tr>\n",
       "  </thead>\n",
       "  <tbody>\n",
       "    <tr>\n",
       "      <th>0</th>\n",
       "      <td>Afternoon</td>\n",
       "      <td>110872210821</td>\n",
       "    </tr>\n",
       "    <tr>\n",
       "      <th>1</th>\n",
       "      <td>Evening</td>\n",
       "      <td>140346195052</td>\n",
       "    </tr>\n",
       "    <tr>\n",
       "      <th>2</th>\n",
       "      <td>Morning</td>\n",
       "      <td>214132944889</td>\n",
       "    </tr>\n",
       "    <tr>\n",
       "      <th>3</th>\n",
       "      <td>Overnight</td>\n",
       "      <td>27426074738</td>\n",
       "    </tr>\n",
       "  </tbody>\n",
       "</table>\n",
       "</div>"
      ],
      "text/plain": [
       "  Time Category       N_seats\n",
       "0     Afternoon  110872210821\n",
       "1       Evening  140346195052\n",
       "2       Morning  214132944889\n",
       "3     Overnight   27426074738"
      ]
     },
     "execution_count": 124,
     "metadata": {},
     "output_type": "execute_result"
    }
   ],
   "source": [
    "Con_cat.head()"
   ]
  },
  {
   "cell_type": "code",
   "execution_count": 125,
   "metadata": {},
   "outputs": [],
   "source": [
    "Parking_cat = Parking_sept.groupby('Time Category',as_index = False).agg({'Parking_Time':'count'})\n",
    "Parking_cat.rename(columns={'Parking_Time':'N_cars'}, inplace=True)"
   ]
  },
  {
   "cell_type": "code",
   "execution_count": 126,
   "metadata": {},
   "outputs": [
    {
     "data": {
      "text/html": [
       "<div>\n",
       "<style scoped>\n",
       "    .dataframe tbody tr th:only-of-type {\n",
       "        vertical-align: middle;\n",
       "    }\n",
       "\n",
       "    .dataframe tbody tr th {\n",
       "        vertical-align: top;\n",
       "    }\n",
       "\n",
       "    .dataframe thead th {\n",
       "        text-align: right;\n",
       "    }\n",
       "</style>\n",
       "<table border=\"1\" class=\"dataframe\">\n",
       "  <thead>\n",
       "    <tr style=\"text-align: right;\">\n",
       "      <th></th>\n",
       "      <th>Time Category</th>\n",
       "      <th>N_cars</th>\n",
       "    </tr>\n",
       "  </thead>\n",
       "  <tbody>\n",
       "    <tr>\n",
       "      <th>0</th>\n",
       "      <td>Afternoon</td>\n",
       "      <td>48696</td>\n",
       "    </tr>\n",
       "    <tr>\n",
       "      <th>1</th>\n",
       "      <td>Evening</td>\n",
       "      <td>27623</td>\n",
       "    </tr>\n",
       "    <tr>\n",
       "      <th>2</th>\n",
       "      <td>Morning</td>\n",
       "      <td>72295</td>\n",
       "    </tr>\n",
       "    <tr>\n",
       "      <th>3</th>\n",
       "      <td>Overnight</td>\n",
       "      <td>29521</td>\n",
       "    </tr>\n",
       "  </tbody>\n",
       "</table>\n",
       "</div>"
      ],
      "text/plain": [
       "  Time Category  N_cars\n",
       "0     Afternoon   48696\n",
       "1       Evening   27623\n",
       "2       Morning   72295\n",
       "3     Overnight   29521"
      ]
     },
     "execution_count": 126,
     "metadata": {},
     "output_type": "execute_result"
    }
   ],
   "source": [
    "Parking_cat.head()"
   ]
  },
  {
   "cell_type": "code",
   "execution_count": 127,
   "metadata": {},
   "outputs": [],
   "source": [
    "TNC_cat = TNC_sept.groupby('Time Category',as_index = False).agg({'Dispatch Id':'count'})\n",
    "TNC_cat.rename(columns={'Dispatch Id':'N_fhv'}, inplace=True)"
   ]
  },
  {
   "cell_type": "code",
   "execution_count": 128,
   "metadata": {},
   "outputs": [
    {
     "data": {
      "text/html": [
       "<div>\n",
       "<style scoped>\n",
       "    .dataframe tbody tr th:only-of-type {\n",
       "        vertical-align: middle;\n",
       "    }\n",
       "\n",
       "    .dataframe tbody tr th {\n",
       "        vertical-align: top;\n",
       "    }\n",
       "\n",
       "    .dataframe thead th {\n",
       "        text-align: right;\n",
       "    }\n",
       "</style>\n",
       "<table border=\"1\" class=\"dataframe\">\n",
       "  <thead>\n",
       "    <tr style=\"text-align: right;\">\n",
       "      <th></th>\n",
       "      <th>Time Category</th>\n",
       "      <th>N_fhv</th>\n",
       "    </tr>\n",
       "  </thead>\n",
       "  <tbody>\n",
       "    <tr>\n",
       "      <th>0</th>\n",
       "      <td>Afternoon</td>\n",
       "      <td>36286</td>\n",
       "    </tr>\n",
       "    <tr>\n",
       "      <th>1</th>\n",
       "      <td>Evening</td>\n",
       "      <td>17728</td>\n",
       "    </tr>\n",
       "    <tr>\n",
       "      <th>2</th>\n",
       "      <td>Morning</td>\n",
       "      <td>59472</td>\n",
       "    </tr>\n",
       "    <tr>\n",
       "      <th>3</th>\n",
       "      <td>Overnight</td>\n",
       "      <td>19213</td>\n",
       "    </tr>\n",
       "  </tbody>\n",
       "</table>\n",
       "</div>"
      ],
      "text/plain": [
       "  Time Category  N_fhv\n",
       "0     Afternoon  36286\n",
       "1       Evening  17728\n",
       "2       Morning  59472\n",
       "3     Overnight  19213"
      ]
     },
     "execution_count": 128,
     "metadata": {},
     "output_type": "execute_result"
    }
   ],
   "source": [
    "TNC_cat.head()"
   ]
  },
  {
   "cell_type": "code",
   "execution_count": 129,
   "metadata": {},
   "outputs": [],
   "source": [
    "AT_cat = AT_sept.groupby('Time Category',as_index = False).agg({'TotalOff':'sum'})\n",
    "AT_cat.rename(columns={'TotalOff':'N_passengers'}, inplace=True)"
   ]
  },
  {
   "cell_type": "code",
   "execution_count": 130,
   "metadata": {},
   "outputs": [
    {
     "data": {
      "text/html": [
       "<div>\n",
       "<style scoped>\n",
       "    .dataframe tbody tr th:only-of-type {\n",
       "        vertical-align: middle;\n",
       "    }\n",
       "\n",
       "    .dataframe tbody tr th {\n",
       "        vertical-align: top;\n",
       "    }\n",
       "\n",
       "    .dataframe thead th {\n",
       "        text-align: right;\n",
       "    }\n",
       "</style>\n",
       "<table border=\"1\" class=\"dataframe\">\n",
       "  <thead>\n",
       "    <tr style=\"text-align: right;\">\n",
       "      <th></th>\n",
       "      <th>Time Category</th>\n",
       "      <th>N_passengers</th>\n",
       "    </tr>\n",
       "  </thead>\n",
       "  <tbody>\n",
       "    <tr>\n",
       "      <th>0</th>\n",
       "      <td>Afternoon</td>\n",
       "      <td>65368.0</td>\n",
       "    </tr>\n",
       "    <tr>\n",
       "      <th>1</th>\n",
       "      <td>Evening</td>\n",
       "      <td>25593.0</td>\n",
       "    </tr>\n",
       "    <tr>\n",
       "      <th>2</th>\n",
       "      <td>Morning</td>\n",
       "      <td>47435.0</td>\n",
       "    </tr>\n",
       "    <tr>\n",
       "      <th>3</th>\n",
       "      <td>Overnight</td>\n",
       "      <td>15945.0</td>\n",
       "    </tr>\n",
       "  </tbody>\n",
       "</table>\n",
       "</div>"
      ],
      "text/plain": [
       "  Time Category  N_passengers\n",
       "0     Afternoon       65368.0\n",
       "1       Evening       25593.0\n",
       "2       Morning       47435.0\n",
       "3     Overnight       15945.0"
      ]
     },
     "execution_count": 130,
     "metadata": {},
     "output_type": "execute_result"
    }
   ],
   "source": [
    "AT_cat.head()"
   ]
  },
  {
   "cell_type": "code",
   "execution_count": 131,
   "metadata": {},
   "outputs": [],
   "source": [
    "data_frames_cat = [Con_cat,Parking_cat,AT_cat,TNC_cat]\n",
    "cat_merged = reduce(lambda  left,right: pd.merge(left,right,on=['Time Category'],how='inner'), data_frames_cat).fillna('0')"
   ]
  },
  {
   "cell_type": "code",
   "execution_count": 132,
   "metadata": {},
   "outputs": [
    {
     "data": {
      "text/html": [
       "<div>\n",
       "<style scoped>\n",
       "    .dataframe tbody tr th:only-of-type {\n",
       "        vertical-align: middle;\n",
       "    }\n",
       "\n",
       "    .dataframe tbody tr th {\n",
       "        vertical-align: top;\n",
       "    }\n",
       "\n",
       "    .dataframe thead th {\n",
       "        text-align: right;\n",
       "    }\n",
       "</style>\n",
       "<table border=\"1\" class=\"dataframe\">\n",
       "  <thead>\n",
       "    <tr style=\"text-align: right;\">\n",
       "      <th></th>\n",
       "      <th>Time Category</th>\n",
       "      <th>N_seats</th>\n",
       "      <th>N_cars</th>\n",
       "      <th>N_passengers</th>\n",
       "      <th>N_fhv</th>\n",
       "    </tr>\n",
       "  </thead>\n",
       "  <tbody>\n",
       "    <tr>\n",
       "      <th>0</th>\n",
       "      <td>Afternoon</td>\n",
       "      <td>110872210821</td>\n",
       "      <td>48696</td>\n",
       "      <td>65368.0</td>\n",
       "      <td>36286</td>\n",
       "    </tr>\n",
       "    <tr>\n",
       "      <th>1</th>\n",
       "      <td>Evening</td>\n",
       "      <td>140346195052</td>\n",
       "      <td>27623</td>\n",
       "      <td>25593.0</td>\n",
       "      <td>17728</td>\n",
       "    </tr>\n",
       "    <tr>\n",
       "      <th>2</th>\n",
       "      <td>Morning</td>\n",
       "      <td>214132944889</td>\n",
       "      <td>72295</td>\n",
       "      <td>47435.0</td>\n",
       "      <td>59472</td>\n",
       "    </tr>\n",
       "    <tr>\n",
       "      <th>3</th>\n",
       "      <td>Overnight</td>\n",
       "      <td>27426074738</td>\n",
       "      <td>29521</td>\n",
       "      <td>15945.0</td>\n",
       "      <td>19213</td>\n",
       "    </tr>\n",
       "  </tbody>\n",
       "</table>\n",
       "</div>"
      ],
      "text/plain": [
       "  Time Category       N_seats  N_cars  N_passengers  N_fhv\n",
       "0     Afternoon  110872210821   48696       65368.0  36286\n",
       "1       Evening  140346195052   27623       25593.0  17728\n",
       "2       Morning  214132944889   72295       47435.0  59472\n",
       "3     Overnight   27426074738   29521       15945.0  19213"
      ]
     },
     "execution_count": 132,
     "metadata": {},
     "output_type": "execute_result"
    }
   ],
   "source": [
    "cat_merged.head()"
   ]
  },
  {
   "cell_type": "code",
   "execution_count": 156,
   "metadata": {},
   "outputs": [],
   "source": [
    "cats = ['Morning', 'Afternoon', 'Evening', 'Overnight']\n",
    "mapping = {cat: i for i, cat in enumerate(cats)}\n",
    "key = cat_merged['Time Category'].map(mapping)"
   ]
  },
  {
   "cell_type": "code",
   "execution_count": 160,
   "metadata": {},
   "outputs": [],
   "source": [
    "cat_merged = cat_merged.iloc[key.argsort()]"
   ]
  },
  {
   "cell_type": "code",
   "execution_count": 174,
   "metadata": {},
   "outputs": [
    {
     "data": {
      "image/png": "[encoded data removed]",
      "text/plain": [
       "<matplotlib.figure.Figure at 0x7fd7b967b208>"
      ]
     },
     "metadata": {
      "needs_background": "light"
     },
     "output_type": "display_data"
    }
   ],
   "source": [
    "\n",
    "\n",
    "\n",
    "colors=['gold', 'lightseagreen','lightskyblue']\n",
    "\n",
    "cat_merged.plot(x=\"Time Category\", y=[\"N_cars\",\"N_passengers\",'N_fhv'],kind=\"bar\", figsize=(10, 6),color=colors)\n",
    "plt.xticks(rotation = 0,size=14)\n",
    "plt.gca().get_legend().remove()\n",
    "\n",
    "plt.show()"
   ]
  },
  {
   "cell_type": "code",
   "execution_count": null,
   "metadata": {},
   "outputs": [],
   "source": []
  }
 ],
 "metadata": {
  "kernelspec": {
   "display_name": "PUI_Python3",
   "language": "python",
   "name": "pui2016_python3"
  },
  "language_info": {
   "codemirror_mode": {
    "name": "ipython",
    "version": 3
   },
   "file_extension": ".py",
   "mimetype": "text/x-python",
   "name": "python",
   "nbconvert_exporter": "python",
   "pygments_lexer": "ipython3",
   "version": "3.5.4"
  }
 },
 "nbformat": 4,
 "nbformat_minor": 2
}
