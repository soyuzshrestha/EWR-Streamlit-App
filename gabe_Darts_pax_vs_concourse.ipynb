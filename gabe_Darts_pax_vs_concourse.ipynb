{
  "cells": [
    {
      "cell_type": "markdown",
      "source": [
        "## Install Packages"
      ],
      "metadata": {
        "id": "euExaXaAbnk2"
      }
    },
    {
      "cell_type": "code",
      "execution_count": 1,
      "metadata": {
        "id": "BVQI-UsT_wPT"
      },
      "outputs": [],
      "source": [
        "# !pip install cloud-tpu-client==0.10 https://storage.googleapis.com/tpu-pytorch/wheels/torch_xla-1.9-cp37-cp37m-linux_x86_64.whl\n",
        "# !pip install torch==1.9.0+cu111 torchvision==0.10.0+cu111 torchtext==0.10.0 -f https://download.pytorch.org/whl/cu111/torch_stable.html\n",
        "# !pip install 'u8darts[torch]==0.17.1'\n",
        "# !pip install pyyaml==5.4.1"
      ]
    },
    {
      "cell_type": "code",
      "execution_count": 2,
      "metadata": {
        "colab": {
          "base_uri": "https://localhost:8080/",
          "height": 0
        },
        "id": "2wbsSD_x2SKt",
        "outputId": "7b7970b7-6915-489e-ae53-5945373632b0"
      },
      "outputs": [
        {
          "output_type": "stream",
          "name": "stdout",
          "text": [
            "Looking in indexes: https://pypi.org/simple, https://us-python.pkg.dev/colab-wheels/public/simple/\n",
            "Collecting darts\n",
            "  Downloading darts-0.20.0-py3-none-any.whl (400 kB)\n",
            "\u001b[K     |████████████████████████████████| 400 kB 8.2 MB/s \n",
            "\u001b[?25hCollecting pytorch-lightning>=1.5.0\n",
            "  Downloading pytorch_lightning-1.6.5-py3-none-any.whl (585 kB)\n",
            "\u001b[K     |████████████████████████████████| 585 kB 5.4 MB/s \n",
            "\u001b[?25hRequirement already satisfied: pandas>=1.0.5 in /usr/local/lib/python3.7/dist-packages (from darts) (1.3.5)\n",
            "Requirement already satisfied: tqdm>=4.60.0 in /usr/local/lib/python3.7/dist-packages (from darts) (4.64.0)\n",
            "Requirement already satisfied: numpy>=1.19.0 in /usr/local/lib/python3.7/dist-packages (from darts) (1.21.6)\n",
            "Collecting statsforecast>=0.5.2\n",
            "  Downloading statsforecast-0.7.0-py3-none-any.whl (45 kB)\n",
            "\u001b[K     |████████████████████████████████| 45 kB 4.0 MB/s \n",
            "\u001b[?25hCollecting tbats>=1.1.0\n",
            "  Downloading tbats-1.1.0-py3-none-any.whl (43 kB)\n",
            "\u001b[K     |████████████████████████████████| 43 kB 2.9 MB/s \n",
            "\u001b[?25hRequirement already satisfied: lightgbm>=2.2.3 in /usr/local/lib/python3.7/dist-packages (from darts) (2.2.3)\n",
            "Requirement already satisfied: torch>=1.8.0 in /usr/local/lib/python3.7/dist-packages (from darts) (1.12.0+cu113)\n",
            "Collecting ipython>=7.0.0\n",
            "  Downloading ipython-7.34.0-py3-none-any.whl (793 kB)\n",
            "\u001b[K     |████████████████████████████████| 793 kB 55.1 MB/s \n",
            "\u001b[?25hRequirement already satisfied: scikit-learn>=1.0.1 in /usr/local/lib/python3.7/dist-packages (from darts) (1.0.2)\n",
            "Collecting matplotlib>=3.3.0\n",
            "  Downloading matplotlib-3.5.2-cp37-cp37m-manylinux_2_5_x86_64.manylinux1_x86_64.whl (11.2 MB)\n",
            "\u001b[K     |████████████████████████████████| 11.2 MB 52.6 MB/s \n",
            "\u001b[?25hCollecting holidays>=0.11.1\n",
            "  Downloading holidays-0.14.2-py3-none-any.whl (179 kB)\n",
            "\u001b[K     |████████████████████████████████| 179 kB 51.3 MB/s \n",
            "\u001b[?25hCollecting nfoursid>=1.0.0\n",
            "  Downloading nfoursid-1.0.1-py3-none-any.whl (16 kB)\n",
            "Requirement already satisfied: joblib>=0.16.0 in /usr/local/lib/python3.7/dist-packages (from darts) (1.1.0)\n",
            "Requirement already satisfied: xarray>=0.17.0 in /usr/local/lib/python3.7/dist-packages (from darts) (0.20.2)\n",
            "Requirement already satisfied: requests>=2.22.0 in /usr/local/lib/python3.7/dist-packages (from darts) (2.23.0)\n",
            "Collecting statsmodels>=0.13.0\n",
            "  Downloading statsmodels-0.13.2-cp37-cp37m-manylinux_2_17_x86_64.manylinux2014_x86_64.whl (9.8 MB)\n",
            "\u001b[K     |████████████████████████████████| 9.8 MB 48.7 MB/s \n",
            "\u001b[?25hCollecting pmdarima>=1.8.0\n",
            "  Downloading pmdarima-1.8.5-cp37-cp37m-manylinux_2_17_x86_64.manylinux2014_x86_64.manylinux_2_24_x86_64.whl (1.4 MB)\n",
            "\u001b[K     |████████████████████████████████| 1.4 MB 60.5 MB/s \n",
            "\u001b[?25hRequirement already satisfied: scipy>=1.3.2 in /usr/local/lib/python3.7/dist-packages (from darts) (1.7.3)\n",
            "Requirement already satisfied: convertdate>=2.3.0 in /usr/local/lib/python3.7/dist-packages (from holidays>=0.11.1->darts) (2.4.0)\n",
            "Requirement already satisfied: korean-lunar-calendar in /usr/local/lib/python3.7/dist-packages (from holidays>=0.11.1->darts) (0.2.1)\n",
            "Requirement already satisfied: hijri-converter in /usr/local/lib/python3.7/dist-packages (from holidays>=0.11.1->darts) (2.2.4)\n",
            "Requirement already satisfied: python-dateutil in /usr/local/lib/python3.7/dist-packages (from holidays>=0.11.1->darts) (2.8.2)\n",
            "Requirement already satisfied: pymeeus<=1,>=0.3.13 in /usr/local/lib/python3.7/dist-packages (from convertdate>=2.3.0->holidays>=0.11.1->darts) (0.5.11)\n",
            "Requirement already satisfied: pygments in /usr/local/lib/python3.7/dist-packages (from ipython>=7.0.0->darts) (2.6.1)\n",
            "Collecting prompt-toolkit!=3.0.0,!=3.0.1,<3.1.0,>=2.0.0\n",
            "  Downloading prompt_toolkit-3.0.30-py3-none-any.whl (381 kB)\n",
            "\u001b[K     |████████████████████████████████| 381 kB 68.4 MB/s \n",
            "\u001b[?25hRequirement already satisfied: pexpect>4.3 in /usr/local/lib/python3.7/dist-packages (from ipython>=7.0.0->darts) (4.8.0)\n",
            "Requirement already satisfied: traitlets>=4.2 in /usr/local/lib/python3.7/dist-packages (from ipython>=7.0.0->darts) (5.1.1)\n",
            "Requirement already satisfied: decorator in /usr/local/lib/python3.7/dist-packages (from ipython>=7.0.0->darts) (4.4.2)\n",
            "Requirement already satisfied: backcall in /usr/local/lib/python3.7/dist-packages (from ipython>=7.0.0->darts) (0.2.0)\n",
            "Requirement already satisfied: pickleshare in /usr/local/lib/python3.7/dist-packages (from ipython>=7.0.0->darts) (0.7.5)\n",
            "Requirement already satisfied: matplotlib-inline in /usr/local/lib/python3.7/dist-packages (from ipython>=7.0.0->darts) (0.1.3)\n",
            "Requirement already satisfied: setuptools>=18.5 in /usr/local/lib/python3.7/dist-packages (from ipython>=7.0.0->darts) (57.4.0)\n",
            "Requirement already satisfied: jedi>=0.16 in /usr/local/lib/python3.7/dist-packages (from ipython>=7.0.0->darts) (0.18.1)\n",
            "Requirement already satisfied: parso<0.9.0,>=0.8.0 in /usr/local/lib/python3.7/dist-packages (from jedi>=0.16->ipython>=7.0.0->darts) (0.8.3)\n",
            "Requirement already satisfied: packaging>=20.0 in /usr/local/lib/python3.7/dist-packages (from matplotlib>=3.3.0->darts) (21.3)\n",
            "Requirement already satisfied: cycler>=0.10 in /usr/local/lib/python3.7/dist-packages (from matplotlib>=3.3.0->darts) (0.11.0)\n",
            "Requirement already satisfied: kiwisolver>=1.0.1 in /usr/local/lib/python3.7/dist-packages (from matplotlib>=3.3.0->darts) (1.4.4)\n",
            "Collecting fonttools>=4.22.0\n",
            "  Downloading fonttools-4.34.4-py3-none-any.whl (944 kB)\n",
            "\u001b[K     |████████████████████████████████| 944 kB 66.2 MB/s \n",
            "\u001b[?25hRequirement already satisfied: pillow>=6.2.0 in /usr/local/lib/python3.7/dist-packages (from matplotlib>=3.3.0->darts) (7.1.2)\n",
            "Requirement already satisfied: pyparsing>=2.2.1 in /usr/local/lib/python3.7/dist-packages (from matplotlib>=3.3.0->darts) (3.0.9)\n",
            "Requirement already satisfied: typing-extensions in /usr/local/lib/python3.7/dist-packages (from kiwisolver>=1.0.1->matplotlib>=3.3.0->darts) (4.1.1)\n",
            "Requirement already satisfied: pytz>=2017.3 in /usr/local/lib/python3.7/dist-packages (from pandas>=1.0.5->darts) (2022.1)\n",
            "Requirement already satisfied: ptyprocess>=0.5 in /usr/local/lib/python3.7/dist-packages (from pexpect>4.3->ipython>=7.0.0->darts) (0.7.0)\n",
            "Requirement already satisfied: Cython!=0.29.18,>=0.29 in /usr/local/lib/python3.7/dist-packages (from pmdarima>=1.8.0->darts) (0.29.30)\n",
            "Requirement already satisfied: urllib3 in /usr/local/lib/python3.7/dist-packages (from pmdarima>=1.8.0->darts) (1.24.3)\n",
            "Requirement already satisfied: wcwidth in /usr/local/lib/python3.7/dist-packages (from prompt-toolkit!=3.0.0,!=3.0.1,<3.1.0,>=2.0.0->ipython>=7.0.0->darts) (0.2.5)\n",
            "Requirement already satisfied: six>=1.5 in /usr/local/lib/python3.7/dist-packages (from python-dateutil->holidays>=0.11.1->darts) (1.15.0)\n",
            "Requirement already satisfied: protobuf<=3.20.1 in /usr/local/lib/python3.7/dist-packages (from pytorch-lightning>=1.5.0->darts) (3.17.3)\n",
            "Collecting pyDeprecate>=0.3.1\n",
            "  Downloading pyDeprecate-0.3.2-py3-none-any.whl (10 kB)\n",
            "Collecting torchmetrics>=0.4.1\n",
            "  Downloading torchmetrics-0.9.2-py3-none-any.whl (419 kB)\n",
            "\u001b[K     |████████████████████████████████| 419 kB 69.6 MB/s \n",
            "\u001b[?25hRequirement already satisfied: tensorboard>=2.2.0 in /usr/local/lib/python3.7/dist-packages (from pytorch-lightning>=1.5.0->darts) (2.8.0)\n",
            "Collecting fsspec[http]!=2021.06.0,>=2021.05.0\n",
            "  Downloading fsspec-2022.5.0-py3-none-any.whl (140 kB)\n",
            "\u001b[K     |████████████████████████████████| 140 kB 67.9 MB/s \n",
            "\u001b[?25hCollecting PyYAML>=5.4\n",
            "  Downloading PyYAML-6.0-cp37-cp37m-manylinux_2_5_x86_64.manylinux1_x86_64.manylinux_2_12_x86_64.manylinux2010_x86_64.whl (596 kB)\n",
            "\u001b[K     |████████████████████████████████| 596 kB 50.7 MB/s \n",
            "\u001b[?25hCollecting aiohttp\n",
            "  Downloading aiohttp-3.8.1-cp37-cp37m-manylinux_2_5_x86_64.manylinux1_x86_64.manylinux_2_12_x86_64.manylinux2010_x86_64.whl (1.1 MB)\n",
            "\u001b[K     |████████████████████████████████| 1.1 MB 61.0 MB/s \n",
            "\u001b[?25hRequirement already satisfied: chardet<4,>=3.0.2 in /usr/local/lib/python3.7/dist-packages (from requests>=2.22.0->darts) (3.0.4)\n",
            "Requirement already satisfied: idna<3,>=2.5 in /usr/local/lib/python3.7/dist-packages (from requests>=2.22.0->darts) (2.10)\n",
            "Requirement already satisfied: certifi>=2017.4.17 in /usr/local/lib/python3.7/dist-packages (from requests>=2.22.0->darts) (2022.6.15)\n",
            "Requirement already satisfied: threadpoolctl>=2.0.0 in /usr/local/lib/python3.7/dist-packages (from scikit-learn>=1.0.1->darts) (3.1.0)\n",
            "Requirement already satisfied: numba in /usr/local/lib/python3.7/dist-packages (from statsforecast>=0.5.2->darts) (0.51.2)\n",
            "Requirement already satisfied: patsy>=0.5.2 in /usr/local/lib/python3.7/dist-packages (from statsmodels>=0.13.0->darts) (0.5.2)\n",
            "Requirement already satisfied: absl-py>=0.4 in /usr/local/lib/python3.7/dist-packages (from tensorboard>=2.2.0->pytorch-lightning>=1.5.0->darts) (1.2.0)\n",
            "Requirement already satisfied: grpcio>=1.24.3 in /usr/local/lib/python3.7/dist-packages (from tensorboard>=2.2.0->pytorch-lightning>=1.5.0->darts) (1.47.0)\n",
            "Requirement already satisfied: tensorboard-data-server<0.7.0,>=0.6.0 in /usr/local/lib/python3.7/dist-packages (from tensorboard>=2.2.0->pytorch-lightning>=1.5.0->darts) (0.6.1)\n",
            "Requirement already satisfied: google-auth-oauthlib<0.5,>=0.4.1 in /usr/local/lib/python3.7/dist-packages (from tensorboard>=2.2.0->pytorch-lightning>=1.5.0->darts) (0.4.6)\n",
            "Requirement already satisfied: tensorboard-plugin-wit>=1.6.0 in /usr/local/lib/python3.7/dist-packages (from tensorboard>=2.2.0->pytorch-lightning>=1.5.0->darts) (1.8.1)\n",
            "Requirement already satisfied: werkzeug>=0.11.15 in /usr/local/lib/python3.7/dist-packages (from tensorboard>=2.2.0->pytorch-lightning>=1.5.0->darts) (1.0.1)\n",
            "Requirement already satisfied: markdown>=2.6.8 in /usr/local/lib/python3.7/dist-packages (from tensorboard>=2.2.0->pytorch-lightning>=1.5.0->darts) (3.4.1)\n",
            "Requirement already satisfied: google-auth<3,>=1.6.3 in /usr/local/lib/python3.7/dist-packages (from tensorboard>=2.2.0->pytorch-lightning>=1.5.0->darts) (1.35.0)\n",
            "Requirement already satisfied: wheel>=0.26 in /usr/local/lib/python3.7/dist-packages (from tensorboard>=2.2.0->pytorch-lightning>=1.5.0->darts) (0.37.1)\n",
            "Requirement already satisfied: cachetools<5.0,>=2.0.0 in /usr/local/lib/python3.7/dist-packages (from google-auth<3,>=1.6.3->tensorboard>=2.2.0->pytorch-lightning>=1.5.0->darts) (4.2.4)\n",
            "Requirement already satisfied: rsa<5,>=3.1.4 in /usr/local/lib/python3.7/dist-packages (from google-auth<3,>=1.6.3->tensorboard>=2.2.0->pytorch-lightning>=1.5.0->darts) (4.8)\n",
            "Requirement already satisfied: pyasn1-modules>=0.2.1 in /usr/local/lib/python3.7/dist-packages (from google-auth<3,>=1.6.3->tensorboard>=2.2.0->pytorch-lightning>=1.5.0->darts) (0.2.8)\n",
            "Requirement already satisfied: requests-oauthlib>=0.7.0 in /usr/local/lib/python3.7/dist-packages (from google-auth-oauthlib<0.5,>=0.4.1->tensorboard>=2.2.0->pytorch-lightning>=1.5.0->darts) (1.3.1)\n",
            "Requirement already satisfied: importlib-metadata>=4.4 in /usr/local/lib/python3.7/dist-packages (from markdown>=2.6.8->tensorboard>=2.2.0->pytorch-lightning>=1.5.0->darts) (4.12.0)\n",
            "Requirement already satisfied: zipp>=0.5 in /usr/local/lib/python3.7/dist-packages (from importlib-metadata>=4.4->markdown>=2.6.8->tensorboard>=2.2.0->pytorch-lightning>=1.5.0->darts) (3.8.1)\n",
            "Requirement already satisfied: pyasn1<0.5.0,>=0.4.6 in /usr/local/lib/python3.7/dist-packages (from pyasn1-modules>=0.2.1->google-auth<3,>=1.6.3->tensorboard>=2.2.0->pytorch-lightning>=1.5.0->darts) (0.4.8)\n",
            "Requirement already satisfied: oauthlib>=3.0.0 in /usr/local/lib/python3.7/dist-packages (from requests-oauthlib>=0.7.0->google-auth-oauthlib<0.5,>=0.4.1->tensorboard>=2.2.0->pytorch-lightning>=1.5.0->darts) (3.2.0)\n",
            "Collecting yarl<2.0,>=1.0\n",
            "  Downloading yarl-1.7.2-cp37-cp37m-manylinux_2_5_x86_64.manylinux1_x86_64.manylinux_2_12_x86_64.manylinux2010_x86_64.whl (271 kB)\n",
            "\u001b[K     |████████████████████████████████| 271 kB 73.2 MB/s \n",
            "\u001b[?25hCollecting frozenlist>=1.1.1\n",
            "  Downloading frozenlist-1.3.0-cp37-cp37m-manylinux_2_5_x86_64.manylinux1_x86_64.manylinux_2_17_x86_64.manylinux2014_x86_64.whl (144 kB)\n",
            "\u001b[K     |████████████████████████████████| 144 kB 69.8 MB/s \n",
            "\u001b[?25hRequirement already satisfied: attrs>=17.3.0 in /usr/local/lib/python3.7/dist-packages (from aiohttp->fsspec[http]!=2021.06.0,>=2021.05.0->pytorch-lightning>=1.5.0->darts) (21.4.0)\n",
            "Collecting async-timeout<5.0,>=4.0.0a3\n",
            "  Downloading async_timeout-4.0.2-py3-none-any.whl (5.8 kB)\n",
            "Collecting multidict<7.0,>=4.5\n",
            "  Downloading multidict-6.0.2-cp37-cp37m-manylinux_2_17_x86_64.manylinux2014_x86_64.whl (94 kB)\n",
            "\u001b[K     |████████████████████████████████| 94 kB 4.2 MB/s \n",
            "\u001b[?25hRequirement already satisfied: charset-normalizer<3.0,>=2.0 in /usr/local/lib/python3.7/dist-packages (from aiohttp->fsspec[http]!=2021.06.0,>=2021.05.0->pytorch-lightning>=1.5.0->darts) (2.1.0)\n",
            "Collecting aiosignal>=1.1.2\n",
            "  Downloading aiosignal-1.2.0-py3-none-any.whl (8.2 kB)\n",
            "Collecting asynctest==0.13.0\n",
            "  Downloading asynctest-0.13.0-py3-none-any.whl (26 kB)\n",
            "Requirement already satisfied: llvmlite<0.35,>=0.34.0.dev0 in /usr/local/lib/python3.7/dist-packages (from numba->statsforecast>=0.5.2->darts) (0.34.0)\n",
            "Installing collected packages: multidict, frozenlist, yarl, asynctest, async-timeout, aiosignal, statsmodels, fsspec, fonttools, aiohttp, torchmetrics, PyYAML, pyDeprecate, prompt-toolkit, pmdarima, matplotlib, tbats, statsforecast, pytorch-lightning, nfoursid, ipython, holidays, darts\n",
            "  Attempting uninstall: statsmodels\n",
            "    Found existing installation: statsmodels 0.10.2\n",
            "    Uninstalling statsmodels-0.10.2:\n",
            "      Successfully uninstalled statsmodels-0.10.2\n",
            "  Attempting uninstall: PyYAML\n",
            "    Found existing installation: PyYAML 3.13\n",
            "    Uninstalling PyYAML-3.13:\n",
            "      Successfully uninstalled PyYAML-3.13\n",
            "  Attempting uninstall: prompt-toolkit\n",
            "    Found existing installation: prompt-toolkit 1.0.18\n",
            "    Uninstalling prompt-toolkit-1.0.18:\n",
            "      Successfully uninstalled prompt-toolkit-1.0.18\n",
            "  Attempting uninstall: matplotlib\n",
            "    Found existing installation: matplotlib 3.2.2\n",
            "    Uninstalling matplotlib-3.2.2:\n",
            "      Successfully uninstalled matplotlib-3.2.2\n",
            "  Attempting uninstall: ipython\n",
            "    Found existing installation: ipython 5.5.0\n",
            "    Uninstalling ipython-5.5.0:\n",
            "      Successfully uninstalled ipython-5.5.0\n",
            "  Attempting uninstall: holidays\n",
            "    Found existing installation: holidays 0.10.5.2\n",
            "    Uninstalling holidays-0.10.5.2:\n",
            "      Successfully uninstalled holidays-0.10.5.2\n",
            "\u001b[31mERROR: pip's dependency resolver does not currently take into account all the packages that are installed. This behaviour is the source of the following dependency conflicts.\n",
            "jupyter-console 5.2.0 requires prompt-toolkit<2.0.0,>=1.0.0, but you have prompt-toolkit 3.0.30 which is incompatible.\n",
            "google-colab 1.0.0 requires ipython~=5.5.0, but you have ipython 7.34.0 which is incompatible.\n",
            "albumentations 0.1.12 requires imgaug<0.2.7,>=0.2.5, but you have imgaug 0.2.9 which is incompatible.\u001b[0m\n",
            "Successfully installed PyYAML-6.0 aiohttp-3.8.1 aiosignal-1.2.0 async-timeout-4.0.2 asynctest-0.13.0 darts-0.20.0 fonttools-4.34.4 frozenlist-1.3.0 fsspec-2022.5.0 holidays-0.14.2 ipython-7.34.0 matplotlib-3.5.2 multidict-6.0.2 nfoursid-1.0.1 pmdarima-1.8.5 prompt-toolkit-3.0.30 pyDeprecate-0.3.2 pytorch-lightning-1.6.5 statsforecast-0.7.0 statsmodels-0.13.2 tbats-1.1.0 torchmetrics-0.9.2 yarl-1.7.2\n"
          ]
        },
        {
          "output_type": "display_data",
          "data": {
            "application/vnd.colab-display-data+json": {
              "pip_warning": {
                "packages": [
                  "IPython",
                  "matplotlib",
                  "mpl_toolkits",
                  "prompt_toolkit"
                ]
              }
            }
          },
          "metadata": {}
        }
      ],
      "source": [
        "!pip install darts\n",
        "import warnings\n",
        "warnings.filterwarnings(\"ignore\")"
      ]
    },
    {
      "cell_type": "code",
      "execution_count": 3,
      "metadata": {
        "id": "-haHyU4Muqcb"
      },
      "outputs": [],
      "source": [
        "#Set up proper environment"
      ]
    },
    {
      "cell_type": "code",
      "execution_count": 4,
      "metadata": {
        "colab": {
          "base_uri": "https://localhost:8080/"
        },
        "id": "NGKulL8Louj3",
        "outputId": "4f7909fc-035f-4484-c2ea-0a3089b1f68d"
      },
      "outputs": [
        {
          "output_type": "stream",
          "name": "stdout",
          "text": [
            "Looking in indexes: https://pypi.org/simple, https://us-python.pkg.dev/colab-wheels/public/simple/\n",
            "Collecting pyyaml==5.4.1\n",
            "  Downloading PyYAML-5.4.1-cp37-cp37m-manylinux1_x86_64.whl (636 kB)\n",
            "\u001b[K     |████████████████████████████████| 636 kB 6.8 MB/s \n",
            "\u001b[?25hInstalling collected packages: pyyaml\n",
            "  Attempting uninstall: pyyaml\n",
            "    Found existing installation: PyYAML 6.0\n",
            "    Uninstalling PyYAML-6.0:\n",
            "      Successfully uninstalled PyYAML-6.0\n",
            "Successfully installed pyyaml-5.4.1\n"
          ]
        }
      ],
      "source": [
        "!pip install pyyaml==5.4.1"
      ]
    },
    {
      "cell_type": "code",
      "execution_count": 5,
      "metadata": {
        "colab": {
          "base_uri": "https://localhost:8080/",
          "height": 0
        },
        "id": "QhWabYJO84Ha",
        "outputId": "ccfa73f8-2408-44c5-935e-f7eed7c9105a"
      },
      "outputs": [
        {
          "output_type": "stream",
          "name": "stdout",
          "text": [
            "Looking in indexes: https://pypi.org/simple, https://us-python.pkg.dev/colab-wheels/public/simple/\n",
            "Collecting matplotlib==3.1.3\n",
            "  Downloading matplotlib-3.1.3-cp37-cp37m-manylinux1_x86_64.whl (13.1 MB)\n",
            "\u001b[K     |████████████████████████████████| 13.1 MB 7.4 MB/s \n",
            "\u001b[?25hRequirement already satisfied: pyparsing!=2.0.4,!=2.1.2,!=2.1.6,>=2.0.1 in /usr/local/lib/python3.7/dist-packages (from matplotlib==3.1.3) (3.0.9)\n",
            "Requirement already satisfied: cycler>=0.10 in /usr/local/lib/python3.7/dist-packages (from matplotlib==3.1.3) (0.11.0)\n",
            "Requirement already satisfied: python-dateutil>=2.1 in /usr/local/lib/python3.7/dist-packages (from matplotlib==3.1.3) (2.8.2)\n",
            "Requirement already satisfied: numpy>=1.11 in /usr/local/lib/python3.7/dist-packages (from matplotlib==3.1.3) (1.21.6)\n",
            "Requirement already satisfied: kiwisolver>=1.0.1 in /usr/local/lib/python3.7/dist-packages (from matplotlib==3.1.3) (1.4.4)\n",
            "Requirement already satisfied: typing-extensions in /usr/local/lib/python3.7/dist-packages (from kiwisolver>=1.0.1->matplotlib==3.1.3) (4.1.1)\n",
            "Requirement already satisfied: six>=1.5 in /usr/local/lib/python3.7/dist-packages (from python-dateutil>=2.1->matplotlib==3.1.3) (1.15.0)\n",
            "Installing collected packages: matplotlib\n",
            "  Attempting uninstall: matplotlib\n",
            "    Found existing installation: matplotlib 3.5.2\n",
            "    Uninstalling matplotlib-3.5.2:\n",
            "      Successfully uninstalled matplotlib-3.5.2\n",
            "\u001b[31mERROR: pip's dependency resolver does not currently take into account all the packages that are installed. This behaviour is the source of the following dependency conflicts.\n",
            "nfoursid 1.0.1 requires matplotlib>=3.3, but you have matplotlib 3.1.3 which is incompatible.\n",
            "darts 0.20.0 requires matplotlib>=3.3.0, but you have matplotlib 3.1.3 which is incompatible.\n",
            "albumentations 0.1.12 requires imgaug<0.2.7,>=0.2.5, but you have imgaug 0.2.9 which is incompatible.\u001b[0m\n",
            "Successfully installed matplotlib-3.1.3\n"
          ]
        },
        {
          "output_type": "display_data",
          "data": {
            "application/vnd.colab-display-data+json": {
              "pip_warning": {
                "packages": [
                  "matplotlib",
                  "mpl_toolkits"
                ]
              }
            }
          },
          "metadata": {}
        }
      ],
      "source": [
        "!pip install matplotlib==3.1.3"
      ]
    },
    {
      "cell_type": "code",
      "source": [
        "#Check if GPU is available\n",
        "gpu_info = !nvidia-smi\n",
        "gpu_info = '\\n'.join(gpu_info)\n",
        "if gpu_info.find('failed') >= 0:\n",
        "  print('Not connected to a GPU')\n",
        "else:\n",
        "  print(gpu_info)"
      ],
      "metadata": {
        "colab": {
          "base_uri": "https://localhost:8080/"
        },
        "id": "K3K0sLhEcPaB",
        "outputId": "4a06838b-b9c3-4745-b928-6fbaf9cc6a01"
      },
      "execution_count": 6,
      "outputs": [
        {
          "output_type": "stream",
          "name": "stdout",
          "text": [
            "Fri Jul 22 15:05:26 2022       \n",
            "+-----------------------------------------------------------------------------+\n",
            "| NVIDIA-SMI 460.32.03    Driver Version: 460.32.03    CUDA Version: 11.2     |\n",
            "|-------------------------------+----------------------+----------------------+\n",
            "| GPU  Name        Persistence-M| Bus-Id        Disp.A | Volatile Uncorr. ECC |\n",
            "| Fan  Temp  Perf  Pwr:Usage/Cap|         Memory-Usage | GPU-Util  Compute M. |\n",
            "|                               |                      |               MIG M. |\n",
            "|===============================+======================+======================|\n",
            "|   0  Tesla P100-PCIE...  Off  | 00000000:00:04.0 Off |                    0 |\n",
            "| N/A   35C    P0    27W / 250W |      0MiB / 16280MiB |      0%      Default |\n",
            "|                               |                      |                  N/A |\n",
            "+-------------------------------+----------------------+----------------------+\n",
            "                                                                               \n",
            "+-----------------------------------------------------------------------------+\n",
            "| Processes:                                                                  |\n",
            "|  GPU   GI   CI        PID   Type   Process name                  GPU Memory |\n",
            "|        ID   ID                                                   Usage      |\n",
            "|=============================================================================|\n",
            "|  No running processes found                                                 |\n",
            "+-----------------------------------------------------------------------------+\n"
          ]
        }
      ]
    },
    {
      "cell_type": "markdown",
      "source": [
        "## Import Packages"
      ],
      "metadata": {
        "id": "8uwzC_pjbs5M"
      }
    },
    {
      "cell_type": "code",
      "execution_count": 22,
      "metadata": {
        "id": "gvA1WVdAozsq"
      },
      "outputs": [],
      "source": [
        "from darts import TimeSeries"
      ]
    },
    {
      "cell_type": "code",
      "execution_count": 23,
      "metadata": {
        "id": "sbpcmGwTLH9i"
      },
      "outputs": [],
      "source": [
        "from darts.utils.statistics import check_seasonality, plot_acf, plot_residuals_analysis\n",
        "from darts.utils.utils import SeasonalityMode\n",
        "import datetime"
      ]
    },
    {
      "cell_type": "code",
      "execution_count": 24,
      "metadata": {
        "id": "Moddfts3Hvth"
      },
      "outputs": [],
      "source": [
        "import pandas as pd\n",
        "import numpy as np\n",
        "import torch\n",
        "import matplotlib.pyplot as plt\n",
        "\n",
        "from darts import TimeSeries\n",
        "from darts.utils.timeseries_generation import (\n",
        "    gaussian_timeseries,\n",
        "    linear_timeseries,\n",
        "    sine_timeseries,\n",
        ")\n",
        "from darts.models import (\n",
        "    RNNModel,\n",
        "    TCNModel,\n",
        "    TransformerModel,\n",
        "    NBEATSModel,\n",
        "    BlockRNNModel,\n",
        "    RNNModel,\n",
        "    AutoARIMA,\n",
        "    VARIMA,\n",
        "    ExponentialSmoothing,\n",
        "    Theta,\n",
        "    RegressionModel,\n",
        "    RandomForest,\n",
        "    TFTModel\n",
        ")\n",
        "from darts.metrics import mape, smape, rmse\n",
        "from darts.dataprocessing.transformers import Scaler\n",
        "from darts.utils.timeseries_generation import datetime_attribute_timeseries\n",
        "from darts.datasets import AirPassengersDataset, MonthlyMilkDataset\n",
        "import warnings\n",
        "warnings.filterwarnings('ignore')\n",
        "import sklearn\n",
        "from sklearn.metrics import r2_score\n",
        "\n",
        "import joblib"
      ]
    },
    {
      "cell_type": "code",
      "execution_count": 25,
      "metadata": {
        "id": "o08F_fRmXcnw"
      },
      "outputs": [],
      "source": [
        "pd.set_option('display.max_columns',None)"
      ]
    },
    {
      "cell_type": "markdown",
      "source": [
        "## Import dataset and preprocessing"
      ],
      "metadata": {
        "id": "0df_o-cyg_vC"
      }
    },
    {
      "cell_type": "markdown",
      "source": [
        "### Import and fill NA"
      ],
      "metadata": {
        "id": "rp8wvtw1jDI9"
      }
    },
    {
      "cell_type": "code",
      "execution_count": 72,
      "metadata": {
        "id": "jan3AEWRH2E2"
      },
      "outputs": [],
      "source": [
        "df = pd.read_csv('df_exp.csv')"
      ]
    },
    {
      "cell_type": "code",
      "execution_count": 73,
      "metadata": {
        "id": "09zfytpuvXBa"
      },
      "outputs": [],
      "source": [
        "#Set time as the index for time series"
      ]
    },
    {
      "cell_type": "code",
      "execution_count": 74,
      "metadata": {
        "colab": {
          "base_uri": "https://localhost:8080/",
          "height": 0
        },
        "id": "fkbNROb1It4e",
        "outputId": "c715215f-fb8c-4c87-843e-1277c6b8456c"
      },
      "outputs": [
        {
          "output_type": "execute_result",
          "data": {
            "text/plain": [
              "                     Unnamed: 0  pax_B1_dom  pax_B2_dom  pax_B3_dom  \\\n",
              "ts10                                                                  \n",
              "2021-01-01 00:00:00           0         0.0         0.0         0.0   \n",
              "2021-01-01 00:10:00           1         0.0         0.0         0.0   \n",
              "2021-01-01 00:20:00           2         0.0         0.0         0.0   \n",
              "2021-01-01 00:30:00           3         0.0         0.0         0.0   \n",
              "2021-01-01 00:40:00           4         0.0         0.0         0.0   \n",
              "\n",
              "                     pax_B1_intl  pax_B2_intl  pax_B3_intl  total_doses  \\\n",
              "ts10                                                                      \n",
              "2021-01-01 00:00:00          0.0          0.0          0.0      4438527   \n",
              "2021-01-01 00:10:00          0.0          0.0          0.0      4438527   \n",
              "2021-01-01 00:20:00          0.0          0.0          0.0      4438527   \n",
              "2021-01-01 00:30:00          0.0          0.0          0.0      4438527   \n",
              "2021-01-01 00:40:00          0.0          0.0          0.0      4438527   \n",
              "\n",
              "                     holiday  seats_tr  seats_lc  tod_Afternoon  tod_Evening  \\\n",
              "ts10                                                                           \n",
              "2021-01-01 00:00:00        1       0.0       0.0              0            0   \n",
              "2021-01-01 00:10:00        1       0.0       0.0              0            0   \n",
              "2021-01-01 00:20:00        1       0.0       0.0              0            0   \n",
              "2021-01-01 00:30:00        1       0.0       0.0              0            0   \n",
              "2021-01-01 00:40:00        1       0.0       0.0              0            0   \n",
              "\n",
              "                     tod_Morning  tod_Overnight      Date  Hour  Minute  \\\n",
              "ts10                                                                      \n",
              "2021-01-01 00:00:00            0              1  2021/1/1   0.0     0.0   \n",
              "2021-01-01 00:10:00            0              1  2021/1/1   0.0    10.0   \n",
              "2021-01-01 00:20:00            0              1  2021/1/1   0.0    20.0   \n",
              "2021-01-01 00:30:00            0              1  2021/1/1   0.0    30.0   \n",
              "2021-01-01 00:40:00            0              1  2021/1/1   0.0    40.0   \n",
              "\n",
              "                     pax_C1  pax_C2  pax_C3  \n",
              "ts10                                         \n",
              "2021-01-01 00:00:00     0.0     0.0     2.0  \n",
              "2021-01-01 00:10:00     0.0     0.0     4.0  \n",
              "2021-01-01 00:20:00     0.0     0.0     7.0  \n",
              "2021-01-01 00:30:00     0.0     0.0     1.0  \n",
              "2021-01-01 00:40:00     1.0     0.0     2.0  "
            ],
            "text/html": [
              "\n",
              "  <div id=\"df-56e56672-c6ca-4036-a336-55fe1c9ed8e4\">\n",
              "    <div class=\"colab-df-container\">\n",
              "      <div>\n",
              "<style scoped>\n",
              "    .dataframe tbody tr th:only-of-type {\n",
              "        vertical-align: middle;\n",
              "    }\n",
              "\n",
              "    .dataframe tbody tr th {\n",
              "        vertical-align: top;\n",
              "    }\n",
              "\n",
              "    .dataframe thead th {\n",
              "        text-align: right;\n",
              "    }\n",
              "</style>\n",
              "<table border=\"1\" class=\"dataframe\">\n",
              "  <thead>\n",
              "    <tr style=\"text-align: right;\">\n",
              "      <th></th>\n",
              "      <th>Unnamed: 0</th>\n",
              "      <th>pax_B1_dom</th>\n",
              "      <th>pax_B2_dom</th>\n",
              "      <th>pax_B3_dom</th>\n",
              "      <th>pax_B1_intl</th>\n",
              "      <th>pax_B2_intl</th>\n",
              "      <th>pax_B3_intl</th>\n",
              "      <th>total_doses</th>\n",
              "      <th>holiday</th>\n",
              "      <th>seats_tr</th>\n",
              "      <th>seats_lc</th>\n",
              "      <th>tod_Afternoon</th>\n",
              "      <th>tod_Evening</th>\n",
              "      <th>tod_Morning</th>\n",
              "      <th>tod_Overnight</th>\n",
              "      <th>Date</th>\n",
              "      <th>Hour</th>\n",
              "      <th>Minute</th>\n",
              "      <th>pax_C1</th>\n",
              "      <th>pax_C2</th>\n",
              "      <th>pax_C3</th>\n",
              "    </tr>\n",
              "    <tr>\n",
              "      <th>ts10</th>\n",
              "      <th></th>\n",
              "      <th></th>\n",
              "      <th></th>\n",
              "      <th></th>\n",
              "      <th></th>\n",
              "      <th></th>\n",
              "      <th></th>\n",
              "      <th></th>\n",
              "      <th></th>\n",
              "      <th></th>\n",
              "      <th></th>\n",
              "      <th></th>\n",
              "      <th></th>\n",
              "      <th></th>\n",
              "      <th></th>\n",
              "      <th></th>\n",
              "      <th></th>\n",
              "      <th></th>\n",
              "      <th></th>\n",
              "      <th></th>\n",
              "      <th></th>\n",
              "    </tr>\n",
              "  </thead>\n",
              "  <tbody>\n",
              "    <tr>\n",
              "      <th>2021-01-01 00:00:00</th>\n",
              "      <td>0</td>\n",
              "      <td>0.0</td>\n",
              "      <td>0.0</td>\n",
              "      <td>0.0</td>\n",
              "      <td>0.0</td>\n",
              "      <td>0.0</td>\n",
              "      <td>0.0</td>\n",
              "      <td>4438527</td>\n",
              "      <td>1</td>\n",
              "      <td>0.0</td>\n",
              "      <td>0.0</td>\n",
              "      <td>0</td>\n",
              "      <td>0</td>\n",
              "      <td>0</td>\n",
              "      <td>1</td>\n",
              "      <td>2021/1/1</td>\n",
              "      <td>0.0</td>\n",
              "      <td>0.0</td>\n",
              "      <td>0.0</td>\n",
              "      <td>0.0</td>\n",
              "      <td>2.0</td>\n",
              "    </tr>\n",
              "    <tr>\n",
              "      <th>2021-01-01 00:10:00</th>\n",
              "      <td>1</td>\n",
              "      <td>0.0</td>\n",
              "      <td>0.0</td>\n",
              "      <td>0.0</td>\n",
              "      <td>0.0</td>\n",
              "      <td>0.0</td>\n",
              "      <td>0.0</td>\n",
              "      <td>4438527</td>\n",
              "      <td>1</td>\n",
              "      <td>0.0</td>\n",
              "      <td>0.0</td>\n",
              "      <td>0</td>\n",
              "      <td>0</td>\n",
              "      <td>0</td>\n",
              "      <td>1</td>\n",
              "      <td>2021/1/1</td>\n",
              "      <td>0.0</td>\n",
              "      <td>10.0</td>\n",
              "      <td>0.0</td>\n",
              "      <td>0.0</td>\n",
              "      <td>4.0</td>\n",
              "    </tr>\n",
              "    <tr>\n",
              "      <th>2021-01-01 00:20:00</th>\n",
              "      <td>2</td>\n",
              "      <td>0.0</td>\n",
              "      <td>0.0</td>\n",
              "      <td>0.0</td>\n",
              "      <td>0.0</td>\n",
              "      <td>0.0</td>\n",
              "      <td>0.0</td>\n",
              "      <td>4438527</td>\n",
              "      <td>1</td>\n",
              "      <td>0.0</td>\n",
              "      <td>0.0</td>\n",
              "      <td>0</td>\n",
              "      <td>0</td>\n",
              "      <td>0</td>\n",
              "      <td>1</td>\n",
              "      <td>2021/1/1</td>\n",
              "      <td>0.0</td>\n",
              "      <td>20.0</td>\n",
              "      <td>0.0</td>\n",
              "      <td>0.0</td>\n",
              "      <td>7.0</td>\n",
              "    </tr>\n",
              "    <tr>\n",
              "      <th>2021-01-01 00:30:00</th>\n",
              "      <td>3</td>\n",
              "      <td>0.0</td>\n",
              "      <td>0.0</td>\n",
              "      <td>0.0</td>\n",
              "      <td>0.0</td>\n",
              "      <td>0.0</td>\n",
              "      <td>0.0</td>\n",
              "      <td>4438527</td>\n",
              "      <td>1</td>\n",
              "      <td>0.0</td>\n",
              "      <td>0.0</td>\n",
              "      <td>0</td>\n",
              "      <td>0</td>\n",
              "      <td>0</td>\n",
              "      <td>1</td>\n",
              "      <td>2021/1/1</td>\n",
              "      <td>0.0</td>\n",
              "      <td>30.0</td>\n",
              "      <td>0.0</td>\n",
              "      <td>0.0</td>\n",
              "      <td>1.0</td>\n",
              "    </tr>\n",
              "    <tr>\n",
              "      <th>2021-01-01 00:40:00</th>\n",
              "      <td>4</td>\n",
              "      <td>0.0</td>\n",
              "      <td>0.0</td>\n",
              "      <td>0.0</td>\n",
              "      <td>0.0</td>\n",
              "      <td>0.0</td>\n",
              "      <td>0.0</td>\n",
              "      <td>4438527</td>\n",
              "      <td>1</td>\n",
              "      <td>0.0</td>\n",
              "      <td>0.0</td>\n",
              "      <td>0</td>\n",
              "      <td>0</td>\n",
              "      <td>0</td>\n",
              "      <td>1</td>\n",
              "      <td>2021/1/1</td>\n",
              "      <td>0.0</td>\n",
              "      <td>40.0</td>\n",
              "      <td>1.0</td>\n",
              "      <td>0.0</td>\n",
              "      <td>2.0</td>\n",
              "    </tr>\n",
              "  </tbody>\n",
              "</table>\n",
              "</div>\n",
              "      <button class=\"colab-df-convert\" onclick=\"convertToInteractive('df-56e56672-c6ca-4036-a336-55fe1c9ed8e4')\"\n",
              "              title=\"Convert this dataframe to an interactive table.\"\n",
              "              style=\"display:none;\">\n",
              "        \n",
              "  <svg xmlns=\"http://www.w3.org/2000/svg\" height=\"24px\"viewBox=\"0 0 24 24\"\n",
              "       width=\"24px\">\n",
              "    <path d=\"M0 0h24v24H0V0z\" fill=\"none\"/>\n",
              "    <path d=\"M18.56 5.44l.94 2.06.94-2.06 2.06-.94-2.06-.94-.94-2.06-.94 2.06-2.06.94zm-11 1L8.5 8.5l.94-2.06 2.06-.94-2.06-.94L8.5 2.5l-.94 2.06-2.06.94zm10 10l.94 2.06.94-2.06 2.06-.94-2.06-.94-.94-2.06-.94 2.06-2.06.94z\"/><path d=\"M17.41 7.96l-1.37-1.37c-.4-.4-.92-.59-1.43-.59-.52 0-1.04.2-1.43.59L10.3 9.45l-7.72 7.72c-.78.78-.78 2.05 0 2.83L4 21.41c.39.39.9.59 1.41.59.51 0 1.02-.2 1.41-.59l7.78-7.78 2.81-2.81c.8-.78.8-2.07 0-2.86zM5.41 20L4 18.59l7.72-7.72 1.47 1.35L5.41 20z\"/>\n",
              "  </svg>\n",
              "      </button>\n",
              "      \n",
              "  <style>\n",
              "    .colab-df-container {\n",
              "      display:flex;\n",
              "      flex-wrap:wrap;\n",
              "      gap: 12px;\n",
              "    }\n",
              "\n",
              "    .colab-df-convert {\n",
              "      background-color: #E8F0FE;\n",
              "      border: none;\n",
              "      border-radius: 50%;\n",
              "      cursor: pointer;\n",
              "      display: none;\n",
              "      fill: #1967D2;\n",
              "      height: 32px;\n",
              "      padding: 0 0 0 0;\n",
              "      width: 32px;\n",
              "    }\n",
              "\n",
              "    .colab-df-convert:hover {\n",
              "      background-color: #E2EBFA;\n",
              "      box-shadow: 0px 1px 2px rgba(60, 64, 67, 0.3), 0px 1px 3px 1px rgba(60, 64, 67, 0.15);\n",
              "      fill: #174EA6;\n",
              "    }\n",
              "\n",
              "    [theme=dark] .colab-df-convert {\n",
              "      background-color: #3B4455;\n",
              "      fill: #D2E3FC;\n",
              "    }\n",
              "\n",
              "    [theme=dark] .colab-df-convert:hover {\n",
              "      background-color: #434B5C;\n",
              "      box-shadow: 0px 1px 3px 1px rgba(0, 0, 0, 0.15);\n",
              "      filter: drop-shadow(0px 1px 2px rgba(0, 0, 0, 0.3));\n",
              "      fill: #FFFFFF;\n",
              "    }\n",
              "  </style>\n",
              "\n",
              "      <script>\n",
              "        const buttonEl =\n",
              "          document.querySelector('#df-56e56672-c6ca-4036-a336-55fe1c9ed8e4 button.colab-df-convert');\n",
              "        buttonEl.style.display =\n",
              "          google.colab.kernel.accessAllowed ? 'block' : 'none';\n",
              "\n",
              "        async function convertToInteractive(key) {\n",
              "          const element = document.querySelector('#df-56e56672-c6ca-4036-a336-55fe1c9ed8e4');\n",
              "          const dataTable =\n",
              "            await google.colab.kernel.invokeFunction('convertToInteractive',\n",
              "                                                     [key], {});\n",
              "          if (!dataTable) return;\n",
              "\n",
              "          const docLinkHtml = 'Like what you see? Visit the ' +\n",
              "            '<a target=\"_blank\" href=https://colab.research.google.com/notebooks/data_table.ipynb>data table notebook</a>'\n",
              "            + ' to learn more about interactive tables.';\n",
              "          element.innerHTML = '';\n",
              "          dataTable['output_type'] = 'display_data';\n",
              "          await google.colab.output.renderOutput(dataTable, element);\n",
              "          const docLink = document.createElement('div');\n",
              "          docLink.innerHTML = docLinkHtml;\n",
              "          element.appendChild(docLink);\n",
              "        }\n",
              "      </script>\n",
              "    </div>\n",
              "  </div>\n",
              "  "
            ]
          },
          "metadata": {},
          "execution_count": 74
        }
      ],
      "source": [
        "df['ts10'] = pd.to_datetime(df['ts10'])\n",
        "df.set_index('ts10',inplace=True)\n",
        "df.head()"
      ]
    },
    {
      "cell_type": "code",
      "execution_count": 75,
      "metadata": {
        "id": "japntSbTvcKc"
      },
      "outputs": [],
      "source": [
        "#Fill the empty values with 0 for the modeling"
      ]
    },
    {
      "cell_type": "code",
      "execution_count": 76,
      "metadata": {
        "id": "IO518kGJJbbN"
      },
      "outputs": [],
      "source": [
        "df['pax_C3'] = df['pax_C3'].fillna(0.0)"
      ]
    },
    {
      "cell_type": "code",
      "execution_count": 77,
      "metadata": {
        "id": "_LnoVhPjJjm8"
      },
      "outputs": [],
      "source": [
        "df['pax_C1'] = df['pax_C1'].fillna(0.0)\n",
        "df['pax_C2'] = df['pax_C2'].fillna(0.0)"
      ]
    },
    {
      "cell_type": "code",
      "execution_count": 78,
      "metadata": {
        "id": "cCRTADAvBn-I"
      },
      "outputs": [],
      "source": [
        "# some of the deep learning models/TPU processing are sensitive about datatypes\n",
        "# df[df.select_dtypes(np.float64).columns] = df.select_dtypes(np.float64).astype(np.float32)"
      ]
    },
    {
      "cell_type": "markdown",
      "source": [
        "### Add total arriving passengers as additional covariates"
      ],
      "metadata": {
        "id": "StYV5wqWe0Fl"
      }
    },
    {
      "cell_type": "code",
      "source": [
        "arrpax = pd.read_csv('ArrPaxFinaldf.csv',usecols=['TimeInterval','AT_PAX','FHV#','Parking#'])"
      ],
      "metadata": {
        "id": "v8BecU5UedvH"
      },
      "execution_count": 79,
      "outputs": []
    },
    {
      "cell_type": "code",
      "source": [
        "arrpax.head()"
      ],
      "metadata": {
        "colab": {
          "base_uri": "https://localhost:8080/",
          "height": 206
        },
        "id": "MhWMaaQsfF4m",
        "outputId": "07b94e1b-7aca-4c6d-faa6-c734612f6dce"
      },
      "execution_count": 80,
      "outputs": [
        {
          "output_type": "execute_result",
          "data": {
            "text/plain": [
              "          TimeInterval    AT_PAX  Parking#      FHV#\n",
              "0  2021-03-13 00:00:00  3.166667  5.333333  1.333333\n",
              "1  2021-03-13 00:10:00  3.166667  5.333333  1.333333\n",
              "2  2021-03-13 00:20:00  3.166667  5.333333  1.333333\n",
              "3  2021-03-13 00:30:00  3.166667  5.333333  1.333333\n",
              "4  2021-03-13 00:40:00  3.166667  5.333333  1.333333"
            ],
            "text/html": [
              "\n",
              "  <div id=\"df-265beb53-fffd-4f57-bbef-bb0d52f0b47c\">\n",
              "    <div class=\"colab-df-container\">\n",
              "      <div>\n",
              "<style scoped>\n",
              "    .dataframe tbody tr th:only-of-type {\n",
              "        vertical-align: middle;\n",
              "    }\n",
              "\n",
              "    .dataframe tbody tr th {\n",
              "        vertical-align: top;\n",
              "    }\n",
              "\n",
              "    .dataframe thead th {\n",
              "        text-align: right;\n",
              "    }\n",
              "</style>\n",
              "<table border=\"1\" class=\"dataframe\">\n",
              "  <thead>\n",
              "    <tr style=\"text-align: right;\">\n",
              "      <th></th>\n",
              "      <th>TimeInterval</th>\n",
              "      <th>AT_PAX</th>\n",
              "      <th>Parking#</th>\n",
              "      <th>FHV#</th>\n",
              "    </tr>\n",
              "  </thead>\n",
              "  <tbody>\n",
              "    <tr>\n",
              "      <th>0</th>\n",
              "      <td>2021-03-13 00:00:00</td>\n",
              "      <td>3.166667</td>\n",
              "      <td>5.333333</td>\n",
              "      <td>1.333333</td>\n",
              "    </tr>\n",
              "    <tr>\n",
              "      <th>1</th>\n",
              "      <td>2021-03-13 00:10:00</td>\n",
              "      <td>3.166667</td>\n",
              "      <td>5.333333</td>\n",
              "      <td>1.333333</td>\n",
              "    </tr>\n",
              "    <tr>\n",
              "      <th>2</th>\n",
              "      <td>2021-03-13 00:20:00</td>\n",
              "      <td>3.166667</td>\n",
              "      <td>5.333333</td>\n",
              "      <td>1.333333</td>\n",
              "    </tr>\n",
              "    <tr>\n",
              "      <th>3</th>\n",
              "      <td>2021-03-13 00:30:00</td>\n",
              "      <td>3.166667</td>\n",
              "      <td>5.333333</td>\n",
              "      <td>1.333333</td>\n",
              "    </tr>\n",
              "    <tr>\n",
              "      <th>4</th>\n",
              "      <td>2021-03-13 00:40:00</td>\n",
              "      <td>3.166667</td>\n",
              "      <td>5.333333</td>\n",
              "      <td>1.333333</td>\n",
              "    </tr>\n",
              "  </tbody>\n",
              "</table>\n",
              "</div>\n",
              "      <button class=\"colab-df-convert\" onclick=\"convertToInteractive('df-265beb53-fffd-4f57-bbef-bb0d52f0b47c')\"\n",
              "              title=\"Convert this dataframe to an interactive table.\"\n",
              "              style=\"display:none;\">\n",
              "        \n",
              "  <svg xmlns=\"http://www.w3.org/2000/svg\" height=\"24px\"viewBox=\"0 0 24 24\"\n",
              "       width=\"24px\">\n",
              "    <path d=\"M0 0h24v24H0V0z\" fill=\"none\"/>\n",
              "    <path d=\"M18.56 5.44l.94 2.06.94-2.06 2.06-.94-2.06-.94-.94-2.06-.94 2.06-2.06.94zm-11 1L8.5 8.5l.94-2.06 2.06-.94-2.06-.94L8.5 2.5l-.94 2.06-2.06.94zm10 10l.94 2.06.94-2.06 2.06-.94-2.06-.94-.94-2.06-.94 2.06-2.06.94z\"/><path d=\"M17.41 7.96l-1.37-1.37c-.4-.4-.92-.59-1.43-.59-.52 0-1.04.2-1.43.59L10.3 9.45l-7.72 7.72c-.78.78-.78 2.05 0 2.83L4 21.41c.39.39.9.59 1.41.59.51 0 1.02-.2 1.41-.59l7.78-7.78 2.81-2.81c.8-.78.8-2.07 0-2.86zM5.41 20L4 18.59l7.72-7.72 1.47 1.35L5.41 20z\"/>\n",
              "  </svg>\n",
              "      </button>\n",
              "      \n",
              "  <style>\n",
              "    .colab-df-container {\n",
              "      display:flex;\n",
              "      flex-wrap:wrap;\n",
              "      gap: 12px;\n",
              "    }\n",
              "\n",
              "    .colab-df-convert {\n",
              "      background-color: #E8F0FE;\n",
              "      border: none;\n",
              "      border-radius: 50%;\n",
              "      cursor: pointer;\n",
              "      display: none;\n",
              "      fill: #1967D2;\n",
              "      height: 32px;\n",
              "      padding: 0 0 0 0;\n",
              "      width: 32px;\n",
              "    }\n",
              "\n",
              "    .colab-df-convert:hover {\n",
              "      background-color: #E2EBFA;\n",
              "      box-shadow: 0px 1px 2px rgba(60, 64, 67, 0.3), 0px 1px 3px 1px rgba(60, 64, 67, 0.15);\n",
              "      fill: #174EA6;\n",
              "    }\n",
              "\n",
              "    [theme=dark] .colab-df-convert {\n",
              "      background-color: #3B4455;\n",
              "      fill: #D2E3FC;\n",
              "    }\n",
              "\n",
              "    [theme=dark] .colab-df-convert:hover {\n",
              "      background-color: #434B5C;\n",
              "      box-shadow: 0px 1px 3px 1px rgba(0, 0, 0, 0.15);\n",
              "      filter: drop-shadow(0px 1px 2px rgba(0, 0, 0, 0.3));\n",
              "      fill: #FFFFFF;\n",
              "    }\n",
              "  </style>\n",
              "\n",
              "      <script>\n",
              "        const buttonEl =\n",
              "          document.querySelector('#df-265beb53-fffd-4f57-bbef-bb0d52f0b47c button.colab-df-convert');\n",
              "        buttonEl.style.display =\n",
              "          google.colab.kernel.accessAllowed ? 'block' : 'none';\n",
              "\n",
              "        async function convertToInteractive(key) {\n",
              "          const element = document.querySelector('#df-265beb53-fffd-4f57-bbef-bb0d52f0b47c');\n",
              "          const dataTable =\n",
              "            await google.colab.kernel.invokeFunction('convertToInteractive',\n",
              "                                                     [key], {});\n",
              "          if (!dataTable) return;\n",
              "\n",
              "          const docLinkHtml = 'Like what you see? Visit the ' +\n",
              "            '<a target=\"_blank\" href=https://colab.research.google.com/notebooks/data_table.ipynb>data table notebook</a>'\n",
              "            + ' to learn more about interactive tables.';\n",
              "          element.innerHTML = '';\n",
              "          dataTable['output_type'] = 'display_data';\n",
              "          await google.colab.output.renderOutput(dataTable, element);\n",
              "          const docLink = document.createElement('div');\n",
              "          docLink.innerHTML = docLinkHtml;\n",
              "          element.appendChild(docLink);\n",
              "        }\n",
              "      </script>\n",
              "    </div>\n",
              "  </div>\n",
              "  "
            ]
          },
          "metadata": {},
          "execution_count": 80
        }
      ]
    },
    {
      "cell_type": "code",
      "source": [
        "arrpax['TimeInterval'] = pd.to_datetime(arrpax['TimeInterval'])\n",
        "arrpax.set_index('TimeInterval',inplace=True)"
      ],
      "metadata": {
        "id": "5CLmO4oOfgB0"
      },
      "execution_count": 81,
      "outputs": []
    },
    {
      "cell_type": "code",
      "source": [
        "arrpax = arrpax.asfreq('10T')\n",
        "arrpax.index = pd.to_datetime(arrpax.index)\n",
        "type(arrpax.index)"
      ],
      "metadata": {
        "colab": {
          "base_uri": "https://localhost:8080/"
        },
        "id": "NySy8IgHflkf",
        "outputId": "cbcf2d18-bd31-4062-f92f-b14046a193bc"
      },
      "execution_count": 82,
      "outputs": [
        {
          "output_type": "execute_result",
          "data": {
            "text/plain": [
              "pandas.core.indexes.datetimes.DatetimeIndex"
            ]
          },
          "metadata": {},
          "execution_count": 82
        }
      ]
    },
    {
      "cell_type": "code",
      "source": [
        "arrpax['arrpax_total'] = arrpax['AT_PAX'] + arrpax['Parking#'] + arrpax['FHV#']"
      ],
      "metadata": {
        "id": "aU26CNVjf-PS"
      },
      "execution_count": 83,
      "outputs": []
    },
    {
      "cell_type": "code",
      "source": [
        "arrpax.head()"
      ],
      "metadata": {
        "id": "lHUTNpv8gVjU",
        "colab": {
          "base_uri": "https://localhost:8080/",
          "height": 238
        },
        "outputId": "30b19cdc-8369-41d8-da6c-daf16003d83c"
      },
      "execution_count": 84,
      "outputs": [
        {
          "output_type": "execute_result",
          "data": {
            "text/plain": [
              "                       AT_PAX  Parking#      FHV#  arrpax_total\n",
              "TimeInterval                                                   \n",
              "2021-03-13 00:00:00  3.166667  5.333333  1.333333      9.833333\n",
              "2021-03-13 00:10:00  3.166667  5.333333  1.333333      9.833333\n",
              "2021-03-13 00:20:00  3.166667  5.333333  1.333333      9.833333\n",
              "2021-03-13 00:30:00  3.166667  5.333333  1.333333      9.833333\n",
              "2021-03-13 00:40:00  3.166667  5.333333  1.333333      9.833333"
            ],
            "text/html": [
              "\n",
              "  <div id=\"df-d1287b5c-a4b3-4b4f-b1e9-5c2b7bf9b19d\">\n",
              "    <div class=\"colab-df-container\">\n",
              "      <div>\n",
              "<style scoped>\n",
              "    .dataframe tbody tr th:only-of-type {\n",
              "        vertical-align: middle;\n",
              "    }\n",
              "\n",
              "    .dataframe tbody tr th {\n",
              "        vertical-align: top;\n",
              "    }\n",
              "\n",
              "    .dataframe thead th {\n",
              "        text-align: right;\n",
              "    }\n",
              "</style>\n",
              "<table border=\"1\" class=\"dataframe\">\n",
              "  <thead>\n",
              "    <tr style=\"text-align: right;\">\n",
              "      <th></th>\n",
              "      <th>AT_PAX</th>\n",
              "      <th>Parking#</th>\n",
              "      <th>FHV#</th>\n",
              "      <th>arrpax_total</th>\n",
              "    </tr>\n",
              "    <tr>\n",
              "      <th>TimeInterval</th>\n",
              "      <th></th>\n",
              "      <th></th>\n",
              "      <th></th>\n",
              "      <th></th>\n",
              "    </tr>\n",
              "  </thead>\n",
              "  <tbody>\n",
              "    <tr>\n",
              "      <th>2021-03-13 00:00:00</th>\n",
              "      <td>3.166667</td>\n",
              "      <td>5.333333</td>\n",
              "      <td>1.333333</td>\n",
              "      <td>9.833333</td>\n",
              "    </tr>\n",
              "    <tr>\n",
              "      <th>2021-03-13 00:10:00</th>\n",
              "      <td>3.166667</td>\n",
              "      <td>5.333333</td>\n",
              "      <td>1.333333</td>\n",
              "      <td>9.833333</td>\n",
              "    </tr>\n",
              "    <tr>\n",
              "      <th>2021-03-13 00:20:00</th>\n",
              "      <td>3.166667</td>\n",
              "      <td>5.333333</td>\n",
              "      <td>1.333333</td>\n",
              "      <td>9.833333</td>\n",
              "    </tr>\n",
              "    <tr>\n",
              "      <th>2021-03-13 00:30:00</th>\n",
              "      <td>3.166667</td>\n",
              "      <td>5.333333</td>\n",
              "      <td>1.333333</td>\n",
              "      <td>9.833333</td>\n",
              "    </tr>\n",
              "    <tr>\n",
              "      <th>2021-03-13 00:40:00</th>\n",
              "      <td>3.166667</td>\n",
              "      <td>5.333333</td>\n",
              "      <td>1.333333</td>\n",
              "      <td>9.833333</td>\n",
              "    </tr>\n",
              "  </tbody>\n",
              "</table>\n",
              "</div>\n",
              "      <button class=\"colab-df-convert\" onclick=\"convertToInteractive('df-d1287b5c-a4b3-4b4f-b1e9-5c2b7bf9b19d')\"\n",
              "              title=\"Convert this dataframe to an interactive table.\"\n",
              "              style=\"display:none;\">\n",
              "        \n",
              "  <svg xmlns=\"http://www.w3.org/2000/svg\" height=\"24px\"viewBox=\"0 0 24 24\"\n",
              "       width=\"24px\">\n",
              "    <path d=\"M0 0h24v24H0V0z\" fill=\"none\"/>\n",
              "    <path d=\"M18.56 5.44l.94 2.06.94-2.06 2.06-.94-2.06-.94-.94-2.06-.94 2.06-2.06.94zm-11 1L8.5 8.5l.94-2.06 2.06-.94-2.06-.94L8.5 2.5l-.94 2.06-2.06.94zm10 10l.94 2.06.94-2.06 2.06-.94-2.06-.94-.94-2.06-.94 2.06-2.06.94z\"/><path d=\"M17.41 7.96l-1.37-1.37c-.4-.4-.92-.59-1.43-.59-.52 0-1.04.2-1.43.59L10.3 9.45l-7.72 7.72c-.78.78-.78 2.05 0 2.83L4 21.41c.39.39.9.59 1.41.59.51 0 1.02-.2 1.41-.59l7.78-7.78 2.81-2.81c.8-.78.8-2.07 0-2.86zM5.41 20L4 18.59l7.72-7.72 1.47 1.35L5.41 20z\"/>\n",
              "  </svg>\n",
              "      </button>\n",
              "      \n",
              "  <style>\n",
              "    .colab-df-container {\n",
              "      display:flex;\n",
              "      flex-wrap:wrap;\n",
              "      gap: 12px;\n",
              "    }\n",
              "\n",
              "    .colab-df-convert {\n",
              "      background-color: #E8F0FE;\n",
              "      border: none;\n",
              "      border-radius: 50%;\n",
              "      cursor: pointer;\n",
              "      display: none;\n",
              "      fill: #1967D2;\n",
              "      height: 32px;\n",
              "      padding: 0 0 0 0;\n",
              "      width: 32px;\n",
              "    }\n",
              "\n",
              "    .colab-df-convert:hover {\n",
              "      background-color: #E2EBFA;\n",
              "      box-shadow: 0px 1px 2px rgba(60, 64, 67, 0.3), 0px 1px 3px 1px rgba(60, 64, 67, 0.15);\n",
              "      fill: #174EA6;\n",
              "    }\n",
              "\n",
              "    [theme=dark] .colab-df-convert {\n",
              "      background-color: #3B4455;\n",
              "      fill: #D2E3FC;\n",
              "    }\n",
              "\n",
              "    [theme=dark] .colab-df-convert:hover {\n",
              "      background-color: #434B5C;\n",
              "      box-shadow: 0px 1px 3px 1px rgba(0, 0, 0, 0.15);\n",
              "      filter: drop-shadow(0px 1px 2px rgba(0, 0, 0, 0.3));\n",
              "      fill: #FFFFFF;\n",
              "    }\n",
              "  </style>\n",
              "\n",
              "      <script>\n",
              "        const buttonEl =\n",
              "          document.querySelector('#df-d1287b5c-a4b3-4b4f-b1e9-5c2b7bf9b19d button.colab-df-convert');\n",
              "        buttonEl.style.display =\n",
              "          google.colab.kernel.accessAllowed ? 'block' : 'none';\n",
              "\n",
              "        async function convertToInteractive(key) {\n",
              "          const element = document.querySelector('#df-d1287b5c-a4b3-4b4f-b1e9-5c2b7bf9b19d');\n",
              "          const dataTable =\n",
              "            await google.colab.kernel.invokeFunction('convertToInteractive',\n",
              "                                                     [key], {});\n",
              "          if (!dataTable) return;\n",
              "\n",
              "          const docLinkHtml = 'Like what you see? Visit the ' +\n",
              "            '<a target=\"_blank\" href=https://colab.research.google.com/notebooks/data_table.ipynb>data table notebook</a>'\n",
              "            + ' to learn more about interactive tables.';\n",
              "          element.innerHTML = '';\n",
              "          dataTable['output_type'] = 'display_data';\n",
              "          await google.colab.output.renderOutput(dataTable, element);\n",
              "          const docLink = document.createElement('div');\n",
              "          docLink.innerHTML = docLinkHtml;\n",
              "          element.appendChild(docLink);\n",
              "        }\n",
              "      </script>\n",
              "    </div>\n",
              "  </div>\n",
              "  "
            ]
          },
          "metadata": {},
          "execution_count": 84
        }
      ]
    },
    {
      "cell_type": "code",
      "source": [
        "#inner merge because arrpax data only starts in March 2021. Will have to train without Jan-Feb, but I'm hoping the new predictor will make up for fewer months of training data.\n",
        "df = pd.merge(df, arrpax['arrpax_total'],how='inner',left_index=True, right_index=True)"
      ],
      "metadata": {
        "id": "Yo9MIcDaeiKS"
      },
      "execution_count": 85,
      "outputs": []
    },
    {
      "cell_type": "code",
      "source": [
        "df.head()"
      ],
      "metadata": {
        "colab": {
          "base_uri": "https://localhost:8080/",
          "height": 461
        },
        "id": "ptQ-COSxjSzs",
        "outputId": "32190730-8d82-416b-d98d-f810914c458f"
      },
      "execution_count": 87,
      "outputs": [
        {
          "output_type": "execute_result",
          "data": {
            "text/plain": [
              "                     Unnamed: 0  pax_B1_dom  pax_B2_dom  pax_B3_dom  \\\n",
              "2021-03-13 00:00:00       10224         0.0         0.0         0.0   \n",
              "2021-03-13 00:10:00       10225         0.0         0.0         0.0   \n",
              "2021-03-13 00:20:00       10226         0.0         0.0         0.0   \n",
              "2021-03-13 00:30:00       10227         0.0         0.0         0.0   \n",
              "2021-03-13 00:40:00       10228         0.0         0.0         0.0   \n",
              "\n",
              "                     pax_B1_intl  pax_B2_intl  pax_B3_intl  total_doses  \\\n",
              "2021-03-13 00:00:00          0.0          0.0          0.0    118109283   \n",
              "2021-03-13 00:10:00          0.0          0.0          0.0    118109283   \n",
              "2021-03-13 00:20:00          0.0          0.0          0.0    118109283   \n",
              "2021-03-13 00:30:00          0.0          0.0          0.0    118109283   \n",
              "2021-03-13 00:40:00          0.0          0.0          0.0    118109283   \n",
              "\n",
              "                     holiday  seats_tr  seats_lc  tod_Afternoon  tod_Evening  \\\n",
              "2021-03-13 00:00:00        0       0.0       0.0              0            0   \n",
              "2021-03-13 00:10:00        0       0.0       0.0              0            0   \n",
              "2021-03-13 00:20:00        0       0.0       0.0              0            0   \n",
              "2021-03-13 00:30:00        0       0.0       0.0              0            0   \n",
              "2021-03-13 00:40:00        0       0.0       0.0              0            0   \n",
              "\n",
              "                     tod_Morning  tod_Overnight       Date  Hour  Minute  \\\n",
              "2021-03-13 00:00:00            0              1  2021/3/13   0.0     0.0   \n",
              "2021-03-13 00:10:00            0              1  2021/3/13   0.0    10.0   \n",
              "2021-03-13 00:20:00            0              1  2021/3/13   0.0    20.0   \n",
              "2021-03-13 00:30:00            0              1  2021/3/13   0.0    30.0   \n",
              "2021-03-13 00:40:00            0              1  2021/3/13   0.0    40.0   \n",
              "\n",
              "                     pax_C1  pax_C2  pax_C3  arrpax_total  \n",
              "2021-03-13 00:00:00     1.0     0.0    11.0      9.833333  \n",
              "2021-03-13 00:10:00     0.0     0.0    23.0      9.833333  \n",
              "2021-03-13 00:20:00     0.0     0.0    19.0      9.833333  \n",
              "2021-03-13 00:30:00     0.0     0.0    27.0      9.833333  \n",
              "2021-03-13 00:40:00     0.0     0.0    20.0      9.833333  "
            ],
            "text/html": [
              "\n",
              "  <div id=\"df-42c4f222-c855-4eda-85b6-f604b849c7d9\">\n",
              "    <div class=\"colab-df-container\">\n",
              "      <div>\n",
              "<style scoped>\n",
              "    .dataframe tbody tr th:only-of-type {\n",
              "        vertical-align: middle;\n",
              "    }\n",
              "\n",
              "    .dataframe tbody tr th {\n",
              "        vertical-align: top;\n",
              "    }\n",
              "\n",
              "    .dataframe thead th {\n",
              "        text-align: right;\n",
              "    }\n",
              "</style>\n",
              "<table border=\"1\" class=\"dataframe\">\n",
              "  <thead>\n",
              "    <tr style=\"text-align: right;\">\n",
              "      <th></th>\n",
              "      <th>Unnamed: 0</th>\n",
              "      <th>pax_B1_dom</th>\n",
              "      <th>pax_B2_dom</th>\n",
              "      <th>pax_B3_dom</th>\n",
              "      <th>pax_B1_intl</th>\n",
              "      <th>pax_B2_intl</th>\n",
              "      <th>pax_B3_intl</th>\n",
              "      <th>total_doses</th>\n",
              "      <th>holiday</th>\n",
              "      <th>seats_tr</th>\n",
              "      <th>seats_lc</th>\n",
              "      <th>tod_Afternoon</th>\n",
              "      <th>tod_Evening</th>\n",
              "      <th>tod_Morning</th>\n",
              "      <th>tod_Overnight</th>\n",
              "      <th>Date</th>\n",
              "      <th>Hour</th>\n",
              "      <th>Minute</th>\n",
              "      <th>pax_C1</th>\n",
              "      <th>pax_C2</th>\n",
              "      <th>pax_C3</th>\n",
              "      <th>arrpax_total</th>\n",
              "    </tr>\n",
              "  </thead>\n",
              "  <tbody>\n",
              "    <tr>\n",
              "      <th>2021-03-13 00:00:00</th>\n",
              "      <td>10224</td>\n",
              "      <td>0.0</td>\n",
              "      <td>0.0</td>\n",
              "      <td>0.0</td>\n",
              "      <td>0.0</td>\n",
              "      <td>0.0</td>\n",
              "      <td>0.0</td>\n",
              "      <td>118109283</td>\n",
              "      <td>0</td>\n",
              "      <td>0.0</td>\n",
              "      <td>0.0</td>\n",
              "      <td>0</td>\n",
              "      <td>0</td>\n",
              "      <td>0</td>\n",
              "      <td>1</td>\n",
              "      <td>2021/3/13</td>\n",
              "      <td>0.0</td>\n",
              "      <td>0.0</td>\n",
              "      <td>1.0</td>\n",
              "      <td>0.0</td>\n",
              "      <td>11.0</td>\n",
              "      <td>9.833333</td>\n",
              "    </tr>\n",
              "    <tr>\n",
              "      <th>2021-03-13 00:10:00</th>\n",
              "      <td>10225</td>\n",
              "      <td>0.0</td>\n",
              "      <td>0.0</td>\n",
              "      <td>0.0</td>\n",
              "      <td>0.0</td>\n",
              "      <td>0.0</td>\n",
              "      <td>0.0</td>\n",
              "      <td>118109283</td>\n",
              "      <td>0</td>\n",
              "      <td>0.0</td>\n",
              "      <td>0.0</td>\n",
              "      <td>0</td>\n",
              "      <td>0</td>\n",
              "      <td>0</td>\n",
              "      <td>1</td>\n",
              "      <td>2021/3/13</td>\n",
              "      <td>0.0</td>\n",
              "      <td>10.0</td>\n",
              "      <td>0.0</td>\n",
              "      <td>0.0</td>\n",
              "      <td>23.0</td>\n",
              "      <td>9.833333</td>\n",
              "    </tr>\n",
              "    <tr>\n",
              "      <th>2021-03-13 00:20:00</th>\n",
              "      <td>10226</td>\n",
              "      <td>0.0</td>\n",
              "      <td>0.0</td>\n",
              "      <td>0.0</td>\n",
              "      <td>0.0</td>\n",
              "      <td>0.0</td>\n",
              "      <td>0.0</td>\n",
              "      <td>118109283</td>\n",
              "      <td>0</td>\n",
              "      <td>0.0</td>\n",
              "      <td>0.0</td>\n",
              "      <td>0</td>\n",
              "      <td>0</td>\n",
              "      <td>0</td>\n",
              "      <td>1</td>\n",
              "      <td>2021/3/13</td>\n",
              "      <td>0.0</td>\n",
              "      <td>20.0</td>\n",
              "      <td>0.0</td>\n",
              "      <td>0.0</td>\n",
              "      <td>19.0</td>\n",
              "      <td>9.833333</td>\n",
              "    </tr>\n",
              "    <tr>\n",
              "      <th>2021-03-13 00:30:00</th>\n",
              "      <td>10227</td>\n",
              "      <td>0.0</td>\n",
              "      <td>0.0</td>\n",
              "      <td>0.0</td>\n",
              "      <td>0.0</td>\n",
              "      <td>0.0</td>\n",
              "      <td>0.0</td>\n",
              "      <td>118109283</td>\n",
              "      <td>0</td>\n",
              "      <td>0.0</td>\n",
              "      <td>0.0</td>\n",
              "      <td>0</td>\n",
              "      <td>0</td>\n",
              "      <td>0</td>\n",
              "      <td>1</td>\n",
              "      <td>2021/3/13</td>\n",
              "      <td>0.0</td>\n",
              "      <td>30.0</td>\n",
              "      <td>0.0</td>\n",
              "      <td>0.0</td>\n",
              "      <td>27.0</td>\n",
              "      <td>9.833333</td>\n",
              "    </tr>\n",
              "    <tr>\n",
              "      <th>2021-03-13 00:40:00</th>\n",
              "      <td>10228</td>\n",
              "      <td>0.0</td>\n",
              "      <td>0.0</td>\n",
              "      <td>0.0</td>\n",
              "      <td>0.0</td>\n",
              "      <td>0.0</td>\n",
              "      <td>0.0</td>\n",
              "      <td>118109283</td>\n",
              "      <td>0</td>\n",
              "      <td>0.0</td>\n",
              "      <td>0.0</td>\n",
              "      <td>0</td>\n",
              "      <td>0</td>\n",
              "      <td>0</td>\n",
              "      <td>1</td>\n",
              "      <td>2021/3/13</td>\n",
              "      <td>0.0</td>\n",
              "      <td>40.0</td>\n",
              "      <td>0.0</td>\n",
              "      <td>0.0</td>\n",
              "      <td>20.0</td>\n",
              "      <td>9.833333</td>\n",
              "    </tr>\n",
              "  </tbody>\n",
              "</table>\n",
              "</div>\n",
              "      <button class=\"colab-df-convert\" onclick=\"convertToInteractive('df-42c4f222-c855-4eda-85b6-f604b849c7d9')\"\n",
              "              title=\"Convert this dataframe to an interactive table.\"\n",
              "              style=\"display:none;\">\n",
              "        \n",
              "  <svg xmlns=\"http://www.w3.org/2000/svg\" height=\"24px\"viewBox=\"0 0 24 24\"\n",
              "       width=\"24px\">\n",
              "    <path d=\"M0 0h24v24H0V0z\" fill=\"none\"/>\n",
              "    <path d=\"M18.56 5.44l.94 2.06.94-2.06 2.06-.94-2.06-.94-.94-2.06-.94 2.06-2.06.94zm-11 1L8.5 8.5l.94-2.06 2.06-.94-2.06-.94L8.5 2.5l-.94 2.06-2.06.94zm10 10l.94 2.06.94-2.06 2.06-.94-2.06-.94-.94-2.06-.94 2.06-2.06.94z\"/><path d=\"M17.41 7.96l-1.37-1.37c-.4-.4-.92-.59-1.43-.59-.52 0-1.04.2-1.43.59L10.3 9.45l-7.72 7.72c-.78.78-.78 2.05 0 2.83L4 21.41c.39.39.9.59 1.41.59.51 0 1.02-.2 1.41-.59l7.78-7.78 2.81-2.81c.8-.78.8-2.07 0-2.86zM5.41 20L4 18.59l7.72-7.72 1.47 1.35L5.41 20z\"/>\n",
              "  </svg>\n",
              "      </button>\n",
              "      \n",
              "  <style>\n",
              "    .colab-df-container {\n",
              "      display:flex;\n",
              "      flex-wrap:wrap;\n",
              "      gap: 12px;\n",
              "    }\n",
              "\n",
              "    .colab-df-convert {\n",
              "      background-color: #E8F0FE;\n",
              "      border: none;\n",
              "      border-radius: 50%;\n",
              "      cursor: pointer;\n",
              "      display: none;\n",
              "      fill: #1967D2;\n",
              "      height: 32px;\n",
              "      padding: 0 0 0 0;\n",
              "      width: 32px;\n",
              "    }\n",
              "\n",
              "    .colab-df-convert:hover {\n",
              "      background-color: #E2EBFA;\n",
              "      box-shadow: 0px 1px 2px rgba(60, 64, 67, 0.3), 0px 1px 3px 1px rgba(60, 64, 67, 0.15);\n",
              "      fill: #174EA6;\n",
              "    }\n",
              "\n",
              "    [theme=dark] .colab-df-convert {\n",
              "      background-color: #3B4455;\n",
              "      fill: #D2E3FC;\n",
              "    }\n",
              "\n",
              "    [theme=dark] .colab-df-convert:hover {\n",
              "      background-color: #434B5C;\n",
              "      box-shadow: 0px 1px 3px 1px rgba(0, 0, 0, 0.15);\n",
              "      filter: drop-shadow(0px 1px 2px rgba(0, 0, 0, 0.3));\n",
              "      fill: #FFFFFF;\n",
              "    }\n",
              "  </style>\n",
              "\n",
              "      <script>\n",
              "        const buttonEl =\n",
              "          document.querySelector('#df-42c4f222-c855-4eda-85b6-f604b849c7d9 button.colab-df-convert');\n",
              "        buttonEl.style.display =\n",
              "          google.colab.kernel.accessAllowed ? 'block' : 'none';\n",
              "\n",
              "        async function convertToInteractive(key) {\n",
              "          const element = document.querySelector('#df-42c4f222-c855-4eda-85b6-f604b849c7d9');\n",
              "          const dataTable =\n",
              "            await google.colab.kernel.invokeFunction('convertToInteractive',\n",
              "                                                     [key], {});\n",
              "          if (!dataTable) return;\n",
              "\n",
              "          const docLinkHtml = 'Like what you see? Visit the ' +\n",
              "            '<a target=\"_blank\" href=https://colab.research.google.com/notebooks/data_table.ipynb>data table notebook</a>'\n",
              "            + ' to learn more about interactive tables.';\n",
              "          element.innerHTML = '';\n",
              "          dataTable['output_type'] = 'display_data';\n",
              "          await google.colab.output.renderOutput(dataTable, element);\n",
              "          const docLink = document.createElement('div');\n",
              "          docLink.innerHTML = docLinkHtml;\n",
              "          element.appendChild(docLink);\n",
              "        }\n",
              "      </script>\n",
              "    </div>\n",
              "  </div>\n",
              "  "
            ]
          },
          "metadata": {},
          "execution_count": 87
        }
      ]
    },
    {
      "cell_type": "markdown",
      "source": [
        "### Choose Targets and Predictors(covariates)"
      ],
      "metadata": {
        "id": "u5WL2gZXhZKh"
      }
    },
    {
      "cell_type": "code",
      "execution_count": 88,
      "metadata": {
        "id": "5N-RanRdI05i"
      },
      "outputs": [],
      "source": [
        "targets = df[['pax_C1','pax_C2','pax_C3']]\n",
        "covariates = df[['pax_B1_dom', 'pax_B2_dom', 'pax_B3_dom', 'pax_B1_intl', 'pax_B2_intl',\n",
        "       'pax_B3_intl','holiday','seats_tr','seats_lc','arrpax_total']]\n",
        "\n",
        "# seats_tr and seats_lc might be redundant because it is included in the departing pax model that predicts the pax_B1_dom, etc. features, but probably doesn't hurt to include\n",
        "# same for holiday"
      ]
    },
    {
      "cell_type": "code",
      "execution_count": 89,
      "metadata": {
        "colab": {
          "base_uri": "https://localhost:8080/"
        },
        "id": "ITHdCbx4MVhb",
        "outputId": "c01104be-69c4-46c2-ca6f-47e552f5d4a3"
      },
      "outputs": [
        {
          "output_type": "execute_result",
          "data": {
            "text/plain": [
              "Index(['pax_C1', 'pax_C2', 'pax_C3'], dtype='object')"
            ]
          },
          "metadata": {},
          "execution_count": 89
        }
      ],
      "source": [
        "targets.columns"
      ]
    },
    {
      "cell_type": "code",
      "execution_count": 90,
      "metadata": {
        "colab": {
          "base_uri": "https://localhost:8080/"
        },
        "id": "RhwonNCrsRGG",
        "outputId": "31b8600b-ceea-4ba1-c7ec-c7472ce3e838"
      },
      "outputs": [
        {
          "output_type": "execute_result",
          "data": {
            "text/plain": [
              "Index(['pax_B1_dom', 'pax_B2_dom', 'pax_B3_dom', 'pax_B1_intl', 'pax_B2_intl',\n",
              "       'pax_B3_intl', 'holiday', 'seats_tr', 'seats_lc', 'arrpax_total'],\n",
              "      dtype='object')"
            ]
          },
          "metadata": {},
          "execution_count": 90
        }
      ],
      "source": [
        "covariates.columns"
      ]
    },
    {
      "cell_type": "code",
      "execution_count": 91,
      "metadata": {
        "id": "k5oGzhzWKpwR"
      },
      "outputs": [],
      "source": [
        "cov = TimeSeries.from_dataframe(covariates)\n",
        "tar = TimeSeries.from_dataframe(targets)"
      ]
    },
    {
      "cell_type": "markdown",
      "source": [
        "### Standard scaler and train-test split"
      ],
      "metadata": {
        "id": "ZH49G1oTcES4"
      }
    },
    {
      "cell_type": "code",
      "execution_count": 29,
      "metadata": {
        "id": "G1OjtM1zvh9E"
      },
      "outputs": [],
      "source": [
        "#Data transformation"
      ]
    },
    {
      "cell_type": "code",
      "execution_count": 92,
      "metadata": {
        "id": "2_2W09kwM7cN"
      },
      "outputs": [],
      "source": [
        "sc_cov = Scaler()\n",
        "cov_sc = sc_cov.fit_transform(cov)\n",
        "\n",
        "# shouldn't need to scale the target variable\n",
        "# sc_tar = Scaler()\n",
        "# tar_sc = sc_tar.fit_transform(tar)"
      ]
    },
    {
      "cell_type": "code",
      "execution_count": 31,
      "metadata": {
        "id": "WabAnFsnvjnX"
      },
      "outputs": [],
      "source": [
        "#Train Test Split"
      ]
    },
    {
      "cell_type": "code",
      "execution_count": 93,
      "metadata": {
        "id": "mJb5tqSZNjbl"
      },
      "outputs": [],
      "source": [
        "cov_train, cov_test = cov_sc.split_before(pd.Timestamp(2021,12,1))\n",
        "tar_train, tar_test = tar.split_before(pd.Timestamp(2021,12,1))"
      ]
    },
    {
      "cell_type": "code",
      "execution_count": 33,
      "metadata": {
        "id": "VxFvhdkPvmMZ"
      },
      "outputs": [],
      "source": [
        "#Plot the test dataset for passengers for concourse A as an example"
      ]
    },
    {
      "cell_type": "code",
      "execution_count": 94,
      "metadata": {
        "colab": {
          "base_uri": "https://localhost:8080/",
          "height": 301
        },
        "id": "E_-mh6qwHwRY",
        "outputId": "ce1693d9-89dd-443c-bb42-82a30d587506"
      },
      "outputs": [
        {
          "output_type": "display_data",
          "data": {
            "text/plain": [
              "<Figure size 432x288 with 1 Axes>"
            ],
            "image/png": "[encoded data removed]"
          },
          "metadata": {
            "needs_background": "light"
          }
        }
      ],
      "source": [
        "tar_test['pax_C1'].plot()"
      ]
    },
    {
      "cell_type": "markdown",
      "source": [
        "## Model evaluation/plotting functions"
      ],
      "metadata": {
        "id": "hDcmZmNSciKX"
      }
    },
    {
      "cell_type": "code",
      "execution_count": 95,
      "metadata": {
        "id": "Yk5QTdi2Xcn3"
      },
      "outputs": [],
      "source": [
        "def eval_model(model, tar_vars, start_date, end_date, past_covariates=None, future_covariates=None):\n",
        "    # Past and future covariates are optional because they won't always be used in our tests\n",
        "    \n",
        "    # We backtest the model on the last 20% of the flow series, with a horizon of 10 steps:\n",
        "    backtest = model.historical_forecasts(series=tar, \n",
        "                                          past_covariates=past_covariates,\n",
        "                                          future_covariates=future_covariates,\n",
        "                                          start=0.8, \n",
        "                                          retrain=False,\n",
        "                                          verbose=True, \n",
        "                                          forecast_horizon=10)\n",
        "    \n",
        "    s_date = pd.to_datetime(start_date)\n",
        "    e_date = pd.to_datetime(end_date)\n",
        "\n",
        "    tar[s_date:e_date][tar_vars].plot()\n",
        "    backtest[s_date:e_date][tar_vars].plot(label='backtest (n=10)')\n",
        "    print('Backtest RMSE = {}'.format(rmse(tar, backtest)))\n"
      ]
    },
    {
      "cell_type": "code",
      "source": [
        "def plot_agg_result(actual, pred,frequency,start_date,end_date):\n",
        "\n",
        "    test_df = actual.pd_dataframe()\n",
        "    test_df = pd.merge(test_df, pred.pd_dataframe(), how='right',left_index=True, right_index=True)\n",
        "\n",
        "    \n",
        "    test_df = test_df.reset_index()\n",
        "    test_df = test_df.groupby(pd.Grouper(key=\"time\", freq=frequency)).sum()\n",
        "\n",
        "    s_date = pd.to_datetime(start_date)\n",
        "    e_date = pd.to_datetime(end_date)\n",
        "\n",
        "    print(r2_score(test_df.iloc[:,0],test_df.iloc[:,1]))\n",
        "    test_df.loc[(test_df.index >= s_date) & (test_df.index <= e_date),:].plot()"
      ],
      "metadata": {
        "id": "sCmiEyHqc2Is"
      },
      "execution_count": 106,
      "outputs": []
    },
    {
      "cell_type": "markdown",
      "source": [
        "## Darts Regression Model"
      ],
      "metadata": {
        "id": "TUFZ9sIkc4bo"
      }
    },
    {
      "cell_type": "code",
      "execution_count": 99,
      "metadata": {
        "id": "9btFri6NXcn2",
        "colab": {
          "base_uri": "https://localhost:8080/"
        },
        "outputId": "f120e4f4-f367-41cf-cddc-8f0cd6c539ba"
      },
      "outputs": [
        {
          "output_type": "execute_result",
          "data": {
            "text/plain": [
              "<darts.models.forecasting.regression_model.RegressionModel at 0x7f612b478a50>"
            ]
          },
          "metadata": {},
          "execution_count": 99
        }
      ],
      "source": [
        "# without arrpax_total as a covariate, lag range of 2-18 (20 minutes to 3 hours) is good relative to scheduled departure time\n",
        "# including arrpax_total, we should expand the lag range to -9 (1.5 hour), i.e. passengers arriving at the airport up to 1 hour before passing security\n",
        "regr_model = RegressionModel(lags=None, lags_future_covariates=[i for i in range(-9,19)])\n",
        "\n",
        "regr_model.fit(tar_train, future_covariates=cov_sc)"
      ]
    },
    {
      "cell_type": "code",
      "execution_count": 101,
      "metadata": {
        "id": "gkUDeq10lHZl"
      },
      "outputs": [],
      "source": [
        "pred = regr_model.predict(n=4445,future_covariates=cov_sc)"
      ]
    },
    {
      "cell_type": "code",
      "source": [
        "r2_score(tar_test[:4445].pd_dataframe(),pred.pd_dataframe())"
      ],
      "metadata": {
        "colab": {
          "base_uri": "https://localhost:8080/"
        },
        "id": "_LvSF-K7sLAJ",
        "outputId": "2157f59d-8825-4961-a2a1-751fbd440a01"
      },
      "execution_count": 102,
      "outputs": [
        {
          "output_type": "execute_result",
          "data": {
            "text/plain": [
              "0.5531965518371392"
            ]
          },
          "metadata": {},
          "execution_count": 102
        }
      ]
    },
    {
      "cell_type": "code",
      "source": [
        "plot_agg_result(tar_test[:4445]['pax_C1'], pred['pax_C1'],'1H','2021-12-05','2021-12-08')"
      ],
      "metadata": {
        "colab": {
          "base_uri": "https://localhost:8080/",
          "height": 316
        },
        "id": "bY3aVy1UsU8F",
        "outputId": "93a7f8ad-f623-4324-e377-79ee15f0dc10"
      },
      "execution_count": 108,
      "outputs": [
        {
          "output_type": "stream",
          "name": "stdout",
          "text": [
            "0.7682277949267158\n"
          ]
        },
        {
          "output_type": "display_data",
          "data": {
            "text/plain": [
              "<Figure size 432x288 with 1 Axes>"
            ],
            "image/png": "[encoded data removed]"
          },
          "metadata": {
            "needs_background": "light"
          }
        }
      ]
    },
    {
      "cell_type": "code",
      "execution_count": 111,
      "metadata": {
        "id": "kYuXzkldhxe8",
        "colab": {
          "base_uri": "https://localhost:8080/",
          "height": 316
        },
        "outputId": "c503a796-42b0-4c1e-f74a-b59a6979a58e"
      },
      "outputs": [
        {
          "output_type": "stream",
          "name": "stdout",
          "text": [
            "0.626913086066515\n"
          ]
        },
        {
          "output_type": "display_data",
          "data": {
            "text/plain": [
              "<Figure size 432x288 with 1 Axes>"
            ],
            "image/png": "[encoded data removed]"
          },
          "metadata": {
            "needs_background": "light"
          }
        }
      ],
      "source": [
        "plot_agg_result(tar_test[:4445]['pax_C2'], pred['pax_C2'],'1H','2021-12-05','2021-12-08')"
      ]
    },
    {
      "cell_type": "code",
      "source": [
        "plot_agg_result(tar_test[:4450]['pax_C3'], pred['pax_C3'],'1H','2021-12-05','2021-12-08')"
      ],
      "metadata": {
        "colab": {
          "base_uri": "https://localhost:8080/",
          "height": 316
        },
        "id": "D8J8ltDMtc0n",
        "outputId": "5b54b03c-1d8b-427c-958c-cf75e4ad1303"
      },
      "execution_count": 110,
      "outputs": [
        {
          "output_type": "stream",
          "name": "stdout",
          "text": [
            "0.6194919717224898\n"
          ]
        },
        {
          "output_type": "display_data",
          "data": {
            "text/plain": [
              "<Figure size 432x288 with 1 Axes>"
            ],
            "image/png": "[encoded data removed]"
          },
          "metadata": {
            "needs_background": "light"
          }
        }
      ]
    },
    {
      "cell_type": "code",
      "source": [
        "joblib.dump(regr_model, 'concourse_lr.pkl')"
      ],
      "metadata": {
        "colab": {
          "base_uri": "https://localhost:8080/"
        },
        "id": "FtJI-DOQuZ9H",
        "outputId": "65391126-52b1-4e30-c0b6-9939a2492151"
      },
      "execution_count": 114,
      "outputs": [
        {
          "output_type": "execute_result",
          "data": {
            "text/plain": [
              "['concourse_lr.pkl']"
            ]
          },
          "metadata": {},
          "execution_count": 114
        }
      ]
    },
    {
      "cell_type": "markdown",
      "metadata": {
        "id": "xRnCBiZDoGQQ"
      },
      "source": [
        "## VARIMA"
      ]
    },
    {
      "cell_type": "code",
      "execution_count": null,
      "metadata": {
        "id": "pWT3ddeqoH_q"
      },
      "outputs": [],
      "source": [
        "varima = VARIMA()\n",
        "varima.fit(tar_train, future_covariates=cov_sc)"
      ]
    },
    {
      "cell_type": "code",
      "execution_count": null,
      "metadata": {
        "id": "TMMAGOVYoIad"
      },
      "outputs": [],
      "source": [
        "from statsmodels.tsa.api import VARMAX"
      ]
    },
    {
      "cell_type": "code",
      "execution_count": null,
      "metadata": {
        "id": "H6ZmSfQhoIXA"
      },
      "outputs": [],
      "source": [
        "va = VARMAX(endog=tar_train.pd_dataframe(),exog=cov_sc.pd_dataframe()[:48096],order = (1,0))"
      ]
    },
    {
      "cell_type": "code",
      "execution_count": null,
      "metadata": {
        "id": "v6uv5j4Rr1bH"
      },
      "outputs": [],
      "source": [
        "res = va.fit(maxiter=2,disp=False)"
      ]
    },
    {
      "cell_type": "code",
      "execution_count": null,
      "metadata": {
        "id": "56mwVtLWtovP"
      },
      "outputs": [],
      "source": [
        "print(res.summary())"
      ]
    },
    {
      "cell_type": "code",
      "execution_count": null,
      "metadata": {
        "id": "mBGlkGUoqqAv"
      },
      "outputs": [],
      "source": [
        "va.predict(exog=cov_sc.pd_dataframe())"
      ]
    },
    {
      "cell_type": "markdown",
      "metadata": {
        "id": "OmI_VwsRtMau"
      },
      "source": [
        "## Random Forest"
      ]
    },
    {
      "cell_type": "code",
      "execution_count": null,
      "metadata": {
        "id": "hM2RaSj8qbgh"
      },
      "outputs": [],
      "source": [
        "rf_model = RandomForest(lags=None,lags_future_covariates=(2,15),n_estimators=20, max_depth = 15)\n",
        "\n",
        "rf_model.fit(tar_train, future_covariates=cov_sc)"
      ]
    },
    {
      "cell_type": "code",
      "execution_count": null,
      "metadata": {
        "id": "emfEIaweqbbi"
      },
      "outputs": [],
      "source": [
        "pred = rf_model.predict(n=4450,future_covariates=cov_sc)\n",
        "r2_score(tar_test[:4450].pd_dataframe(),pred.pd_dataframe())"
      ]
    },
    {
      "cell_type": "code",
      "execution_count": null,
      "metadata": {
        "id": "iVBRoL6aqbXb"
      },
      "outputs": [],
      "source": [
        ""
      ]
    },
    {
      "cell_type": "markdown",
      "metadata": {
        "id": "vcQUA17fyvau"
      },
      "source": [
        "## Temporal Fusion Transformer"
      ]
    },
    {
      "cell_type": "code",
      "execution_count": null,
      "metadata": {
        "id": "EiCT9b_SyzU8"
      },
      "outputs": [],
      "source": [
        "tft_model = TFTModel(\n",
        "    input_chunk_length=144,\n",
        "    output_chunk_length=6,\n",
        "    n_epochs = 5,optimizer_kwargs={'lr': .001},\n",
        "    pl_trainer_kwargs={\n",
        "      \"accelerator\": \"gpu\",\n",
        "      \"auto_select_gpus\":True\n",
        "    }\n",
        "    )"
      ]
    },
    {
      "cell_type": "code",
      "execution_count": null,
      "metadata": {
        "id": "Y-uC3eAUzszA"
      },
      "outputs": [],
      "source": [
        "tft_model.fit(tar_train, future_covariates=cov_sc)"
      ]
    },
    {
      "cell_type": "code",
      "execution_count": null,
      "metadata": {
        "id": "Df4v2qG94PfB"
      },
      "outputs": [],
      "source": [
        "sc_tar.inverse_transform(tft_model.predict(n=4000,future_covariates=cov_sc))[2500:2800]['pax_C1'].plot(label='predicted')\n",
        "sc_tar.inverse_transform(tar_test)[2500:2800]['pax_C1'].plot(label='actual')"
      ]
    },
    {
      "cell_type": "code",
      "execution_count": null,
      "metadata": {
        "id": "XazW0GPh4kAy"
      },
      "outputs": [],
      "source": [
        "pred = tft_model.predict(n=4450,future_covariates=cov_sc)\n",
        "print(r2_score(tar_test[:4450].pd_dataframe(),pred.pd_dataframe()))"
      ]
    },
    {
      "cell_type": "markdown",
      "metadata": {
        "id": "RUIlsjcGtYyK"
      },
      "source": [
        "## RNN-LSTM"
      ]
    },
    {
      "cell_type": "code",
      "execution_count": null,
      "metadata": {
        "id": "JDaVh7NltLYW"
      },
      "outputs": [],
      "source": [
        "model_rnn = RNNModel(\n",
        "    model=\"LSTM\",\n",
        "    input_chunk_length=1008,\n",
        "    output_chunk_length=1008,\n",
        "    n_rnn_layers = 4,\n",
        "    hidden_dim=25,\n",
        "    n_epochs=75,\n",
        "    optimizer_kwargs={'lr': .01},\n",
        "    torch_device_str = 'cuda'\n",
        ")"
      ]
    },
    {
      "cell_type": "code",
      "execution_count": null,
      "metadata": {
        "id": "qaafcn08tLC1"
      },
      "outputs": [],
      "source": [
        "model_rnn.fit(tar_train, future_covariates=cov_sc)"
      ]
    },
    {
      "cell_type": "code",
      "execution_count": null,
      "metadata": {
        "id": "CLSZ6B6Dw2zQ"
      },
      "outputs": [],
      "source": [
        "model_rnn.model_params"
      ]
    },
    {
      "cell_type": "code",
      "execution_count": null,
      "metadata": {
        "id": "P1t1fXUsB6FH"
      },
      "outputs": [],
      "source": [
        "pred = model_rnn.predict(n=4450,future_covariates=cov_sc)\n",
        "print(r2_score(tar_test[:4450].pd_dataframe(),pred.pd_dataframe()))"
      ]
    },
    {
      "cell_type": "code",
      "execution_count": null,
      "metadata": {
        "id": "wVCjUvXGtK-0"
      },
      "outputs": [],
      "source": [
        "pred = model_rnn.predict(n=4450,future_covariates=cov_sc)\n",
        "r2_score(tar_test[:4450].pd_dataframe()['pax_C1'],pred.pd_dataframe()['pax_C1'])"
      ]
    },
    {
      "cell_type": "code",
      "execution_count": null,
      "metadata": {
        "id": "MlZeDF3mbBZs"
      },
      "outputs": [],
      "source": [
        "plt.rcParams[\"figure.figsize\"] = (20, 8)"
      ]
    },
    {
      "cell_type": "code",
      "execution_count": null,
      "metadata": {
        "id": "yBULuuWfXePU"
      },
      "outputs": [],
      "source": [
        "sc_tar.inverse_transform(model_rnn.predict(n=4000,future_covariates=cov_sc))[3000:3750]['pax_C1'].plot(label='LSTMpredicted')\n",
        "sc_tar.inverse_transform(regr_model.predict(n=4000,future_covariates=cov_sc))[3000:3750]['pax_C1'].plot(label='regpredicted')\n",
        "sc_tar.inverse_transform(tar_test)[3000:3750]['pax_C1'].plot(label='actual')"
      ]
    },
    {
      "cell_type": "code",
      "execution_count": null,
      "metadata": {
        "id": "syWXc9zYcKIL"
      },
      "outputs": [],
      "source": [
        "\n",
        "r2_score(sc_tar.inverse_transform(tar_test)[:3750]['pax_C1'].pd_dataframe(),sc_tar.inverse_transform(model_rnn.predict(n=4000,future_covariates=cov_sc))[:3750]['pax_C1'].pd_dataframe())"
      ]
    },
    {
      "cell_type": "code",
      "execution_count": null,
      "metadata": {
        "id": "WuShOSB3JGVs"
      },
      "outputs": [],
      "source": [
        "sc_tar.inverse_transform(model_rnn.predict(n=4000,future_covariates=cov_sc))[2000:2300]['pax_C1'].plot()\n",
        "sc_tar.inverse_transform(tar_test)[2000:2300]['pax_C1'].plot()"
      ]
    },
    {
      "cell_type": "code",
      "execution_count": null,
      "metadata": {
        "id": "MThStAflEY8O"
      },
      "outputs": [],
      "source": [
        "sc_tar.inverse_transform(model_rnn.predict(n=4000,future_covariates=cov_sc))[2000:2300]['pax_C1'].plot()\n",
        "sc_tar.inverse_transform(tar_test)[2000:2300]['pax_C1'].plot()"
      ]
    },
    {
      "cell_type": "code",
      "execution_count": null,
      "metadata": {
        "id": "UZkmRKJgC2Q-"
      },
      "outputs": [],
      "source": [
        "sc_tar.inverse_transform(model_rnn.predict(n=4000,future_covariates=cov_sc))[2000:2300]['pax_C1'].plot()\n",
        "sc_tar.inverse_transform(tar_test)[2000:2300]['pax_C1'].plot()"
      ]
    },
    {
      "cell_type": "code",
      "execution_count": null,
      "metadata": {
        "id": "u1RpM7BpyzSy"
      },
      "outputs": [],
      "source": [
        "sc_tar.inverse_transform(model_rnn.predict(n=4000,future_covariates=cov_sc))[2000:2300]['pax_C1'].plot()\n",
        "sc_tar.inverse_transform(tar_test)[2000:2300]['pax_C1'].plot()"
      ]
    },
    {
      "cell_type": "code",
      "execution_count": null,
      "metadata": {
        "id": "wtKYsLgYvZl-"
      },
      "outputs": [],
      "source": [
        "sc_tar.inverse_transform(model_rnn.predict(n=4000,future_covariates=cov_sc))[2000:2300]['pax_C1'].plot()\n",
        "sc_tar.inverse_transform(tar_test)[2000:2300]['pax_C1'].plot()"
      ]
    },
    {
      "cell_type": "code",
      "execution_count": null,
      "metadata": {
        "id": "5-xD1mKxtK7I"
      },
      "outputs": [],
      "source": [
        ""
      ]
    },
    {
      "cell_type": "code",
      "execution_count": null,
      "metadata": {
        "id": "FzjnPZKBfgBs"
      },
      "outputs": [],
      "source": [
        "model_rnn_1 = RNNModel(\n",
        "    model=\"LSTM\",\n",
        "    input_chunk_length=144,\n",
        "    output_chunk_length=6,\n",
        "    n_rnn_layers = 4,\n",
        "    hidden_dim=25,\n",
        "    n_epochs=500,\n",
        "    optimizer_kwargs={'lr': .001},\n",
        "    pl_trainer_kwargs={\n",
        "      \"accelerator\": \"gpu\",\n",
        "      \"auto_select_gpus\":True\n",
        "      # \"tpu_cores\": [4],\n",
        "      # \"precision\":32\n",
        "    }\n",
        "    # torch_device_str = 'cuda'\n",
        ")"
      ]
    },
    {
      "cell_type": "code",
      "execution_count": null,
      "metadata": {
        "id": "5OdCjtGUff-q"
      },
      "outputs": [],
      "source": [
        "model_rnn_1.fit(tar_train, future_covariates=cov_sc)"
      ]
    },
    {
      "cell_type": "code",
      "execution_count": null,
      "metadata": {
        "id": "GTuE_Euxlec6"
      },
      "outputs": [],
      "source": [
        "import joblib\n",
        "joblib.dump(model_rnn_1,'rnn_bad.pkl')"
      ]
    },
    {
      "cell_type": "code",
      "execution_count": null,
      "metadata": {
        "id": "eIgUNPZyff7q"
      },
      "outputs": [],
      "source": [
        "sc_tar.inverse_transform(model_rnn_1.predict(n=4000,future_covariates=cov_sc))[2500:2800]['pax_C1'].plot(label='predicted')\n",
        "sc_tar.inverse_transform(tar_test)[2500:2800]['pax_C1'].plot(label='actual')"
      ]
    },
    {
      "cell_type": "code",
      "execution_count": null,
      "metadata": {
        "id": "24lO4QuFff45"
      },
      "outputs": [],
      "source": [
        "pred = model_rnn_1.predict(n=4450,future_covariates=cov_sc)\n",
        "print(r2_score(tar_test[:4450].pd_dataframe(),pred.pd_dataframe()))"
      ]
    },
    {
      "cell_type": "code",
      "execution_count": null,
      "metadata": {
        "id": "PWmlIJo5vq6P"
      },
      "outputs": [],
      "source": [
        "#Initialize the LSTM model"
      ]
    },
    {
      "cell_type": "code",
      "execution_count": null,
      "metadata": {
        "id": "LmclZzkYTysU"
      },
      "outputs": [],
      "source": [
        "model_cov = BlockRNNModel(\n",
        "    model=\"LSTM\",\n",
        "    input_chunk_length=2016,\n",
        "    output_chunk_length=1008,\n",
        "    n_epochs=2\n",
        ")"
      ]
    },
    {
      "cell_type": "code",
      "execution_count": null,
      "metadata": {
        "id": "0KfX-5SoOGR4"
      },
      "outputs": [],
      "source": [
        "model_cov.fit(\n",
        "    series=tar_train,\n",
        "    past_covariates= cov_train,\n",
        "    verbose=True,\n",
        ")"
      ]
    },
    {
      "cell_type": "code",
      "execution_count": null,
      "metadata": {
        "id": "Wr1iv6RGvyua"
      },
      "outputs": [],
      "source": [
        "#Use model to predict "
      ]
    },
    {
      "cell_type": "code",
      "execution_count": null,
      "metadata": {
        "id": "EQQci4Hrsmoe"
      },
      "outputs": [],
      "source": [
        "pred = model_cov.predict(len(tar_test), series=tar_train, past_covariates=cov_sc)"
      ]
    },
    {
      "cell_type": "code",
      "execution_count": null,
      "metadata": {
        "id": "i1b5FN9tG70g"
      },
      "outputs": [],
      "source": [
        "#Plot passenger passing concourse  A/B/C actual vs predicted for reference\n",
        "pred['pax_C1'][:500].plot()\n",
        "tar_test['pax_C1'][:500].plot()"
      ]
    },
    {
      "cell_type": "code",
      "execution_count": null,
      "metadata": {
        "id": "3jO-SSqsHHIZ"
      },
      "outputs": [],
      "source": [
        "pred['pax_C2'][:500].plot()\n",
        "tar_test['pax_C2'][:500].plot()"
      ]
    },
    {
      "cell_type": "code",
      "execution_count": null,
      "metadata": {
        "id": "FukH7WNQHHeH"
      },
      "outputs": [],
      "source": [
        "pred['pax_C3'][:500].plot()\n",
        "tar_test['pax_C3'][:500].plot()"
      ]
    }
  ],
  "metadata": {
    "accelerator": "GPU",
    "colab": {
      "collapsed_sections": [],
      "name": "gabe_Darts_pax vs concourse.ipynb",
      "provenance": []
    },
    "gpuClass": "standard",
    "kernelspec": {
      "display_name": "Python 3.8.13 ('darts2')",
      "language": "python",
      "name": "python3"
    },
    "language_info": {
      "codemirror_mode": {
        "name": "ipython",
        "version": 3
      },
      "file_extension": ".py",
      "mimetype": "text/x-python",
      "name": "python",
      "nbconvert_exporter": "python",
      "pygments_lexer": "ipython3",
      "version": "3.8.13"
    },
    "vscode": {
      "interpreter": {
        "hash": "868c23b7cc9b1a6cbbacd6f07dc5e5466c45de94169ab28303963804f64e800c"
      }
    }
  },
  "nbformat": 4,
  "nbformat_minor": 0
}