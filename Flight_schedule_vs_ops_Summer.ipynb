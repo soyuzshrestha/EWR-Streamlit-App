{
 "cells": [
  {
   "cell_type": "code",
   "execution_count": 2,
   "id": "de0463a6",
   "metadata": {},
   "outputs": [],
   "source": [
    "import pandas as pd\n",
    "import numpy as np\n",
    "import seaborn as sns\n",
    "import pyowm\n",
    "import os\n",
    "from datetime import datetime, date\n",
    "import datetime as dt\n",
    "import urllib\n",
    "import holidays\n",
    "from sklearn.preprocessing import StandardScaler\n",
    "from sklearn.linear_model import Lasso, Ridge, LinearRegression\n",
    "import warnings\n",
    "warnings.filterwarnings('ignore')\n",
    "import matplotlib.pyplot as plt\n",
    "import statsmodels.formula.api as smf\n",
    "import matplotlib.pylab as plt\n",
    "import math\n",
    "import os \n",
    "import seaborn as sns #for styling the plots\n",
    "import urllib.request\n",
    "%matplotlib inline"
   ]
  },
  {
   "cell_type": "code",
   "execution_count": 172,
   "id": "ac86dc3c",
   "metadata": {},
   "outputs": [],
   "source": [
    "sch_flight = pd.read_csv(r'FlightDelay/Data/Flight_Schedule.csv')\n",
    "ops_flight = pd.read_csv(r'FlightDelay/Data/Aerobahn_with_Schedule.csv')\n",
    "weather = pd.read_csv(r'FlightDelay/Data/weather_2021_2022.csv')\n",
    "aircode = pd.read_csv(r'LookupTables/airport-codes.csv')"
   ]
  },
  {
   "cell_type": "markdown",
   "id": "b86e9a7a",
   "metadata": {},
   "source": [
    "Merge Seasons data with flight schedule"
   ]
  },
  {
   "cell_type": "code",
   "execution_count": 173,
   "id": "cdaf8052",
   "metadata": {},
   "outputs": [],
   "source": [
    "#Create seasons\n",
    "sch_flight['date'] = pd.to_datetime(sch_flight['Date'], format='%m/%d/%Y')\n",
    "s = {12:'Winter',1:'Winter',2:'Winter',3:'Winter', \n",
    "     4:'Spring',5:'Spring',6:'Summer', 7:'Summer', 8:'Summer',\n",
    "     9:'Summer',10:'Fall',11:'Fall'}"
   ]
  },
  {
   "cell_type": "code",
   "execution_count": 174,
   "id": "773f5ce5",
   "metadata": {},
   "outputs": [],
   "source": [
    "#Using lamdda to join season data with flight schedule\n",
    "sch_flight['Season'] = sch_flight.filter(like='date').apply(lambda d: d.dt.month.map(s)).agg(', '.join, axis=1)"
   ]
  },
  {
   "cell_type": "markdown",
   "id": "a7f25f06",
   "metadata": {},
   "source": [
    "Merge Holiday data with flight schedule"
   ]
  },
  {
   "cell_type": "code",
   "execution_count": 175,
   "id": "d6c20830",
   "metadata": {},
   "outputs": [],
   "source": [
    "#import US holidays (for NY and NJ) from the holidays library\n",
    "hds = holidays.US(subdiv = 'NY',years = [2021,2022]) + holidays.US(subdiv = 'NJ',years = [2021,2022])"
   ]
  },
  {
   "cell_type": "code",
   "execution_count": 177,
   "id": "ff9efee6",
   "metadata": {
    "scrolled": true
   },
   "outputs": [],
   "source": [
    "#days surrounding the holidays also tend to have higher demand. Identify the surrounding days.\n",
    "fl_hds = []\n",
    "for date, name in sorted(hds.items()):\n",
    "    if (name == 'Christmas Day') | (name == 'Thanksgiving') | (name == \"New Year's Day\")| (name == 'Independence Day'):\n",
    "    # for the big holidays, we would expect to see increased travel on 3 days before and after\n",
    "        fl_hds.append(date - dt.timedelta(1))\n",
    "        fl_hds.append(date - dt.timedelta(2))\n",
    "        fl_hds.append(date - dt.timedelta(3))\n",
    "        fl_hds.append(date + dt.timedelta(1))\n",
    "        fl_hds.append(date + dt.timedelta(2))\n",
    "        fl_hds.append(date + dt.timedelta(3))\n",
    "    elif date.weekday() == 0:\n",
    "    # for Monday holidays, we would expect to see increased travel on the Friday, Saturday, and Sunday prior\n",
    "        fl_hds.append(date - dt.timedelta(1))\n",
    "        fl_hds.append(date - dt.timedelta(2))\n",
    "        fl_hds.append(date - dt.timedelta(3))\n",
    "    elif date.weekday() == 4:\n",
    "    # for Friday holidays, we would expect to see increased travel on the Saturday and Sunday after\n",
    "        fl_hds.append(date + dt.timedelta(1))\n",
    "        fl_hds.append(date + dt.timedelta(2))"
   ]
  },
  {
   "cell_type": "code",
   "execution_count": 178,
   "id": "16e8b6ad",
   "metadata": {},
   "outputs": [],
   "source": [
    "sch_flight['holiday'] = 0\n",
    "for i in sch_flight.index:\n",
    "    if sch_flight.loc[i,'Date'] in hds:\n",
    "        sch_flight.loc[i,'holiday'] = 1\n",
    "    elif sch_flight.loc[i,'Date'] in fl_hds:\n",
    "        sch_flight.loc[i,'holiday'] = 1"
   ]
  },
  {
   "cell_type": "code",
   "execution_count": 179,
   "id": "62c21347",
   "metadata": {},
   "outputs": [
    {
     "data": {
      "text/plain": [
       "count    54866.000000\n",
       "mean         0.050632\n",
       "std          0.219248\n",
       "min          0.000000\n",
       "25%          0.000000\n",
       "50%          0.000000\n",
       "75%          0.000000\n",
       "max          1.000000\n",
       "Name: holiday, dtype: float64"
      ]
     },
     "execution_count": 179,
     "metadata": {},
     "output_type": "execute_result"
    }
   ],
   "source": [
    "sch_flight['holiday'].describe()"
   ]
  },
  {
   "cell_type": "markdown",
   "id": "67df00a6",
   "metadata": {},
   "source": [
    "Merge Region with flight schedule"
   ]
  },
  {
   "cell_type": "code",
   "execution_count": 180,
   "id": "f71ec04c",
   "metadata": {},
   "outputs": [],
   "source": [
    "#merge flight schedule data with region\n",
    "sch_flight = pd.merge(sch_flight, aircode[['iata_code','Region']],left_on = 'Non-PA Airport Code',right_on = 'iata_code', how='left')"
   ]
  },
  {
   "cell_type": "markdown",
   "id": "7ffd0c31",
   "metadata": {},
   "source": [
    "Prepping flight schedule and Operation data"
   ]
  },
  {
   "cell_type": "code",
   "execution_count": 181,
   "id": "6824fd50",
   "metadata": {},
   "outputs": [],
   "source": [
    "#Selecting relevant columns\n",
    "sch_flight = sch_flight [['Date', 'Military Time', 'Flight Direction',\n",
    "       'PA Airport Code', 'Terminal Desc', 'Non-PA Airport Code',\n",
    "       'Non-PA Airport Country Desc', 'International Domestic', 'State Desc',\n",
    "       'Marketing Airline Desc', 'Marketing Airline ICAO Code',\n",
    "       'Operating Airline Desc', 'Operating Airline ICAO Code',\n",
    "       'Flight Number', 'General Aircraft Desc', 'Variant Aircraft Desc',\n",
    "       'Variant Aircraft Code', 'Total Seats', 'Flight Distance',\n",
    "       'Total Flights', 'iata_code', 'Region','Season','holiday']]"
   ]
  },
  {
   "cell_type": "code",
   "execution_count": 182,
   "id": "d2bf73eb",
   "metadata": {},
   "outputs": [],
   "source": [
    "#Replace spaces in between column name\n",
    "weather.columns = [x.replace(' ','_') for x in weather.columns]"
   ]
  },
  {
   "cell_type": "code",
   "execution_count": 183,
   "id": "fd043ebd",
   "metadata": {},
   "outputs": [
    {
     "name": "stdout",
     "output_type": "stream",
     "text": [
      "Scheduled flight count: (55478, 24) & Operating Flight count: (53486, 23)\n"
     ]
    }
   ],
   "source": [
    "print('Scheduled flight count:',sch_flight.shape , '& Operating Flight count:',ops_flight.shape)"
   ]
  },
  {
   "cell_type": "code",
   "execution_count": 184,
   "id": "eea6bc55",
   "metadata": {},
   "outputs": [],
   "source": [
    "sch_flight= sch_flight.dropna()\n",
    "ops_flight = ops_flight.dropna()"
   ]
  },
  {
   "cell_type": "code",
   "execution_count": 185,
   "id": "f21291ba",
   "metadata": {},
   "outputs": [
    {
     "data": {
      "text/plain": [
       "((55478, 24), (53193, 23))"
      ]
     },
     "execution_count": 185,
     "metadata": {},
     "output_type": "execute_result"
    }
   ],
   "source": [
    "sch_flight.shape,ops_flight.shape"
   ]
  },
  {
   "cell_type": "code",
   "execution_count": 186,
   "id": "5060fed7",
   "metadata": {},
   "outputs": [
    {
     "data": {
      "text/plain": [
       "Index(['Date', 'Military Hour', 'Minutes', 'Military Time', 'Block Schedule',\n",
       "       'Flight Direction', 'PA Airport Code', 'Terminal Desc',\n",
       "       'Concourse Desc', 'Gate Desc', 'Non-PA Airport Code',\n",
       "       'Non-PA Airport Country Desc', 'State Desc', 'Marketing Airline Desc',\n",
       "       'Marketing Airline ICAO Code', 'Operating Airline Desc',\n",
       "       'Operating Airline ICAO Code', 'Call Sign', 'General Aircraft Desc',\n",
       "       'Variant Aircraft Desc', 'Variant Aircraft Code', 'Max Seats',\n",
       "       'Total Flights'],\n",
       "      dtype='object')"
      ]
     },
     "execution_count": 186,
     "metadata": {},
     "output_type": "execute_result"
    }
   ],
   "source": [
    "ops_flight.columns"
   ]
  },
  {
   "cell_type": "code",
   "execution_count": 187,
   "id": "fede10a4",
   "metadata": {},
   "outputs": [],
   "source": [
    "#Replace spaces in between column name\n",
    "sch_flight.columns = [x.replace(' ','_') for x in sch_flight.columns]\n",
    "ops_flight.columns = [x.replace(' ','_') for x in ops_flight.columns]"
   ]
  },
  {
   "cell_type": "code",
   "execution_count": 188,
   "id": "951d62c0",
   "metadata": {},
   "outputs": [],
   "source": [
    "sch_flight['Date'] = pd.to_datetime(sch_flight['Date'])"
   ]
  },
  {
   "cell_type": "code",
   "execution_count": 189,
   "id": "04b67fa0",
   "metadata": {},
   "outputs": [],
   "source": [
    "sch_flight['DOW'] = sch_flight['Date'].dt.weekday"
   ]
  },
  {
   "cell_type": "code",
   "execution_count": 190,
   "id": "fe2ac882",
   "metadata": {},
   "outputs": [
    {
     "data": {
      "text/html": [
       "<div>\n",
       "<style scoped>\n",
       "    .dataframe tbody tr th:only-of-type {\n",
       "        vertical-align: middle;\n",
       "    }\n",
       "\n",
       "    .dataframe tbody tr th {\n",
       "        vertical-align: top;\n",
       "    }\n",
       "\n",
       "    .dataframe thead th {\n",
       "        text-align: right;\n",
       "    }\n",
       "</style>\n",
       "<table border=\"1\" class=\"dataframe\">\n",
       "  <thead>\n",
       "    <tr style=\"text-align: right;\">\n",
       "      <th></th>\n",
       "      <th>Date</th>\n",
       "      <th>Military_Time</th>\n",
       "      <th>Flight_Direction</th>\n",
       "      <th>PA_Airport_Code</th>\n",
       "      <th>Terminal_Desc</th>\n",
       "      <th>Non-PA_Airport_Code</th>\n",
       "      <th>Non-PA_Airport_Country_Desc</th>\n",
       "      <th>International_Domestic</th>\n",
       "      <th>State_Desc</th>\n",
       "      <th>Marketing_Airline_Desc</th>\n",
       "      <th>...</th>\n",
       "      <th>Variant_Aircraft_Desc</th>\n",
       "      <th>Variant_Aircraft_Code</th>\n",
       "      <th>Total_Seats</th>\n",
       "      <th>Flight_Distance</th>\n",
       "      <th>Total_Flights</th>\n",
       "      <th>iata_code</th>\n",
       "      <th>Region</th>\n",
       "      <th>Season</th>\n",
       "      <th>holiday</th>\n",
       "      <th>DOW</th>\n",
       "    </tr>\n",
       "  </thead>\n",
       "  <tbody>\n",
       "    <tr>\n",
       "      <th>0</th>\n",
       "      <td>2021-01-01</td>\n",
       "      <td>0:59:00</td>\n",
       "      <td>Departure</td>\n",
       "      <td>EWR</td>\n",
       "      <td>EWR-Terminal B</td>\n",
       "      <td>SJU</td>\n",
       "      <td>USA</td>\n",
       "      <td>Domestic</td>\n",
       "      <td>Puerto Rico</td>\n",
       "      <td>Spirit Airlines</td>\n",
       "      <td>...</td>\n",
       "      <td>Airbus A321 (Sharklets)</td>\n",
       "      <td>32B</td>\n",
       "      <td>228</td>\n",
       "      <td>1,608</td>\n",
       "      <td>1</td>\n",
       "      <td>SJU</td>\n",
       "      <td>Latin America &amp; Caribbean</td>\n",
       "      <td>Winter</td>\n",
       "      <td>1</td>\n",
       "      <td>4</td>\n",
       "    </tr>\n",
       "    <tr>\n",
       "      <th>1</th>\n",
       "      <td>2021-01-01</td>\n",
       "      <td>1:29:00</td>\n",
       "      <td>Arrival</td>\n",
       "      <td>EWR</td>\n",
       "      <td>EWR-Terminal B</td>\n",
       "      <td>STI</td>\n",
       "      <td>Dominican Republic</td>\n",
       "      <td>International</td>\n",
       "      <td>International</td>\n",
       "      <td>JetBlue Airways</td>\n",
       "      <td>...</td>\n",
       "      <td>Airbus A321</td>\n",
       "      <td>321</td>\n",
       "      <td>200</td>\n",
       "      <td>1,476</td>\n",
       "      <td>1</td>\n",
       "      <td>STI</td>\n",
       "      <td>Latin America &amp; Caribbean</td>\n",
       "      <td>Winter</td>\n",
       "      <td>1</td>\n",
       "      <td>4</td>\n",
       "    </tr>\n",
       "    <tr>\n",
       "      <th>2</th>\n",
       "      <td>2021-01-01</td>\n",
       "      <td>4:25:00</td>\n",
       "      <td>Arrival</td>\n",
       "      <td>EWR</td>\n",
       "      <td>EWR-Terminal B</td>\n",
       "      <td>DEL</td>\n",
       "      <td>India</td>\n",
       "      <td>International</td>\n",
       "      <td>International</td>\n",
       "      <td>United Airlines</td>\n",
       "      <td>...</td>\n",
       "      <td>Boeing 777-300ER</td>\n",
       "      <td>77W</td>\n",
       "      <td>350</td>\n",
       "      <td>7,323</td>\n",
       "      <td>1</td>\n",
       "      <td>DEL</td>\n",
       "      <td>Asia</td>\n",
       "      <td>Winter</td>\n",
       "      <td>1</td>\n",
       "      <td>4</td>\n",
       "    </tr>\n",
       "  </tbody>\n",
       "</table>\n",
       "<p>3 rows × 25 columns</p>\n",
       "</div>"
      ],
      "text/plain": [
       "        Date Military_Time Flight_Direction PA_Airport_Code   Terminal_Desc  \\\n",
       "0 2021-01-01       0:59:00        Departure             EWR  EWR-Terminal B   \n",
       "1 2021-01-01       1:29:00          Arrival             EWR  EWR-Terminal B   \n",
       "2 2021-01-01       4:25:00          Arrival             EWR  EWR-Terminal B   \n",
       "\n",
       "  Non-PA_Airport_Code Non-PA_Airport_Country_Desc International_Domestic  \\\n",
       "0                 SJU                         USA               Domestic   \n",
       "1                 STI          Dominican Republic          International   \n",
       "2                 DEL                       India          International   \n",
       "\n",
       "      State_Desc Marketing_Airline_Desc  ...    Variant_Aircraft_Desc  \\\n",
       "0    Puerto Rico        Spirit Airlines  ...  Airbus A321 (Sharklets)   \n",
       "1  International        JetBlue Airways  ...              Airbus A321   \n",
       "2  International        United Airlines  ...         Boeing 777-300ER   \n",
       "\n",
       "  Variant_Aircraft_Code Total_Seats  Flight_Distance Total_Flights iata_code  \\\n",
       "0                   32B         228            1,608             1       SJU   \n",
       "1                   321         200            1,476             1       STI   \n",
       "2                   77W         350            7,323             1       DEL   \n",
       "\n",
       "                      Region  Season holiday  DOW  \n",
       "0  Latin America & Caribbean  Winter       1    4  \n",
       "1  Latin America & Caribbean  Winter       1    4  \n",
       "2                       Asia  Winter       1    4  \n",
       "\n",
       "[3 rows x 25 columns]"
      ]
     },
     "execution_count": 190,
     "metadata": {},
     "output_type": "execute_result"
    }
   ],
   "source": [
    "sch_flight.head(3)"
   ]
  },
  {
   "cell_type": "code",
   "execution_count": 191,
   "id": "4c5ecd00",
   "metadata": {},
   "outputs": [],
   "source": [
    "ops_flight['Flight_Departure'] = pd.to_datetime(ops_flight['Date']+' '+ops_flight['Military_Time'])"
   ]
  },
  {
   "cell_type": "code",
   "execution_count": 192,
   "id": "b694d243",
   "metadata": {},
   "outputs": [
    {
     "data": {
      "text/html": [
       "<div>\n",
       "<style scoped>\n",
       "    .dataframe tbody tr th:only-of-type {\n",
       "        vertical-align: middle;\n",
       "    }\n",
       "\n",
       "    .dataframe tbody tr th {\n",
       "        vertical-align: top;\n",
       "    }\n",
       "\n",
       "    .dataframe thead th {\n",
       "        text-align: right;\n",
       "    }\n",
       "</style>\n",
       "<table border=\"1\" class=\"dataframe\">\n",
       "  <thead>\n",
       "    <tr style=\"text-align: right;\">\n",
       "      <th></th>\n",
       "      <th>Date</th>\n",
       "      <th>Military_Hour</th>\n",
       "      <th>Minutes</th>\n",
       "      <th>Military_Time</th>\n",
       "      <th>Block_Schedule</th>\n",
       "      <th>Flight_Direction</th>\n",
       "      <th>PA_Airport_Code</th>\n",
       "      <th>Terminal_Desc</th>\n",
       "      <th>Concourse_Desc</th>\n",
       "      <th>Gate_Desc</th>\n",
       "      <th>...</th>\n",
       "      <th>Marketing_Airline_ICAO_Code</th>\n",
       "      <th>Operating_Airline_Desc</th>\n",
       "      <th>Operating_Airline_ICAO_Code</th>\n",
       "      <th>Call_Sign</th>\n",
       "      <th>General_Aircraft_Desc</th>\n",
       "      <th>Variant_Aircraft_Desc</th>\n",
       "      <th>Variant_Aircraft_Code</th>\n",
       "      <th>Max_Seats</th>\n",
       "      <th>Total_Flights</th>\n",
       "      <th>Flight_Departure</th>\n",
       "    </tr>\n",
       "  </thead>\n",
       "  <tbody>\n",
       "    <tr>\n",
       "      <th>0</th>\n",
       "      <td>1/1/2021</td>\n",
       "      <td>0</td>\n",
       "      <td>22</td>\n",
       "      <td>0:22:45</td>\n",
       "      <td>1/1/2021 0:59</td>\n",
       "      <td>Arrival</td>\n",
       "      <td>EWR</td>\n",
       "      <td>EWR-Terminal B</td>\n",
       "      <td>Concourse B-1</td>\n",
       "      <td>B41B</td>\n",
       "      <td>...</td>\n",
       "      <td>NKS</td>\n",
       "      <td>Spirit Airlines</td>\n",
       "      <td>NKS</td>\n",
       "      <td>NKS1036</td>\n",
       "      <td>Airbus A318/319/320/321</td>\n",
       "      <td>Airbus A321</td>\n",
       "      <td>A321</td>\n",
       "      <td>185</td>\n",
       "      <td>1</td>\n",
       "      <td>2021-01-01 00:22:45</td>\n",
       "    </tr>\n",
       "    <tr>\n",
       "      <th>1</th>\n",
       "      <td>1/1/2021</td>\n",
       "      <td>1</td>\n",
       "      <td>5</td>\n",
       "      <td>1:05:58</td>\n",
       "      <td>1/1/2021 0:59</td>\n",
       "      <td>Departure</td>\n",
       "      <td>EWR</td>\n",
       "      <td>EWR-Terminal B</td>\n",
       "      <td>Concourse B-3</td>\n",
       "      <td>B61</td>\n",
       "      <td>...</td>\n",
       "      <td>NKS</td>\n",
       "      <td>Spirit Airlines</td>\n",
       "      <td>NKS</td>\n",
       "      <td>NKS1035</td>\n",
       "      <td>Airbus A318/319/320/321</td>\n",
       "      <td>Airbus A321</td>\n",
       "      <td>A321</td>\n",
       "      <td>185</td>\n",
       "      <td>1</td>\n",
       "      <td>2021-01-01 01:05:58</td>\n",
       "    </tr>\n",
       "    <tr>\n",
       "      <th>2</th>\n",
       "      <td>1/1/2021</td>\n",
       "      <td>1</td>\n",
       "      <td>47</td>\n",
       "      <td>1:47:14</td>\n",
       "      <td>1/1/2021 1:29</td>\n",
       "      <td>Arrival</td>\n",
       "      <td>EWR</td>\n",
       "      <td>EWR-Terminal B</td>\n",
       "      <td>Concourse B-2</td>\n",
       "      <td>B56</td>\n",
       "      <td>...</td>\n",
       "      <td>JBU</td>\n",
       "      <td>JetBlue Airways</td>\n",
       "      <td>JBU</td>\n",
       "      <td>JBU1494</td>\n",
       "      <td>Airbus A318/319/320/321</td>\n",
       "      <td>Airbus A321</td>\n",
       "      <td>A321</td>\n",
       "      <td>185</td>\n",
       "      <td>1</td>\n",
       "      <td>2021-01-01 01:47:14</td>\n",
       "    </tr>\n",
       "    <tr>\n",
       "      <th>3</th>\n",
       "      <td>1/1/2021</td>\n",
       "      <td>4</td>\n",
       "      <td>9</td>\n",
       "      <td>4:09:16</td>\n",
       "      <td>1/1/2021 4:45</td>\n",
       "      <td>Arrival</td>\n",
       "      <td>EWR</td>\n",
       "      <td>EWR-Terminal B</td>\n",
       "      <td>Concourse B-2</td>\n",
       "      <td>B53</td>\n",
       "      <td>...</td>\n",
       "      <td>UAL</td>\n",
       "      <td>United Airlines</td>\n",
       "      <td>UAL</td>\n",
       "      <td>UAL91</td>\n",
       "      <td>Boeing 787</td>\n",
       "      <td>Boeing 787-9</td>\n",
       "      <td>B789</td>\n",
       "      <td>280</td>\n",
       "      <td>1</td>\n",
       "      <td>2021-01-01 04:09:16</td>\n",
       "    </tr>\n",
       "  </tbody>\n",
       "</table>\n",
       "<p>4 rows × 24 columns</p>\n",
       "</div>"
      ],
      "text/plain": [
       "       Date  Military_Hour  Minutes Military_Time Block_Schedule  \\\n",
       "0  1/1/2021              0       22       0:22:45  1/1/2021 0:59   \n",
       "1  1/1/2021              1        5       1:05:58  1/1/2021 0:59   \n",
       "2  1/1/2021              1       47       1:47:14  1/1/2021 1:29   \n",
       "3  1/1/2021              4        9       4:09:16  1/1/2021 4:45   \n",
       "\n",
       "  Flight_Direction PA_Airport_Code   Terminal_Desc Concourse_Desc Gate_Desc  \\\n",
       "0          Arrival             EWR  EWR-Terminal B  Concourse B-1      B41B   \n",
       "1        Departure             EWR  EWR-Terminal B  Concourse B-3       B61   \n",
       "2          Arrival             EWR  EWR-Terminal B  Concourse B-2       B56   \n",
       "3          Arrival             EWR  EWR-Terminal B  Concourse B-2       B53   \n",
       "\n",
       "   ... Marketing_Airline_ICAO_Code Operating_Airline_Desc  \\\n",
       "0  ...                         NKS        Spirit Airlines   \n",
       "1  ...                         NKS        Spirit Airlines   \n",
       "2  ...                         JBU        JetBlue Airways   \n",
       "3  ...                         UAL        United Airlines   \n",
       "\n",
       "  Operating_Airline_ICAO_Code Call_Sign    General_Aircraft_Desc  \\\n",
       "0                         NKS   NKS1036  Airbus A318/319/320/321   \n",
       "1                         NKS   NKS1035  Airbus A318/319/320/321   \n",
       "2                         JBU   JBU1494  Airbus A318/319/320/321   \n",
       "3                         UAL     UAL91               Boeing 787   \n",
       "\n",
       "  Variant_Aircraft_Desc Variant_Aircraft_Code Max_Seats Total_Flights  \\\n",
       "0           Airbus A321                  A321       185             1   \n",
       "1           Airbus A321                  A321       185             1   \n",
       "2           Airbus A321                  A321       185             1   \n",
       "3          Boeing 787-9                  B789       280             1   \n",
       "\n",
       "     Flight_Departure  \n",
       "0 2021-01-01 00:22:45  \n",
       "1 2021-01-01 01:05:58  \n",
       "2 2021-01-01 01:47:14  \n",
       "3 2021-01-01 04:09:16  \n",
       "\n",
       "[4 rows x 24 columns]"
      ]
     },
     "execution_count": 192,
     "metadata": {},
     "output_type": "execute_result"
    }
   ],
   "source": [
    "ops_flight.head(4)"
   ]
  },
  {
   "cell_type": "code",
   "execution_count": 193,
   "id": "5a1103f1",
   "metadata": {},
   "outputs": [],
   "source": [
    "#Fitlering data for just departing flihts\n",
    "sch_flight = sch_flight[sch_flight.Flight_Direction=='Departure']\n",
    "ops_flight = ops_flight[ops_flight.Flight_Direction=='Departure']"
   ]
  },
  {
   "cell_type": "code",
   "execution_count": 194,
   "id": "563e6349",
   "metadata": {},
   "outputs": [
    {
     "data": {
      "text/plain": [
       "((20325, 25), (18902, 24))"
      ]
     },
     "execution_count": 194,
     "metadata": {},
     "output_type": "execute_result"
    }
   ],
   "source": [
    "sch_flight.shape,ops_flight.shape"
   ]
  },
  {
   "cell_type": "code",
   "execution_count": 163,
   "id": "4f1eabc3",
   "metadata": {},
   "outputs": [],
   "source": [
    "#sch_flight = sch_flight[(sch_flight['Date']>='9/1/2021') & (sch_flight['Date']<='9/30/2021')]\n",
    "#ops_flight = ops_flight[(ops_flight['Date']>='9/1/2021') & (ops_flight['Date']<='9/30/2021')]"
   ]
  },
  {
   "cell_type": "code",
   "execution_count": 164,
   "id": "26a6ca9d",
   "metadata": {},
   "outputs": [
    {
     "data": {
      "text/plain": [
       "('9/1/2021', '9/30/2021')"
      ]
     },
     "execution_count": 164,
     "metadata": {},
     "output_type": "execute_result"
    }
   ],
   "source": [
    "#(ops_flight['Date'].min(), ops_flight['Date'].max())"
   ]
  },
  {
   "cell_type": "code",
   "execution_count": 195,
   "id": "8b3eab5a",
   "metadata": {},
   "outputs": [
    {
     "data": {
      "text/plain": [
       "((20325, 25), (18902, 24))"
      ]
     },
     "execution_count": 195,
     "metadata": {},
     "output_type": "execute_result"
    }
   ],
   "source": [
    "sch_flight.shape,ops_flight.shape"
   ]
  },
  {
   "cell_type": "code",
   "execution_count": 167,
   "id": "3c4a7190",
   "metadata": {},
   "outputs": [],
   "source": [
    "#ops_flight.to_csv('FlightDelay/Data/flight_Operation_Departure.csv')"
   ]
  },
  {
   "cell_type": "code",
   "execution_count": 196,
   "id": "74b36b1c",
   "metadata": {},
   "outputs": [],
   "source": [
    "#Sorting the data for proper alignment before merging.\n",
    "sch_flight=sch_flight.sort_values(by=['Date','Operating_Airline_ICAO_Code'])\n",
    "ops_flight=ops_flight.sort_values(by=['Date','Operating_Airline_ICAO_Code'])"
   ]
  },
  {
   "cell_type": "code",
   "execution_count": 197,
   "id": "8d0b920f",
   "metadata": {},
   "outputs": [
    {
     "data": {
      "text/plain": [
       "dtype('int64')"
      ]
     },
     "execution_count": 197,
     "metadata": {},
     "output_type": "execute_result"
    }
   ],
   "source": [
    "sch_flight['Flight_Number'].dtype"
   ]
  },
  {
   "cell_type": "code",
   "execution_count": 198,
   "id": "ee8c28ad",
   "metadata": {},
   "outputs": [
    {
     "data": {
      "text/plain": [
       "str"
      ]
     },
     "execution_count": 198,
     "metadata": {},
     "output_type": "execute_result"
    }
   ],
   "source": [
    "type(ops_flight['Call_Sign'][1])"
   ]
  },
  {
   "cell_type": "code",
   "execution_count": 199,
   "id": "d3ee67f4",
   "metadata": {},
   "outputs": [],
   "source": [
    "ops_flight ['Actual_Departure'] = ops_flight ['Military_Time']\n",
    "sch_flight ['Actual_Scheduled'] = sch_flight ['Military_Time']"
   ]
  },
  {
   "cell_type": "code",
   "execution_count": 200,
   "id": "22e27717",
   "metadata": {},
   "outputs": [
    {
     "data": {
      "text/plain": [
       "Index(['Date', 'Military_Time', 'Flight_Direction', 'PA_Airport_Code',\n",
       "       'Terminal_Desc', 'Non-PA_Airport_Code', 'Non-PA_Airport_Country_Desc',\n",
       "       'International_Domestic', 'State_Desc', 'Marketing_Airline_Desc',\n",
       "       'Marketing_Airline_ICAO_Code', 'Operating_Airline_Desc',\n",
       "       'Operating_Airline_ICAO_Code', 'Flight_Number', 'General_Aircraft_Desc',\n",
       "       'Variant_Aircraft_Desc', 'Variant_Aircraft_Code', 'Total_Seats',\n",
       "       'Flight_Distance', 'Total_Flights', 'iata_code', 'Region', 'Season',\n",
       "       'holiday', 'DOW', 'Actual_Scheduled'],\n",
       "      dtype='object')"
      ]
     },
     "execution_count": 200,
     "metadata": {},
     "output_type": "execute_result"
    }
   ],
   "source": [
    "sch_flight.columns"
   ]
  },
  {
   "cell_type": "code",
   "execution_count": 201,
   "id": "4bf4d8a8",
   "metadata": {},
   "outputs": [],
   "source": [
    "sch_flight = sch_flight[['Date','Actual_Scheduled','Non-PA_Airport_Country_Desc', 'International_Domestic',\n",
    "                          'State_Desc','Region','Operating_Airline_Desc','Flight_Number','Operating_Airline_ICAO_Code','Total_Seats','holiday',\n",
    "                         'DOW','Season']]"
   ]
  },
  {
   "cell_type": "code",
   "execution_count": 202,
   "id": "4545d960",
   "metadata": {},
   "outputs": [],
   "source": [
    "ops_flight = ops_flight[['Date','Actual_Departure','Military_Hour','Block_Schedule', 'Flight_Departure','Gate_Desc','Non-PA_Airport_Country_Desc', 'State_Desc',\\\n",
    "                         'Operating_Airline_Desc', 'Call_Sign','Operating_Airline_ICAO_Code']]"
   ]
  },
  {
   "cell_type": "code",
   "execution_count": 203,
   "id": "ced050c7",
   "metadata": {},
   "outputs": [
    {
     "data": {
      "text/plain": [
       "(18902, 11)"
      ]
     },
     "execution_count": 203,
     "metadata": {},
     "output_type": "execute_result"
    }
   ],
   "source": [
    "ops_flight.shape"
   ]
  },
  {
   "cell_type": "code",
   "execution_count": 204,
   "id": "9ad618dd",
   "metadata": {},
   "outputs": [
    {
     "data": {
      "text/plain": [
       "(20325, 13)"
      ]
     },
     "execution_count": 204,
     "metadata": {},
     "output_type": "execute_result"
    }
   ],
   "source": [
    "sch_flight.shape"
   ]
  },
  {
   "cell_type": "code",
   "execution_count": 205,
   "id": "ba272e28",
   "metadata": {},
   "outputs": [],
   "source": [
    "ops_flight['flight_Scheduled'] = pd.to_datetime(ops_flight['Block_Schedule']).dt.date"
   ]
  },
  {
   "cell_type": "code",
   "execution_count": 206,
   "id": "237a8bfd",
   "metadata": {},
   "outputs": [],
   "source": [
    "ops_flight['Scheduled_time'] = pd.to_datetime(ops_flight['Block_Schedule']).dt.time"
   ]
  },
  {
   "cell_type": "code",
   "execution_count": 207,
   "id": "2988b9ab",
   "metadata": {},
   "outputs": [
    {
     "data": {
      "text/html": [
       "<div>\n",
       "<style scoped>\n",
       "    .dataframe tbody tr th:only-of-type {\n",
       "        vertical-align: middle;\n",
       "    }\n",
       "\n",
       "    .dataframe tbody tr th {\n",
       "        vertical-align: top;\n",
       "    }\n",
       "\n",
       "    .dataframe thead th {\n",
       "        text-align: right;\n",
       "    }\n",
       "</style>\n",
       "<table border=\"1\" class=\"dataframe\">\n",
       "  <thead>\n",
       "    <tr style=\"text-align: right;\">\n",
       "      <th></th>\n",
       "      <th>Date</th>\n",
       "      <th>Actual_Departure</th>\n",
       "      <th>Military_Hour</th>\n",
       "      <th>Block_Schedule</th>\n",
       "      <th>Flight_Departure</th>\n",
       "      <th>Gate_Desc</th>\n",
       "      <th>Non-PA_Airport_Country_Desc</th>\n",
       "      <th>State_Desc</th>\n",
       "      <th>Operating_Airline_Desc</th>\n",
       "      <th>Call_Sign</th>\n",
       "      <th>Operating_Airline_ICAO_Code</th>\n",
       "      <th>flight_Scheduled</th>\n",
       "      <th>Scheduled_time</th>\n",
       "    </tr>\n",
       "  </thead>\n",
       "  <tbody>\n",
       "    <tr>\n",
       "      <th>36</th>\n",
       "      <td>1/1/2021</td>\n",
       "      <td>11:50:31</td>\n",
       "      <td>11</td>\n",
       "      <td>1/1/2021 11:45</td>\n",
       "      <td>2021-01-01 11:50:31</td>\n",
       "      <td>B62</td>\n",
       "      <td>India</td>\n",
       "      <td>International</td>\n",
       "      <td>Air India Limited</td>\n",
       "      <td>AIC144</td>\n",
       "      <td>AIC</td>\n",
       "      <td>2021-01-01</td>\n",
       "      <td>11:45:00</td>\n",
       "    </tr>\n",
       "    <tr>\n",
       "      <th>86</th>\n",
       "      <td>1/1/2021</td>\n",
       "      <td>18:02:55</td>\n",
       "      <td>18</td>\n",
       "      <td>1/1/2021 17:55</td>\n",
       "      <td>2021-01-01 18:02:55</td>\n",
       "      <td>B61</td>\n",
       "      <td>Austria</td>\n",
       "      <td>International</td>\n",
       "      <td>Austrian Airlines</td>\n",
       "      <td>AUA90</td>\n",
       "      <td>AUA</td>\n",
       "      <td>2021-01-01</td>\n",
       "      <td>17:55:00</td>\n",
       "    </tr>\n",
       "    <tr>\n",
       "      <th>10</th>\n",
       "      <td>1/1/2021</td>\n",
       "      <td>6:35:16</td>\n",
       "      <td>6</td>\n",
       "      <td>1/1/2021 6:00</td>\n",
       "      <td>2021-01-01 06:35:16</td>\n",
       "      <td>B45</td>\n",
       "      <td>USA</td>\n",
       "      <td>Michigan</td>\n",
       "      <td>Delta Air Lines</td>\n",
       "      <td>DAL1646</td>\n",
       "      <td>DAL</td>\n",
       "      <td>2021-01-01</td>\n",
       "      <td>06:00:00</td>\n",
       "    </tr>\n",
       "  </tbody>\n",
       "</table>\n",
       "</div>"
      ],
      "text/plain": [
       "        Date Actual_Departure  Military_Hour  Block_Schedule  \\\n",
       "36  1/1/2021         11:50:31             11  1/1/2021 11:45   \n",
       "86  1/1/2021         18:02:55             18  1/1/2021 17:55   \n",
       "10  1/1/2021          6:35:16              6   1/1/2021 6:00   \n",
       "\n",
       "      Flight_Departure Gate_Desc Non-PA_Airport_Country_Desc     State_Desc  \\\n",
       "36 2021-01-01 11:50:31       B62                       India  International   \n",
       "86 2021-01-01 18:02:55       B61                     Austria  International   \n",
       "10 2021-01-01 06:35:16       B45                         USA       Michigan   \n",
       "\n",
       "   Operating_Airline_Desc Call_Sign Operating_Airline_ICAO_Code  \\\n",
       "36      Air India Limited    AIC144                         AIC   \n",
       "86      Austrian Airlines     AUA90                         AUA   \n",
       "10        Delta Air Lines   DAL1646                         DAL   \n",
       "\n",
       "   flight_Scheduled Scheduled_time  \n",
       "36       2021-01-01       11:45:00  \n",
       "86       2021-01-01       17:55:00  \n",
       "10       2021-01-01       06:00:00  "
      ]
     },
     "execution_count": 207,
     "metadata": {},
     "output_type": "execute_result"
    }
   ],
   "source": [
    "ops_flight.head(3)"
   ]
  },
  {
   "cell_type": "markdown",
   "id": "f92c932b",
   "metadata": {},
   "source": [
    "Merge weather data with Operation data"
   ]
  },
  {
   "cell_type": "code",
   "execution_count": 208,
   "id": "a784ed5e",
   "metadata": {},
   "outputs": [],
   "source": [
    "#Join Weather and flight operations data based on Date and Military hour.\n",
    "ops_flight_weather = ops_flight.merge(weather, on = ['Date','Military_Hour'], how = 'left', indicator = True)"
   ]
  },
  {
   "cell_type": "code",
   "execution_count": 209,
   "id": "bfff7c4a",
   "metadata": {},
   "outputs": [
    {
     "name": "stdout",
     "output_type": "stream",
     "text": [
      "(18902, 13)\n",
      "(11782, 6)\n",
      "(19272, 18)\n"
     ]
    }
   ],
   "source": [
    "print(ops_flight.shape)\n",
    "print(weather.shape)\n",
    "print(ops_flight_weather.shape)"
   ]
  },
  {
   "cell_type": "code",
   "execution_count": 210,
   "id": "ef5af5b1",
   "metadata": {},
   "outputs": [
    {
     "data": {
      "text/plain": [
       "both          17387\n",
       "left_only      1885\n",
       "right_only        0\n",
       "Name: _merge, dtype: int64"
      ]
     },
     "execution_count": 210,
     "metadata": {},
     "output_type": "execute_result"
    }
   ],
   "source": [
    "ops_flight_weather._merge.value_counts()"
   ]
  },
  {
   "cell_type": "code",
   "execution_count": 211,
   "id": "fc09603c",
   "metadata": {},
   "outputs": [
    {
     "data": {
      "text/plain": [
       "Date                              0\n",
       "Actual_Departure                  0\n",
       "Military_Hour                     0\n",
       "Block_Schedule                    0\n",
       "Flight_Departure                  0\n",
       "Gate_Desc                         0\n",
       "Non-PA_Airport_Country_Desc       0\n",
       "State_Desc                        0\n",
       "Operating_Airline_Desc            0\n",
       "Call_Sign                         0\n",
       "Operating_Airline_ICAO_Code       0\n",
       "flight_Scheduled                  0\n",
       "Scheduled_time                    0\n",
       "Airport_Code                   1885\n",
       "Weather_Description            1885\n",
       "Precipitation_(Inches)         1885\n",
       "Visibility_(Miles)             1885\n",
       "_merge                            0\n",
       "dtype: int64"
      ]
     },
     "execution_count": 211,
     "metadata": {},
     "output_type": "execute_result"
    }
   ],
   "source": [
    "ops_flight_weather.isna().sum()"
   ]
  },
  {
   "cell_type": "code",
   "execution_count": 212,
   "id": "8d2f50a0",
   "metadata": {},
   "outputs": [],
   "source": [
    "ops_flight_weather = ops_flight_weather[ops_flight_weather._merge=='both']"
   ]
  },
  {
   "cell_type": "code",
   "execution_count": 213,
   "id": "bb53ad65",
   "metadata": {},
   "outputs": [
    {
     "data": {
      "text/html": [
       "<div>\n",
       "<style scoped>\n",
       "    .dataframe tbody tr th:only-of-type {\n",
       "        vertical-align: middle;\n",
       "    }\n",
       "\n",
       "    .dataframe tbody tr th {\n",
       "        vertical-align: top;\n",
       "    }\n",
       "\n",
       "    .dataframe thead th {\n",
       "        text-align: right;\n",
       "    }\n",
       "</style>\n",
       "<table border=\"1\" class=\"dataframe\">\n",
       "  <thead>\n",
       "    <tr style=\"text-align: right;\">\n",
       "      <th></th>\n",
       "      <th>Date</th>\n",
       "      <th>Actual_Departure</th>\n",
       "      <th>Military_Hour</th>\n",
       "      <th>Block_Schedule</th>\n",
       "      <th>Flight_Departure</th>\n",
       "      <th>Gate_Desc</th>\n",
       "      <th>Non-PA_Airport_Country_Desc</th>\n",
       "      <th>State_Desc</th>\n",
       "      <th>Operating_Airline_Desc</th>\n",
       "      <th>Call_Sign</th>\n",
       "      <th>Operating_Airline_ICAO_Code</th>\n",
       "      <th>flight_Scheduled</th>\n",
       "      <th>Scheduled_time</th>\n",
       "      <th>Airport_Code</th>\n",
       "      <th>Weather_Description</th>\n",
       "      <th>Precipitation_(Inches)</th>\n",
       "      <th>Visibility_(Miles)</th>\n",
       "      <th>_merge</th>\n",
       "    </tr>\n",
       "  </thead>\n",
       "  <tbody>\n",
       "    <tr>\n",
       "      <th>1015</th>\n",
       "      <td>10/1/2021</td>\n",
       "      <td>11:40:09</td>\n",
       "      <td>11</td>\n",
       "      <td>10/1/2021 10:45</td>\n",
       "      <td>2021-10-01 11:40:09</td>\n",
       "      <td>B66</td>\n",
       "      <td>USA</td>\n",
       "      <td>Tennessee</td>\n",
       "      <td>Allegiant Air</td>\n",
       "      <td>AAY2613</td>\n",
       "      <td>AAY</td>\n",
       "      <td>2021-10-01</td>\n",
       "      <td>10:45:00</td>\n",
       "      <td>EWR</td>\n",
       "      <td>Partly cloudy</td>\n",
       "      <td>0.0</td>\n",
       "      <td>10.0</td>\n",
       "      <td>both</td>\n",
       "    </tr>\n",
       "    <tr>\n",
       "      <th>1016</th>\n",
       "      <td>10/1/2021</td>\n",
       "      <td>6:17:01</td>\n",
       "      <td>6</td>\n",
       "      <td>10/1/2021 6:10</td>\n",
       "      <td>2021-10-01 06:17:01</td>\n",
       "      <td>B46A</td>\n",
       "      <td>USA</td>\n",
       "      <td>Michigan</td>\n",
       "      <td>Delta Air Lines</td>\n",
       "      <td>DAL1529</td>\n",
       "      <td>DAL</td>\n",
       "      <td>2021-10-01</td>\n",
       "      <td>06:10:00</td>\n",
       "      <td>EWR</td>\n",
       "      <td>Clear skies</td>\n",
       "      <td>0.0</td>\n",
       "      <td>10.0</td>\n",
       "      <td>both</td>\n",
       "    </tr>\n",
       "    <tr>\n",
       "      <th>1017</th>\n",
       "      <td>10/1/2021</td>\n",
       "      <td>6:37:42</td>\n",
       "      <td>6</td>\n",
       "      <td>10/1/2021 6:25</td>\n",
       "      <td>2021-10-01 06:37:42</td>\n",
       "      <td>B47</td>\n",
       "      <td>USA</td>\n",
       "      <td>Minnesota</td>\n",
       "      <td>Delta Air Lines</td>\n",
       "      <td>DAL1594</td>\n",
       "      <td>DAL</td>\n",
       "      <td>2021-10-01</td>\n",
       "      <td>06:25:00</td>\n",
       "      <td>EWR</td>\n",
       "      <td>Clear skies</td>\n",
       "      <td>0.0</td>\n",
       "      <td>10.0</td>\n",
       "      <td>both</td>\n",
       "    </tr>\n",
       "    <tr>\n",
       "      <th>1018</th>\n",
       "      <td>10/1/2021</td>\n",
       "      <td>7:18:36</td>\n",
       "      <td>7</td>\n",
       "      <td>10/1/2021 7:15</td>\n",
       "      <td>2021-10-01 07:18:36</td>\n",
       "      <td>B46B</td>\n",
       "      <td>USA</td>\n",
       "      <td>Georgia</td>\n",
       "      <td>Delta Air Lines</td>\n",
       "      <td>DAL2773</td>\n",
       "      <td>DAL</td>\n",
       "      <td>2021-10-01</td>\n",
       "      <td>07:15:00</td>\n",
       "      <td>EWR</td>\n",
       "      <td>Clear skies</td>\n",
       "      <td>0.0</td>\n",
       "      <td>10.0</td>\n",
       "      <td>both</td>\n",
       "    </tr>\n",
       "    <tr>\n",
       "      <th>1019</th>\n",
       "      <td>10/1/2021</td>\n",
       "      <td>10:43:09</td>\n",
       "      <td>10</td>\n",
       "      <td>10/1/2021 10:35</td>\n",
       "      <td>2021-10-01 10:43:09</td>\n",
       "      <td>B46A</td>\n",
       "      <td>USA</td>\n",
       "      <td>Georgia</td>\n",
       "      <td>Delta Air Lines</td>\n",
       "      <td>DAL2707</td>\n",
       "      <td>DAL</td>\n",
       "      <td>2021-10-01</td>\n",
       "      <td>10:35:00</td>\n",
       "      <td>EWR</td>\n",
       "      <td>Partly cloudy</td>\n",
       "      <td>0.0</td>\n",
       "      <td>10.0</td>\n",
       "      <td>both</td>\n",
       "    </tr>\n",
       "  </tbody>\n",
       "</table>\n",
       "</div>"
      ],
      "text/plain": [
       "           Date Actual_Departure  Military_Hour   Block_Schedule  \\\n",
       "1015  10/1/2021         11:40:09             11  10/1/2021 10:45   \n",
       "1016  10/1/2021          6:17:01              6   10/1/2021 6:10   \n",
       "1017  10/1/2021          6:37:42              6   10/1/2021 6:25   \n",
       "1018  10/1/2021          7:18:36              7   10/1/2021 7:15   \n",
       "1019  10/1/2021         10:43:09             10  10/1/2021 10:35   \n",
       "\n",
       "        Flight_Departure Gate_Desc Non-PA_Airport_Country_Desc State_Desc  \\\n",
       "1015 2021-10-01 11:40:09       B66                         USA  Tennessee   \n",
       "1016 2021-10-01 06:17:01      B46A                         USA   Michigan   \n",
       "1017 2021-10-01 06:37:42       B47                         USA  Minnesota   \n",
       "1018 2021-10-01 07:18:36      B46B                         USA    Georgia   \n",
       "1019 2021-10-01 10:43:09      B46A                         USA    Georgia   \n",
       "\n",
       "     Operating_Airline_Desc Call_Sign Operating_Airline_ICAO_Code  \\\n",
       "1015          Allegiant Air   AAY2613                         AAY   \n",
       "1016        Delta Air Lines   DAL1529                         DAL   \n",
       "1017        Delta Air Lines   DAL1594                         DAL   \n",
       "1018        Delta Air Lines   DAL2773                         DAL   \n",
       "1019        Delta Air Lines   DAL2707                         DAL   \n",
       "\n",
       "     flight_Scheduled Scheduled_time Airport_Code Weather_Description  \\\n",
       "1015       2021-10-01       10:45:00          EWR       Partly cloudy   \n",
       "1016       2021-10-01       06:10:00          EWR         Clear skies   \n",
       "1017       2021-10-01       06:25:00          EWR         Clear skies   \n",
       "1018       2021-10-01       07:15:00          EWR         Clear skies   \n",
       "1019       2021-10-01       10:35:00          EWR       Partly cloudy   \n",
       "\n",
       "      Precipitation_(Inches)  Visibility_(Miles) _merge  \n",
       "1015                     0.0                10.0   both  \n",
       "1016                     0.0                10.0   both  \n",
       "1017                     0.0                10.0   both  \n",
       "1018                     0.0                10.0   both  \n",
       "1019                     0.0                10.0   both  "
      ]
     },
     "execution_count": 213,
     "metadata": {},
     "output_type": "execute_result"
    }
   ],
   "source": [
    "ops_flight_weather.head(5)"
   ]
  },
  {
   "cell_type": "code",
   "execution_count": 214,
   "id": "52aa8e9a",
   "metadata": {},
   "outputs": [
    {
     "data": {
      "text/plain": [
       "Index(['Date', 'Actual_Departure', 'Military_Hour', 'Block_Schedule',\n",
       "       'Flight_Departure', 'Gate_Desc', 'Non-PA_Airport_Country_Desc',\n",
       "       'State_Desc', 'Operating_Airline_Desc', 'Call_Sign',\n",
       "       'Operating_Airline_ICAO_Code', 'flight_Scheduled', 'Scheduled_time',\n",
       "       'Airport_Code', 'Weather_Description', 'Precipitation_(Inches)',\n",
       "       'Visibility_(Miles)', '_merge'],\n",
       "      dtype='object')"
      ]
     },
     "execution_count": 214,
     "metadata": {},
     "output_type": "execute_result"
    }
   ],
   "source": [
    "ops_flight_weather.columns"
   ]
  },
  {
   "cell_type": "code",
   "execution_count": 215,
   "id": "da2e44d4",
   "metadata": {},
   "outputs": [],
   "source": [
    "ops_flight_weather = ops_flight_weather [['Date', 'Actual_Departure', 'Military_Hour', 'Block_Schedule',\n",
    "       'Flight_Departure', 'Gate_Desc', 'Non-PA_Airport_Country_Desc',\n",
    "       'State_Desc', 'Operating_Airline_Desc', 'Call_Sign',\n",
    "       'Operating_Airline_ICAO_Code', 'flight_Scheduled', 'Scheduled_time',\n",
    "       'Airport_Code', 'Weather_Description', 'Precipitation_(Inches)',\n",
    "       'Visibility_(Miles)']]"
   ]
  },
  {
   "cell_type": "code",
   "execution_count": 216,
   "id": "1ed99b92",
   "metadata": {},
   "outputs": [],
   "source": [
    "sch_flight['Flight_Number'] = sch_flight['Flight_Number'].astype(int)\n",
    "sch_flight['flight_Scheduled'] = pd.to_datetime(sch_flight['Date']).dt.date"
   ]
  },
  {
   "cell_type": "code",
   "execution_count": 217,
   "id": "7b7e57a2",
   "metadata": {},
   "outputs": [],
   "source": [
    "#create a call sign field\n",
    "sch_flight['Call_Sign'] = sch_flight['Operating_Airline_ICAO_Code']+''+sch_flight['Flight_Number'].astype(str)"
   ]
  },
  {
   "cell_type": "code",
   "execution_count": 218,
   "id": "926512fb",
   "metadata": {},
   "outputs": [
    {
     "data": {
      "text/html": [
       "<div>\n",
       "<style scoped>\n",
       "    .dataframe tbody tr th:only-of-type {\n",
       "        vertical-align: middle;\n",
       "    }\n",
       "\n",
       "    .dataframe tbody tr th {\n",
       "        vertical-align: top;\n",
       "    }\n",
       "\n",
       "    .dataframe thead th {\n",
       "        text-align: right;\n",
       "    }\n",
       "</style>\n",
       "<table border=\"1\" class=\"dataframe\">\n",
       "  <thead>\n",
       "    <tr style=\"text-align: right;\">\n",
       "      <th></th>\n",
       "      <th>Date</th>\n",
       "      <th>Actual_Scheduled</th>\n",
       "      <th>Non-PA_Airport_Country_Desc</th>\n",
       "      <th>International_Domestic</th>\n",
       "      <th>State_Desc</th>\n",
       "      <th>Region</th>\n",
       "      <th>Operating_Airline_Desc</th>\n",
       "      <th>Flight_Number</th>\n",
       "      <th>Operating_Airline_ICAO_Code</th>\n",
       "      <th>Total_Seats</th>\n",
       "      <th>holiday</th>\n",
       "      <th>DOW</th>\n",
       "      <th>Season</th>\n",
       "      <th>flight_Scheduled</th>\n",
       "      <th>Call_Sign</th>\n",
       "    </tr>\n",
       "  </thead>\n",
       "  <tbody>\n",
       "    <tr>\n",
       "      <th>25</th>\n",
       "      <td>2021-01-01</td>\n",
       "      <td>11:45:00</td>\n",
       "      <td>India</td>\n",
       "      <td>International</td>\n",
       "      <td>International</td>\n",
       "      <td>Asia</td>\n",
       "      <td>Air India Limited</td>\n",
       "      <td>144</td>\n",
       "      <td>AIC</td>\n",
       "      <td>256</td>\n",
       "      <td>1</td>\n",
       "      <td>4</td>\n",
       "      <td>Winter</td>\n",
       "      <td>2021-01-01</td>\n",
       "      <td>AIC144</td>\n",
       "    </tr>\n",
       "    <tr>\n",
       "      <th>69</th>\n",
       "      <td>2021-01-01</td>\n",
       "      <td>17:55:00</td>\n",
       "      <td>Austria</td>\n",
       "      <td>International</td>\n",
       "      <td>International</td>\n",
       "      <td>Europe</td>\n",
       "      <td>Austrian Airlines</td>\n",
       "      <td>90</td>\n",
       "      <td>AUA</td>\n",
       "      <td>211</td>\n",
       "      <td>1</td>\n",
       "      <td>4</td>\n",
       "      <td>Winter</td>\n",
       "      <td>2021-01-01</td>\n",
       "      <td>AUA90</td>\n",
       "    </tr>\n",
       "    <tr>\n",
       "      <th>8</th>\n",
       "      <td>2021-01-01</td>\n",
       "      <td>6:00:00</td>\n",
       "      <td>USA</td>\n",
       "      <td>Domestic</td>\n",
       "      <td>Michigan</td>\n",
       "      <td>USA-Midwest</td>\n",
       "      <td>Delta Air Lines</td>\n",
       "      <td>1646</td>\n",
       "      <td>DAL</td>\n",
       "      <td>109</td>\n",
       "      <td>1</td>\n",
       "      <td>4</td>\n",
       "      <td>Winter</td>\n",
       "      <td>2021-01-01</td>\n",
       "      <td>DAL1646</td>\n",
       "    </tr>\n",
       "  </tbody>\n",
       "</table>\n",
       "</div>"
      ],
      "text/plain": [
       "         Date Actual_Scheduled Non-PA_Airport_Country_Desc  \\\n",
       "25 2021-01-01         11:45:00                       India   \n",
       "69 2021-01-01         17:55:00                     Austria   \n",
       "8  2021-01-01          6:00:00                         USA   \n",
       "\n",
       "   International_Domestic     State_Desc       Region Operating_Airline_Desc  \\\n",
       "25          International  International         Asia      Air India Limited   \n",
       "69          International  International       Europe      Austrian Airlines   \n",
       "8                Domestic       Michigan  USA-Midwest        Delta Air Lines   \n",
       "\n",
       "    Flight_Number Operating_Airline_ICAO_Code  Total_Seats  holiday  DOW  \\\n",
       "25            144                         AIC          256        1    4   \n",
       "69             90                         AUA          211        1    4   \n",
       "8            1646                         DAL          109        1    4   \n",
       "\n",
       "    Season flight_Scheduled Call_Sign  \n",
       "25  Winter       2021-01-01    AIC144  \n",
       "69  Winter       2021-01-01     AUA90  \n",
       "8   Winter       2021-01-01   DAL1646  "
      ]
     },
     "execution_count": 218,
     "metadata": {},
     "output_type": "execute_result"
    }
   ],
   "source": [
    "sch_flight.head(3)"
   ]
  },
  {
   "cell_type": "markdown",
   "id": "0269c015",
   "metadata": {},
   "source": [
    "Merge Operation and flight schedule data"
   ]
  },
  {
   "cell_type": "code",
   "execution_count": 219,
   "id": "505a4081",
   "metadata": {},
   "outputs": [],
   "source": [
    "flightmerge = sch_flight.merge(ops_flight_weather, on = ['flight_Scheduled','Call_Sign'], how = 'left', indicator = True)"
   ]
  },
  {
   "cell_type": "code",
   "execution_count": 220,
   "id": "b02ae4a6",
   "metadata": {},
   "outputs": [
    {
     "name": "stdout",
     "output_type": "stream",
     "text": [
      "(17387, 17)\n",
      "(20325, 15)\n",
      "(20710, 31)\n"
     ]
    }
   ],
   "source": [
    "print(ops_flight_weather.shape)\n",
    "print(sch_flight.shape)\n",
    "print(flightmerge.shape)"
   ]
  },
  {
   "cell_type": "code",
   "execution_count": 221,
   "id": "7beca9ac",
   "metadata": {},
   "outputs": [
    {
     "data": {
      "text/plain": [
       "both          16884\n",
       "left_only      3826\n",
       "right_only        0\n",
       "Name: _merge, dtype: int64"
      ]
     },
     "execution_count": 221,
     "metadata": {},
     "output_type": "execute_result"
    }
   ],
   "source": [
    "flightmerge._merge.value_counts()"
   ]
  },
  {
   "cell_type": "code",
   "execution_count": 222,
   "id": "29774c03",
   "metadata": {},
   "outputs": [
    {
     "data": {
      "text/plain": [
       "Date_x                              0\n",
       "Actual_Scheduled                    0\n",
       "Non-PA_Airport_Country_Desc_x       0\n",
       "International_Domestic              0\n",
       "State_Desc_x                        0\n",
       "Region                              0\n",
       "Operating_Airline_Desc_x            0\n",
       "Flight_Number                       0\n",
       "Operating_Airline_ICAO_Code_x       0\n",
       "Total_Seats                         0\n",
       "holiday                             0\n",
       "DOW                                 0\n",
       "Season                              0\n",
       "flight_Scheduled                    0\n",
       "Call_Sign                           0\n",
       "Date_y                           3826\n",
       "Actual_Departure                 3826\n",
       "Military_Hour                    3826\n",
       "Block_Schedule                   3826\n",
       "Flight_Departure                 3826\n",
       "Gate_Desc                        3826\n",
       "Non-PA_Airport_Country_Desc_y    3826\n",
       "State_Desc_y                     3826\n",
       "Operating_Airline_Desc_y         3826\n",
       "Operating_Airline_ICAO_Code_y    3826\n",
       "Scheduled_time                   3826\n",
       "Airport_Code                     3826\n",
       "Weather_Description              3826\n",
       "Precipitation_(Inches)           3826\n",
       "Visibility_(Miles)               3826\n",
       "_merge                              0\n",
       "dtype: int64"
      ]
     },
     "execution_count": 222,
     "metadata": {},
     "output_type": "execute_result"
    }
   ],
   "source": [
    "flightmerge.isna().sum()"
   ]
  },
  {
   "cell_type": "code",
   "execution_count": 223,
   "id": "20ef8cfe",
   "metadata": {},
   "outputs": [],
   "source": [
    "#merge data\n",
    "flightmerge = flightmerge[flightmerge._merge=='both']"
   ]
  },
  {
   "cell_type": "code",
   "execution_count": 224,
   "id": "fc61a3d8",
   "metadata": {},
   "outputs": [
    {
     "data": {
      "text/plain": [
       "Index(['Date_x', 'Actual_Scheduled', 'Non-PA_Airport_Country_Desc_x',\n",
       "       'International_Domestic', 'State_Desc_x', 'Region',\n",
       "       'Operating_Airline_Desc_x', 'Flight_Number',\n",
       "       'Operating_Airline_ICAO_Code_x', 'Total_Seats', 'holiday', 'DOW',\n",
       "       'Season', 'flight_Scheduled', 'Call_Sign', 'Date_y', 'Actual_Departure',\n",
       "       'Military_Hour', 'Block_Schedule', 'Flight_Departure', 'Gate_Desc',\n",
       "       'Non-PA_Airport_Country_Desc_y', 'State_Desc_y',\n",
       "       'Operating_Airline_Desc_y', 'Operating_Airline_ICAO_Code_y',\n",
       "       'Scheduled_time', 'Airport_Code', 'Weather_Description',\n",
       "       'Precipitation_(Inches)', 'Visibility_(Miles)', '_merge'],\n",
       "      dtype='object')"
      ]
     },
     "execution_count": 224,
     "metadata": {},
     "output_type": "execute_result"
    }
   ],
   "source": [
    "flightmerge.columns"
   ]
  },
  {
   "cell_type": "code",
   "execution_count": 225,
   "id": "e3f341e7",
   "metadata": {},
   "outputs": [],
   "source": [
    "#Selecting relevant fields from clean data\n",
    "flightmerge = flightmerge[['Date_x','Actual_Scheduled','Actual_Departure', 'Flight_Departure','Block_Schedule',\n",
    "                         'Non-PA_Airport_Country_Desc_x',\n",
    "                         'International_Domestic','Region','Operating_Airline_Desc_x',\n",
    "                         'Operating_Airline_ICAO_Code_x','Total_Seats','Season','holiday', 'DOW',\n",
    "                         'Military_Hour',\n",
    "                         'Weather_Description','Precipitation_(Inches)', 'Visibility_(Miles)']]"
   ]
  },
  {
   "cell_type": "code",
   "execution_count": 226,
   "id": "5394e0e7",
   "metadata": {},
   "outputs": [
    {
     "data": {
      "text/plain": [
       "(16884, 18)"
      ]
     },
     "execution_count": 226,
     "metadata": {},
     "output_type": "execute_result"
    }
   ],
   "source": [
    "flightmerge.shape"
   ]
  },
  {
   "cell_type": "code",
   "execution_count": 227,
   "id": "328c7d68",
   "metadata": {},
   "outputs": [],
   "source": [
    "flightmerge.columns = [x.replace('_x','') for x in flightmerge.columns]"
   ]
  },
  {
   "cell_type": "code",
   "execution_count": 228,
   "id": "f26fa1dc",
   "metadata": {},
   "outputs": [
    {
     "data": {
      "text/html": [
       "<div>\n",
       "<style scoped>\n",
       "    .dataframe tbody tr th:only-of-type {\n",
       "        vertical-align: middle;\n",
       "    }\n",
       "\n",
       "    .dataframe tbody tr th {\n",
       "        vertical-align: top;\n",
       "    }\n",
       "\n",
       "    .dataframe thead th {\n",
       "        text-align: right;\n",
       "    }\n",
       "</style>\n",
       "<table border=\"1\" class=\"dataframe\">\n",
       "  <thead>\n",
       "    <tr style=\"text-align: right;\">\n",
       "      <th></th>\n",
       "      <th>Date</th>\n",
       "      <th>Actual_Scheduled</th>\n",
       "      <th>Actual_Departure</th>\n",
       "      <th>Flight_Departure</th>\n",
       "      <th>Block_Schedule</th>\n",
       "      <th>Non-PA_Airport_Country_Desc</th>\n",
       "      <th>International_Domestic</th>\n",
       "      <th>Region</th>\n",
       "      <th>Operating_Airline_Desc</th>\n",
       "      <th>Operating_Airline_ICAO_Code</th>\n",
       "      <th>Total_Seats</th>\n",
       "      <th>Season</th>\n",
       "      <th>holiday</th>\n",
       "      <th>DOW</th>\n",
       "      <th>Military_Hour</th>\n",
       "      <th>Weather_Description</th>\n",
       "      <th>Precipitation_(Inches)</th>\n",
       "      <th>Visibility_(Miles)</th>\n",
       "    </tr>\n",
       "  </thead>\n",
       "  <tbody>\n",
       "    <tr>\n",
       "      <th>2040</th>\n",
       "      <td>2021-03-01</td>\n",
       "      <td>9:55:00</td>\n",
       "      <td>9:56:33</td>\n",
       "      <td>2021-03-01 09:56:33</td>\n",
       "      <td>3/1/2021 9:55</td>\n",
       "      <td>USA</td>\n",
       "      <td>Domestic</td>\n",
       "      <td>USA-Southeast</td>\n",
       "      <td>Allegiant Air</td>\n",
       "      <td>AAY</td>\n",
       "      <td>156</td>\n",
       "      <td>Winter</td>\n",
       "      <td>0</td>\n",
       "      <td>0</td>\n",
       "      <td>9.0</td>\n",
       "      <td>Overcast skies</td>\n",
       "      <td>0.0</td>\n",
       "      <td>2.5</td>\n",
       "    </tr>\n",
       "    <tr>\n",
       "      <th>2042</th>\n",
       "      <td>2021-03-01</td>\n",
       "      <td>11:15:00</td>\n",
       "      <td>11:42:35</td>\n",
       "      <td>2021-03-01 11:42:35</td>\n",
       "      <td>3/1/2021 11:15</td>\n",
       "      <td>India</td>\n",
       "      <td>International</td>\n",
       "      <td>Asia</td>\n",
       "      <td>Air India Limited</td>\n",
       "      <td>AIC</td>\n",
       "      <td>342</td>\n",
       "      <td>Winter</td>\n",
       "      <td>0</td>\n",
       "      <td>0</td>\n",
       "      <td>11.0</td>\n",
       "      <td>Raining</td>\n",
       "      <td>0.0</td>\n",
       "      <td>10.0</td>\n",
       "    </tr>\n",
       "    <tr>\n",
       "      <th>2043</th>\n",
       "      <td>2021-03-01</td>\n",
       "      <td>6:15:00</td>\n",
       "      <td>6:18:41</td>\n",
       "      <td>2021-03-01 06:18:41</td>\n",
       "      <td>3/1/2021 6:15</td>\n",
       "      <td>USA</td>\n",
       "      <td>Domestic</td>\n",
       "      <td>USA-Southeast</td>\n",
       "      <td>Delta Air Lines</td>\n",
       "      <td>DAL</td>\n",
       "      <td>160</td>\n",
       "      <td>Winter</td>\n",
       "      <td>0</td>\n",
       "      <td>0</td>\n",
       "      <td>6.0</td>\n",
       "      <td>Raining</td>\n",
       "      <td>0.0</td>\n",
       "      <td>6.0</td>\n",
       "    </tr>\n",
       "    <tr>\n",
       "      <th>2044</th>\n",
       "      <td>2021-03-01</td>\n",
       "      <td>7:30:00</td>\n",
       "      <td>7:39:50</td>\n",
       "      <td>2021-03-01 07:39:50</td>\n",
       "      <td>3/1/2021 7:30</td>\n",
       "      <td>USA</td>\n",
       "      <td>Domestic</td>\n",
       "      <td>USA-Southeast</td>\n",
       "      <td>Delta Air Lines</td>\n",
       "      <td>DAL</td>\n",
       "      <td>160</td>\n",
       "      <td>Winter</td>\n",
       "      <td>0</td>\n",
       "      <td>0</td>\n",
       "      <td>7.0</td>\n",
       "      <td>Raining</td>\n",
       "      <td>0.0</td>\n",
       "      <td>2.5</td>\n",
       "    </tr>\n",
       "    <tr>\n",
       "      <th>2045</th>\n",
       "      <td>2021-03-01</td>\n",
       "      <td>8:40:00</td>\n",
       "      <td>8:47:15</td>\n",
       "      <td>2021-03-01 08:47:15</td>\n",
       "      <td>3/1/2021 8:40</td>\n",
       "      <td>USA</td>\n",
       "      <td>Domestic</td>\n",
       "      <td>USA-Southeast</td>\n",
       "      <td>Delta Air Lines</td>\n",
       "      <td>DAL</td>\n",
       "      <td>160</td>\n",
       "      <td>Winter</td>\n",
       "      <td>0</td>\n",
       "      <td>0</td>\n",
       "      <td>8.0</td>\n",
       "      <td>Overcast skies</td>\n",
       "      <td>0.0</td>\n",
       "      <td>2.5</td>\n",
       "    </tr>\n",
       "  </tbody>\n",
       "</table>\n",
       "</div>"
      ],
      "text/plain": [
       "           Date Actual_Scheduled Actual_Departure    Flight_Departure  \\\n",
       "2040 2021-03-01          9:55:00          9:56:33 2021-03-01 09:56:33   \n",
       "2042 2021-03-01         11:15:00         11:42:35 2021-03-01 11:42:35   \n",
       "2043 2021-03-01          6:15:00          6:18:41 2021-03-01 06:18:41   \n",
       "2044 2021-03-01          7:30:00          7:39:50 2021-03-01 07:39:50   \n",
       "2045 2021-03-01          8:40:00          8:47:15 2021-03-01 08:47:15   \n",
       "\n",
       "      Block_Schedule Non-PA_Airport_Country_Desc International_Domestic  \\\n",
       "2040   3/1/2021 9:55                         USA               Domestic   \n",
       "2042  3/1/2021 11:15                       India          International   \n",
       "2043   3/1/2021 6:15                         USA               Domestic   \n",
       "2044   3/1/2021 7:30                         USA               Domestic   \n",
       "2045   3/1/2021 8:40                         USA               Domestic   \n",
       "\n",
       "             Region Operating_Airline_Desc Operating_Airline_ICAO_Code  \\\n",
       "2040  USA-Southeast          Allegiant Air                         AAY   \n",
       "2042           Asia      Air India Limited                         AIC   \n",
       "2043  USA-Southeast        Delta Air Lines                         DAL   \n",
       "2044  USA-Southeast        Delta Air Lines                         DAL   \n",
       "2045  USA-Southeast        Delta Air Lines                         DAL   \n",
       "\n",
       "      Total_Seats  Season  holiday  DOW  Military_Hour Weather_Description  \\\n",
       "2040          156  Winter        0    0            9.0      Overcast skies   \n",
       "2042          342  Winter        0    0           11.0             Raining   \n",
       "2043          160  Winter        0    0            6.0             Raining   \n",
       "2044          160  Winter        0    0            7.0             Raining   \n",
       "2045          160  Winter        0    0            8.0      Overcast skies   \n",
       "\n",
       "      Precipitation_(Inches)  Visibility_(Miles)  \n",
       "2040                     0.0                 2.5  \n",
       "2042                     0.0                10.0  \n",
       "2043                     0.0                 6.0  \n",
       "2044                     0.0                 2.5  \n",
       "2045                     0.0                 2.5  "
      ]
     },
     "execution_count": 228,
     "metadata": {},
     "output_type": "execute_result"
    }
   ],
   "source": [
    "flightmerge.head(5)"
   ]
  },
  {
   "cell_type": "code",
   "execution_count": 229,
   "id": "40e57f04",
   "metadata": {},
   "outputs": [
    {
     "data": {
      "text/plain": [
       "Date                           0\n",
       "Actual_Scheduled               0\n",
       "Actual_Departure               0\n",
       "Flight_Departure               0\n",
       "Block_Schedule                 0\n",
       "Non-PA_Airport_Country_Desc    0\n",
       "International_Domestic         0\n",
       "Region                         0\n",
       "Operating_Airline_Desc         0\n",
       "Operating_Airline_ICAO_Code    0\n",
       "Total_Seats                    0\n",
       "Season                         0\n",
       "holiday                        0\n",
       "DOW                            0\n",
       "Military_Hour                  0\n",
       "Weather_Description            0\n",
       "Precipitation_(Inches)         0\n",
       "Visibility_(Miles)             0\n",
       "dtype: int64"
      ]
     },
     "execution_count": 229,
     "metadata": {},
     "output_type": "execute_result"
    }
   ],
   "source": [
    "flightmerge.isna().sum()"
   ]
  },
  {
   "cell_type": "code",
   "execution_count": 230,
   "id": "e809a06d",
   "metadata": {},
   "outputs": [],
   "source": [
    "flightmerge['Flight_Schedule']=flightmerge['Block_Schedule']"
   ]
  },
  {
   "cell_type": "code",
   "execution_count": 231,
   "id": "6ac8e1c2",
   "metadata": {},
   "outputs": [],
   "source": [
    "flightmerge['Flight_Schedule']=pd.to_datetime(flightmerge['Flight_Schedule'])"
   ]
  },
  {
   "cell_type": "code",
   "execution_count": 232,
   "id": "b6434cfc",
   "metadata": {},
   "outputs": [],
   "source": [
    "#Calculating flight delays\n",
    "flightmerge['Flight_Delay'] = flightmerge['Flight_Departure'] - flightmerge['Flight_Schedule']"
   ]
  },
  {
   "cell_type": "code",
   "execution_count": 233,
   "id": "d64a903f",
   "metadata": {},
   "outputs": [
    {
     "data": {
      "text/html": [
       "<div>\n",
       "<style scoped>\n",
       "    .dataframe tbody tr th:only-of-type {\n",
       "        vertical-align: middle;\n",
       "    }\n",
       "\n",
       "    .dataframe tbody tr th {\n",
       "        vertical-align: top;\n",
       "    }\n",
       "\n",
       "    .dataframe thead th {\n",
       "        text-align: right;\n",
       "    }\n",
       "</style>\n",
       "<table border=\"1\" class=\"dataframe\">\n",
       "  <thead>\n",
       "    <tr style=\"text-align: right;\">\n",
       "      <th></th>\n",
       "      <th>Date</th>\n",
       "      <th>Actual_Scheduled</th>\n",
       "      <th>Actual_Departure</th>\n",
       "      <th>Flight_Departure</th>\n",
       "      <th>Block_Schedule</th>\n",
       "      <th>Non-PA_Airport_Country_Desc</th>\n",
       "      <th>International_Domestic</th>\n",
       "      <th>Region</th>\n",
       "      <th>Operating_Airline_Desc</th>\n",
       "      <th>Operating_Airline_ICAO_Code</th>\n",
       "      <th>Total_Seats</th>\n",
       "      <th>Season</th>\n",
       "      <th>holiday</th>\n",
       "      <th>DOW</th>\n",
       "      <th>Military_Hour</th>\n",
       "      <th>Weather_Description</th>\n",
       "      <th>Precipitation_(Inches)</th>\n",
       "      <th>Visibility_(Miles)</th>\n",
       "      <th>Flight_Schedule</th>\n",
       "      <th>Flight_Delay</th>\n",
       "    </tr>\n",
       "  </thead>\n",
       "  <tbody>\n",
       "    <tr>\n",
       "      <th>2040</th>\n",
       "      <td>2021-03-01</td>\n",
       "      <td>9:55:00</td>\n",
       "      <td>9:56:33</td>\n",
       "      <td>2021-03-01 09:56:33</td>\n",
       "      <td>3/1/2021 9:55</td>\n",
       "      <td>USA</td>\n",
       "      <td>Domestic</td>\n",
       "      <td>USA-Southeast</td>\n",
       "      <td>Allegiant Air</td>\n",
       "      <td>AAY</td>\n",
       "      <td>156</td>\n",
       "      <td>Winter</td>\n",
       "      <td>0</td>\n",
       "      <td>0</td>\n",
       "      <td>9.0</td>\n",
       "      <td>Overcast skies</td>\n",
       "      <td>0.0</td>\n",
       "      <td>2.5</td>\n",
       "      <td>2021-03-01 09:55:00</td>\n",
       "      <td>0 days 00:01:33</td>\n",
       "    </tr>\n",
       "    <tr>\n",
       "      <th>2042</th>\n",
       "      <td>2021-03-01</td>\n",
       "      <td>11:15:00</td>\n",
       "      <td>11:42:35</td>\n",
       "      <td>2021-03-01 11:42:35</td>\n",
       "      <td>3/1/2021 11:15</td>\n",
       "      <td>India</td>\n",
       "      <td>International</td>\n",
       "      <td>Asia</td>\n",
       "      <td>Air India Limited</td>\n",
       "      <td>AIC</td>\n",
       "      <td>342</td>\n",
       "      <td>Winter</td>\n",
       "      <td>0</td>\n",
       "      <td>0</td>\n",
       "      <td>11.0</td>\n",
       "      <td>Raining</td>\n",
       "      <td>0.0</td>\n",
       "      <td>10.0</td>\n",
       "      <td>2021-03-01 11:15:00</td>\n",
       "      <td>0 days 00:27:35</td>\n",
       "    </tr>\n",
       "    <tr>\n",
       "      <th>2043</th>\n",
       "      <td>2021-03-01</td>\n",
       "      <td>6:15:00</td>\n",
       "      <td>6:18:41</td>\n",
       "      <td>2021-03-01 06:18:41</td>\n",
       "      <td>3/1/2021 6:15</td>\n",
       "      <td>USA</td>\n",
       "      <td>Domestic</td>\n",
       "      <td>USA-Southeast</td>\n",
       "      <td>Delta Air Lines</td>\n",
       "      <td>DAL</td>\n",
       "      <td>160</td>\n",
       "      <td>Winter</td>\n",
       "      <td>0</td>\n",
       "      <td>0</td>\n",
       "      <td>6.0</td>\n",
       "      <td>Raining</td>\n",
       "      <td>0.0</td>\n",
       "      <td>6.0</td>\n",
       "      <td>2021-03-01 06:15:00</td>\n",
       "      <td>0 days 00:03:41</td>\n",
       "    </tr>\n",
       "  </tbody>\n",
       "</table>\n",
       "</div>"
      ],
      "text/plain": [
       "           Date Actual_Scheduled Actual_Departure    Flight_Departure  \\\n",
       "2040 2021-03-01          9:55:00          9:56:33 2021-03-01 09:56:33   \n",
       "2042 2021-03-01         11:15:00         11:42:35 2021-03-01 11:42:35   \n",
       "2043 2021-03-01          6:15:00          6:18:41 2021-03-01 06:18:41   \n",
       "\n",
       "      Block_Schedule Non-PA_Airport_Country_Desc International_Domestic  \\\n",
       "2040   3/1/2021 9:55                         USA               Domestic   \n",
       "2042  3/1/2021 11:15                       India          International   \n",
       "2043   3/1/2021 6:15                         USA               Domestic   \n",
       "\n",
       "             Region Operating_Airline_Desc Operating_Airline_ICAO_Code  \\\n",
       "2040  USA-Southeast          Allegiant Air                         AAY   \n",
       "2042           Asia      Air India Limited                         AIC   \n",
       "2043  USA-Southeast        Delta Air Lines                         DAL   \n",
       "\n",
       "      Total_Seats  Season  holiday  DOW  Military_Hour Weather_Description  \\\n",
       "2040          156  Winter        0    0            9.0      Overcast skies   \n",
       "2042          342  Winter        0    0           11.0             Raining   \n",
       "2043          160  Winter        0    0            6.0             Raining   \n",
       "\n",
       "      Precipitation_(Inches)  Visibility_(Miles)     Flight_Schedule  \\\n",
       "2040                     0.0                 2.5 2021-03-01 09:55:00   \n",
       "2042                     0.0                10.0 2021-03-01 11:15:00   \n",
       "2043                     0.0                 6.0 2021-03-01 06:15:00   \n",
       "\n",
       "        Flight_Delay  \n",
       "2040 0 days 00:01:33  \n",
       "2042 0 days 00:27:35  \n",
       "2043 0 days 00:03:41  "
      ]
     },
     "execution_count": 233,
     "metadata": {},
     "output_type": "execute_result"
    }
   ],
   "source": [
    "flightmerge.head(3)"
   ]
  },
  {
   "cell_type": "code",
   "execution_count": 235,
   "id": "927ab92c",
   "metadata": {},
   "outputs": [],
   "source": [
    "flightMergeData = flightmerge"
   ]
  },
  {
   "cell_type": "markdown",
   "id": "2005e2b5",
   "metadata": {},
   "source": [
    "# Clean and Analyze Final Merge Dataset"
   ]
  },
  {
   "cell_type": "code",
   "execution_count": 240,
   "id": "edb63fd8",
   "metadata": {},
   "outputs": [
    {
     "data": {
      "text/plain": [
       "(Timedelta('-1 days +14:52:16'), Timedelta('1 days 01:25:15'))"
      ]
     },
     "execution_count": 240,
     "metadata": {},
     "output_type": "execute_result"
    }
   ],
   "source": [
    "flightmerge['Flight_Delay'].min(), flightmerge['Flight_Delay'].max()"
   ]
  },
  {
   "cell_type": "code",
   "execution_count": 241,
   "id": "09dc1984",
   "metadata": {},
   "outputs": [],
   "source": [
    "#Removing delays that goes into the negative values\n",
    "flightmerge = flightmerge.loc[flightmerge['Flight_Delay']>='00:00:00']"
   ]
  },
  {
   "cell_type": "code",
   "execution_count": 242,
   "id": "93535fe3",
   "metadata": {},
   "outputs": [
    {
     "data": {
      "text/plain": [
       "(16576, 20)"
      ]
     },
     "execution_count": 242,
     "metadata": {},
     "output_type": "execute_result"
    }
   ],
   "source": [
    "flightmerge.shape"
   ]
  },
  {
   "cell_type": "code",
   "execution_count": 243,
   "id": "aa5a81d9",
   "metadata": {},
   "outputs": [
    {
     "data": {
      "text/plain": [
       "(Timedelta('0 days 00:00:00'), Timedelta('1 days 01:25:15'))"
      ]
     },
     "execution_count": 243,
     "metadata": {},
     "output_type": "execute_result"
    }
   ],
   "source": [
    "flightmerge['Flight_Delay'].min(), flightmerge['Flight_Delay'].max()"
   ]
  },
  {
   "cell_type": "code",
   "execution_count": 244,
   "id": "475d3f19",
   "metadata": {},
   "outputs": [],
   "source": [
    "#Converting flight delay into seconds and divide by 3600 seconds to get hourly delay (60 minutes)\n",
    "lst = []\n",
    "for s in flightmerge['Flight_Delay']:\n",
    "    lst.append(s.total_seconds()/3600)"
   ]
  },
  {
   "cell_type": "code",
   "execution_count": 245,
   "id": "d85e93a0",
   "metadata": {},
   "outputs": [],
   "source": [
    "flightmerge['Hour_Delay'] = lst"
   ]
  },
  {
   "cell_type": "code",
   "execution_count": 246,
   "id": "b58cf06a",
   "metadata": {},
   "outputs": [
    {
     "data": {
      "text/html": [
       "<div>\n",
       "<style scoped>\n",
       "    .dataframe tbody tr th:only-of-type {\n",
       "        vertical-align: middle;\n",
       "    }\n",
       "\n",
       "    .dataframe tbody tr th {\n",
       "        vertical-align: top;\n",
       "    }\n",
       "\n",
       "    .dataframe thead th {\n",
       "        text-align: right;\n",
       "    }\n",
       "</style>\n",
       "<table border=\"1\" class=\"dataframe\">\n",
       "  <thead>\n",
       "    <tr style=\"text-align: right;\">\n",
       "      <th></th>\n",
       "      <th>Total_Seats</th>\n",
       "      <th>holiday</th>\n",
       "      <th>DOW</th>\n",
       "      <th>Military_Hour</th>\n",
       "      <th>Precipitation_(Inches)</th>\n",
       "      <th>Visibility_(Miles)</th>\n",
       "      <th>Flight_Delay</th>\n",
       "      <th>Hour_Delay</th>\n",
       "    </tr>\n",
       "  </thead>\n",
       "  <tbody>\n",
       "    <tr>\n",
       "      <th>count</th>\n",
       "      <td>16576.000000</td>\n",
       "      <td>16576.000000</td>\n",
       "      <td>16576.000000</td>\n",
       "      <td>16576.000000</td>\n",
       "      <td>16576.000000</td>\n",
       "      <td>16576.000000</td>\n",
       "      <td>16576</td>\n",
       "      <td>16576.000000</td>\n",
       "    </tr>\n",
       "    <tr>\n",
       "      <th>mean</th>\n",
       "      <td>183.933398</td>\n",
       "      <td>0.047961</td>\n",
       "      <td>3.026605</td>\n",
       "      <td>13.111969</td>\n",
       "      <td>0.006932</td>\n",
       "      <td>39.721248</td>\n",
       "      <td>0 days 00:31:48.573902027</td>\n",
       "      <td>0.530159</td>\n",
       "    </tr>\n",
       "    <tr>\n",
       "      <th>std</th>\n",
       "      <td>66.525500</td>\n",
       "      <td>0.213690</td>\n",
       "      <td>2.008478</td>\n",
       "      <td>5.556132</td>\n",
       "      <td>0.070505</td>\n",
       "      <td>1736.388952</td>\n",
       "      <td>0 days 00:55:35.647395031</td>\n",
       "      <td>0.926569</td>\n",
       "    </tr>\n",
       "    <tr>\n",
       "      <th>min</th>\n",
       "      <td>69.000000</td>\n",
       "      <td>0.000000</td>\n",
       "      <td>0.000000</td>\n",
       "      <td>0.000000</td>\n",
       "      <td>0.000000</td>\n",
       "      <td>0.300000</td>\n",
       "      <td>0 days 00:00:00</td>\n",
       "      <td>0.000000</td>\n",
       "    </tr>\n",
       "    <tr>\n",
       "      <th>25%</th>\n",
       "      <td>162.000000</td>\n",
       "      <td>0.000000</td>\n",
       "      <td>1.000000</td>\n",
       "      <td>9.000000</td>\n",
       "      <td>0.000000</td>\n",
       "      <td>10.000000</td>\n",
       "      <td>0 days 00:09:18</td>\n",
       "      <td>0.155000</td>\n",
       "    </tr>\n",
       "    <tr>\n",
       "      <th>50%</th>\n",
       "      <td>182.000000</td>\n",
       "      <td>0.000000</td>\n",
       "      <td>3.000000</td>\n",
       "      <td>13.000000</td>\n",
       "      <td>0.000000</td>\n",
       "      <td>10.000000</td>\n",
       "      <td>0 days 00:16:15</td>\n",
       "      <td>0.270833</td>\n",
       "    </tr>\n",
       "    <tr>\n",
       "      <th>75%</th>\n",
       "      <td>228.000000</td>\n",
       "      <td>0.000000</td>\n",
       "      <td>5.000000</td>\n",
       "      <td>18.000000</td>\n",
       "      <td>0.000000</td>\n",
       "      <td>10.000000</td>\n",
       "      <td>0 days 00:32:51</td>\n",
       "      <td>0.547500</td>\n",
       "    </tr>\n",
       "    <tr>\n",
       "      <th>max</th>\n",
       "      <td>411.000000</td>\n",
       "      <td>1.000000</td>\n",
       "      <td>6.000000</td>\n",
       "      <td>23.000000</td>\n",
       "      <td>2.500000</td>\n",
       "      <td>99999.000000</td>\n",
       "      <td>1 days 01:25:15</td>\n",
       "      <td>25.420833</td>\n",
       "    </tr>\n",
       "  </tbody>\n",
       "</table>\n",
       "</div>"
      ],
      "text/plain": [
       "        Total_Seats       holiday           DOW  Military_Hour  \\\n",
       "count  16576.000000  16576.000000  16576.000000   16576.000000   \n",
       "mean     183.933398      0.047961      3.026605      13.111969   \n",
       "std       66.525500      0.213690      2.008478       5.556132   \n",
       "min       69.000000      0.000000      0.000000       0.000000   \n",
       "25%      162.000000      0.000000      1.000000       9.000000   \n",
       "50%      182.000000      0.000000      3.000000      13.000000   \n",
       "75%      228.000000      0.000000      5.000000      18.000000   \n",
       "max      411.000000      1.000000      6.000000      23.000000   \n",
       "\n",
       "       Precipitation_(Inches)  Visibility_(Miles)               Flight_Delay  \\\n",
       "count            16576.000000        16576.000000                      16576   \n",
       "mean                 0.006932           39.721248  0 days 00:31:48.573902027   \n",
       "std                  0.070505         1736.388952  0 days 00:55:35.647395031   \n",
       "min                  0.000000            0.300000            0 days 00:00:00   \n",
       "25%                  0.000000           10.000000            0 days 00:09:18   \n",
       "50%                  0.000000           10.000000            0 days 00:16:15   \n",
       "75%                  0.000000           10.000000            0 days 00:32:51   \n",
       "max                  2.500000        99999.000000            1 days 01:25:15   \n",
       "\n",
       "         Hour_Delay  \n",
       "count  16576.000000  \n",
       "mean       0.530159  \n",
       "std        0.926569  \n",
       "min        0.000000  \n",
       "25%        0.155000  \n",
       "50%        0.270833  \n",
       "75%        0.547500  \n",
       "max       25.420833  "
      ]
     },
     "execution_count": 246,
     "metadata": {},
     "output_type": "execute_result"
    }
   ],
   "source": [
    "#Simple descriptive analysis to see columns relevance\n",
    "\n",
    "flightmerge.describe()"
   ]
  },
  {
   "cell_type": "code",
   "execution_count": 247,
   "id": "c64a0583",
   "metadata": {},
   "outputs": [],
   "source": [
    "#converting hourly delay in minutes\n",
    "flightmerge['DelayMinute'] = flightmerge['Hour_Delay']*60"
   ]
  },
  {
   "cell_type": "code",
   "execution_count": 248,
   "id": "8fdbbe5c",
   "metadata": {
    "scrolled": true
   },
   "outputs": [
    {
     "data": {
      "text/html": [
       "<div>\n",
       "<style scoped>\n",
       "    .dataframe tbody tr th:only-of-type {\n",
       "        vertical-align: middle;\n",
       "    }\n",
       "\n",
       "    .dataframe tbody tr th {\n",
       "        vertical-align: top;\n",
       "    }\n",
       "\n",
       "    .dataframe thead th {\n",
       "        text-align: right;\n",
       "    }\n",
       "</style>\n",
       "<table border=\"1\" class=\"dataframe\">\n",
       "  <thead>\n",
       "    <tr style=\"text-align: right;\">\n",
       "      <th></th>\n",
       "      <th>Date</th>\n",
       "      <th>Actual_Scheduled</th>\n",
       "      <th>Actual_Departure</th>\n",
       "      <th>Flight_Departure</th>\n",
       "      <th>Block_Schedule</th>\n",
       "      <th>Non-PA_Airport_Country_Desc</th>\n",
       "      <th>International_Domestic</th>\n",
       "      <th>Region</th>\n",
       "      <th>Operating_Airline_Desc</th>\n",
       "      <th>Operating_Airline_ICAO_Code</th>\n",
       "      <th>...</th>\n",
       "      <th>holiday</th>\n",
       "      <th>DOW</th>\n",
       "      <th>Military_Hour</th>\n",
       "      <th>Weather_Description</th>\n",
       "      <th>Precipitation_(Inches)</th>\n",
       "      <th>Visibility_(Miles)</th>\n",
       "      <th>Flight_Schedule</th>\n",
       "      <th>Flight_Delay</th>\n",
       "      <th>Hour_Delay</th>\n",
       "      <th>DelayMinute</th>\n",
       "    </tr>\n",
       "  </thead>\n",
       "  <tbody>\n",
       "    <tr>\n",
       "      <th>2040</th>\n",
       "      <td>2021-03-01</td>\n",
       "      <td>9:55:00</td>\n",
       "      <td>9:56:33</td>\n",
       "      <td>2021-03-01 09:56:33</td>\n",
       "      <td>3/1/2021 9:55</td>\n",
       "      <td>USA</td>\n",
       "      <td>Domestic</td>\n",
       "      <td>USA-Southeast</td>\n",
       "      <td>Allegiant Air</td>\n",
       "      <td>AAY</td>\n",
       "      <td>...</td>\n",
       "      <td>0</td>\n",
       "      <td>0</td>\n",
       "      <td>9.0</td>\n",
       "      <td>Overcast skies</td>\n",
       "      <td>0.0</td>\n",
       "      <td>2.5</td>\n",
       "      <td>2021-03-01 09:55:00</td>\n",
       "      <td>0 days 00:01:33</td>\n",
       "      <td>0.025833</td>\n",
       "      <td>1.550000</td>\n",
       "    </tr>\n",
       "    <tr>\n",
       "      <th>2042</th>\n",
       "      <td>2021-03-01</td>\n",
       "      <td>11:15:00</td>\n",
       "      <td>11:42:35</td>\n",
       "      <td>2021-03-01 11:42:35</td>\n",
       "      <td>3/1/2021 11:15</td>\n",
       "      <td>India</td>\n",
       "      <td>International</td>\n",
       "      <td>Asia</td>\n",
       "      <td>Air India Limited</td>\n",
       "      <td>AIC</td>\n",
       "      <td>...</td>\n",
       "      <td>0</td>\n",
       "      <td>0</td>\n",
       "      <td>11.0</td>\n",
       "      <td>Raining</td>\n",
       "      <td>0.0</td>\n",
       "      <td>10.0</td>\n",
       "      <td>2021-03-01 11:15:00</td>\n",
       "      <td>0 days 00:27:35</td>\n",
       "      <td>0.459722</td>\n",
       "      <td>27.583333</td>\n",
       "    </tr>\n",
       "    <tr>\n",
       "      <th>2043</th>\n",
       "      <td>2021-03-01</td>\n",
       "      <td>6:15:00</td>\n",
       "      <td>6:18:41</td>\n",
       "      <td>2021-03-01 06:18:41</td>\n",
       "      <td>3/1/2021 6:15</td>\n",
       "      <td>USA</td>\n",
       "      <td>Domestic</td>\n",
       "      <td>USA-Southeast</td>\n",
       "      <td>Delta Air Lines</td>\n",
       "      <td>DAL</td>\n",
       "      <td>...</td>\n",
       "      <td>0</td>\n",
       "      <td>0</td>\n",
       "      <td>6.0</td>\n",
       "      <td>Raining</td>\n",
       "      <td>0.0</td>\n",
       "      <td>6.0</td>\n",
       "      <td>2021-03-01 06:15:00</td>\n",
       "      <td>0 days 00:03:41</td>\n",
       "      <td>0.061389</td>\n",
       "      <td>3.683333</td>\n",
       "    </tr>\n",
       "  </tbody>\n",
       "</table>\n",
       "<p>3 rows × 22 columns</p>\n",
       "</div>"
      ],
      "text/plain": [
       "           Date Actual_Scheduled Actual_Departure    Flight_Departure  \\\n",
       "2040 2021-03-01          9:55:00          9:56:33 2021-03-01 09:56:33   \n",
       "2042 2021-03-01         11:15:00         11:42:35 2021-03-01 11:42:35   \n",
       "2043 2021-03-01          6:15:00          6:18:41 2021-03-01 06:18:41   \n",
       "\n",
       "      Block_Schedule Non-PA_Airport_Country_Desc International_Domestic  \\\n",
       "2040   3/1/2021 9:55                         USA               Domestic   \n",
       "2042  3/1/2021 11:15                       India          International   \n",
       "2043   3/1/2021 6:15                         USA               Domestic   \n",
       "\n",
       "             Region Operating_Airline_Desc Operating_Airline_ICAO_Code  ...  \\\n",
       "2040  USA-Southeast          Allegiant Air                         AAY  ...   \n",
       "2042           Asia      Air India Limited                         AIC  ...   \n",
       "2043  USA-Southeast        Delta Air Lines                         DAL  ...   \n",
       "\n",
       "      holiday DOW  Military_Hour  Weather_Description  Precipitation_(Inches)  \\\n",
       "2040        0   0            9.0       Overcast skies                     0.0   \n",
       "2042        0   0           11.0              Raining                     0.0   \n",
       "2043        0   0            6.0              Raining                     0.0   \n",
       "\n",
       "     Visibility_(Miles)     Flight_Schedule    Flight_Delay Hour_Delay  \\\n",
       "2040                2.5 2021-03-01 09:55:00 0 days 00:01:33   0.025833   \n",
       "2042               10.0 2021-03-01 11:15:00 0 days 00:27:35   0.459722   \n",
       "2043                6.0 2021-03-01 06:15:00 0 days 00:03:41   0.061389   \n",
       "\n",
       "     DelayMinute  \n",
       "2040    1.550000  \n",
       "2042   27.583333  \n",
       "2043    3.683333  \n",
       "\n",
       "[3 rows x 22 columns]"
      ]
     },
     "execution_count": 248,
     "metadata": {},
     "output_type": "execute_result"
    }
   ],
   "source": [
    "flightmerge.head(3)"
   ]
  },
  {
   "cell_type": "code",
   "execution_count": 249,
   "id": "06337ca5",
   "metadata": {},
   "outputs": [],
   "source": [
    "#Extract only flight delay greater than or equal to 15 minutes; which seems to have the most impact \n",
    "flightmerge = flightmerge.loc[flightmerge['DelayMinute']>=15]"
   ]
  },
  {
   "cell_type": "code",
   "execution_count": 250,
   "id": "bc532adc",
   "metadata": {},
   "outputs": [],
   "source": [
    "flightmerge['DelayInMinute'] = flightmerge['DelayMinute']"
   ]
  },
  {
   "cell_type": "code",
   "execution_count": 251,
   "id": "a2bd5b8b",
   "metadata": {},
   "outputs": [
    {
     "data": {
      "text/plain": [
       "(8845, 23)"
      ]
     },
     "execution_count": 251,
     "metadata": {},
     "output_type": "execute_result"
    }
   ],
   "source": [
    "flightmerge.shape"
   ]
  },
  {
   "cell_type": "code",
   "execution_count": 252,
   "id": "0dd11dae",
   "metadata": {},
   "outputs": [],
   "source": [
    "flightmerge['counter'] = 1"
   ]
  },
  {
   "cell_type": "code",
   "execution_count": 253,
   "id": "cb1556e1",
   "metadata": {},
   "outputs": [],
   "source": [
    "flightMergeData = flightmerge"
   ]
  },
  {
   "cell_type": "code",
   "execution_count": 236,
   "id": "55bbfa5e",
   "metadata": {},
   "outputs": [],
   "source": [
    "#topDelayAirlines=flightmerge.groupby(['Operating_Airline_Desc']).agg({'counter':'sum'})"
   ]
  },
  {
   "cell_type": "code",
   "execution_count": 222,
   "id": "ffd4f791",
   "metadata": {},
   "outputs": [
    {
     "data": {
      "text/plain": [
       "12471"
      ]
     },
     "execution_count": 222,
     "metadata": {},
     "output_type": "execute_result"
    }
   ],
   "source": [
    "#topDelayAirlines.counter.sum()"
   ]
  },
  {
   "cell_type": "code",
   "execution_count": 223,
   "id": "7e9c8ddf",
   "metadata": {},
   "outputs": [],
   "source": [
    "#Top 10 airlines with the most delay for 2021 data\n",
    "#topDelayAirlines = topDelayAirlines.sort_values(by=['counter'],ascending=False).head(10)"
   ]
  },
  {
   "cell_type": "code",
   "execution_count": 224,
   "id": "531d6386",
   "metadata": {},
   "outputs": [],
   "source": [
    "#topDelayAirlines.to_csv('top10DelayAirlineV10.csv')"
   ]
  },
  {
   "cell_type": "code",
   "execution_count": 85,
   "id": "c9eccf76",
   "metadata": {},
   "outputs": [],
   "source": [
    "flightmerge['Hour'] = pd.to_datetime(flightmerge['Flight_Schedule']).dt.hour"
   ]
  },
  {
   "cell_type": "code",
   "execution_count": 86,
   "id": "6e53c0a7",
   "metadata": {
    "scrolled": false
   },
   "outputs": [
    {
     "data": {
      "text/html": [
       "<div>\n",
       "<style scoped>\n",
       "    .dataframe tbody tr th:only-of-type {\n",
       "        vertical-align: middle;\n",
       "    }\n",
       "\n",
       "    .dataframe tbody tr th {\n",
       "        vertical-align: top;\n",
       "    }\n",
       "\n",
       "    .dataframe thead th {\n",
       "        text-align: right;\n",
       "    }\n",
       "</style>\n",
       "<table border=\"1\" class=\"dataframe\">\n",
       "  <thead>\n",
       "    <tr style=\"text-align: right;\">\n",
       "      <th></th>\n",
       "      <th>Date</th>\n",
       "      <th>Actual_Scheduled</th>\n",
       "      <th>Actual_Departure</th>\n",
       "      <th>Flight_Departure</th>\n",
       "      <th>Block_Schedule</th>\n",
       "      <th>Non-PA_Airport_Country_Desc</th>\n",
       "      <th>International_Domestic</th>\n",
       "      <th>Region</th>\n",
       "      <th>Operating_Airline_Desc</th>\n",
       "      <th>Operating_Airline_ICAO_Code</th>\n",
       "      <th>...</th>\n",
       "      <th>Weather_Description</th>\n",
       "      <th>Precipitation_(Inches)</th>\n",
       "      <th>Visibility_(Miles)</th>\n",
       "      <th>Flight_Schedule</th>\n",
       "      <th>Flight_Delay</th>\n",
       "      <th>Hour_Delay</th>\n",
       "      <th>DelayMinute</th>\n",
       "      <th>DelayInMinute</th>\n",
       "      <th>counter</th>\n",
       "      <th>Hour</th>\n",
       "    </tr>\n",
       "  </thead>\n",
       "  <tbody>\n",
       "    <tr>\n",
       "      <th>2042</th>\n",
       "      <td>2021-03-01</td>\n",
       "      <td>11:15:00</td>\n",
       "      <td>11:42:35</td>\n",
       "      <td>2021-03-01 11:42:35</td>\n",
       "      <td>3/1/2021 11:15</td>\n",
       "      <td>India</td>\n",
       "      <td>International</td>\n",
       "      <td>Asia</td>\n",
       "      <td>Air India Limited</td>\n",
       "      <td>AIC</td>\n",
       "      <td>...</td>\n",
       "      <td>Raining</td>\n",
       "      <td>0.0</td>\n",
       "      <td>10.0</td>\n",
       "      <td>2021-03-01 11:15:00</td>\n",
       "      <td>0 days 00:27:35</td>\n",
       "      <td>0.459722</td>\n",
       "      <td>27.583333</td>\n",
       "      <td>27.583333</td>\n",
       "      <td>1</td>\n",
       "      <td>11</td>\n",
       "    </tr>\n",
       "    <tr>\n",
       "      <th>2051</th>\n",
       "      <td>2021-03-01</td>\n",
       "      <td>18:45:00</td>\n",
       "      <td>19:30:54</td>\n",
       "      <td>2021-03-01 19:30:54</td>\n",
       "      <td>3/1/2021 18:45</td>\n",
       "      <td>USA</td>\n",
       "      <td>Domestic</td>\n",
       "      <td>USA-Southeast</td>\n",
       "      <td>Delta Air Lines</td>\n",
       "      <td>DAL</td>\n",
       "      <td>...</td>\n",
       "      <td>Partly cloudy</td>\n",
       "      <td>0.0</td>\n",
       "      <td>10.0</td>\n",
       "      <td>2021-03-01 18:45:00</td>\n",
       "      <td>0 days 00:45:54</td>\n",
       "      <td>0.765000</td>\n",
       "      <td>45.900000</td>\n",
       "      <td>45.900000</td>\n",
       "      <td>1</td>\n",
       "      <td>18</td>\n",
       "    </tr>\n",
       "    <tr>\n",
       "      <th>2053</th>\n",
       "      <td>2021-03-01</td>\n",
       "      <td>18:10:00</td>\n",
       "      <td>18:29:37</td>\n",
       "      <td>2021-03-01 18:29:37</td>\n",
       "      <td>3/1/2021 18:10</td>\n",
       "      <td>Germany</td>\n",
       "      <td>International</td>\n",
       "      <td>Europe</td>\n",
       "      <td>Lufthansa</td>\n",
       "      <td>DLH</td>\n",
       "      <td>...</td>\n",
       "      <td>Partly cloudy</td>\n",
       "      <td>0.0</td>\n",
       "      <td>10.0</td>\n",
       "      <td>2021-03-01 18:10:00</td>\n",
       "      <td>0 days 00:19:37</td>\n",
       "      <td>0.326944</td>\n",
       "      <td>19.616667</td>\n",
       "      <td>19.616667</td>\n",
       "      <td>1</td>\n",
       "      <td>18</td>\n",
       "    </tr>\n",
       "  </tbody>\n",
       "</table>\n",
       "<p>3 rows × 25 columns</p>\n",
       "</div>"
      ],
      "text/plain": [
       "           Date Actual_Scheduled Actual_Departure    Flight_Departure  \\\n",
       "2042 2021-03-01         11:15:00         11:42:35 2021-03-01 11:42:35   \n",
       "2051 2021-03-01         18:45:00         19:30:54 2021-03-01 19:30:54   \n",
       "2053 2021-03-01         18:10:00         18:29:37 2021-03-01 18:29:37   \n",
       "\n",
       "      Block_Schedule Non-PA_Airport_Country_Desc International_Domestic  \\\n",
       "2042  3/1/2021 11:15                       India          International   \n",
       "2051  3/1/2021 18:45                         USA               Domestic   \n",
       "2053  3/1/2021 18:10                     Germany          International   \n",
       "\n",
       "             Region Operating_Airline_Desc Operating_Airline_ICAO_Code  ...  \\\n",
       "2042           Asia      Air India Limited                         AIC  ...   \n",
       "2051  USA-Southeast        Delta Air Lines                         DAL  ...   \n",
       "2053         Europe              Lufthansa                         DLH  ...   \n",
       "\n",
       "      Weather_Description Precipitation_(Inches)  Visibility_(Miles)  \\\n",
       "2042              Raining                    0.0                10.0   \n",
       "2051        Partly cloudy                    0.0                10.0   \n",
       "2053        Partly cloudy                    0.0                10.0   \n",
       "\n",
       "         Flight_Schedule    Flight_Delay Hour_Delay  DelayMinute  \\\n",
       "2042 2021-03-01 11:15:00 0 days 00:27:35   0.459722    27.583333   \n",
       "2051 2021-03-01 18:45:00 0 days 00:45:54   0.765000    45.900000   \n",
       "2053 2021-03-01 18:10:00 0 days 00:19:37   0.326944    19.616667   \n",
       "\n",
       "      DelayInMinute counter Hour  \n",
       "2042      27.583333       1   11  \n",
       "2051      45.900000       1   18  \n",
       "2053      19.616667       1   18  \n",
       "\n",
       "[3 rows x 25 columns]"
      ]
     },
     "execution_count": 86,
     "metadata": {},
     "output_type": "execute_result"
    }
   ],
   "source": [
    "flightmerge.head(3)"
   ]
  },
  {
   "cell_type": "code",
   "execution_count": 87,
   "id": "df92a48f",
   "metadata": {},
   "outputs": [
    {
     "data": {
      "text/plain": [
       "0"
      ]
     },
     "execution_count": 87,
     "metadata": {},
     "output_type": "execute_result"
    }
   ],
   "source": [
    "flightmerge.Hour_Delay.isna().sum()"
   ]
  },
  {
   "cell_type": "code",
   "execution_count": 88,
   "id": "2a4207d9",
   "metadata": {},
   "outputs": [
    {
     "data": {
      "text/plain": [
       "(0.25, 25.420833333333334)"
      ]
     },
     "execution_count": 88,
     "metadata": {},
     "output_type": "execute_result"
    }
   ],
   "source": [
    "flightmerge.Hour_Delay.min(), flightmerge.Hour_Delay.max()"
   ]
  },
  {
   "cell_type": "code",
   "execution_count": 89,
   "id": "ab8a8ada",
   "metadata": {},
   "outputs": [
    {
     "data": {
      "text/plain": [
       "array([11, 18, 13,  6,  8, 16,  7, 15,  9, 12, 21, 10, 17, 22,  1, 19, 20,\n",
       "       14, 23,  5,  0], dtype=int64)"
      ]
     },
     "execution_count": 89,
     "metadata": {},
     "output_type": "execute_result"
    }
   ],
   "source": [
    "flightmerge['Hour'].unique()"
   ]
  },
  {
   "cell_type": "code",
   "execution_count": 90,
   "id": "7ac20a88",
   "metadata": {},
   "outputs": [],
   "source": [
    "#Creating time categories\n",
    "morning = [6,7,8,9,10,11]\n",
    "afternoon = [12,13,14,15,16,17]\n",
    "evening = [18,19,20,21]\n",
    "overnight = [22,23,0,1,2,3,4,5]"
   ]
  },
  {
   "cell_type": "code",
   "execution_count": 91,
   "id": "824b1dde",
   "metadata": {},
   "outputs": [],
   "source": [
    "lsthour = []\n",
    "for s in flightmerge['Hour']:\n",
    "        if s in morning:\n",
    "            lsthour.append('Morning')\n",
    "        elif s in afternoon:\n",
    "            lsthour.append('Afternoon')\n",
    "        elif s in evening:\n",
    "            lsthour.append('Evening')\n",
    "        elif s in overnight:\n",
    "            lsthour.append('Overnight')"
   ]
  },
  {
   "cell_type": "code",
   "execution_count": 92,
   "id": "b9452ca8",
   "metadata": {},
   "outputs": [],
   "source": [
    "flightmerge ['Time Category'] = lsthour"
   ]
  },
  {
   "cell_type": "code",
   "execution_count": 93,
   "id": "7cdd1614",
   "metadata": {},
   "outputs": [
    {
     "data": {
      "text/html": [
       "<div>\n",
       "<style scoped>\n",
       "    .dataframe tbody tr th:only-of-type {\n",
       "        vertical-align: middle;\n",
       "    }\n",
       "\n",
       "    .dataframe tbody tr th {\n",
       "        vertical-align: top;\n",
       "    }\n",
       "\n",
       "    .dataframe thead th {\n",
       "        text-align: right;\n",
       "    }\n",
       "</style>\n",
       "<table border=\"1\" class=\"dataframe\">\n",
       "  <thead>\n",
       "    <tr style=\"text-align: right;\">\n",
       "      <th></th>\n",
       "      <th>Date</th>\n",
       "      <th>Actual_Scheduled</th>\n",
       "      <th>Actual_Departure</th>\n",
       "      <th>Flight_Departure</th>\n",
       "      <th>Block_Schedule</th>\n",
       "      <th>Non-PA_Airport_Country_Desc</th>\n",
       "      <th>International_Domestic</th>\n",
       "      <th>Region</th>\n",
       "      <th>Operating_Airline_Desc</th>\n",
       "      <th>Operating_Airline_ICAO_Code</th>\n",
       "      <th>...</th>\n",
       "      <th>Precipitation_(Inches)</th>\n",
       "      <th>Visibility_(Miles)</th>\n",
       "      <th>Flight_Schedule</th>\n",
       "      <th>Flight_Delay</th>\n",
       "      <th>Hour_Delay</th>\n",
       "      <th>DelayMinute</th>\n",
       "      <th>DelayInMinute</th>\n",
       "      <th>counter</th>\n",
       "      <th>Hour</th>\n",
       "      <th>Time Category</th>\n",
       "    </tr>\n",
       "  </thead>\n",
       "  <tbody>\n",
       "    <tr>\n",
       "      <th>2042</th>\n",
       "      <td>2021-03-01</td>\n",
       "      <td>11:15:00</td>\n",
       "      <td>11:42:35</td>\n",
       "      <td>2021-03-01 11:42:35</td>\n",
       "      <td>3/1/2021 11:15</td>\n",
       "      <td>India</td>\n",
       "      <td>International</td>\n",
       "      <td>Asia</td>\n",
       "      <td>Air India Limited</td>\n",
       "      <td>AIC</td>\n",
       "      <td>...</td>\n",
       "      <td>0.0</td>\n",
       "      <td>10.0</td>\n",
       "      <td>2021-03-01 11:15:00</td>\n",
       "      <td>0 days 00:27:35</td>\n",
       "      <td>0.459722</td>\n",
       "      <td>27.583333</td>\n",
       "      <td>27.583333</td>\n",
       "      <td>1</td>\n",
       "      <td>11</td>\n",
       "      <td>Morning</td>\n",
       "    </tr>\n",
       "    <tr>\n",
       "      <th>2051</th>\n",
       "      <td>2021-03-01</td>\n",
       "      <td>18:45:00</td>\n",
       "      <td>19:30:54</td>\n",
       "      <td>2021-03-01 19:30:54</td>\n",
       "      <td>3/1/2021 18:45</td>\n",
       "      <td>USA</td>\n",
       "      <td>Domestic</td>\n",
       "      <td>USA-Southeast</td>\n",
       "      <td>Delta Air Lines</td>\n",
       "      <td>DAL</td>\n",
       "      <td>...</td>\n",
       "      <td>0.0</td>\n",
       "      <td>10.0</td>\n",
       "      <td>2021-03-01 18:45:00</td>\n",
       "      <td>0 days 00:45:54</td>\n",
       "      <td>0.765000</td>\n",
       "      <td>45.900000</td>\n",
       "      <td>45.900000</td>\n",
       "      <td>1</td>\n",
       "      <td>18</td>\n",
       "      <td>Evening</td>\n",
       "    </tr>\n",
       "    <tr>\n",
       "      <th>2053</th>\n",
       "      <td>2021-03-01</td>\n",
       "      <td>18:10:00</td>\n",
       "      <td>18:29:37</td>\n",
       "      <td>2021-03-01 18:29:37</td>\n",
       "      <td>3/1/2021 18:10</td>\n",
       "      <td>Germany</td>\n",
       "      <td>International</td>\n",
       "      <td>Europe</td>\n",
       "      <td>Lufthansa</td>\n",
       "      <td>DLH</td>\n",
       "      <td>...</td>\n",
       "      <td>0.0</td>\n",
       "      <td>10.0</td>\n",
       "      <td>2021-03-01 18:10:00</td>\n",
       "      <td>0 days 00:19:37</td>\n",
       "      <td>0.326944</td>\n",
       "      <td>19.616667</td>\n",
       "      <td>19.616667</td>\n",
       "      <td>1</td>\n",
       "      <td>18</td>\n",
       "      <td>Evening</td>\n",
       "    </tr>\n",
       "    <tr>\n",
       "      <th>2060</th>\n",
       "      <td>2021-03-01</td>\n",
       "      <td>13:29:00</td>\n",
       "      <td>13:48:52</td>\n",
       "      <td>2021-03-01 13:48:52</td>\n",
       "      <td>3/1/2021 13:29</td>\n",
       "      <td>USA</td>\n",
       "      <td>Domestic</td>\n",
       "      <td>USA-Southeast</td>\n",
       "      <td>Frontier Airlines</td>\n",
       "      <td>FFT</td>\n",
       "      <td>...</td>\n",
       "      <td>0.0</td>\n",
       "      <td>10.0</td>\n",
       "      <td>2021-03-01 13:29:00</td>\n",
       "      <td>0 days 00:19:52</td>\n",
       "      <td>0.331111</td>\n",
       "      <td>19.866667</td>\n",
       "      <td>19.866667</td>\n",
       "      <td>1</td>\n",
       "      <td>13</td>\n",
       "      <td>Afternoon</td>\n",
       "    </tr>\n",
       "  </tbody>\n",
       "</table>\n",
       "<p>4 rows × 26 columns</p>\n",
       "</div>"
      ],
      "text/plain": [
       "           Date Actual_Scheduled Actual_Departure    Flight_Departure  \\\n",
       "2042 2021-03-01         11:15:00         11:42:35 2021-03-01 11:42:35   \n",
       "2051 2021-03-01         18:45:00         19:30:54 2021-03-01 19:30:54   \n",
       "2053 2021-03-01         18:10:00         18:29:37 2021-03-01 18:29:37   \n",
       "2060 2021-03-01         13:29:00         13:48:52 2021-03-01 13:48:52   \n",
       "\n",
       "      Block_Schedule Non-PA_Airport_Country_Desc International_Domestic  \\\n",
       "2042  3/1/2021 11:15                       India          International   \n",
       "2051  3/1/2021 18:45                         USA               Domestic   \n",
       "2053  3/1/2021 18:10                     Germany          International   \n",
       "2060  3/1/2021 13:29                         USA               Domestic   \n",
       "\n",
       "             Region Operating_Airline_Desc Operating_Airline_ICAO_Code  ...  \\\n",
       "2042           Asia      Air India Limited                         AIC  ...   \n",
       "2051  USA-Southeast        Delta Air Lines                         DAL  ...   \n",
       "2053         Europe              Lufthansa                         DLH  ...   \n",
       "2060  USA-Southeast      Frontier Airlines                         FFT  ...   \n",
       "\n",
       "      Precipitation_(Inches) Visibility_(Miles)     Flight_Schedule  \\\n",
       "2042                     0.0               10.0 2021-03-01 11:15:00   \n",
       "2051                     0.0               10.0 2021-03-01 18:45:00   \n",
       "2053                     0.0               10.0 2021-03-01 18:10:00   \n",
       "2060                     0.0               10.0 2021-03-01 13:29:00   \n",
       "\n",
       "        Flight_Delay  Hour_Delay DelayMinute  DelayInMinute  counter Hour  \\\n",
       "2042 0 days 00:27:35    0.459722   27.583333      27.583333        1   11   \n",
       "2051 0 days 00:45:54    0.765000   45.900000      45.900000        1   18   \n",
       "2053 0 days 00:19:37    0.326944   19.616667      19.616667        1   18   \n",
       "2060 0 days 00:19:52    0.331111   19.866667      19.866667        1   13   \n",
       "\n",
       "     Time Category  \n",
       "2042       Morning  \n",
       "2051       Evening  \n",
       "2053       Evening  \n",
       "2060     Afternoon  \n",
       "\n",
       "[4 rows x 26 columns]"
      ]
     },
     "execution_count": 93,
     "metadata": {},
     "output_type": "execute_result"
    }
   ],
   "source": [
    "flightmerge.head(4)"
   ]
  },
  {
   "cell_type": "code",
   "execution_count": 94,
   "id": "0735e504",
   "metadata": {},
   "outputs": [],
   "source": [
    "#Selecting relevant fields from clean data\n",
    "flightmerge = flightmerge[['Date','Flight_Schedule','Flight_Departure','International_Domestic','Region',\n",
    "                           'Non-PA_Airport_Country_Desc','Operating_Airline_Desc','Total_Seats','Season','holiday',\n",
    "                           'DOW','Weather_Description','Precipitation_(Inches)', \n",
    "                           'Visibility_(Miles)','Hour_Delay', 'Time Category']]"
   ]
  },
  {
   "cell_type": "code",
   "execution_count": 95,
   "id": "2720cd7b",
   "metadata": {},
   "outputs": [
    {
     "data": {
      "text/html": [
       "<div>\n",
       "<style scoped>\n",
       "    .dataframe tbody tr th:only-of-type {\n",
       "        vertical-align: middle;\n",
       "    }\n",
       "\n",
       "    .dataframe tbody tr th {\n",
       "        vertical-align: top;\n",
       "    }\n",
       "\n",
       "    .dataframe thead th {\n",
       "        text-align: right;\n",
       "    }\n",
       "</style>\n",
       "<table border=\"1\" class=\"dataframe\">\n",
       "  <thead>\n",
       "    <tr style=\"text-align: right;\">\n",
       "      <th></th>\n",
       "      <th>Date</th>\n",
       "      <th>Flight_Schedule</th>\n",
       "      <th>Flight_Departure</th>\n",
       "      <th>International_Domestic</th>\n",
       "      <th>Region</th>\n",
       "      <th>Non-PA_Airport_Country_Desc</th>\n",
       "      <th>Operating_Airline_Desc</th>\n",
       "      <th>Total_Seats</th>\n",
       "      <th>Season</th>\n",
       "      <th>holiday</th>\n",
       "      <th>DOW</th>\n",
       "      <th>Weather_Description</th>\n",
       "      <th>Precipitation_(Inches)</th>\n",
       "      <th>Visibility_(Miles)</th>\n",
       "      <th>Hour_Delay</th>\n",
       "      <th>Time Category</th>\n",
       "    </tr>\n",
       "  </thead>\n",
       "  <tbody>\n",
       "    <tr>\n",
       "      <th>2042</th>\n",
       "      <td>2021-03-01</td>\n",
       "      <td>2021-03-01 11:15:00</td>\n",
       "      <td>2021-03-01 11:42:35</td>\n",
       "      <td>International</td>\n",
       "      <td>Asia</td>\n",
       "      <td>India</td>\n",
       "      <td>Air India Limited</td>\n",
       "      <td>342</td>\n",
       "      <td>Winter</td>\n",
       "      <td>0</td>\n",
       "      <td>0</td>\n",
       "      <td>Raining</td>\n",
       "      <td>0.0</td>\n",
       "      <td>10.0</td>\n",
       "      <td>0.459722</td>\n",
       "      <td>Morning</td>\n",
       "    </tr>\n",
       "    <tr>\n",
       "      <th>2051</th>\n",
       "      <td>2021-03-01</td>\n",
       "      <td>2021-03-01 18:45:00</td>\n",
       "      <td>2021-03-01 19:30:54</td>\n",
       "      <td>Domestic</td>\n",
       "      <td>USA-Southeast</td>\n",
       "      <td>USA</td>\n",
       "      <td>Delta Air Lines</td>\n",
       "      <td>110</td>\n",
       "      <td>Winter</td>\n",
       "      <td>0</td>\n",
       "      <td>0</td>\n",
       "      <td>Partly cloudy</td>\n",
       "      <td>0.0</td>\n",
       "      <td>10.0</td>\n",
       "      <td>0.765000</td>\n",
       "      <td>Evening</td>\n",
       "    </tr>\n",
       "    <tr>\n",
       "      <th>2053</th>\n",
       "      <td>2021-03-01</td>\n",
       "      <td>2021-03-01 18:10:00</td>\n",
       "      <td>2021-03-01 18:29:37</td>\n",
       "      <td>International</td>\n",
       "      <td>Europe</td>\n",
       "      <td>Germany</td>\n",
       "      <td>Lufthansa</td>\n",
       "      <td>255</td>\n",
       "      <td>Winter</td>\n",
       "      <td>0</td>\n",
       "      <td>0</td>\n",
       "      <td>Partly cloudy</td>\n",
       "      <td>0.0</td>\n",
       "      <td>10.0</td>\n",
       "      <td>0.326944</td>\n",
       "      <td>Evening</td>\n",
       "    </tr>\n",
       "    <tr>\n",
       "      <th>2060</th>\n",
       "      <td>2021-03-01</td>\n",
       "      <td>2021-03-01 13:29:00</td>\n",
       "      <td>2021-03-01 13:48:52</td>\n",
       "      <td>Domestic</td>\n",
       "      <td>USA-Southeast</td>\n",
       "      <td>USA</td>\n",
       "      <td>Frontier Airlines</td>\n",
       "      <td>186</td>\n",
       "      <td>Winter</td>\n",
       "      <td>0</td>\n",
       "      <td>0</td>\n",
       "      <td>Overcast skies</td>\n",
       "      <td>0.0</td>\n",
       "      <td>10.0</td>\n",
       "      <td>0.331111</td>\n",
       "      <td>Afternoon</td>\n",
       "    </tr>\n",
       "    <tr>\n",
       "      <th>2074</th>\n",
       "      <td>2021-03-02</td>\n",
       "      <td>2021-03-02 11:15:00</td>\n",
       "      <td>2021-03-02 11:47:16</td>\n",
       "      <td>International</td>\n",
       "      <td>Asia</td>\n",
       "      <td>India</td>\n",
       "      <td>Air India Limited</td>\n",
       "      <td>342</td>\n",
       "      <td>Winter</td>\n",
       "      <td>0</td>\n",
       "      <td>1</td>\n",
       "      <td>Partly cloudy</td>\n",
       "      <td>0.0</td>\n",
       "      <td>10.0</td>\n",
       "      <td>0.537778</td>\n",
       "      <td>Morning</td>\n",
       "    </tr>\n",
       "  </tbody>\n",
       "</table>\n",
       "</div>"
      ],
      "text/plain": [
       "           Date     Flight_Schedule    Flight_Departure  \\\n",
       "2042 2021-03-01 2021-03-01 11:15:00 2021-03-01 11:42:35   \n",
       "2051 2021-03-01 2021-03-01 18:45:00 2021-03-01 19:30:54   \n",
       "2053 2021-03-01 2021-03-01 18:10:00 2021-03-01 18:29:37   \n",
       "2060 2021-03-01 2021-03-01 13:29:00 2021-03-01 13:48:52   \n",
       "2074 2021-03-02 2021-03-02 11:15:00 2021-03-02 11:47:16   \n",
       "\n",
       "     International_Domestic         Region Non-PA_Airport_Country_Desc  \\\n",
       "2042          International           Asia                       India   \n",
       "2051               Domestic  USA-Southeast                         USA   \n",
       "2053          International         Europe                     Germany   \n",
       "2060               Domestic  USA-Southeast                         USA   \n",
       "2074          International           Asia                       India   \n",
       "\n",
       "     Operating_Airline_Desc  Total_Seats  Season  holiday  DOW  \\\n",
       "2042      Air India Limited          342  Winter        0    0   \n",
       "2051        Delta Air Lines          110  Winter        0    0   \n",
       "2053              Lufthansa          255  Winter        0    0   \n",
       "2060      Frontier Airlines          186  Winter        0    0   \n",
       "2074      Air India Limited          342  Winter        0    1   \n",
       "\n",
       "     Weather_Description  Precipitation_(Inches)  Visibility_(Miles)  \\\n",
       "2042             Raining                     0.0                10.0   \n",
       "2051       Partly cloudy                     0.0                10.0   \n",
       "2053       Partly cloudy                     0.0                10.0   \n",
       "2060      Overcast skies                     0.0                10.0   \n",
       "2074       Partly cloudy                     0.0                10.0   \n",
       "\n",
       "      Hour_Delay Time Category  \n",
       "2042    0.459722       Morning  \n",
       "2051    0.765000       Evening  \n",
       "2053    0.326944       Evening  \n",
       "2060    0.331111     Afternoon  \n",
       "2074    0.537778       Morning  "
      ]
     },
     "execution_count": 95,
     "metadata": {},
     "output_type": "execute_result"
    }
   ],
   "source": [
    "flightmerge.head()"
   ]
  },
  {
   "cell_type": "code",
   "execution_count": 96,
   "id": "4ea0a372",
   "metadata": {},
   "outputs": [
    {
     "data": {
      "text/plain": [
       "<bound method Series.unique of 2042            Raining\n",
       "2051      Partly cloudy\n",
       "2053      Partly cloudy\n",
       "2060     Overcast skies\n",
       "2074      Partly cloudy\n",
       "              ...      \n",
       "20688     Partly cloudy\n",
       "20691    Overcast skies\n",
       "20693    Overcast skies\n",
       "20702     Partly cloudy\n",
       "20703    Overcast skies\n",
       "Name: Weather_Description, Length: 8845, dtype: object>"
      ]
     },
     "execution_count": 96,
     "metadata": {},
     "output_type": "execute_result"
    }
   ],
   "source": [
    "flightmerge['Weather_Description'].unique\n",
    "#Clear skies, Partly cloudy,Raining"
   ]
  },
  {
   "cell_type": "code",
   "execution_count": 97,
   "id": "e9d94336",
   "metadata": {},
   "outputs": [],
   "source": [
    "flightmerge = flightmerge[flightmerge.Weather_Description !='Clear skies']"
   ]
  },
  {
   "cell_type": "code",
   "execution_count": 98,
   "id": "aa598646",
   "metadata": {},
   "outputs": [
    {
     "data": {
      "text/html": [
       "<div>\n",
       "<style scoped>\n",
       "    .dataframe tbody tr th:only-of-type {\n",
       "        vertical-align: middle;\n",
       "    }\n",
       "\n",
       "    .dataframe tbody tr th {\n",
       "        vertical-align: top;\n",
       "    }\n",
       "\n",
       "    .dataframe thead th {\n",
       "        text-align: right;\n",
       "    }\n",
       "</style>\n",
       "<table border=\"1\" class=\"dataframe\">\n",
       "  <thead>\n",
       "    <tr style=\"text-align: right;\">\n",
       "      <th></th>\n",
       "      <th>Date</th>\n",
       "      <th>Flight_Schedule</th>\n",
       "      <th>Flight_Departure</th>\n",
       "      <th>International_Domestic</th>\n",
       "      <th>Region</th>\n",
       "      <th>Non-PA_Airport_Country_Desc</th>\n",
       "      <th>Operating_Airline_Desc</th>\n",
       "      <th>Total_Seats</th>\n",
       "      <th>Season</th>\n",
       "      <th>holiday</th>\n",
       "      <th>DOW</th>\n",
       "      <th>Weather_Description</th>\n",
       "      <th>Precipitation_(Inches)</th>\n",
       "      <th>Visibility_(Miles)</th>\n",
       "      <th>Hour_Delay</th>\n",
       "      <th>Time Category</th>\n",
       "    </tr>\n",
       "  </thead>\n",
       "  <tbody>\n",
       "    <tr>\n",
       "      <th>2042</th>\n",
       "      <td>2021-03-01</td>\n",
       "      <td>2021-03-01 11:15:00</td>\n",
       "      <td>2021-03-01 11:42:35</td>\n",
       "      <td>International</td>\n",
       "      <td>Asia</td>\n",
       "      <td>India</td>\n",
       "      <td>Air India Limited</td>\n",
       "      <td>342</td>\n",
       "      <td>Winter</td>\n",
       "      <td>0</td>\n",
       "      <td>0</td>\n",
       "      <td>Raining</td>\n",
       "      <td>0.0</td>\n",
       "      <td>10.0</td>\n",
       "      <td>0.459722</td>\n",
       "      <td>Morning</td>\n",
       "    </tr>\n",
       "    <tr>\n",
       "      <th>2051</th>\n",
       "      <td>2021-03-01</td>\n",
       "      <td>2021-03-01 18:45:00</td>\n",
       "      <td>2021-03-01 19:30:54</td>\n",
       "      <td>Domestic</td>\n",
       "      <td>USA-Southeast</td>\n",
       "      <td>USA</td>\n",
       "      <td>Delta Air Lines</td>\n",
       "      <td>110</td>\n",
       "      <td>Winter</td>\n",
       "      <td>0</td>\n",
       "      <td>0</td>\n",
       "      <td>Partly cloudy</td>\n",
       "      <td>0.0</td>\n",
       "      <td>10.0</td>\n",
       "      <td>0.765000</td>\n",
       "      <td>Evening</td>\n",
       "    </tr>\n",
       "    <tr>\n",
       "      <th>2053</th>\n",
       "      <td>2021-03-01</td>\n",
       "      <td>2021-03-01 18:10:00</td>\n",
       "      <td>2021-03-01 18:29:37</td>\n",
       "      <td>International</td>\n",
       "      <td>Europe</td>\n",
       "      <td>Germany</td>\n",
       "      <td>Lufthansa</td>\n",
       "      <td>255</td>\n",
       "      <td>Winter</td>\n",
       "      <td>0</td>\n",
       "      <td>0</td>\n",
       "      <td>Partly cloudy</td>\n",
       "      <td>0.0</td>\n",
       "      <td>10.0</td>\n",
       "      <td>0.326944</td>\n",
       "      <td>Evening</td>\n",
       "    </tr>\n",
       "    <tr>\n",
       "      <th>2060</th>\n",
       "      <td>2021-03-01</td>\n",
       "      <td>2021-03-01 13:29:00</td>\n",
       "      <td>2021-03-01 13:48:52</td>\n",
       "      <td>Domestic</td>\n",
       "      <td>USA-Southeast</td>\n",
       "      <td>USA</td>\n",
       "      <td>Frontier Airlines</td>\n",
       "      <td>186</td>\n",
       "      <td>Winter</td>\n",
       "      <td>0</td>\n",
       "      <td>0</td>\n",
       "      <td>Overcast skies</td>\n",
       "      <td>0.0</td>\n",
       "      <td>10.0</td>\n",
       "      <td>0.331111</td>\n",
       "      <td>Afternoon</td>\n",
       "    </tr>\n",
       "    <tr>\n",
       "      <th>2074</th>\n",
       "      <td>2021-03-02</td>\n",
       "      <td>2021-03-02 11:15:00</td>\n",
       "      <td>2021-03-02 11:47:16</td>\n",
       "      <td>International</td>\n",
       "      <td>Asia</td>\n",
       "      <td>India</td>\n",
       "      <td>Air India Limited</td>\n",
       "      <td>342</td>\n",
       "      <td>Winter</td>\n",
       "      <td>0</td>\n",
       "      <td>1</td>\n",
       "      <td>Partly cloudy</td>\n",
       "      <td>0.0</td>\n",
       "      <td>10.0</td>\n",
       "      <td>0.537778</td>\n",
       "      <td>Morning</td>\n",
       "    </tr>\n",
       "  </tbody>\n",
       "</table>\n",
       "</div>"
      ],
      "text/plain": [
       "           Date     Flight_Schedule    Flight_Departure  \\\n",
       "2042 2021-03-01 2021-03-01 11:15:00 2021-03-01 11:42:35   \n",
       "2051 2021-03-01 2021-03-01 18:45:00 2021-03-01 19:30:54   \n",
       "2053 2021-03-01 2021-03-01 18:10:00 2021-03-01 18:29:37   \n",
       "2060 2021-03-01 2021-03-01 13:29:00 2021-03-01 13:48:52   \n",
       "2074 2021-03-02 2021-03-02 11:15:00 2021-03-02 11:47:16   \n",
       "\n",
       "     International_Domestic         Region Non-PA_Airport_Country_Desc  \\\n",
       "2042          International           Asia                       India   \n",
       "2051               Domestic  USA-Southeast                         USA   \n",
       "2053          International         Europe                     Germany   \n",
       "2060               Domestic  USA-Southeast                         USA   \n",
       "2074          International           Asia                       India   \n",
       "\n",
       "     Operating_Airline_Desc  Total_Seats  Season  holiday  DOW  \\\n",
       "2042      Air India Limited          342  Winter        0    0   \n",
       "2051        Delta Air Lines          110  Winter        0    0   \n",
       "2053              Lufthansa          255  Winter        0    0   \n",
       "2060      Frontier Airlines          186  Winter        0    0   \n",
       "2074      Air India Limited          342  Winter        0    1   \n",
       "\n",
       "     Weather_Description  Precipitation_(Inches)  Visibility_(Miles)  \\\n",
       "2042             Raining                     0.0                10.0   \n",
       "2051       Partly cloudy                     0.0                10.0   \n",
       "2053       Partly cloudy                     0.0                10.0   \n",
       "2060      Overcast skies                     0.0                10.0   \n",
       "2074       Partly cloudy                     0.0                10.0   \n",
       "\n",
       "      Hour_Delay Time Category  \n",
       "2042    0.459722       Morning  \n",
       "2051    0.765000       Evening  \n",
       "2053    0.326944       Evening  \n",
       "2060    0.331111     Afternoon  \n",
       "2074    0.537778       Morning  "
      ]
     },
     "execution_count": 98,
     "metadata": {},
     "output_type": "execute_result"
    }
   ],
   "source": [
    "flightmerge.head()"
   ]
  },
  {
   "cell_type": "code",
   "execution_count": 99,
   "id": "663ca009",
   "metadata": {},
   "outputs": [],
   "source": [
    "flightmerge['Time'] = pd.to_datetime(flightmerge['Flight_Departure']).dt.time\n",
    "flightmerge['Month'] = pd.to_datetime(flightmerge['Flight_Departure']).dt.month\n",
    "flightmerge['Day'] = pd.to_datetime(flightmerge['Flight_Departure']).dt.day\n",
    "flightmerge['Year'] = pd.to_datetime(flightmerge['Flight_Departure']).dt.year"
   ]
  },
  {
   "cell_type": "code",
   "execution_count": 100,
   "id": "ab7dfd22",
   "metadata": {},
   "outputs": [
    {
     "data": {
      "text/html": [
       "<div>\n",
       "<style scoped>\n",
       "    .dataframe tbody tr th:only-of-type {\n",
       "        vertical-align: middle;\n",
       "    }\n",
       "\n",
       "    .dataframe tbody tr th {\n",
       "        vertical-align: top;\n",
       "    }\n",
       "\n",
       "    .dataframe thead th {\n",
       "        text-align: right;\n",
       "    }\n",
       "</style>\n",
       "<table border=\"1\" class=\"dataframe\">\n",
       "  <thead>\n",
       "    <tr style=\"text-align: right;\">\n",
       "      <th></th>\n",
       "      <th>Date</th>\n",
       "      <th>Flight_Schedule</th>\n",
       "      <th>Flight_Departure</th>\n",
       "      <th>International_Domestic</th>\n",
       "      <th>Region</th>\n",
       "      <th>Non-PA_Airport_Country_Desc</th>\n",
       "      <th>Operating_Airline_Desc</th>\n",
       "      <th>Total_Seats</th>\n",
       "      <th>Season</th>\n",
       "      <th>holiday</th>\n",
       "      <th>DOW</th>\n",
       "      <th>Weather_Description</th>\n",
       "      <th>Precipitation_(Inches)</th>\n",
       "      <th>Visibility_(Miles)</th>\n",
       "      <th>Hour_Delay</th>\n",
       "      <th>Time Category</th>\n",
       "      <th>Time</th>\n",
       "      <th>Month</th>\n",
       "      <th>Day</th>\n",
       "      <th>Year</th>\n",
       "    </tr>\n",
       "  </thead>\n",
       "  <tbody>\n",
       "    <tr>\n",
       "      <th>2042</th>\n",
       "      <td>2021-03-01</td>\n",
       "      <td>2021-03-01 11:15:00</td>\n",
       "      <td>2021-03-01 11:42:35</td>\n",
       "      <td>International</td>\n",
       "      <td>Asia</td>\n",
       "      <td>India</td>\n",
       "      <td>Air India Limited</td>\n",
       "      <td>342</td>\n",
       "      <td>Winter</td>\n",
       "      <td>0</td>\n",
       "      <td>0</td>\n",
       "      <td>Raining</td>\n",
       "      <td>0.0</td>\n",
       "      <td>10.0</td>\n",
       "      <td>0.459722</td>\n",
       "      <td>Morning</td>\n",
       "      <td>11:42:35</td>\n",
       "      <td>3</td>\n",
       "      <td>1</td>\n",
       "      <td>2021</td>\n",
       "    </tr>\n",
       "    <tr>\n",
       "      <th>2051</th>\n",
       "      <td>2021-03-01</td>\n",
       "      <td>2021-03-01 18:45:00</td>\n",
       "      <td>2021-03-01 19:30:54</td>\n",
       "      <td>Domestic</td>\n",
       "      <td>USA-Southeast</td>\n",
       "      <td>USA</td>\n",
       "      <td>Delta Air Lines</td>\n",
       "      <td>110</td>\n",
       "      <td>Winter</td>\n",
       "      <td>0</td>\n",
       "      <td>0</td>\n",
       "      <td>Partly cloudy</td>\n",
       "      <td>0.0</td>\n",
       "      <td>10.0</td>\n",
       "      <td>0.765000</td>\n",
       "      <td>Evening</td>\n",
       "      <td>19:30:54</td>\n",
       "      <td>3</td>\n",
       "      <td>1</td>\n",
       "      <td>2021</td>\n",
       "    </tr>\n",
       "    <tr>\n",
       "      <th>2053</th>\n",
       "      <td>2021-03-01</td>\n",
       "      <td>2021-03-01 18:10:00</td>\n",
       "      <td>2021-03-01 18:29:37</td>\n",
       "      <td>International</td>\n",
       "      <td>Europe</td>\n",
       "      <td>Germany</td>\n",
       "      <td>Lufthansa</td>\n",
       "      <td>255</td>\n",
       "      <td>Winter</td>\n",
       "      <td>0</td>\n",
       "      <td>0</td>\n",
       "      <td>Partly cloudy</td>\n",
       "      <td>0.0</td>\n",
       "      <td>10.0</td>\n",
       "      <td>0.326944</td>\n",
       "      <td>Evening</td>\n",
       "      <td>18:29:37</td>\n",
       "      <td>3</td>\n",
       "      <td>1</td>\n",
       "      <td>2021</td>\n",
       "    </tr>\n",
       "    <tr>\n",
       "      <th>2060</th>\n",
       "      <td>2021-03-01</td>\n",
       "      <td>2021-03-01 13:29:00</td>\n",
       "      <td>2021-03-01 13:48:52</td>\n",
       "      <td>Domestic</td>\n",
       "      <td>USA-Southeast</td>\n",
       "      <td>USA</td>\n",
       "      <td>Frontier Airlines</td>\n",
       "      <td>186</td>\n",
       "      <td>Winter</td>\n",
       "      <td>0</td>\n",
       "      <td>0</td>\n",
       "      <td>Overcast skies</td>\n",
       "      <td>0.0</td>\n",
       "      <td>10.0</td>\n",
       "      <td>0.331111</td>\n",
       "      <td>Afternoon</td>\n",
       "      <td>13:48:52</td>\n",
       "      <td>3</td>\n",
       "      <td>1</td>\n",
       "      <td>2021</td>\n",
       "    </tr>\n",
       "    <tr>\n",
       "      <th>2074</th>\n",
       "      <td>2021-03-02</td>\n",
       "      <td>2021-03-02 11:15:00</td>\n",
       "      <td>2021-03-02 11:47:16</td>\n",
       "      <td>International</td>\n",
       "      <td>Asia</td>\n",
       "      <td>India</td>\n",
       "      <td>Air India Limited</td>\n",
       "      <td>342</td>\n",
       "      <td>Winter</td>\n",
       "      <td>0</td>\n",
       "      <td>1</td>\n",
       "      <td>Partly cloudy</td>\n",
       "      <td>0.0</td>\n",
       "      <td>10.0</td>\n",
       "      <td>0.537778</td>\n",
       "      <td>Morning</td>\n",
       "      <td>11:47:16</td>\n",
       "      <td>3</td>\n",
       "      <td>2</td>\n",
       "      <td>2021</td>\n",
       "    </tr>\n",
       "  </tbody>\n",
       "</table>\n",
       "</div>"
      ],
      "text/plain": [
       "           Date     Flight_Schedule    Flight_Departure  \\\n",
       "2042 2021-03-01 2021-03-01 11:15:00 2021-03-01 11:42:35   \n",
       "2051 2021-03-01 2021-03-01 18:45:00 2021-03-01 19:30:54   \n",
       "2053 2021-03-01 2021-03-01 18:10:00 2021-03-01 18:29:37   \n",
       "2060 2021-03-01 2021-03-01 13:29:00 2021-03-01 13:48:52   \n",
       "2074 2021-03-02 2021-03-02 11:15:00 2021-03-02 11:47:16   \n",
       "\n",
       "     International_Domestic         Region Non-PA_Airport_Country_Desc  \\\n",
       "2042          International           Asia                       India   \n",
       "2051               Domestic  USA-Southeast                         USA   \n",
       "2053          International         Europe                     Germany   \n",
       "2060               Domestic  USA-Southeast                         USA   \n",
       "2074          International           Asia                       India   \n",
       "\n",
       "     Operating_Airline_Desc  Total_Seats  Season  holiday  DOW  \\\n",
       "2042      Air India Limited          342  Winter        0    0   \n",
       "2051        Delta Air Lines          110  Winter        0    0   \n",
       "2053              Lufthansa          255  Winter        0    0   \n",
       "2060      Frontier Airlines          186  Winter        0    0   \n",
       "2074      Air India Limited          342  Winter        0    1   \n",
       "\n",
       "     Weather_Description  Precipitation_(Inches)  Visibility_(Miles)  \\\n",
       "2042             Raining                     0.0                10.0   \n",
       "2051       Partly cloudy                     0.0                10.0   \n",
       "2053       Partly cloudy                     0.0                10.0   \n",
       "2060      Overcast skies                     0.0                10.0   \n",
       "2074       Partly cloudy                     0.0                10.0   \n",
       "\n",
       "      Hour_Delay Time Category      Time  Month  Day  Year  \n",
       "2042    0.459722       Morning  11:42:35      3    1  2021  \n",
       "2051    0.765000       Evening  19:30:54      3    1  2021  \n",
       "2053    0.326944       Evening  18:29:37      3    1  2021  \n",
       "2060    0.331111     Afternoon  13:48:52      3    1  2021  \n",
       "2074    0.537778       Morning  11:47:16      3    2  2021  "
      ]
     },
     "execution_count": 100,
     "metadata": {},
     "output_type": "execute_result"
    }
   ],
   "source": [
    "flightmerge.head()"
   ]
  },
  {
   "cell_type": "code",
   "execution_count": 101,
   "id": "a95e3892",
   "metadata": {},
   "outputs": [],
   "source": [
    "flightmerge = flightmerge[['Month', 'Day', 'Year','International_Domestic','Region',\n",
    "                           'Operating_Airline_Desc','Total_Seats','Hour_Delay','Season', \n",
    "                            'holiday', 'DOW', 'Weather_Description',\n",
    "                            'Precipitation_(Inches)', 'Visibility_(Miles)',\n",
    "                            'Time Category']]"
   ]
  },
  {
   "cell_type": "code",
   "execution_count": 237,
   "id": "5907e3e3",
   "metadata": {},
   "outputs": [
    {
     "data": {
      "text/plain": [
       "array(['Allegiant Air', 'Air India Limited', 'Delta Air Lines',\n",
       "       'Lufthansa', 'Endeavor Airlines', 'Frontier Airlines',\n",
       "       'Spirit Airlines', 'Republic Airways',\n",
       "       'Scandinavian Airlines System', 'Austrian Airlines',\n",
       "       'Ethiopian Airlines', 'SkyWest', 'Swiss International Airlines',\n",
       "       'TAP Portugal', 'El Al Israel Airlines', 'LOT Polish Airlines',\n",
       "       'Sun Country Airlines', 'Emirates', 'La Compagnie', 'Icelandair',\n",
       "       'Porter Airlines', 'JetBlue Airways', 'French Bee',\n",
       "       'British Airways', 'Aer Lingus'], dtype=object)"
      ]
     },
     "execution_count": 237,
     "metadata": {},
     "output_type": "execute_result"
    }
   ],
   "source": [
    "flightmerge.Operating_Airline_Desc.unique()"
   ]
  },
  {
   "cell_type": "code",
   "execution_count": 103,
   "id": "1a75b1df",
   "metadata": {},
   "outputs": [
    {
     "data": {
      "text/html": [
       "<div>\n",
       "<style scoped>\n",
       "    .dataframe tbody tr th:only-of-type {\n",
       "        vertical-align: middle;\n",
       "    }\n",
       "\n",
       "    .dataframe tbody tr th {\n",
       "        vertical-align: top;\n",
       "    }\n",
       "\n",
       "    .dataframe thead th {\n",
       "        text-align: right;\n",
       "    }\n",
       "</style>\n",
       "<table border=\"1\" class=\"dataframe\">\n",
       "  <thead>\n",
       "    <tr style=\"text-align: right;\">\n",
       "      <th></th>\n",
       "      <th>Month</th>\n",
       "      <th>Day</th>\n",
       "      <th>Year</th>\n",
       "      <th>International_Domestic</th>\n",
       "      <th>Region</th>\n",
       "      <th>Operating_Airline_Desc</th>\n",
       "      <th>Total_Seats</th>\n",
       "      <th>Hour_Delay</th>\n",
       "      <th>Season</th>\n",
       "      <th>holiday</th>\n",
       "      <th>DOW</th>\n",
       "      <th>Weather_Description</th>\n",
       "      <th>Precipitation_(Inches)</th>\n",
       "      <th>Visibility_(Miles)</th>\n",
       "      <th>Time Category</th>\n",
       "    </tr>\n",
       "  </thead>\n",
       "  <tbody>\n",
       "    <tr>\n",
       "      <th>2042</th>\n",
       "      <td>3</td>\n",
       "      <td>1</td>\n",
       "      <td>2021</td>\n",
       "      <td>International</td>\n",
       "      <td>Asia</td>\n",
       "      <td>Air India Limited</td>\n",
       "      <td>342</td>\n",
       "      <td>0.459722</td>\n",
       "      <td>Winter</td>\n",
       "      <td>0</td>\n",
       "      <td>0</td>\n",
       "      <td>Raining</td>\n",
       "      <td>0.0</td>\n",
       "      <td>10.0</td>\n",
       "      <td>Morning</td>\n",
       "    </tr>\n",
       "    <tr>\n",
       "      <th>2051</th>\n",
       "      <td>3</td>\n",
       "      <td>1</td>\n",
       "      <td>2021</td>\n",
       "      <td>Domestic</td>\n",
       "      <td>USA-Southeast</td>\n",
       "      <td>Delta Air Lines</td>\n",
       "      <td>110</td>\n",
       "      <td>0.765000</td>\n",
       "      <td>Winter</td>\n",
       "      <td>0</td>\n",
       "      <td>0</td>\n",
       "      <td>Partly cloudy</td>\n",
       "      <td>0.0</td>\n",
       "      <td>10.0</td>\n",
       "      <td>Evening</td>\n",
       "    </tr>\n",
       "    <tr>\n",
       "      <th>2053</th>\n",
       "      <td>3</td>\n",
       "      <td>1</td>\n",
       "      <td>2021</td>\n",
       "      <td>International</td>\n",
       "      <td>Europe</td>\n",
       "      <td>Lufthansa</td>\n",
       "      <td>255</td>\n",
       "      <td>0.326944</td>\n",
       "      <td>Winter</td>\n",
       "      <td>0</td>\n",
       "      <td>0</td>\n",
       "      <td>Partly cloudy</td>\n",
       "      <td>0.0</td>\n",
       "      <td>10.0</td>\n",
       "      <td>Evening</td>\n",
       "    </tr>\n",
       "    <tr>\n",
       "      <th>2060</th>\n",
       "      <td>3</td>\n",
       "      <td>1</td>\n",
       "      <td>2021</td>\n",
       "      <td>Domestic</td>\n",
       "      <td>USA-Southeast</td>\n",
       "      <td>Frontier Airlines</td>\n",
       "      <td>186</td>\n",
       "      <td>0.331111</td>\n",
       "      <td>Winter</td>\n",
       "      <td>0</td>\n",
       "      <td>0</td>\n",
       "      <td>Overcast skies</td>\n",
       "      <td>0.0</td>\n",
       "      <td>10.0</td>\n",
       "      <td>Afternoon</td>\n",
       "    </tr>\n",
       "    <tr>\n",
       "      <th>2074</th>\n",
       "      <td>3</td>\n",
       "      <td>2</td>\n",
       "      <td>2021</td>\n",
       "      <td>International</td>\n",
       "      <td>Asia</td>\n",
       "      <td>Air India Limited</td>\n",
       "      <td>342</td>\n",
       "      <td>0.537778</td>\n",
       "      <td>Winter</td>\n",
       "      <td>0</td>\n",
       "      <td>1</td>\n",
       "      <td>Partly cloudy</td>\n",
       "      <td>0.0</td>\n",
       "      <td>10.0</td>\n",
       "      <td>Morning</td>\n",
       "    </tr>\n",
       "  </tbody>\n",
       "</table>\n",
       "</div>"
      ],
      "text/plain": [
       "      Month  Day  Year International_Domestic         Region  \\\n",
       "2042      3    1  2021          International           Asia   \n",
       "2051      3    1  2021               Domestic  USA-Southeast   \n",
       "2053      3    1  2021          International         Europe   \n",
       "2060      3    1  2021               Domestic  USA-Southeast   \n",
       "2074      3    2  2021          International           Asia   \n",
       "\n",
       "     Operating_Airline_Desc  Total_Seats  Hour_Delay  Season  holiday  DOW  \\\n",
       "2042      Air India Limited          342    0.459722  Winter        0    0   \n",
       "2051        Delta Air Lines          110    0.765000  Winter        0    0   \n",
       "2053              Lufthansa          255    0.326944  Winter        0    0   \n",
       "2060      Frontier Airlines          186    0.331111  Winter        0    0   \n",
       "2074      Air India Limited          342    0.537778  Winter        0    1   \n",
       "\n",
       "     Weather_Description  Precipitation_(Inches)  Visibility_(Miles)  \\\n",
       "2042             Raining                     0.0                10.0   \n",
       "2051       Partly cloudy                     0.0                10.0   \n",
       "2053       Partly cloudy                     0.0                10.0   \n",
       "2060      Overcast skies                     0.0                10.0   \n",
       "2074       Partly cloudy                     0.0                10.0   \n",
       "\n",
       "     Time Category  \n",
       "2042       Morning  \n",
       "2051       Evening  \n",
       "2053       Evening  \n",
       "2060     Afternoon  \n",
       "2074       Morning  "
      ]
     },
     "execution_count": 103,
     "metadata": {},
     "output_type": "execute_result"
    }
   ],
   "source": [
    "flightmerge.head()"
   ]
  },
  {
   "cell_type": "markdown",
   "id": "24ce4061",
   "metadata": {},
   "source": [
    "# Prep Data for Predictions"
   ]
  },
  {
   "cell_type": "code",
   "execution_count": 104,
   "id": "33835180",
   "metadata": {},
   "outputs": [],
   "source": [
    "flightmerge['Destination'] = flightmerge['International_Domestic'].replace({'Domestic':0,'International':1})\n",
    "flightmerge = pd.get_dummies(flightmerge,columns = ['Region','Operating_Airline_Desc','Time Category','DOW','Weather_Description',\\\n",
    "                                           'Season'])"
   ]
  },
  {
   "cell_type": "markdown",
   "id": "d867d6a5",
   "metadata": {},
   "source": [
    "Train: march 2021 - september 2021\n",
    "Validation (walk forward validation): october 2021 - november 2021\n",
    "Test: December 2021\n"
   ]
  },
  {
   "cell_type": "code",
   "execution_count": 105,
   "id": "29756195",
   "metadata": {},
   "outputs": [],
   "source": [
    "train = flightmerge[flightmerge['Month'] < 10]\n",
    "val = flightmerge[(flightmerge['Month']  >=10) | (flightmerge['Month'] <=11)]\n",
    "test = flightmerge[flightmerge['Month'] == 12]"
   ]
  },
  {
   "cell_type": "code",
   "execution_count": 106,
   "id": "d8c336d1",
   "metadata": {},
   "outputs": [],
   "source": [
    "#fit the StandardScaler on the training data, transform all data\n",
    "ss = StandardScaler()\n",
    "ss.fit(train[['Total_Seats']])\n",
    "train[['Total_Seats_sc']] = ss.transform(train[['Total_Seats']])\n",
    "val[['Total_Seats_sc']] = ss.transform(val[['Total_Seats']])\n",
    "test[['Total_Seats_sc']] = ss.transform(test[['Total_Seats']])"
   ]
  },
  {
   "cell_type": "code",
   "execution_count": 107,
   "id": "24fa24d3",
   "metadata": {},
   "outputs": [],
   "source": [
    "train = train.drop(['Month', 'Day', 'Year','International_Domestic'],axis=1)\n",
    "val = val.drop(['Month', 'Day', 'Year','International_Domestic'],axis=1)\n",
    "test = test.drop(['Month', 'Day', 'Year','International_Domestic'],axis=1)"
   ]
  },
  {
   "cell_type": "code",
   "execution_count": 108,
   "id": "91e7de97",
   "metadata": {},
   "outputs": [],
   "source": [
    "X_train = train.drop(['Hour_Delay','Total_Seats'],axis=1)\n",
    "y_train = train['Hour_Delay']"
   ]
  },
  {
   "cell_type": "code",
   "execution_count": 109,
   "id": "6259b05a",
   "metadata": {},
   "outputs": [],
   "source": [
    "X_val = val.drop(['Hour_Delay','Total_Seats'],axis=1)\n",
    "y_val = val['Hour_Delay']"
   ]
  },
  {
   "cell_type": "code",
   "execution_count": 110,
   "id": "30abbae7",
   "metadata": {},
   "outputs": [],
   "source": [
    "X_test = test.drop(['Hour_Delay','Total_Seats'],axis=1)\n",
    "y_test = test['Hour_Delay']"
   ]
  },
  {
   "cell_type": "code",
   "execution_count": 111,
   "id": "00296734",
   "metadata": {},
   "outputs": [
    {
     "data": {
      "text/plain": [
       "Index(['Total_Seats', 'Hour_Delay', 'holiday', 'Precipitation_(Inches)',\n",
       "       'Visibility_(Miles)', 'Destination', 'Region_Africa', 'Region_Asia',\n",
       "       'Region_Canada', 'Region_Europe', 'Region_Latin America & Caribbean',\n",
       "       'Region_USA-Midwest', 'Region_USA-Northeast', 'Region_USA-Pacific West',\n",
       "       'Region_USA-Plains', 'Region_USA-Southeast',\n",
       "       'Operating_Airline_Desc_Aer Lingus',\n",
       "       'Operating_Airline_Desc_Air India Limited',\n",
       "       'Operating_Airline_Desc_Allegiant Air',\n",
       "       'Operating_Airline_Desc_Austrian Airlines',\n",
       "       'Operating_Airline_Desc_British Airways',\n",
       "       'Operating_Airline_Desc_Delta Air Lines',\n",
       "       'Operating_Airline_Desc_El Al Israel Airlines',\n",
       "       'Operating_Airline_Desc_Emirates',\n",
       "       'Operating_Airline_Desc_Endeavor Airlines',\n",
       "       'Operating_Airline_Desc_Ethiopian Airlines',\n",
       "       'Operating_Airline_Desc_French Bee',\n",
       "       'Operating_Airline_Desc_Frontier Airlines',\n",
       "       'Operating_Airline_Desc_Icelandair',\n",
       "       'Operating_Airline_Desc_JetBlue Airways',\n",
       "       'Operating_Airline_Desc_LOT Polish Airlines',\n",
       "       'Operating_Airline_Desc_La Compagnie',\n",
       "       'Operating_Airline_Desc_Lufthansa',\n",
       "       'Operating_Airline_Desc_Porter Airlines',\n",
       "       'Operating_Airline_Desc_Republic Airways',\n",
       "       'Operating_Airline_Desc_Scandinavian Airlines System',\n",
       "       'Operating_Airline_Desc_SkyWest',\n",
       "       'Operating_Airline_Desc_Spirit Airlines',\n",
       "       'Operating_Airline_Desc_Sun Country Airlines',\n",
       "       'Operating_Airline_Desc_Swiss International Airlines',\n",
       "       'Operating_Airline_Desc_TAP Portugal', 'Time Category_Afternoon',\n",
       "       'Time Category_Evening', 'Time Category_Morning',\n",
       "       'Time Category_Overnight', 'DOW_0', 'DOW_1', 'DOW_2', 'DOW_3', 'DOW_4',\n",
       "       'DOW_5', 'DOW_6', 'Weather_Description_Overcast skies',\n",
       "       'Weather_Description_Partly cloudy', 'Weather_Description_Raining',\n",
       "       'Weather_Description_Showers', 'Weather_Description_Snowing',\n",
       "       'Weather_Description_Thunderstorms', 'Season_Fall', 'Season_Spring',\n",
       "       'Season_Summer', 'Season_Winter', 'Total_Seats_sc'],\n",
       "      dtype='object')"
      ]
     },
     "execution_count": 111,
     "metadata": {},
     "output_type": "execute_result"
    }
   ],
   "source": [
    "train.columns"
   ]
  },
  {
   "cell_type": "code",
   "execution_count": 122,
   "id": "81d45d14",
   "metadata": {},
   "outputs": [],
   "source": [
    "from sklearn.ensemble import RandomForestRegressor, AdaBoostRegressor\n",
    "from sklearn.tree import DecisionTreeRegressor\n",
    "from sklearn.model_selection import GridSearchCV"
   ]
  },
  {
   "cell_type": "code",
   "execution_count": 112,
   "id": "1c6a53cd",
   "metadata": {},
   "outputs": [
    {
     "name": "stdout",
     "output_type": "stream",
     "text": [
      "In-sample R2: 0.047519584179018026\n",
      "Validation R2: 0.003935740128567677\n"
     ]
    }
   ],
   "source": [
    "lm = LinearRegression()\n",
    "lm.fit(X_train, y_train)\n",
    "print(f'In-sample R2: {lm.score(X_train, y_train)}')\n",
    "print(f'Validation R2: {lm.score(X_val, y_val)}')"
   ]
  },
  {
   "cell_type": "code",
   "execution_count": 113,
   "id": "2c3ca1e1",
   "metadata": {},
   "outputs": [
    {
     "name": "stdout",
     "output_type": "stream",
     "text": [
      "                            OLS Regression Results                            \n",
      "==============================================================================\n",
      "Dep. Variable:             Hour_Delay   R-squared:                       0.048\n",
      "Model:                            OLS   Adj. R-squared:                  0.039\n",
      "Method:                 Least Squares   F-statistic:                     5.437\n",
      "Date:                Thu, 17 Aug 2023   Prob (F-statistic):           5.62e-29\n",
      "Time:                        11:14:12   Log-Likelihood:                -8304.9\n",
      "No. Observations:                5060   AIC:                         1.670e+04\n",
      "Df Residuals:                    5013   BIC:                         1.701e+04\n",
      "Df Model:                          46                                         \n",
      "Covariance Type:            nonrobust                                         \n",
      "=======================================================================================================================\n",
      "                                                          coef    std err          t      P>|t|      [0.025      0.975]\n",
      "-----------------------------------------------------------------------------------------------------------------------\n",
      "holiday                                                -0.2744      0.111     -2.479      0.013      -0.491      -0.057\n",
      "Precipitation_(Inches)                                  0.0018      0.164      0.011      0.991      -0.319       0.323\n",
      "Visibility_(Miles)                                  -5.041e-06   5.65e-06     -0.893      0.372   -1.61e-05    6.03e-06\n",
      "Destination                                            -0.2681      0.173     -1.553      0.121      -0.607       0.070\n",
      "Region_Africa                                           0.2862      0.095      3.000      0.003       0.099       0.473\n",
      "Region_Asia                                             0.4038      0.110      3.656      0.000       0.187       0.620\n",
      "Region_Canada                                           0.1188      0.110      1.083      0.279      -0.096       0.334\n",
      "Region_Europe                                           0.1741      0.118      1.480      0.139      -0.057       0.405\n",
      "Region_Latin America & Caribbean                       -0.0130      0.086     -0.152      0.879      -0.181       0.155\n",
      "Region_USA-Midwest                                      0.2896      0.098      2.956      0.003       0.098       0.482\n",
      "Region_USA-Northeast                                   -0.0374      0.146     -0.256      0.798      -0.323       0.249\n",
      "Region_USA-Pacific West                                -0.1762      0.104     -1.693      0.090      -0.380       0.028\n",
      "Region_USA-Plains                                       0.0416      0.105      0.395      0.693      -0.165       0.248\n",
      "Region_USA-Southeast                                   -0.0356      0.064     -0.560      0.576      -0.160       0.089\n",
      "Operating_Airline_Desc_Aer Lingus                    7.351e-16   1.93e-16      3.819      0.000    3.58e-16    1.11e-15\n",
      "Operating_Airline_Desc_Air India Limited                0.4830      0.126      3.844      0.000       0.237       0.729\n",
      "Operating_Airline_Desc_Allegiant Air                    0.1747      0.099      1.772      0.077      -0.019       0.368\n",
      "Operating_Airline_Desc_Austrian Airlines                0.2249      0.134      1.675      0.094      -0.038       0.488\n",
      "Operating_Airline_Desc_British Airways              -1.724e-16   2.81e-16     -0.613      0.540   -7.24e-16    3.79e-16\n",
      "Operating_Airline_Desc_Delta Air Lines                  0.2615      0.071      3.696      0.000       0.123       0.400\n",
      "Operating_Airline_Desc_El Al Israel Airlines           -0.0792      0.104     -0.761      0.447      -0.283       0.125\n",
      "Operating_Airline_Desc_Emirates                         0.1736      0.170      1.019      0.308      -0.160       0.507\n",
      "Operating_Airline_Desc_Endeavor Airlines               -0.1370      0.117     -1.175      0.240      -0.365       0.092\n",
      "Operating_Airline_Desc_Ethiopian Airlines               0.2862      0.095      3.000      0.003       0.099       0.473\n",
      "Operating_Airline_Desc_French Bee                    1.616e-15   8.94e-16      1.807      0.071   -1.37e-16    3.37e-15\n",
      "Operating_Airline_Desc_Frontier Airlines                0.5208      0.079      6.583      0.000       0.366       0.676\n",
      "Operating_Airline_Desc_Icelandair                      -0.0842      0.158     -0.532      0.595      -0.394       0.226\n",
      "Operating_Airline_Desc_JetBlue Airways               4.858e-16   3.96e-16      1.226      0.220   -2.91e-16    1.26e-15\n",
      "Operating_Airline_Desc_LOT Polish Airlines              0.2136      0.170      1.253      0.210      -0.120       0.548\n",
      "Operating_Airline_Desc_La Compagnie                    -0.5329      0.218     -2.449      0.014      -0.959      -0.106\n",
      "Operating_Airline_Desc_Lufthansa                        0.0489      0.094      0.522      0.601      -0.135       0.233\n",
      "Operating_Airline_Desc_Porter Airlines                  0.1188      0.110      1.083      0.279      -0.096       0.334\n",
      "Operating_Airline_Desc_Republic Airways                -0.4802      0.203     -2.361      0.018      -0.879      -0.081\n",
      "Operating_Airline_Desc_Scandinavian Airlines System     0.0851      0.126      0.674      0.500      -0.162       0.333\n",
      "Operating_Airline_Desc_SkyWest                         -0.4052      0.135     -3.000      0.003      -0.670      -0.140\n",
      "Operating_Airline_Desc_Spirit Airlines                  0.3013      0.079      3.809      0.000       0.146       0.456\n",
      "Operating_Airline_Desc_Sun Country Airlines            -0.1670      0.175     -0.955      0.340      -0.510       0.176\n",
      "Operating_Airline_Desc_Swiss International Airlines     0.0539      0.141      0.382      0.703      -0.223       0.331\n",
      "Operating_Airline_Desc_TAP Portugal                    -0.0088      0.092     -0.096      0.923      -0.189       0.171\n",
      "Time Category_Afternoon                                 0.2701      0.051      5.247      0.000       0.169       0.371\n",
      "Time Category_Evening                                   0.4536      0.051      8.818      0.000       0.353       0.554\n",
      "Time Category_Morning                                   0.0740      0.049      1.517      0.129      -0.022       0.170\n",
      "Time Category_Overnight                                 0.2543      0.065      3.898      0.000       0.126       0.382\n",
      "DOW_0                                                   0.0527      0.050      1.047      0.295      -0.046       0.151\n",
      "DOW_1                                                   0.0946      0.050      1.899      0.058      -0.003       0.192\n",
      "DOW_2                                                   0.1838      0.050      3.674      0.000       0.086       0.282\n",
      "DOW_3                                                   0.2645      0.045      5.893      0.000       0.177       0.352\n",
      "DOW_4                                                   0.2270      0.047      4.839      0.000       0.135       0.319\n",
      "DOW_5                                                   0.1007      0.051      1.991      0.047       0.002       0.200\n",
      "DOW_6                                                   0.1286      0.046      2.814      0.005       0.039       0.218\n",
      "Weather_Description_Overcast skies                     -0.1129      0.110     -1.028      0.304      -0.328       0.102\n",
      "Weather_Description_Partly cloudy                      -0.1997      0.098     -2.033      0.042      -0.392      -0.007\n",
      "Weather_Description_Raining                             0.0032      0.108      0.030      0.976      -0.209       0.216\n",
      "Weather_Description_Showers                             0.0339      0.172      0.197      0.844      -0.303       0.371\n",
      "Weather_Description_Snowing                             1.1154      0.547      2.040      0.041       0.043       2.187\n",
      "Weather_Description_Thunderstorms                       0.2120      0.144      1.473      0.141      -0.070       0.494\n",
      "Season_Fall                                                  0          0        nan        nan           0           0\n",
      "Season_Spring                                           0.2334      0.061      3.812      0.000       0.113       0.353\n",
      "Season_Summer                                           0.5425      0.054     10.028      0.000       0.436       0.649\n",
      "Season_Winter                                           0.2760      0.071      3.877      0.000       0.136       0.416\n",
      "Total_Seats_sc                                         -0.1134      0.050     -2.260      0.024      -0.212      -0.015\n",
      "==============================================================================\n",
      "Omnibus:                     6083.298   Durbin-Watson:                   1.562\n",
      "Prob(Omnibus):                  0.000   Jarque-Bera (JB):           986268.730\n",
      "Skew:                           6.311   Prob(JB):                         0.00\n",
      "Kurtosis:                      70.221   Cond. No.                     1.02e+16\n",
      "==============================================================================\n",
      "\n",
      "Notes:\n",
      "[1] Standard Errors assume that the covariance matrix of the errors is correctly specified.\n",
      "[2] The smallest eigenvalue is 4.84e-22. This might indicate that there are\n",
      "strong multicollinearity problems or that the design matrix is singular.\n"
     ]
    }
   ],
   "source": [
    "import statsmodels.api as sm\n",
    "lm = sm.OLS(y_train,X_train).fit()\n",
    "print(lm.summary())"
   ]
  },
  {
   "cell_type": "code",
   "execution_count": 114,
   "id": "162e06ec",
   "metadata": {},
   "outputs": [
    {
     "name": "stdout",
     "output_type": "stream",
     "text": [
      "Test Ridge score, alpha value 1: -0.2316465355825139\n"
     ]
    }
   ],
   "source": [
    "clf = Ridge(alpha=1)\n",
    "clf.fit(X_train,y_train)\n",
    "print(f\"Test Ridge score, alpha value 1:\", clf.score(X_test, y_test))"
   ]
  },
  {
   "cell_type": "code",
   "execution_count": 118,
   "id": "099f5c7e",
   "metadata": {},
   "outputs": [],
   "source": [
    "#Remove some extended variables\n",
    "X_trainExt = train.drop(['Total_Seats', 'Hour_Delay', 'holiday',\n",
    "       'Visibility_(Miles)', 'Region_Africa', 'Region_Asia',\n",
    "       'Region_Canada', 'Region_Europe', 'Region_Latin America & Caribbean',\n",
    "       'Region_USA-Midwest', 'Region_USA-Northeast', 'Region_USA-Pacific West',\n",
    "       'Region_USA-Plains', 'Region_USA-Southeast',\n",
    "       'Time Category_Afternoon',\n",
    "       'Time Category_Evening', 'Time Category_Morning',\n",
    "       'Time Category_Overnight','Weather_Description_Overcast skies',\n",
    "       'Weather_Description_Partly cloudy', 'Weather_Description_Raining',\n",
    "       'Weather_Description_Showers', 'Season_Fall', 'Season_Spring',\n",
    "       'Season_Summer', 'Season_Winter','Total_Seats_sc',\n",
    "       'Weather_Description_Thunderstorms'],axis=1)\n",
    "\n",
    "X_valExt = val.drop(['Total_Seats', 'Hour_Delay', 'holiday',\n",
    "       'Visibility_(Miles)', 'Region_Africa', 'Region_Asia',\n",
    "       'Region_Canada', 'Region_Europe', 'Region_Latin America & Caribbean',\n",
    "       'Region_USA-Midwest', 'Region_USA-Northeast', 'Region_USA-Pacific West',\n",
    "       'Region_USA-Plains', 'Region_USA-Southeast',\n",
    "       'Time Category_Afternoon',\n",
    "       'Time Category_Evening', 'Time Category_Morning',\n",
    "       'Time Category_Overnight','Weather_Description_Overcast skies',\n",
    "       'Weather_Description_Partly cloudy', 'Weather_Description_Raining',\n",
    "       'Weather_Description_Showers', 'Season_Fall', 'Season_Spring',\n",
    "       'Season_Summer', 'Season_Winter','Total_Seats_sc',\n",
    "       'Weather_Description_Thunderstorms'],axis=1)\n",
    "\n",
    "X_testExt = test.drop(['Total_Seats', 'Hour_Delay', 'holiday',\n",
    "       'Visibility_(Miles)', 'Region_Africa', 'Region_Asia',\n",
    "       'Region_Canada', 'Region_Europe', 'Region_Latin America & Caribbean',\n",
    "       'Region_USA-Midwest', 'Region_USA-Northeast', 'Region_USA-Pacific West',\n",
    "       'Region_USA-Plains', 'Region_USA-Southeast',\n",
    "       'Time Category_Afternoon',\n",
    "       'Time Category_Evening', 'Time Category_Morning',\n",
    "       'Time Category_Overnight','Weather_Description_Overcast skies',\n",
    "       'Weather_Description_Partly cloudy', 'Weather_Description_Raining',\n",
    "       'Weather_Description_Showers', 'Season_Fall', 'Season_Spring',\n",
    "       'Season_Summer', 'Season_Winter','Total_Seats_sc',\n",
    "       'Weather_Description_Thunderstorms'],axis=1)"
   ]
  },
  {
   "cell_type": "code",
   "execution_count": 119,
   "id": "0bc46fd2",
   "metadata": {},
   "outputs": [
    {
     "data": {
      "text/html": [
       "<div>\n",
       "<style scoped>\n",
       "    .dataframe tbody tr th:only-of-type {\n",
       "        vertical-align: middle;\n",
       "    }\n",
       "\n",
       "    .dataframe tbody tr th {\n",
       "        vertical-align: top;\n",
       "    }\n",
       "\n",
       "    .dataframe thead th {\n",
       "        text-align: right;\n",
       "    }\n",
       "</style>\n",
       "<table border=\"1\" class=\"dataframe\">\n",
       "  <thead>\n",
       "    <tr style=\"text-align: right;\">\n",
       "      <th></th>\n",
       "      <th>Precipitation_(Inches)</th>\n",
       "      <th>Destination</th>\n",
       "      <th>Operating_Airline_Desc_Aer Lingus</th>\n",
       "      <th>Operating_Airline_Desc_Air India Limited</th>\n",
       "      <th>Operating_Airline_Desc_Allegiant Air</th>\n",
       "      <th>Operating_Airline_Desc_Austrian Airlines</th>\n",
       "      <th>Operating_Airline_Desc_British Airways</th>\n",
       "      <th>Operating_Airline_Desc_Delta Air Lines</th>\n",
       "      <th>Operating_Airline_Desc_El Al Israel Airlines</th>\n",
       "      <th>Operating_Airline_Desc_Emirates</th>\n",
       "      <th>...</th>\n",
       "      <th>Operating_Airline_Desc_Swiss International Airlines</th>\n",
       "      <th>Operating_Airline_Desc_TAP Portugal</th>\n",
       "      <th>DOW_0</th>\n",
       "      <th>DOW_1</th>\n",
       "      <th>DOW_2</th>\n",
       "      <th>DOW_3</th>\n",
       "      <th>DOW_4</th>\n",
       "      <th>DOW_5</th>\n",
       "      <th>DOW_6</th>\n",
       "      <th>Weather_Description_Snowing</th>\n",
       "    </tr>\n",
       "  </thead>\n",
       "  <tbody>\n",
       "    <tr>\n",
       "      <th>2042</th>\n",
       "      <td>0.0</td>\n",
       "      <td>1</td>\n",
       "      <td>0</td>\n",
       "      <td>1</td>\n",
       "      <td>0</td>\n",
       "      <td>0</td>\n",
       "      <td>0</td>\n",
       "      <td>0</td>\n",
       "      <td>0</td>\n",
       "      <td>0</td>\n",
       "      <td>...</td>\n",
       "      <td>0</td>\n",
       "      <td>0</td>\n",
       "      <td>1</td>\n",
       "      <td>0</td>\n",
       "      <td>0</td>\n",
       "      <td>0</td>\n",
       "      <td>0</td>\n",
       "      <td>0</td>\n",
       "      <td>0</td>\n",
       "      <td>0</td>\n",
       "    </tr>\n",
       "    <tr>\n",
       "      <th>2051</th>\n",
       "      <td>0.0</td>\n",
       "      <td>0</td>\n",
       "      <td>0</td>\n",
       "      <td>0</td>\n",
       "      <td>0</td>\n",
       "      <td>0</td>\n",
       "      <td>0</td>\n",
       "      <td>1</td>\n",
       "      <td>0</td>\n",
       "      <td>0</td>\n",
       "      <td>...</td>\n",
       "      <td>0</td>\n",
       "      <td>0</td>\n",
       "      <td>1</td>\n",
       "      <td>0</td>\n",
       "      <td>0</td>\n",
       "      <td>0</td>\n",
       "      <td>0</td>\n",
       "      <td>0</td>\n",
       "      <td>0</td>\n",
       "      <td>0</td>\n",
       "    </tr>\n",
       "    <tr>\n",
       "      <th>2053</th>\n",
       "      <td>0.0</td>\n",
       "      <td>1</td>\n",
       "      <td>0</td>\n",
       "      <td>0</td>\n",
       "      <td>0</td>\n",
       "      <td>0</td>\n",
       "      <td>0</td>\n",
       "      <td>0</td>\n",
       "      <td>0</td>\n",
       "      <td>0</td>\n",
       "      <td>...</td>\n",
       "      <td>0</td>\n",
       "      <td>0</td>\n",
       "      <td>1</td>\n",
       "      <td>0</td>\n",
       "      <td>0</td>\n",
       "      <td>0</td>\n",
       "      <td>0</td>\n",
       "      <td>0</td>\n",
       "      <td>0</td>\n",
       "      <td>0</td>\n",
       "    </tr>\n",
       "    <tr>\n",
       "      <th>2060</th>\n",
       "      <td>0.0</td>\n",
       "      <td>0</td>\n",
       "      <td>0</td>\n",
       "      <td>0</td>\n",
       "      <td>0</td>\n",
       "      <td>0</td>\n",
       "      <td>0</td>\n",
       "      <td>0</td>\n",
       "      <td>0</td>\n",
       "      <td>0</td>\n",
       "      <td>...</td>\n",
       "      <td>0</td>\n",
       "      <td>0</td>\n",
       "      <td>1</td>\n",
       "      <td>0</td>\n",
       "      <td>0</td>\n",
       "      <td>0</td>\n",
       "      <td>0</td>\n",
       "      <td>0</td>\n",
       "      <td>0</td>\n",
       "      <td>0</td>\n",
       "    </tr>\n",
       "    <tr>\n",
       "      <th>2074</th>\n",
       "      <td>0.0</td>\n",
       "      <td>1</td>\n",
       "      <td>0</td>\n",
       "      <td>1</td>\n",
       "      <td>0</td>\n",
       "      <td>0</td>\n",
       "      <td>0</td>\n",
       "      <td>0</td>\n",
       "      <td>0</td>\n",
       "      <td>0</td>\n",
       "      <td>...</td>\n",
       "      <td>0</td>\n",
       "      <td>0</td>\n",
       "      <td>0</td>\n",
       "      <td>1</td>\n",
       "      <td>0</td>\n",
       "      <td>0</td>\n",
       "      <td>0</td>\n",
       "      <td>0</td>\n",
       "      <td>0</td>\n",
       "      <td>0</td>\n",
       "    </tr>\n",
       "  </tbody>\n",
       "</table>\n",
       "<p>5 rows × 35 columns</p>\n",
       "</div>"
      ],
      "text/plain": [
       "      Precipitation_(Inches)  Destination  Operating_Airline_Desc_Aer Lingus  \\\n",
       "2042                     0.0            1                                  0   \n",
       "2051                     0.0            0                                  0   \n",
       "2053                     0.0            1                                  0   \n",
       "2060                     0.0            0                                  0   \n",
       "2074                     0.0            1                                  0   \n",
       "\n",
       "      Operating_Airline_Desc_Air India Limited  \\\n",
       "2042                                         1   \n",
       "2051                                         0   \n",
       "2053                                         0   \n",
       "2060                                         0   \n",
       "2074                                         1   \n",
       "\n",
       "      Operating_Airline_Desc_Allegiant Air  \\\n",
       "2042                                     0   \n",
       "2051                                     0   \n",
       "2053                                     0   \n",
       "2060                                     0   \n",
       "2074                                     0   \n",
       "\n",
       "      Operating_Airline_Desc_Austrian Airlines  \\\n",
       "2042                                         0   \n",
       "2051                                         0   \n",
       "2053                                         0   \n",
       "2060                                         0   \n",
       "2074                                         0   \n",
       "\n",
       "      Operating_Airline_Desc_British Airways  \\\n",
       "2042                                       0   \n",
       "2051                                       0   \n",
       "2053                                       0   \n",
       "2060                                       0   \n",
       "2074                                       0   \n",
       "\n",
       "      Operating_Airline_Desc_Delta Air Lines  \\\n",
       "2042                                       0   \n",
       "2051                                       1   \n",
       "2053                                       0   \n",
       "2060                                       0   \n",
       "2074                                       0   \n",
       "\n",
       "      Operating_Airline_Desc_El Al Israel Airlines  \\\n",
       "2042                                             0   \n",
       "2051                                             0   \n",
       "2053                                             0   \n",
       "2060                                             0   \n",
       "2074                                             0   \n",
       "\n",
       "      Operating_Airline_Desc_Emirates  ...  \\\n",
       "2042                                0  ...   \n",
       "2051                                0  ...   \n",
       "2053                                0  ...   \n",
       "2060                                0  ...   \n",
       "2074                                0  ...   \n",
       "\n",
       "      Operating_Airline_Desc_Swiss International Airlines  \\\n",
       "2042                                                  0     \n",
       "2051                                                  0     \n",
       "2053                                                  0     \n",
       "2060                                                  0     \n",
       "2074                                                  0     \n",
       "\n",
       "      Operating_Airline_Desc_TAP Portugal  DOW_0  DOW_1  DOW_2  DOW_3  DOW_4  \\\n",
       "2042                                    0      1      0      0      0      0   \n",
       "2051                                    0      1      0      0      0      0   \n",
       "2053                                    0      1      0      0      0      0   \n",
       "2060                                    0      1      0      0      0      0   \n",
       "2074                                    0      0      1      0      0      0   \n",
       "\n",
       "      DOW_5  DOW_6  Weather_Description_Snowing  \n",
       "2042      0      0                            0  \n",
       "2051      0      0                            0  \n",
       "2053      0      0                            0  \n",
       "2060      0      0                            0  \n",
       "2074      0      0                            0  \n",
       "\n",
       "[5 rows x 35 columns]"
      ]
     },
     "execution_count": 119,
     "metadata": {},
     "output_type": "execute_result"
    }
   ],
   "source": [
    "X_trainExt.head()"
   ]
  },
  {
   "cell_type": "code",
   "execution_count": 123,
   "id": "40c5375e",
   "metadata": {},
   "outputs": [
    {
     "name": "stdout",
     "output_type": "stream",
     "text": [
      "Validation RF score: 0.029600488063653563\n"
     ]
    }
   ],
   "source": [
    "rf = RandomForestRegressor(max_depth=30, n_estimators = 1000)\n",
    "rf.fit(X_trainExt,y_train)\n",
    "print(f\"Validation RF score:\", rf.score(X_valExt, y_val))"
   ]
  },
  {
   "cell_type": "code",
   "execution_count": 124,
   "id": "3ef28616",
   "metadata": {},
   "outputs": [
    {
     "data": {
      "text/html": [
       "<div>\n",
       "<style scoped>\n",
       "    .dataframe tbody tr th:only-of-type {\n",
       "        vertical-align: middle;\n",
       "    }\n",
       "\n",
       "    .dataframe tbody tr th {\n",
       "        vertical-align: top;\n",
       "    }\n",
       "\n",
       "    .dataframe thead th {\n",
       "        text-align: right;\n",
       "    }\n",
       "</style>\n",
       "<table border=\"1\" class=\"dataframe\">\n",
       "  <thead>\n",
       "    <tr style=\"text-align: right;\">\n",
       "      <th></th>\n",
       "      <th>variable</th>\n",
       "      <th>feature_importance</th>\n",
       "    </tr>\n",
       "  </thead>\n",
       "  <tbody>\n",
       "    <tr>\n",
       "      <th>0</th>\n",
       "      <td>Precipitation_(Inches)</td>\n",
       "      <td>0.160101</td>\n",
       "    </tr>\n",
       "    <tr>\n",
       "      <th>32</th>\n",
       "      <td>DOW_5</td>\n",
       "      <td>0.134085</td>\n",
       "    </tr>\n",
       "    <tr>\n",
       "      <th>1</th>\n",
       "      <td>Destination</td>\n",
       "      <td>0.075607</td>\n",
       "    </tr>\n",
       "    <tr>\n",
       "      <th>30</th>\n",
       "      <td>DOW_3</td>\n",
       "      <td>0.074883</td>\n",
       "    </tr>\n",
       "    <tr>\n",
       "      <th>13</th>\n",
       "      <td>Operating_Airline_Desc_Frontier Airlines</td>\n",
       "      <td>0.061686</td>\n",
       "    </tr>\n",
       "    <tr>\n",
       "      <th>33</th>\n",
       "      <td>DOW_6</td>\n",
       "      <td>0.04832</td>\n",
       "    </tr>\n",
       "    <tr>\n",
       "      <th>7</th>\n",
       "      <td>Operating_Airline_Desc_Delta Air Lines</td>\n",
       "      <td>0.042045</td>\n",
       "    </tr>\n",
       "    <tr>\n",
       "      <th>31</th>\n",
       "      <td>DOW_4</td>\n",
       "      <td>0.041816</td>\n",
       "    </tr>\n",
       "    <tr>\n",
       "      <th>5</th>\n",
       "      <td>Operating_Airline_Desc_Austrian Airlines</td>\n",
       "      <td>0.04175</td>\n",
       "    </tr>\n",
       "    <tr>\n",
       "      <th>10</th>\n",
       "      <td>Operating_Airline_Desc_Endeavor Airlines</td>\n",
       "      <td>0.03776</td>\n",
       "    </tr>\n",
       "    <tr>\n",
       "      <th>28</th>\n",
       "      <td>DOW_1</td>\n",
       "      <td>0.035825</td>\n",
       "    </tr>\n",
       "    <tr>\n",
       "      <th>4</th>\n",
       "      <td>Operating_Airline_Desc_Allegiant Air</td>\n",
       "      <td>0.033298</td>\n",
       "    </tr>\n",
       "    <tr>\n",
       "      <th>22</th>\n",
       "      <td>Operating_Airline_Desc_SkyWest</td>\n",
       "      <td>0.031538</td>\n",
       "    </tr>\n",
       "    <tr>\n",
       "      <th>29</th>\n",
       "      <td>DOW_2</td>\n",
       "      <td>0.025469</td>\n",
       "    </tr>\n",
       "    <tr>\n",
       "      <th>23</th>\n",
       "      <td>Operating_Airline_Desc_Spirit Airlines</td>\n",
       "      <td>0.025255</td>\n",
       "    </tr>\n",
       "    <tr>\n",
       "      <th>27</th>\n",
       "      <td>DOW_0</td>\n",
       "      <td>0.024555</td>\n",
       "    </tr>\n",
       "    <tr>\n",
       "      <th>34</th>\n",
       "      <td>Weather_Description_Snowing</td>\n",
       "      <td>0.015671</td>\n",
       "    </tr>\n",
       "    <tr>\n",
       "      <th>3</th>\n",
       "      <td>Operating_Airline_Desc_Air India Limited</td>\n",
       "      <td>0.015032</td>\n",
       "    </tr>\n",
       "    <tr>\n",
       "      <th>11</th>\n",
       "      <td>Operating_Airline_Desc_Ethiopian Airlines</td>\n",
       "      <td>0.01084</td>\n",
       "    </tr>\n",
       "    <tr>\n",
       "      <th>20</th>\n",
       "      <td>Operating_Airline_Desc_Republic Airways</td>\n",
       "      <td>0.009012</td>\n",
       "    </tr>\n",
       "    <tr>\n",
       "      <th>21</th>\n",
       "      <td>Operating_Airline_Desc_Scandinavian Airlines S...</td>\n",
       "      <td>0.008249</td>\n",
       "    </tr>\n",
       "    <tr>\n",
       "      <th>14</th>\n",
       "      <td>Operating_Airline_Desc_Icelandair</td>\n",
       "      <td>0.007636</td>\n",
       "    </tr>\n",
       "    <tr>\n",
       "      <th>25</th>\n",
       "      <td>Operating_Airline_Desc_Swiss International Air...</td>\n",
       "      <td>0.00642</td>\n",
       "    </tr>\n",
       "    <tr>\n",
       "      <th>24</th>\n",
       "      <td>Operating_Airline_Desc_Sun Country Airlines</td>\n",
       "      <td>0.005741</td>\n",
       "    </tr>\n",
       "    <tr>\n",
       "      <th>8</th>\n",
       "      <td>Operating_Airline_Desc_El Al Israel Airlines</td>\n",
       "      <td>0.005471</td>\n",
       "    </tr>\n",
       "    <tr>\n",
       "      <th>26</th>\n",
       "      <td>Operating_Airline_Desc_TAP Portugal</td>\n",
       "      <td>0.005071</td>\n",
       "    </tr>\n",
       "    <tr>\n",
       "      <th>19</th>\n",
       "      <td>Operating_Airline_Desc_Porter Airlines</td>\n",
       "      <td>0.004378</td>\n",
       "    </tr>\n",
       "    <tr>\n",
       "      <th>9</th>\n",
       "      <td>Operating_Airline_Desc_Emirates</td>\n",
       "      <td>0.004371</td>\n",
       "    </tr>\n",
       "    <tr>\n",
       "      <th>18</th>\n",
       "      <td>Operating_Airline_Desc_Lufthansa</td>\n",
       "      <td>0.004041</td>\n",
       "    </tr>\n",
       "    <tr>\n",
       "      <th>17</th>\n",
       "      <td>Operating_Airline_Desc_La Compagnie</td>\n",
       "      <td>0.002064</td>\n",
       "    </tr>\n",
       "    <tr>\n",
       "      <th>16</th>\n",
       "      <td>Operating_Airline_Desc_LOT Polish Airlines</td>\n",
       "      <td>0.002012</td>\n",
       "    </tr>\n",
       "    <tr>\n",
       "      <th>12</th>\n",
       "      <td>Operating_Airline_Desc_French Bee</td>\n",
       "      <td>0.0</td>\n",
       "    </tr>\n",
       "    <tr>\n",
       "      <th>6</th>\n",
       "      <td>Operating_Airline_Desc_British Airways</td>\n",
       "      <td>0.0</td>\n",
       "    </tr>\n",
       "    <tr>\n",
       "      <th>15</th>\n",
       "      <td>Operating_Airline_Desc_JetBlue Airways</td>\n",
       "      <td>0.0</td>\n",
       "    </tr>\n",
       "    <tr>\n",
       "      <th>2</th>\n",
       "      <td>Operating_Airline_Desc_Aer Lingus</td>\n",
       "      <td>0.0</td>\n",
       "    </tr>\n",
       "  </tbody>\n",
       "</table>\n",
       "</div>"
      ],
      "text/plain": [
       "                                             variable feature_importance\n",
       "0                              Precipitation_(Inches)           0.160101\n",
       "32                                              DOW_5           0.134085\n",
       "1                                         Destination           0.075607\n",
       "30                                              DOW_3           0.074883\n",
       "13           Operating_Airline_Desc_Frontier Airlines           0.061686\n",
       "33                                              DOW_6            0.04832\n",
       "7              Operating_Airline_Desc_Delta Air Lines           0.042045\n",
       "31                                              DOW_4           0.041816\n",
       "5            Operating_Airline_Desc_Austrian Airlines            0.04175\n",
       "10           Operating_Airline_Desc_Endeavor Airlines            0.03776\n",
       "28                                              DOW_1           0.035825\n",
       "4                Operating_Airline_Desc_Allegiant Air           0.033298\n",
       "22                     Operating_Airline_Desc_SkyWest           0.031538\n",
       "29                                              DOW_2           0.025469\n",
       "23             Operating_Airline_Desc_Spirit Airlines           0.025255\n",
       "27                                              DOW_0           0.024555\n",
       "34                        Weather_Description_Snowing           0.015671\n",
       "3            Operating_Airline_Desc_Air India Limited           0.015032\n",
       "11          Operating_Airline_Desc_Ethiopian Airlines            0.01084\n",
       "20            Operating_Airline_Desc_Republic Airways           0.009012\n",
       "21  Operating_Airline_Desc_Scandinavian Airlines S...           0.008249\n",
       "14                  Operating_Airline_Desc_Icelandair           0.007636\n",
       "25  Operating_Airline_Desc_Swiss International Air...            0.00642\n",
       "24        Operating_Airline_Desc_Sun Country Airlines           0.005741\n",
       "8        Operating_Airline_Desc_El Al Israel Airlines           0.005471\n",
       "26                Operating_Airline_Desc_TAP Portugal           0.005071\n",
       "19             Operating_Airline_Desc_Porter Airlines           0.004378\n",
       "9                     Operating_Airline_Desc_Emirates           0.004371\n",
       "18                   Operating_Airline_Desc_Lufthansa           0.004041\n",
       "17                Operating_Airline_Desc_La Compagnie           0.002064\n",
       "16         Operating_Airline_Desc_LOT Polish Airlines           0.002012\n",
       "12                  Operating_Airline_Desc_French Bee                0.0\n",
       "6              Operating_Airline_Desc_British Airways                0.0\n",
       "15             Operating_Airline_Desc_JetBlue Airways                0.0\n",
       "2                   Operating_Airline_Desc_Aer Lingus                0.0"
      ]
     },
     "execution_count": 124,
     "metadata": {},
     "output_type": "execute_result"
    }
   ],
   "source": [
    "fi_rf=pd.DataFrame([list(X_trainExt.columns),list(rf.feature_importances_)]).T\n",
    "fi_rf.columns = ['variable','feature_importance']\n",
    "fi_rf = fi_rf.sort_values('feature_importance',ascending=False)\n",
    "fi_rf"
   ]
  },
  {
   "cell_type": "markdown",
   "id": "0d566a0a",
   "metadata": {},
   "source": [
    "Analysis the clean data using linear regression, laso,ridge, random forest"
   ]
  },
  {
   "cell_type": "code",
   "execution_count": 125,
   "id": "03a80fb3",
   "metadata": {},
   "outputs": [
    {
     "name": "stdout",
     "output_type": "stream",
     "text": [
      "In-sample R2: 0.02156553008848816\n",
      "Validation R2: -7.211868276558887e+21\n"
     ]
    }
   ],
   "source": [
    "lm = LinearRegression()\n",
    "lm.fit(X_trainExt, y_train)\n",
    "print(f'In-sample R2: {lm.score(X_trainExt, y_train)}')\n",
    "print(f'Validation R2: {lm.score(X_valExt, y_val)}')"
   ]
  },
  {
   "cell_type": "code",
   "execution_count": 126,
   "id": "c8accfc8",
   "metadata": {},
   "outputs": [
    {
     "name": "stdout",
     "output_type": "stream",
     "text": [
      "                            OLS Regression Results                            \n",
      "==============================================================================\n",
      "Dep. Variable:             Hour_Delay   R-squared:                       0.022\n",
      "Model:                            OLS   Adj. R-squared:                  0.016\n",
      "Method:                 Least Squares   F-statistic:                     3.829\n",
      "Date:                Thu, 17 Aug 2023   Prob (F-statistic):           2.21e-11\n",
      "Time:                        11:20:59   Log-Likelihood:                -8372.9\n",
      "No. Observations:                5060   AIC:                         1.681e+04\n",
      "Df Residuals:                    5030   BIC:                         1.700e+04\n",
      "Df Model:                          29                                         \n",
      "Covariance Type:            nonrobust                                         \n",
      "=======================================================================================================================\n",
      "                                                          coef    std err          t      P>|t|      [0.025      0.975]\n",
      "-----------------------------------------------------------------------------------------------------------------------\n",
      "Precipitation_(Inches)                                  0.3276      0.153      2.139      0.033       0.027       0.628\n",
      "Destination                                            -0.2995      0.152     -1.970      0.049      -0.598      -0.002\n",
      "Operating_Airline_Desc_Aer Lingus                   -1.404e+07   1.28e+09     -0.011      0.991   -2.52e+09    2.49e+09\n",
      "Operating_Airline_Desc_Air India Limited             2.145e+10   1.95e+12      0.011      0.991    -3.8e+12    3.85e+12\n",
      "Operating_Airline_Desc_Allegiant Air                 2.145e+10   1.95e+12      0.011      0.991    -3.8e+12    3.85e+12\n",
      "Operating_Airline_Desc_Austrian Airlines             2.145e+10   1.95e+12      0.011      0.991    -3.8e+12    3.85e+12\n",
      "Operating_Airline_Desc_British Airways               1.067e+08    9.7e+09      0.011      0.991   -1.89e+10    1.91e+10\n",
      "Operating_Airline_Desc_Delta Air Lines               2.145e+10   1.95e+12      0.011      0.991    -3.8e+12    3.85e+12\n",
      "Operating_Airline_Desc_El Al Israel Airlines         2.145e+10   1.95e+12      0.011      0.991    -3.8e+12    3.85e+12\n",
      "Operating_Airline_Desc_Emirates                      2.145e+10   1.95e+12      0.011      0.991    -3.8e+12    3.85e+12\n",
      "Operating_Airline_Desc_Endeavor Airlines             2.145e+10   1.95e+12      0.011      0.991    -3.8e+12    3.85e+12\n",
      "Operating_Airline_Desc_Ethiopian Airlines            2.145e+10   1.95e+12      0.011      0.991    -3.8e+12    3.85e+12\n",
      "Operating_Airline_Desc_French Bee                    2.038e+08   1.85e+10      0.011      0.991   -3.61e+10    3.65e+10\n",
      "Operating_Airline_Desc_Frontier Airlines             2.145e+10   1.95e+12      0.011      0.991    -3.8e+12    3.85e+12\n",
      "Operating_Airline_Desc_Icelandair                    2.145e+10   1.95e+12      0.011      0.991    -3.8e+12    3.85e+12\n",
      "Operating_Airline_Desc_JetBlue Airways              -1.533e+08   1.39e+10     -0.011      0.991   -2.75e+10    2.72e+10\n",
      "Operating_Airline_Desc_LOT Polish Airlines           2.145e+10   1.95e+12      0.011      0.991    -3.8e+12    3.85e+12\n",
      "Operating_Airline_Desc_La Compagnie                  2.145e+10   1.95e+12      0.011      0.991    -3.8e+12    3.85e+12\n",
      "Operating_Airline_Desc_Lufthansa                     2.145e+10   1.95e+12      0.011      0.991    -3.8e+12    3.85e+12\n",
      "Operating_Airline_Desc_Porter Airlines               2.145e+10   1.95e+12      0.011      0.991    -3.8e+12    3.85e+12\n",
      "Operating_Airline_Desc_Republic Airways              2.145e+10   1.95e+12      0.011      0.991    -3.8e+12    3.85e+12\n",
      "Operating_Airline_Desc_Scandinavian Airlines System  2.145e+10   1.95e+12      0.011      0.991    -3.8e+12    3.85e+12\n",
      "Operating_Airline_Desc_SkyWest                       2.145e+10   1.95e+12      0.011      0.991    -3.8e+12    3.85e+12\n",
      "Operating_Airline_Desc_Spirit Airlines               2.145e+10   1.95e+12      0.011      0.991    -3.8e+12    3.85e+12\n",
      "Operating_Airline_Desc_Sun Country Airlines          2.145e+10   1.95e+12      0.011      0.991    -3.8e+12    3.85e+12\n",
      "Operating_Airline_Desc_Swiss International Airlines  2.145e+10   1.95e+12      0.011      0.991    -3.8e+12    3.85e+12\n",
      "Operating_Airline_Desc_TAP Portugal                  2.145e+10   1.95e+12      0.011      0.991    -3.8e+12    3.85e+12\n",
      "DOW_0                                               -2.145e+10   1.95e+12     -0.011      0.991   -3.85e+12     3.8e+12\n",
      "DOW_1                                               -2.145e+10   1.95e+12     -0.011      0.991   -3.85e+12     3.8e+12\n",
      "DOW_2                                               -2.145e+10   1.95e+12     -0.011      0.991   -3.85e+12     3.8e+12\n",
      "DOW_3                                               -2.145e+10   1.95e+12     -0.011      0.991   -3.85e+12     3.8e+12\n",
      "DOW_4                                               -2.145e+10   1.95e+12     -0.011      0.991   -3.85e+12     3.8e+12\n",
      "DOW_5                                               -2.145e+10   1.95e+12     -0.011      0.991   -3.85e+12     3.8e+12\n",
      "DOW_6                                               -2.145e+10   1.95e+12     -0.011      0.991   -3.85e+12     3.8e+12\n",
      "Weather_Description_Snowing                             1.0714      0.640      1.675      0.094      -0.182       2.325\n",
      "==============================================================================\n",
      "Omnibus:                     6057.502   Durbin-Watson:                   1.515\n",
      "Prob(Omnibus):                  0.000   Jarque-Bera (JB):           945699.169\n",
      "Skew:                           6.278   Prob(JB):                         0.00\n",
      "Kurtosis:                      68.787   Cond. No.                     1.62e+16\n",
      "==============================================================================\n",
      "\n",
      "Notes:\n",
      "[1] Standard Errors assume that the covariance matrix of the errors is correctly specified.\n",
      "[2] The smallest eigenvalue is 7.83e-30. This might indicate that there are\n",
      "strong multicollinearity problems or that the design matrix is singular.\n"
     ]
    }
   ],
   "source": [
    "import statsmodels.api as sm\n",
    "lm = sm.OLS(y_train,X_trainExt).fit()\n",
    "print(lm.summary())"
   ]
  },
  {
   "cell_type": "code",
   "execution_count": 127,
   "id": "deb6d77b",
   "metadata": {},
   "outputs": [
    {
     "name": "stdout",
     "output_type": "stream",
     "text": [
      "Validation lasso score, alpha value 1e-05: 0.004015890470139505\n",
      "Validation lasso score, alpha value 1.8329807108324375e-05: 0.004119267859597375\n",
      "Validation lasso score, alpha value 3.359818286283781e-05: 0.004306880989338846\n",
      "Validation lasso score, alpha value 6.158482110660267e-05: 0.004656285800048399\n",
      "Validation lasso score, alpha value 0.00011288378916846884: 0.0055527568733702015\n",
      "Validation lasso score, alpha value 0.00020691380811147902: 0.007077809406443536\n",
      "Validation lasso score, alpha value 0.000379269019073225: 0.008991339070675508\n",
      "Validation lasso score, alpha value 0.0006951927961775605: 0.010715377492408584\n",
      "Validation lasso score, alpha value 0.0012742749857031334: 0.01071869227864064\n",
      "Validation lasso score, alpha value 0.002335721469090121: 0.009555879593910355\n",
      "Validation lasso score, alpha value 0.004281332398719391: 0.007279041048349533\n",
      "Validation lasso score, alpha value 0.007847599703514606: 0.006797352704719373\n",
      "Validation lasso score, alpha value 0.01438449888287663: 0.005682367483861861\n",
      "Validation lasso score, alpha value 0.026366508987303583: 0.003099467919238097\n",
      "Validation lasso score, alpha value 0.04832930238571752: -0.0028244391426703874\n",
      "Validation lasso score, alpha value 0.08858667904100823: -0.0030562596291159316\n",
      "Validation lasso score, alpha value 0.1623776739188721: -0.0030562596291159316\n",
      "Validation lasso score, alpha value 0.2976351441631319: -0.0030562596291159316\n",
      "Validation lasso score, alpha value 0.5455594781168515: -0.0030562596291159316\n",
      "Validation lasso score, alpha value 1.0: -0.0030562596291159316\n"
     ]
    }
   ],
   "source": [
    "for a in np.logspace(-5,0,20):\n",
    "    clf = Lasso(alpha=a)\n",
    "    clf.fit(X_trainExt,y_train)\n",
    "    print(f\"Validation lasso score, alpha value {a}:\", clf.score(X_valExt, y_val))"
   ]
  },
  {
   "cell_type": "code",
   "execution_count": 128,
   "id": "910e3910",
   "metadata": {},
   "outputs": [
    {
     "name": "stdout",
     "output_type": "stream",
     "text": [
      "Validation Ridge score, alpha value 1e-05: 0.006018023740209877\n",
      "Validation Ridge score, alpha value 4.641588833612782e-05: 0.006018023740209877\n",
      "Validation Ridge score, alpha value 0.00021544346900318823: 0.006018023740209877\n",
      "Validation Ridge score, alpha value 0.001: 0.006018023740209877\n",
      "Validation Ridge score, alpha value 0.004641588833612777: 0.006018023740209877\n",
      "Validation Ridge score, alpha value 0.021544346900318822: 0.006018023740209877\n",
      "Validation Ridge score, alpha value 0.1: 0.006018023740209877\n",
      "Validation Ridge score, alpha value 0.46415888336127725: 0.006018023740209877\n",
      "Validation Ridge score, alpha value 2.154434690031882: 0.006018023740209877\n",
      "Validation Ridge score, alpha value 10.0: 0.006018023740209877\n"
     ]
    }
   ],
   "source": [
    "for a in np.logspace(-5,1,10):\n",
    "    clf = Ridge(alpha=1)\n",
    "    clf.fit(X_trainExt,y_train)\n",
    "    print(f\"Validation Ridge score, alpha value {a}:\", clf.score(X_valExt, y_val))"
   ]
  },
  {
   "cell_type": "code",
   "execution_count": 129,
   "id": "9e5cac55",
   "metadata": {},
   "outputs": [
    {
     "name": "stdout",
     "output_type": "stream",
     "text": [
      "Test Ridge score, alpha value 1: -0.06300138883404083\n"
     ]
    }
   ],
   "source": [
    "clf = Ridge(alpha=1)\n",
    "clf.fit(X_trainExt,y_train)\n",
    "print(f\"Test Ridge score, alpha value 1:\", clf.score(X_testExt, y_test))"
   ]
  },
  {
   "cell_type": "code",
   "execution_count": 130,
   "id": "23df30b5",
   "metadata": {},
   "outputs": [
    {
     "name": "stdout",
     "output_type": "stream",
     "text": [
      "Validation RF score, max_depth value 5: 0.023202035662148512\n",
      "Validation RF score, max_depth value 10: 0.031274674289057836\n",
      "Validation RF score, max_depth value 15: 0.030507103771540978\n"
     ]
    }
   ],
   "source": [
    "for d in range(5,20,5):\n",
    "    rf = RandomForestRegressor(max_depth=d, n_estimators = 100)\n",
    "    rf.fit(X_trainExt,y_train)\n",
    "    print(f\"Validation RF score, max_depth value {d}:\", rf.score(X_valExt, y_val))"
   ]
  },
  {
   "cell_type": "code",
   "execution_count": 131,
   "id": "c61a80fc",
   "metadata": {},
   "outputs": [
    {
     "data": {
      "text/html": [
       "<div>\n",
       "<style scoped>\n",
       "    .dataframe tbody tr th:only-of-type {\n",
       "        vertical-align: middle;\n",
       "    }\n",
       "\n",
       "    .dataframe tbody tr th {\n",
       "        vertical-align: top;\n",
       "    }\n",
       "\n",
       "    .dataframe thead th {\n",
       "        text-align: right;\n",
       "    }\n",
       "</style>\n",
       "<table border=\"1\" class=\"dataframe\">\n",
       "  <thead>\n",
       "    <tr style=\"text-align: right;\">\n",
       "      <th></th>\n",
       "      <th>variable</th>\n",
       "      <th>feature_importance</th>\n",
       "    </tr>\n",
       "  </thead>\n",
       "  <tbody>\n",
       "    <tr>\n",
       "      <th>0</th>\n",
       "      <td>Precipitation_(Inches)</td>\n",
       "      <td>0.164243</td>\n",
       "    </tr>\n",
       "    <tr>\n",
       "      <th>32</th>\n",
       "      <td>DOW_5</td>\n",
       "      <td>0.145341</td>\n",
       "    </tr>\n",
       "    <tr>\n",
       "      <th>1</th>\n",
       "      <td>Destination</td>\n",
       "      <td>0.076477</td>\n",
       "    </tr>\n",
       "    <tr>\n",
       "      <th>30</th>\n",
       "      <td>DOW_3</td>\n",
       "      <td>0.074764</td>\n",
       "    </tr>\n",
       "    <tr>\n",
       "      <th>13</th>\n",
       "      <td>Operating_Airline_Desc_Frontier Airlines</td>\n",
       "      <td>0.060925</td>\n",
       "    </tr>\n",
       "    <tr>\n",
       "      <th>33</th>\n",
       "      <td>DOW_6</td>\n",
       "      <td>0.049389</td>\n",
       "    </tr>\n",
       "    <tr>\n",
       "      <th>31</th>\n",
       "      <td>DOW_4</td>\n",
       "      <td>0.040611</td>\n",
       "    </tr>\n",
       "    <tr>\n",
       "      <th>7</th>\n",
       "      <td>Operating_Airline_Desc_Delta Air Lines</td>\n",
       "      <td>0.039512</td>\n",
       "    </tr>\n",
       "    <tr>\n",
       "      <th>10</th>\n",
       "      <td>Operating_Airline_Desc_Endeavor Airlines</td>\n",
       "      <td>0.037778</td>\n",
       "    </tr>\n",
       "    <tr>\n",
       "      <th>22</th>\n",
       "      <td>Operating_Airline_Desc_SkyWest</td>\n",
       "      <td>0.033518</td>\n",
       "    </tr>\n",
       "    <tr>\n",
       "      <th>5</th>\n",
       "      <td>Operating_Airline_Desc_Austrian Airlines</td>\n",
       "      <td>0.033405</td>\n",
       "    </tr>\n",
       "    <tr>\n",
       "      <th>4</th>\n",
       "      <td>Operating_Airline_Desc_Allegiant Air</td>\n",
       "      <td>0.032956</td>\n",
       "    </tr>\n",
       "    <tr>\n",
       "      <th>28</th>\n",
       "      <td>DOW_1</td>\n",
       "      <td>0.030392</td>\n",
       "    </tr>\n",
       "    <tr>\n",
       "      <th>29</th>\n",
       "      <td>DOW_2</td>\n",
       "      <td>0.02567</td>\n",
       "    </tr>\n",
       "    <tr>\n",
       "      <th>23</th>\n",
       "      <td>Operating_Airline_Desc_Spirit Airlines</td>\n",
       "      <td>0.025616</td>\n",
       "    </tr>\n",
       "    <tr>\n",
       "      <th>27</th>\n",
       "      <td>DOW_0</td>\n",
       "      <td>0.024523</td>\n",
       "    </tr>\n",
       "    <tr>\n",
       "      <th>34</th>\n",
       "      <td>Weather_Description_Snowing</td>\n",
       "      <td>0.019818</td>\n",
       "    </tr>\n",
       "    <tr>\n",
       "      <th>3</th>\n",
       "      <td>Operating_Airline_Desc_Air India Limited</td>\n",
       "      <td>0.015049</td>\n",
       "    </tr>\n",
       "    <tr>\n",
       "      <th>11</th>\n",
       "      <td>Operating_Airline_Desc_Ethiopian Airlines</td>\n",
       "      <td>0.011387</td>\n",
       "    </tr>\n",
       "    <tr>\n",
       "      <th>20</th>\n",
       "      <td>Operating_Airline_Desc_Republic Airways</td>\n",
       "      <td>0.008758</td>\n",
       "    </tr>\n",
       "    <tr>\n",
       "      <th>14</th>\n",
       "      <td>Operating_Airline_Desc_Icelandair</td>\n",
       "      <td>0.007549</td>\n",
       "    </tr>\n",
       "    <tr>\n",
       "      <th>21</th>\n",
       "      <td>Operating_Airline_Desc_Scandinavian Airlines S...</td>\n",
       "      <td>0.006954</td>\n",
       "    </tr>\n",
       "    <tr>\n",
       "      <th>25</th>\n",
       "      <td>Operating_Airline_Desc_Swiss International Air...</td>\n",
       "      <td>0.005763</td>\n",
       "    </tr>\n",
       "    <tr>\n",
       "      <th>8</th>\n",
       "      <td>Operating_Airline_Desc_El Al Israel Airlines</td>\n",
       "      <td>0.005696</td>\n",
       "    </tr>\n",
       "    <tr>\n",
       "      <th>24</th>\n",
       "      <td>Operating_Airline_Desc_Sun Country Airlines</td>\n",
       "      <td>0.005109</td>\n",
       "    </tr>\n",
       "    <tr>\n",
       "      <th>19</th>\n",
       "      <td>Operating_Airline_Desc_Porter Airlines</td>\n",
       "      <td>0.004609</td>\n",
       "    </tr>\n",
       "    <tr>\n",
       "      <th>26</th>\n",
       "      <td>Operating_Airline_Desc_TAP Portugal</td>\n",
       "      <td>0.003971</td>\n",
       "    </tr>\n",
       "    <tr>\n",
       "      <th>9</th>\n",
       "      <td>Operating_Airline_Desc_Emirates</td>\n",
       "      <td>0.003427</td>\n",
       "    </tr>\n",
       "    <tr>\n",
       "      <th>18</th>\n",
       "      <td>Operating_Airline_Desc_Lufthansa</td>\n",
       "      <td>0.003278</td>\n",
       "    </tr>\n",
       "    <tr>\n",
       "      <th>17</th>\n",
       "      <td>Operating_Airline_Desc_La Compagnie</td>\n",
       "      <td>0.001871</td>\n",
       "    </tr>\n",
       "    <tr>\n",
       "      <th>16</th>\n",
       "      <td>Operating_Airline_Desc_LOT Polish Airlines</td>\n",
       "      <td>0.001642</td>\n",
       "    </tr>\n",
       "    <tr>\n",
       "      <th>12</th>\n",
       "      <td>Operating_Airline_Desc_French Bee</td>\n",
       "      <td>0.0</td>\n",
       "    </tr>\n",
       "    <tr>\n",
       "      <th>6</th>\n",
       "      <td>Operating_Airline_Desc_British Airways</td>\n",
       "      <td>0.0</td>\n",
       "    </tr>\n",
       "    <tr>\n",
       "      <th>15</th>\n",
       "      <td>Operating_Airline_Desc_JetBlue Airways</td>\n",
       "      <td>0.0</td>\n",
       "    </tr>\n",
       "    <tr>\n",
       "      <th>2</th>\n",
       "      <td>Operating_Airline_Desc_Aer Lingus</td>\n",
       "      <td>0.0</td>\n",
       "    </tr>\n",
       "  </tbody>\n",
       "</table>\n",
       "</div>"
      ],
      "text/plain": [
       "                                             variable feature_importance\n",
       "0                              Precipitation_(Inches)           0.164243\n",
       "32                                              DOW_5           0.145341\n",
       "1                                         Destination           0.076477\n",
       "30                                              DOW_3           0.074764\n",
       "13           Operating_Airline_Desc_Frontier Airlines           0.060925\n",
       "33                                              DOW_6           0.049389\n",
       "31                                              DOW_4           0.040611\n",
       "7              Operating_Airline_Desc_Delta Air Lines           0.039512\n",
       "10           Operating_Airline_Desc_Endeavor Airlines           0.037778\n",
       "22                     Operating_Airline_Desc_SkyWest           0.033518\n",
       "5            Operating_Airline_Desc_Austrian Airlines           0.033405\n",
       "4                Operating_Airline_Desc_Allegiant Air           0.032956\n",
       "28                                              DOW_1           0.030392\n",
       "29                                              DOW_2            0.02567\n",
       "23             Operating_Airline_Desc_Spirit Airlines           0.025616\n",
       "27                                              DOW_0           0.024523\n",
       "34                        Weather_Description_Snowing           0.019818\n",
       "3            Operating_Airline_Desc_Air India Limited           0.015049\n",
       "11          Operating_Airline_Desc_Ethiopian Airlines           0.011387\n",
       "20            Operating_Airline_Desc_Republic Airways           0.008758\n",
       "14                  Operating_Airline_Desc_Icelandair           0.007549\n",
       "21  Operating_Airline_Desc_Scandinavian Airlines S...           0.006954\n",
       "25  Operating_Airline_Desc_Swiss International Air...           0.005763\n",
       "8        Operating_Airline_Desc_El Al Israel Airlines           0.005696\n",
       "24        Operating_Airline_Desc_Sun Country Airlines           0.005109\n",
       "19             Operating_Airline_Desc_Porter Airlines           0.004609\n",
       "26                Operating_Airline_Desc_TAP Portugal           0.003971\n",
       "9                     Operating_Airline_Desc_Emirates           0.003427\n",
       "18                   Operating_Airline_Desc_Lufthansa           0.003278\n",
       "17                Operating_Airline_Desc_La Compagnie           0.001871\n",
       "16         Operating_Airline_Desc_LOT Polish Airlines           0.001642\n",
       "12                  Operating_Airline_Desc_French Bee                0.0\n",
       "6              Operating_Airline_Desc_British Airways                0.0\n",
       "15             Operating_Airline_Desc_JetBlue Airways                0.0\n",
       "2                   Operating_Airline_Desc_Aer Lingus                0.0"
      ]
     },
     "execution_count": 131,
     "metadata": {},
     "output_type": "execute_result"
    }
   ],
   "source": [
    "fi_rf=pd.DataFrame([list(X_trainExt.columns),list(rf.feature_importances_)]).T\n",
    "fi_rf.columns = ['variable','feature_importance']\n",
    "fi_rf = fi_rf.sort_values('feature_importance',ascending=False)\n",
    "fi_rf"
   ]
  },
  {
   "cell_type": "markdown",
   "id": "c86b4f62",
   "metadata": {},
   "source": [
    "# Previous Analysis - Spring Semester"
   ]
  },
  {
   "cell_type": "code",
   "execution_count": 237,
   "id": "7e5e2200",
   "metadata": {},
   "outputs": [],
   "source": [
    "#weather api call\n",
    "#owm = pyowm.OWM('2d8396b4a60bab7cdcc9b86d2313af78')"
   ]
  },
  {
   "cell_type": "code",
   "execution_count": 152,
   "id": "c5e234da",
   "metadata": {},
   "outputs": [],
   "source": [
    "#manager = owm.weather_manager()"
   ]
  },
  {
   "cell_type": "code",
   "execution_count": 153,
   "id": "471f340e",
   "metadata": {},
   "outputs": [],
   "source": [
    "#observation = manager.weather_at_place('New Jersey, USA')"
   ]
  },
  {
   "cell_type": "code",
   "execution_count": 174,
   "id": "60873ae7",
   "metadata": {},
   "outputs": [],
   "source": [
    "#temp =observation.weather.temperature('celsius')\n",
    "#wind = observation.weather.wind()"
   ]
  },
  {
   "cell_type": "code",
   "execution_count": null,
   "id": "48116d9b",
   "metadata": {},
   "outputs": [],
   "source": [
    "#print(temp)\n",
    "#print(wind)"
   ]
  },
  {
   "cell_type": "code",
   "execution_count": 254,
   "id": "35aa0400",
   "metadata": {},
   "outputs": [
    {
     "data": {
      "text/plain": [
       "2042                Air India Limited\n",
       "2051                  Delta Air Lines\n",
       "2053                        Lufthansa\n",
       "2060                Frontier Airlines\n",
       "2074                Air India Limited\n",
       "                     ...             \n",
       "20688                 Spirit Airlines\n",
       "20691                 Spirit Airlines\n",
       "20693                 Spirit Airlines\n",
       "20702    Scandinavian Airlines System\n",
       "20703            Sun Country Airlines\n",
       "Name: Operating_Airline_Desc, Length: 8845, dtype: object"
      ]
     },
     "execution_count": 254,
     "metadata": {},
     "output_type": "execute_result"
    }
   ],
   "source": [
    "flightMergeData['Operating_Airline_Desc']"
   ]
  },
  {
   "cell_type": "code",
   "execution_count": 255,
   "id": "69976b38",
   "metadata": {},
   "outputs": [],
   "source": [
    "Airline = flightMergeData[['Operating_Airline_Desc', 'Hour_Delay']].groupby(['Operating_Airline_Desc']).count()"
   ]
  },
  {
   "cell_type": "code",
   "execution_count": 256,
   "id": "d66fc5e0",
   "metadata": {},
   "outputs": [],
   "source": [
    "#Top 10 airlines with the most delay for 2021 data\n",
    "topDelayFlights = Airline.sort_values(by=['Hour_Delay'],ascending=False).head(10)"
   ]
  },
  {
   "cell_type": "code",
   "execution_count": 257,
   "id": "349f9d25",
   "metadata": {},
   "outputs": [
    {
     "data": {
      "image/png": "[encoded data removed]",
      "text/plain": [
       "<Figure size 1200x1000 with 1 Axes>"
      ]
     },
     "metadata": {},
     "output_type": "display_data"
    }
   ],
   "source": [
    "#Number of flight delay by Airline\n",
    "Airlines = flightmerge['Operating_Airline_Desc'].value_counts()\n",
    "plt.figure(figsize=(12,10))\n",
    "sns.barplot( x=Airlines.values , y=list(Airlines.index), \n",
    " orient=\"h\"  ) ;"
   ]
  },
  {
   "cell_type": "code",
   "execution_count": 258,
   "id": "163f8146",
   "metadata": {},
   "outputs": [
    {
     "ename": "KeyError",
     "evalue": "\"['Time Category'] not in index\"",
     "output_type": "error",
     "traceback": [
      "\u001b[1;31m---------------------------------------------------------------------------\u001b[0m",
      "\u001b[1;31mKeyError\u001b[0m                                  Traceback (most recent call last)",
      "Cell \u001b[1;32mIn[258], line 1\u001b[0m\n\u001b[1;32m----> 1\u001b[0m timeCategory \u001b[39m=\u001b[39m flightmerge[[\u001b[39m'\u001b[39;49m\u001b[39mTime Category\u001b[39;49m\u001b[39m'\u001b[39;49m,\u001b[39m'\u001b[39;49m\u001b[39mHour_Delay\u001b[39;49m\u001b[39m'\u001b[39;49m]]\u001b[39m.\u001b[39mgroupby([\u001b[39m'\u001b[39m\u001b[39mTime Category\u001b[39m\u001b[39m'\u001b[39m])\u001b[39m.\u001b[39mcount()\n",
      "File \u001b[1;32mc:\\ProgramData\\anaconda3\\Lib\\site-packages\\pandas\\core\\frame.py:3813\u001b[0m, in \u001b[0;36mDataFrame.__getitem__\u001b[1;34m(self, key)\u001b[0m\n\u001b[0;32m   3811\u001b[0m     \u001b[39mif\u001b[39;00m is_iterator(key):\n\u001b[0;32m   3812\u001b[0m         key \u001b[39m=\u001b[39m \u001b[39mlist\u001b[39m(key)\n\u001b[1;32m-> 3813\u001b[0m     indexer \u001b[39m=\u001b[39m \u001b[39mself\u001b[39;49m\u001b[39m.\u001b[39;49mcolumns\u001b[39m.\u001b[39;49m_get_indexer_strict(key, \u001b[39m\"\u001b[39;49m\u001b[39mcolumns\u001b[39;49m\u001b[39m\"\u001b[39;49m)[\u001b[39m1\u001b[39m]\n\u001b[0;32m   3815\u001b[0m \u001b[39m# take() does not accept boolean indexers\u001b[39;00m\n\u001b[0;32m   3816\u001b[0m \u001b[39mif\u001b[39;00m \u001b[39mgetattr\u001b[39m(indexer, \u001b[39m\"\u001b[39m\u001b[39mdtype\u001b[39m\u001b[39m\"\u001b[39m, \u001b[39mNone\u001b[39;00m) \u001b[39m==\u001b[39m \u001b[39mbool\u001b[39m:\n",
      "File \u001b[1;32mc:\\ProgramData\\anaconda3\\Lib\\site-packages\\pandas\\core\\indexes\\base.py:6070\u001b[0m, in \u001b[0;36mIndex._get_indexer_strict\u001b[1;34m(self, key, axis_name)\u001b[0m\n\u001b[0;32m   6067\u001b[0m \u001b[39melse\u001b[39;00m:\n\u001b[0;32m   6068\u001b[0m     keyarr, indexer, new_indexer \u001b[39m=\u001b[39m \u001b[39mself\u001b[39m\u001b[39m.\u001b[39m_reindex_non_unique(keyarr)\n\u001b[1;32m-> 6070\u001b[0m \u001b[39mself\u001b[39;49m\u001b[39m.\u001b[39;49m_raise_if_missing(keyarr, indexer, axis_name)\n\u001b[0;32m   6072\u001b[0m keyarr \u001b[39m=\u001b[39m \u001b[39mself\u001b[39m\u001b[39m.\u001b[39mtake(indexer)\n\u001b[0;32m   6073\u001b[0m \u001b[39mif\u001b[39;00m \u001b[39misinstance\u001b[39m(key, Index):\n\u001b[0;32m   6074\u001b[0m     \u001b[39m# GH 42790 - Preserve name from an Index\u001b[39;00m\n",
      "File \u001b[1;32mc:\\ProgramData\\anaconda3\\Lib\\site-packages\\pandas\\core\\indexes\\base.py:6133\u001b[0m, in \u001b[0;36mIndex._raise_if_missing\u001b[1;34m(self, key, indexer, axis_name)\u001b[0m\n\u001b[0;32m   6130\u001b[0m     \u001b[39mraise\u001b[39;00m \u001b[39mKeyError\u001b[39;00m(\u001b[39mf\u001b[39m\u001b[39m\"\u001b[39m\u001b[39mNone of [\u001b[39m\u001b[39m{\u001b[39;00mkey\u001b[39m}\u001b[39;00m\u001b[39m] are in the [\u001b[39m\u001b[39m{\u001b[39;00maxis_name\u001b[39m}\u001b[39;00m\u001b[39m]\u001b[39m\u001b[39m\"\u001b[39m)\n\u001b[0;32m   6132\u001b[0m not_found \u001b[39m=\u001b[39m \u001b[39mlist\u001b[39m(ensure_index(key)[missing_mask\u001b[39m.\u001b[39mnonzero()[\u001b[39m0\u001b[39m]]\u001b[39m.\u001b[39munique())\n\u001b[1;32m-> 6133\u001b[0m \u001b[39mraise\u001b[39;00m \u001b[39mKeyError\u001b[39;00m(\u001b[39mf\u001b[39m\u001b[39m\"\u001b[39m\u001b[39m{\u001b[39;00mnot_found\u001b[39m}\u001b[39;00m\u001b[39m not in index\u001b[39m\u001b[39m\"\u001b[39m)\n",
      "\u001b[1;31mKeyError\u001b[0m: \"['Time Category'] not in index\""
     ]
    }
   ],
   "source": [
    "timeCategory = flightmerge[['Time Category','Hour_Delay']].groupby(['Time Category']).count()"
   ]
  },
  {
   "cell_type": "code",
   "execution_count": 285,
   "id": "beaaa04a",
   "metadata": {},
   "outputs": [],
   "source": [
    "timeCategory.to_csv('final_timeCategory.csv')"
   ]
  },
  {
   "cell_type": "code",
   "execution_count": 292,
   "id": "b92853ca",
   "metadata": {},
   "outputs": [],
   "source": [
    "bin = np.divide(list(range(50)),2)"
   ]
  },
  {
   "cell_type": "code",
   "execution_count": 321,
   "id": "2c1e4994",
   "metadata": {},
   "outputs": [
    {
     "data": {
      "image/png": "[encoded data removed]",
      "text/plain": [
       "<Figure size 864x576 with 1 Axes>"
      ]
     },
     "metadata": {
      "needs_background": "light"
     },
     "output_type": "display_data"
    }
   ],
   "source": [
    "#What time flight are getting delay\n",
    "plt.rcParams['figure.figsize'] = [12,8]\n",
    "ax = plt.subplot()\n",
    "ax.hist(flightmerge[flightmerge['Time Category'] == 'Morning']['Hour_Delay'], color = 'blue', alpha = 0.7,edgecolor = 'black',bins = bin, label = 'Morning')\n",
    "ax.hist(flightmerge[flightmerge['Time Category'] == 'Afternoon']['Hour_Delay'], color = 'yellow', alpha = 1,edgecolor = 'black',bins = bin, label = 'Afternoon')\n",
    "ax.hist(flightmerge[flightmerge['Time Category'] == 'Evening']['Hour_Delay'], color = 'red', alpha = 0.7,edgecolor = 'black',bins = bin,label = 'Evening')\n",
    "ax.hist(flightmerge[flightmerge['Time Category'] == 'Overnight']['Hour_Delay'], color = 'black', alpha = 0.7,edgecolor = 'black',bins = bin,label = 'Overnight')\n",
    "# Title and labels\n",
    "ax.set_title('Total Number of Flights Delay By Time Category', size = 30)\n",
    "ax.set_xlabel('Average Flight Delay in Hour', size = 22)\n",
    "ax.set_ylabel('Number of Flight', size= 22)\n",
    "plt.legend(loc='upper right')\n",
    "plt.xlim(1,9.5)\n",
    "plt.ylim(0,300)\n",
    "plt.tight_layout()\n",
    "plt.show()"
   ]
  },
  {
   "cell_type": "code",
   "execution_count": 322,
   "id": "f35085ce",
   "metadata": {},
   "outputs": [
    {
     "data": {
      "image/png": "[encoded data removed]",
      "text/plain": [
       "<Figure size 864x576 with 1 Axes>"
      ]
     },
     "metadata": {
      "needs_background": "light"
     },
     "output_type": "display_data"
    }
   ],
   "source": [
    "#Domestic vs International\n",
    "plt.rcParams['figure.figsize'] = [12,8]\n",
    "ax = plt.subplot()\n",
    "ax.hist(flightmerge[flightmerge['International_Domestic'] == 'Domestic']['Hour_Delay'], color = 'pink', edgecolor = 'black',bins = bin,label = 'Domestic')\n",
    "ax.hist(flightmerge[flightmerge['International_Domestic'] == 'International']['Hour_Delay'], color = 'blue', alpha = 0.7,edgecolor = 'black',bins = bin,label = 'Internatioanl')\n",
    "# Title and labels\n",
    "ax.set_title('Domestic vs International', size = 30)\n",
    "ax.set_xlabel('Flight Delay in Hours', size = 22)\n",
    "ax.set_ylabel('Number of Flights', size= 22)\n",
    "plt.legend(loc='upper right')\n",
    "plt.xlim(1,9.5)\n",
    "#plt.ylim(0,30)\n",
    "plt.tight_layout()\n",
    "plt.show()"
   ]
  },
  {
   "cell_type": "markdown",
   "id": "c2167012",
   "metadata": {},
   "source": [
    "International Analysis"
   ]
  },
  {
   "cell_type": "code",
   "execution_count": 323,
   "id": "9d217615",
   "metadata": {},
   "outputs": [],
   "source": [
    "International = flightmerge[flightmerge.International_Domestic=='International']"
   ]
  },
  {
   "cell_type": "code",
   "execution_count": 324,
   "id": "dd78b8b0",
   "metadata": {},
   "outputs": [
    {
     "data": {
      "text/html": [
       "<div>\n",
       "<style scoped>\n",
       "    .dataframe tbody tr th:only-of-type {\n",
       "        vertical-align: middle;\n",
       "    }\n",
       "\n",
       "    .dataframe tbody tr th {\n",
       "        vertical-align: top;\n",
       "    }\n",
       "\n",
       "    .dataframe thead th {\n",
       "        text-align: right;\n",
       "    }\n",
       "</style>\n",
       "<table border=\"1\" class=\"dataframe\">\n",
       "  <thead>\n",
       "    <tr style=\"text-align: right;\">\n",
       "      <th></th>\n",
       "      <th>Date</th>\n",
       "      <th>Flight_Schedule</th>\n",
       "      <th>Flight_Departure</th>\n",
       "      <th>International_Domestic</th>\n",
       "      <th>Non-PA_Airport_Country_Desc</th>\n",
       "      <th>Operating_Airline_Desc</th>\n",
       "      <th>Weather_Description</th>\n",
       "      <th>Precipitation_(Inches)</th>\n",
       "      <th>Visibility_(Miles)</th>\n",
       "      <th>Hour_Delay</th>\n",
       "      <th>Time Category</th>\n",
       "    </tr>\n",
       "  </thead>\n",
       "  <tbody>\n",
       "    <tr>\n",
       "      <th>1116</th>\n",
       "      <td>10/1/2021</td>\n",
       "      <td>2021-10-01 07:17:00</td>\n",
       "      <td>2021-10-01 08:22:09</td>\n",
       "      <td>International</td>\n",
       "      <td>Mexico</td>\n",
       "      <td>JetBlue Airways</td>\n",
       "      <td>Clear skies</td>\n",
       "      <td>0.0</td>\n",
       "      <td>10.0</td>\n",
       "      <td>1.085833</td>\n",
       "      <td>Morning</td>\n",
       "    </tr>\n",
       "    <tr>\n",
       "      <th>1150</th>\n",
       "      <td>10/1/2021</td>\n",
       "      <td>2021-10-01 20:50:00</td>\n",
       "      <td>2021-10-01 22:23:53</td>\n",
       "      <td>International</td>\n",
       "      <td>Portugal</td>\n",
       "      <td>TAP Portugal</td>\n",
       "      <td>Partly cloudy</td>\n",
       "      <td>0.0</td>\n",
       "      <td>10.0</td>\n",
       "      <td>1.564722</td>\n",
       "      <td>Evening</td>\n",
       "    </tr>\n",
       "    <tr>\n",
       "      <th>1192</th>\n",
       "      <td>10/10/2021</td>\n",
       "      <td>2021-10-10 05:01:00</td>\n",
       "      <td>2021-10-10 06:10:59</td>\n",
       "      <td>International</td>\n",
       "      <td>Dominican Republic</td>\n",
       "      <td>JetBlue Airways</td>\n",
       "      <td>Raining</td>\n",
       "      <td>0.0</td>\n",
       "      <td>8.0</td>\n",
       "      <td>1.166389</td>\n",
       "      <td>Overnight</td>\n",
       "    </tr>\n",
       "  </tbody>\n",
       "</table>\n",
       "</div>"
      ],
      "text/plain": [
       "            Date     Flight_Schedule    Flight_Departure  \\\n",
       "1116   10/1/2021 2021-10-01 07:17:00 2021-10-01 08:22:09   \n",
       "1150   10/1/2021 2021-10-01 20:50:00 2021-10-01 22:23:53   \n",
       "1192  10/10/2021 2021-10-10 05:01:00 2021-10-10 06:10:59   \n",
       "\n",
       "     International_Domestic Non-PA_Airport_Country_Desc  \\\n",
       "1116          International                      Mexico   \n",
       "1150          International                    Portugal   \n",
       "1192          International          Dominican Republic   \n",
       "\n",
       "     Operating_Airline_Desc Weather_Description  Precipitation_(Inches)  \\\n",
       "1116        JetBlue Airways         Clear skies                     0.0   \n",
       "1150           TAP Portugal       Partly cloudy                     0.0   \n",
       "1192        JetBlue Airways             Raining                     0.0   \n",
       "\n",
       "      Visibility_(Miles)  Hour_Delay Time Category  \n",
       "1116                10.0    1.085833       Morning  \n",
       "1150                10.0    1.564722       Evening  \n",
       "1192                 8.0    1.166389     Overnight  "
      ]
     },
     "execution_count": 324,
     "metadata": {},
     "output_type": "execute_result"
    }
   ],
   "source": [
    "International.head(3)"
   ]
  },
  {
   "cell_type": "code",
   "execution_count": 326,
   "id": "83b72bd2",
   "metadata": {},
   "outputs": [
    {
     "data": {
      "image/png": "[encoded data removed]",
      "text/plain": [
       "<Figure size 864x576 with 1 Axes>"
      ]
     },
     "metadata": {
      "needs_background": "light"
     },
     "output_type": "display_data"
    }
   ],
   "source": [
    "#What time flight are getting delay for International Flight\n",
    "plt.rcParams['figure.figsize'] = [12,8]\n",
    "ax = plt.subplot()\n",
    "ax.hist(International[International['Time Category'] == 'Morning']['Hour_Delay'], color = 'blue', alpha = 0.7,edgecolor = 'black',bins = bin,label = 'Morning')\n",
    "ax.hist(International[International['Time Category'] == 'Afternoon']['Hour_Delay'], color = 'yellow', alpha = 1,edgecolor = 'black',bins = bin,label = 'Afternoon')\n",
    "ax.hist(International[International['Time Category'] == 'Evening']['Hour_Delay'], color = 'red', alpha = 0.7,edgecolor = 'black',bins = bin,label = 'Evening')\n",
    "ax.hist(International[International['Time Category'] == 'Overnight']['Hour_Delay'], color = 'black', alpha = 0.7,edgecolor = 'black',bins = bin,label = 'Overnight')\n",
    "# Title and labels\n",
    "ax.set_title('International Flight Delay', size = 30)\n",
    "ax.set_xlabel('Average Flight Delay in Hour', size = 22)\n",
    "ax.set_ylabel('Number of International Flight', size= 22)\n",
    "plt.legend(loc='upper right')\n",
    "plt.xlim(1,7)\n",
    "plt.ylim(0,160)\n",
    "plt.tight_layout()\n",
    "plt.show()"
   ]
  },
  {
   "cell_type": "markdown",
   "id": "798a74d7",
   "metadata": {},
   "source": [
    "Domestic Analysis"
   ]
  },
  {
   "cell_type": "code",
   "execution_count": 308,
   "id": "8671c0c7",
   "metadata": {},
   "outputs": [],
   "source": [
    "Domestic = flightmerge[flightmerge.International_Domestic=='Domestic']"
   ]
  },
  {
   "cell_type": "code",
   "execution_count": 309,
   "id": "d7c787cc",
   "metadata": {},
   "outputs": [
    {
     "data": {
      "text/html": [
       "<div>\n",
       "<style scoped>\n",
       "    .dataframe tbody tr th:only-of-type {\n",
       "        vertical-align: middle;\n",
       "    }\n",
       "\n",
       "    .dataframe tbody tr th {\n",
       "        vertical-align: top;\n",
       "    }\n",
       "\n",
       "    .dataframe thead th {\n",
       "        text-align: right;\n",
       "    }\n",
       "</style>\n",
       "<table border=\"1\" class=\"dataframe\">\n",
       "  <thead>\n",
       "    <tr style=\"text-align: right;\">\n",
       "      <th></th>\n",
       "      <th>Date</th>\n",
       "      <th>Flight_Schedule</th>\n",
       "      <th>Flight_Departure</th>\n",
       "      <th>International_Domestic</th>\n",
       "      <th>Non-PA_Airport_Country_Desc</th>\n",
       "      <th>Operating_Airline_Desc</th>\n",
       "      <th>Weather_Description</th>\n",
       "      <th>Precipitation_(Inches)</th>\n",
       "      <th>Visibility_(Miles)</th>\n",
       "      <th>Hour_Delay</th>\n",
       "      <th>Time Category</th>\n",
       "    </tr>\n",
       "  </thead>\n",
       "  <tbody>\n",
       "    <tr>\n",
       "      <th>1113</th>\n",
       "      <td>10/1/2021</td>\n",
       "      <td>2021-10-01 21:29:00</td>\n",
       "      <td>2021-10-01 23:08:44</td>\n",
       "      <td>Domestic</td>\n",
       "      <td>USA</td>\n",
       "      <td>Frontier Airlines</td>\n",
       "      <td>Partly cloudy</td>\n",
       "      <td>0.0</td>\n",
       "      <td>10.0</td>\n",
       "      <td>1.662222</td>\n",
       "      <td>Evening</td>\n",
       "    </tr>\n",
       "    <tr>\n",
       "      <th>1120</th>\n",
       "      <td>10/1/2021</td>\n",
       "      <td>2021-10-01 05:20:00</td>\n",
       "      <td>2021-10-01 09:10:48</td>\n",
       "      <td>Domestic</td>\n",
       "      <td>USA</td>\n",
       "      <td>Spirit Airlines</td>\n",
       "      <td>Clear skies</td>\n",
       "      <td>0.0</td>\n",
       "      <td>10.0</td>\n",
       "      <td>3.846667</td>\n",
       "      <td>Overnight</td>\n",
       "    </tr>\n",
       "    <tr>\n",
       "      <th>1179</th>\n",
       "      <td>10/10/2021</td>\n",
       "      <td>2021-10-10 20:08:00</td>\n",
       "      <td>2021-10-10 21:12:28</td>\n",
       "      <td>Domestic</td>\n",
       "      <td>USA</td>\n",
       "      <td>Endeavor Airlines</td>\n",
       "      <td>Partly cloudy</td>\n",
       "      <td>0.0</td>\n",
       "      <td>10.0</td>\n",
       "      <td>1.074444</td>\n",
       "      <td>Evening</td>\n",
       "    </tr>\n",
       "  </tbody>\n",
       "</table>\n",
       "</div>"
      ],
      "text/plain": [
       "            Date     Flight_Schedule    Flight_Departure  \\\n",
       "1113   10/1/2021 2021-10-01 21:29:00 2021-10-01 23:08:44   \n",
       "1120   10/1/2021 2021-10-01 05:20:00 2021-10-01 09:10:48   \n",
       "1179  10/10/2021 2021-10-10 20:08:00 2021-10-10 21:12:28   \n",
       "\n",
       "     International_Domestic Non-PA_Airport_Country_Desc  \\\n",
       "1113               Domestic                         USA   \n",
       "1120               Domestic                         USA   \n",
       "1179               Domestic                         USA   \n",
       "\n",
       "     Operating_Airline_Desc Weather_Description  Precipitation_(Inches)  \\\n",
       "1113      Frontier Airlines       Partly cloudy                     0.0   \n",
       "1120        Spirit Airlines         Clear skies                     0.0   \n",
       "1179      Endeavor Airlines       Partly cloudy                     0.0   \n",
       "\n",
       "      Visibility_(Miles)  Hour_Delay Time Category  \n",
       "1113                10.0    1.662222       Evening  \n",
       "1120                10.0    3.846667     Overnight  \n",
       "1179                10.0    1.074444       Evening  "
      ]
     },
     "execution_count": 309,
     "metadata": {},
     "output_type": "execute_result"
    }
   ],
   "source": [
    "Domestic.head(3)"
   ]
  },
  {
   "cell_type": "code",
   "execution_count": 320,
   "id": "d539f030",
   "metadata": {},
   "outputs": [
    {
     "data": {
      "image/png": "[encoded data removed]",
      "text/plain": [
       "<Figure size 864x576 with 1 Axes>"
      ]
     },
     "metadata": {
      "needs_background": "light"
     },
     "output_type": "display_data"
    }
   ],
   "source": [
    "#What time flight are getting delay for Domestice Flight\n",
    "plt.rcParams['figure.figsize'] = [12,8]\n",
    "ax = plt.subplot()\n",
    "ax.hist(Domestic[Domestic['Time Category'] == 'Morning']['Hour_Delay'], color = 'blue', alpha = 0.7,edgecolor = 'black',bins = bin,label = 'Morning')\n",
    "ax.hist(Domestic[Domestic['Time Category'] == 'Afternoon']['Hour_Delay'], color = 'yellow', alpha = 1,edgecolor = 'black',bins = bin,label = 'Afternoon')\n",
    "ax.hist(Domestic[Domestic['Time Category'] == 'Evening']['Hour_Delay'], color = 'red', alpha = 0.7,edgecolor = 'black',bins = bin,label = 'Evening')\n",
    "ax.hist(Domestic[Domestic['Time Category'] == 'Overnight']['Hour_Delay'], color = 'black', alpha = 0.7,edgecolor = 'black',bins = bin,label = 'Overnight')\n",
    "# Title and labels\n",
    "ax.set_title('Domestic Flight Delay', size = 30)\n",
    "ax.set_xlabel('Average Flight Delay in Hour', size = 22)\n",
    "ax.set_ylabel('Number of Domestic Flight', size= 22)\n",
    "plt.legend(loc='upper right')\n",
    "plt.xlim(1,9.7)\n",
    "plt.ylim(0,220)\n",
    "plt.tight_layout()\n",
    "plt.show()"
   ]
  },
  {
   "cell_type": "code",
   "execution_count": null,
   "id": "f08768d8",
   "metadata": {},
   "outputs": [],
   "source": []
  },
  {
   "cell_type": "markdown",
   "id": "49bac2bc",
   "metadata": {},
   "source": [
    "Finding Max delay for both international and Domestic"
   ]
  },
  {
   "cell_type": "code",
   "execution_count": 213,
   "id": "e0abf92c",
   "metadata": {},
   "outputs": [],
   "source": [
    "flightmerge = flightmerge.rename(columns={\"International_Domestic\": \"Destination\", \"Operating_Airline_Desc\": \"Airline\",\"Time Category\":\"Time Of Day\" })"
   ]
  },
  {
   "cell_type": "code",
   "execution_count": 214,
   "id": "0b40b988",
   "metadata": {},
   "outputs": [],
   "source": [
    "col1 = 'Airline'\n",
    "col2 = 'Destination'\n",
    "col3 = 'Time Of Day'"
   ]
  },
  {
   "cell_type": "code",
   "execution_count": 215,
   "id": "ecb2a156",
   "metadata": {},
   "outputs": [],
   "source": [
    "#statistical values\n",
    "df_stat = flightmerge.groupby([col1, col2, col3]).agg({'Hour_Delay':'count'})"
   ]
  },
  {
   "cell_type": "code",
   "execution_count": 216,
   "id": "7ad14570",
   "metadata": {},
   "outputs": [],
   "source": [
    "df_max = flightmerge.groupby([col1,col2,col3])['Hour_Delay'].max()"
   ]
  },
  {
   "cell_type": "code",
   "execution_count": 217,
   "id": "a9914e6c",
   "metadata": {},
   "outputs": [],
   "source": [
    "df_stat['Max Hour Delay'] = df_max.values"
   ]
  },
  {
   "cell_type": "code",
   "execution_count": 218,
   "id": "cb3a49f0",
   "metadata": {},
   "outputs": [],
   "source": [
    "df_median = flightmerge.groupby([col1,col2,col3])['Hour_Delay'].median()"
   ]
  },
  {
   "cell_type": "code",
   "execution_count": 219,
   "id": "24c9b9af",
   "metadata": {},
   "outputs": [],
   "source": [
    "df_stat['Median Delay'] = df_median.values"
   ]
  },
  {
   "cell_type": "code",
   "execution_count": 220,
   "id": "e79fb54d",
   "metadata": {},
   "outputs": [],
   "source": [
    "df_std = flightmerge.groupby([col1,col2,col3])['Hour_Delay'].std()"
   ]
  },
  {
   "cell_type": "code",
   "execution_count": 221,
   "id": "3a531ae1",
   "metadata": {},
   "outputs": [],
   "source": [
    "df_stat['Standard Deviation'] = df_std.values"
   ]
  },
  {
   "cell_type": "code",
   "execution_count": 222,
   "id": "be1bbc87",
   "metadata": {},
   "outputs": [
    {
     "data": {
      "text/plain": [
       "Index(['Hour_Delay', 'Max Hour Delay', 'Median Delay', 'Standard Deviation'], dtype='object')"
      ]
     },
     "execution_count": 222,
     "metadata": {},
     "output_type": "execute_result"
    }
   ],
   "source": [
    "df_stat.columns"
   ]
  },
  {
   "cell_type": "code",
   "execution_count": 223,
   "id": "6c31f026",
   "metadata": {},
   "outputs": [],
   "source": [
    "df_stat = df_stat.rename(columns={\"Hour_Delay\": \"Total Hour Delay\", })"
   ]
  },
  {
   "cell_type": "code",
   "execution_count": 224,
   "id": "3607c080",
   "metadata": {},
   "outputs": [
    {
     "data": {
      "text/html": [
       "<div>\n",
       "<style scoped>\n",
       "    .dataframe tbody tr th:only-of-type {\n",
       "        vertical-align: middle;\n",
       "    }\n",
       "\n",
       "    .dataframe tbody tr th {\n",
       "        vertical-align: top;\n",
       "    }\n",
       "\n",
       "    .dataframe thead th {\n",
       "        text-align: right;\n",
       "    }\n",
       "</style>\n",
       "<table border=\"1\" class=\"dataframe\">\n",
       "  <thead>\n",
       "    <tr style=\"text-align: right;\">\n",
       "      <th></th>\n",
       "      <th></th>\n",
       "      <th></th>\n",
       "      <th>Total Hour Delay</th>\n",
       "      <th>Max Hour Delay</th>\n",
       "      <th>Median Delay</th>\n",
       "      <th>Standard Deviation</th>\n",
       "    </tr>\n",
       "    <tr>\n",
       "      <th>Airline</th>\n",
       "      <th>Destination</th>\n",
       "      <th>Time Of Day</th>\n",
       "      <th></th>\n",
       "      <th></th>\n",
       "      <th></th>\n",
       "      <th></th>\n",
       "    </tr>\n",
       "  </thead>\n",
       "  <tbody>\n",
       "    <tr>\n",
       "      <th>Spirit Airlines</th>\n",
       "      <th>Domestic</th>\n",
       "      <th>Evening</th>\n",
       "      <td>19</td>\n",
       "      <td>4.412778</td>\n",
       "      <td>1.636944</td>\n",
       "      <td>1.081459</td>\n",
       "    </tr>\n",
       "    <tr>\n",
       "      <th>Frontier Airlines</th>\n",
       "      <th>Domestic</th>\n",
       "      <th>Evening</th>\n",
       "      <td>18</td>\n",
       "      <td>17.408889</td>\n",
       "      <td>1.490694</td>\n",
       "      <td>3.843204</td>\n",
       "    </tr>\n",
       "    <tr>\n",
       "      <th rowspan=\"2\" valign=\"top\">Spirit Airlines</th>\n",
       "      <th rowspan=\"2\" valign=\"top\">Domestic</th>\n",
       "      <th>Afternoon</th>\n",
       "      <td>11</td>\n",
       "      <td>4.668333</td>\n",
       "      <td>1.425000</td>\n",
       "      <td>1.275387</td>\n",
       "    </tr>\n",
       "    <tr>\n",
       "      <th>Morning</th>\n",
       "      <td>10</td>\n",
       "      <td>4.041389</td>\n",
       "      <td>1.463056</td>\n",
       "      <td>1.068507</td>\n",
       "    </tr>\n",
       "    <tr>\n",
       "      <th>Porter Airlines</th>\n",
       "      <th>International</th>\n",
       "      <th>Morning</th>\n",
       "      <td>9</td>\n",
       "      <td>4.201667</td>\n",
       "      <td>1.226667</td>\n",
       "      <td>1.008280</td>\n",
       "    </tr>\n",
       "    <tr>\n",
       "      <th>Frontier Airlines</th>\n",
       "      <th>Domestic</th>\n",
       "      <th>Morning</th>\n",
       "      <td>9</td>\n",
       "      <td>6.083611</td>\n",
       "      <td>1.250556</td>\n",
       "      <td>1.755623</td>\n",
       "    </tr>\n",
       "    <tr>\n",
       "      <th>Delta Air Lines</th>\n",
       "      <th>Domestic</th>\n",
       "      <th>Morning</th>\n",
       "      <td>8</td>\n",
       "      <td>8.786944</td>\n",
       "      <td>8.048056</td>\n",
       "      <td>3.204184</td>\n",
       "    </tr>\n",
       "    <tr>\n",
       "      <th>Frontier Airlines</th>\n",
       "      <th>Domestic</th>\n",
       "      <th>Afternoon</th>\n",
       "      <td>8</td>\n",
       "      <td>6.660000</td>\n",
       "      <td>1.446250</td>\n",
       "      <td>2.040919</td>\n",
       "    </tr>\n",
       "    <tr>\n",
       "      <th>Delta Air Lines</th>\n",
       "      <th>Domestic</th>\n",
       "      <th>Evening</th>\n",
       "      <td>6</td>\n",
       "      <td>7.250000</td>\n",
       "      <td>1.389722</td>\n",
       "      <td>2.498827</td>\n",
       "    </tr>\n",
       "    <tr>\n",
       "      <th>Lufthansa</th>\n",
       "      <th>International</th>\n",
       "      <th>Evening</th>\n",
       "      <td>4</td>\n",
       "      <td>2.623889</td>\n",
       "      <td>1.690833</td>\n",
       "      <td>0.666291</td>\n",
       "    </tr>\n",
       "  </tbody>\n",
       "</table>\n",
       "</div>"
      ],
      "text/plain": [
       "                                             Total Hour Delay  Max Hour Delay  \\\n",
       "Airline           Destination   Time Of Day                                     \n",
       "Spirit Airlines   Domestic      Evening                    19        4.412778   \n",
       "Frontier Airlines Domestic      Evening                    18       17.408889   \n",
       "Spirit Airlines   Domestic      Afternoon                  11        4.668333   \n",
       "                                Morning                    10        4.041389   \n",
       "Porter Airlines   International Morning                     9        4.201667   \n",
       "Frontier Airlines Domestic      Morning                     9        6.083611   \n",
       "Delta Air Lines   Domestic      Morning                     8        8.786944   \n",
       "Frontier Airlines Domestic      Afternoon                   8        6.660000   \n",
       "Delta Air Lines   Domestic      Evening                     6        7.250000   \n",
       "Lufthansa         International Evening                     4        2.623889   \n",
       "\n",
       "                                             Median Delay  Standard Deviation  \n",
       "Airline           Destination   Time Of Day                                    \n",
       "Spirit Airlines   Domestic      Evening          1.636944            1.081459  \n",
       "Frontier Airlines Domestic      Evening          1.490694            3.843204  \n",
       "Spirit Airlines   Domestic      Afternoon        1.425000            1.275387  \n",
       "                                Morning          1.463056            1.068507  \n",
       "Porter Airlines   International Morning          1.226667            1.008280  \n",
       "Frontier Airlines Domestic      Morning          1.250556            1.755623  \n",
       "Delta Air Lines   Domestic      Morning          8.048056            3.204184  \n",
       "Frontier Airlines Domestic      Afternoon        1.446250            2.040919  \n",
       "Delta Air Lines   Domestic      Evening          1.389722            2.498827  \n",
       "Lufthansa         International Evening          1.690833            0.666291  "
      ]
     },
     "execution_count": 224,
     "metadata": {},
     "output_type": "execute_result"
    }
   ],
   "source": [
    "df_stat.sort_values(by=['Total Hour Delay'],ascending=False).head(10)"
   ]
  },
  {
   "cell_type": "code",
   "execution_count": 225,
   "id": "000fa5e0",
   "metadata": {},
   "outputs": [],
   "source": [
    "df_stat = pd.DataFrame(df_stat)"
   ]
  },
  {
   "cell_type": "code",
   "execution_count": 226,
   "id": "ba39e7ab",
   "metadata": {},
   "outputs": [],
   "source": [
    "df_stat.to_csv('Flight_Schedule_AnalysisV3.csv')"
   ]
  },
  {
   "cell_type": "code",
   "execution_count": 227,
   "id": "c4fdeef2",
   "metadata": {},
   "outputs": [],
   "source": [
    "df=pd.read_csv('Flight_Schedule_AnalysisV2.csv')"
   ]
  },
  {
   "cell_type": "code",
   "execution_count": 228,
   "id": "2e1e112e",
   "metadata": {},
   "outputs": [
    {
     "data": {
      "text/html": [
       "<div>\n",
       "<style scoped>\n",
       "    .dataframe tbody tr th:only-of-type {\n",
       "        vertical-align: middle;\n",
       "    }\n",
       "\n",
       "    .dataframe tbody tr th {\n",
       "        vertical-align: top;\n",
       "    }\n",
       "\n",
       "    .dataframe thead th {\n",
       "        text-align: right;\n",
       "    }\n",
       "</style>\n",
       "<table border=\"1\" class=\"dataframe\">\n",
       "  <thead>\n",
       "    <tr style=\"text-align: right;\">\n",
       "      <th></th>\n",
       "      <th>Airline</th>\n",
       "      <th>Destination</th>\n",
       "      <th>Time Of Day</th>\n",
       "      <th>Total Hour Delay</th>\n",
       "      <th>Max Hour Delay</th>\n",
       "      <th>Median Delay</th>\n",
       "      <th>Standard Deviation</th>\n",
       "    </tr>\n",
       "  </thead>\n",
       "  <tbody>\n",
       "    <tr>\n",
       "      <th>0</th>\n",
       "      <td>Spirit Airlines</td>\n",
       "      <td>Domestic</td>\n",
       "      <td>Evening</td>\n",
       "      <td>19</td>\n",
       "      <td>4.412778</td>\n",
       "      <td>1.636944</td>\n",
       "      <td>1.081459</td>\n",
       "    </tr>\n",
       "    <tr>\n",
       "      <th>1</th>\n",
       "      <td>Frontier Airlines</td>\n",
       "      <td>Domestic</td>\n",
       "      <td>Evening</td>\n",
       "      <td>18</td>\n",
       "      <td>17.408889</td>\n",
       "      <td>1.490694</td>\n",
       "      <td>3.843204</td>\n",
       "    </tr>\n",
       "    <tr>\n",
       "      <th>2</th>\n",
       "      <td>Spirit Airlines</td>\n",
       "      <td>Domestic</td>\n",
       "      <td>Afternoon</td>\n",
       "      <td>11</td>\n",
       "      <td>4.668333</td>\n",
       "      <td>1.425000</td>\n",
       "      <td>1.275387</td>\n",
       "    </tr>\n",
       "    <tr>\n",
       "      <th>3</th>\n",
       "      <td>Spirit Airlines</td>\n",
       "      <td>Domestic</td>\n",
       "      <td>Morning</td>\n",
       "      <td>10</td>\n",
       "      <td>4.041389</td>\n",
       "      <td>1.463056</td>\n",
       "      <td>1.068507</td>\n",
       "    </tr>\n",
       "    <tr>\n",
       "      <th>4</th>\n",
       "      <td>Porter Airlines</td>\n",
       "      <td>International</td>\n",
       "      <td>Morning</td>\n",
       "      <td>9</td>\n",
       "      <td>4.201667</td>\n",
       "      <td>1.226667</td>\n",
       "      <td>1.008280</td>\n",
       "    </tr>\n",
       "    <tr>\n",
       "      <th>5</th>\n",
       "      <td>Frontier Airlines</td>\n",
       "      <td>Domestic</td>\n",
       "      <td>Morning</td>\n",
       "      <td>9</td>\n",
       "      <td>6.083611</td>\n",
       "      <td>1.250556</td>\n",
       "      <td>1.755623</td>\n",
       "    </tr>\n",
       "    <tr>\n",
       "      <th>6</th>\n",
       "      <td>Delta Air Lines</td>\n",
       "      <td>Domestic</td>\n",
       "      <td>Morning</td>\n",
       "      <td>8</td>\n",
       "      <td>8.786944</td>\n",
       "      <td>8.048056</td>\n",
       "      <td>3.204184</td>\n",
       "    </tr>\n",
       "    <tr>\n",
       "      <th>7</th>\n",
       "      <td>Frontier Airlines</td>\n",
       "      <td>Domestic</td>\n",
       "      <td>Afternoon</td>\n",
       "      <td>8</td>\n",
       "      <td>6.660000</td>\n",
       "      <td>1.446250</td>\n",
       "      <td>2.040919</td>\n",
       "    </tr>\n",
       "    <tr>\n",
       "      <th>8</th>\n",
       "      <td>Delta Air Lines</td>\n",
       "      <td>Domestic</td>\n",
       "      <td>Evening</td>\n",
       "      <td>6</td>\n",
       "      <td>7.250000</td>\n",
       "      <td>1.389722</td>\n",
       "      <td>2.498827</td>\n",
       "    </tr>\n",
       "    <tr>\n",
       "      <th>9</th>\n",
       "      <td>Lufthansa</td>\n",
       "      <td>International</td>\n",
       "      <td>Evening</td>\n",
       "      <td>4</td>\n",
       "      <td>2.623889</td>\n",
       "      <td>1.690833</td>\n",
       "      <td>0.666291</td>\n",
       "    </tr>\n",
       "  </tbody>\n",
       "</table>\n",
       "</div>"
      ],
      "text/plain": [
       "             Airline    Destination Time Of Day  Total Hour Delay  \\\n",
       "0    Spirit Airlines       Domestic     Evening                19   \n",
       "1  Frontier Airlines       Domestic     Evening                18   \n",
       "2    Spirit Airlines       Domestic   Afternoon                11   \n",
       "3    Spirit Airlines       Domestic     Morning                10   \n",
       "4    Porter Airlines  International     Morning                 9   \n",
       "5  Frontier Airlines       Domestic     Morning                 9   \n",
       "6    Delta Air Lines       Domestic     Morning                 8   \n",
       "7  Frontier Airlines       Domestic   Afternoon                 8   \n",
       "8    Delta Air Lines       Domestic     Evening                 6   \n",
       "9          Lufthansa  International     Evening                 4   \n",
       "\n",
       "   Max Hour Delay  Median Delay  Standard Deviation  \n",
       "0        4.412778      1.636944            1.081459  \n",
       "1       17.408889      1.490694            3.843204  \n",
       "2        4.668333      1.425000            1.275387  \n",
       "3        4.041389      1.463056            1.068507  \n",
       "4        4.201667      1.226667            1.008280  \n",
       "5        6.083611      1.250556            1.755623  \n",
       "6        8.786944      8.048056            3.204184  \n",
       "7        6.660000      1.446250            2.040919  \n",
       "8        7.250000      1.389722            2.498827  \n",
       "9        2.623889      1.690833            0.666291  "
      ]
     },
     "execution_count": 228,
     "metadata": {},
     "output_type": "execute_result"
    }
   ],
   "source": [
    "df.sort_values(by=['Total Hour Delay'],ascending=False).head(10).reset_index(drop=True)\n"
   ]
  },
  {
   "cell_type": "markdown",
   "id": "e2222486",
   "metadata": {},
   "source": [
    "DOMESTIC ANALYSIS"
   ]
  },
  {
   "cell_type": "code",
   "execution_count": null,
   "id": "71a70256",
   "metadata": {},
   "outputs": [],
   "source": [
    "df_domes = df[df.Destination=='Domestic']"
   ]
  },
  {
   "cell_type": "code",
   "execution_count": null,
   "id": "313a2043",
   "metadata": {},
   "outputs": [],
   "source": [
    "df_domes.sort_values(by=['Total Hour Delay'],ascending=False).head(10).reset_index(drop=True)"
   ]
  },
  {
   "cell_type": "code",
   "execution_count": null,
   "id": "aab5901c",
   "metadata": {},
   "outputs": [],
   "source": [
    "#Domestic flights\n",
    "\n",
    "df_domes.describe()"
   ]
  },
  {
   "cell_type": "markdown",
   "id": "5677e76a",
   "metadata": {},
   "source": [
    "INTERNATIONAL ANALYSIS"
   ]
  },
  {
   "cell_type": "code",
   "execution_count": null,
   "id": "d8c3e4f6",
   "metadata": {},
   "outputs": [],
   "source": [
    "df_inter = df[df.Destination=='International']"
   ]
  },
  {
   "cell_type": "code",
   "execution_count": null,
   "id": "f53d6c13",
   "metadata": {},
   "outputs": [],
   "source": [
    "df_inter.sort_values(by=['Total Hour Delay'],ascending=False).head(10).reset_index(drop=True)"
   ]
  },
  {
   "cell_type": "code",
   "execution_count": null,
   "id": "d4bfbd1b",
   "metadata": {},
   "outputs": [],
   "source": [
    "df_inter.columns"
   ]
  },
  {
   "cell_type": "code",
   "execution_count": null,
   "id": "b7a73cbb",
   "metadata": {},
   "outputs": [],
   "source": [
    "df_inter1= df_inter[['Airline', 'Destination', 'Time Of Day', 'Total Hour Delay', 'Median Delay', 'Standard Deviation']].groupby(['Airline']).sum()"
   ]
  },
  {
   "cell_type": "code",
   "execution_count": null,
   "id": "a3f5a564",
   "metadata": {},
   "outputs": [],
   "source": [
    "df_inter1.describe()"
   ]
  },
  {
   "cell_type": "code",
   "execution_count": null,
   "id": "3a5f7bd7",
   "metadata": {},
   "outputs": [],
   "source": [
    "df_inter1 = df_inter1.sort_values(by=['Total Hour Delay'],ascending=False).head(10).reset_index(drop=True)"
   ]
  },
  {
   "cell_type": "code",
   "execution_count": null,
   "id": "3ae340aa",
   "metadata": {},
   "outputs": [],
   "source": [
    "#Internation flight analysis\n",
    "df_inter1"
   ]
  }
 ],
 "metadata": {
  "kernelspec": {
   "display_name": "Python 3 (ipykernel)",
   "language": "python",
   "name": "python3"
  },
  "language_info": {
   "codemirror_mode": {
    "name": "ipython",
    "version": 3
   },
   "file_extension": ".py",
   "mimetype": "text/x-python",
   "name": "python",
   "nbconvert_exporter": "python",
   "pygments_lexer": "ipython3",
   "version": "3.11.3"
  }
 },
 "nbformat": 4,
 "nbformat_minor": 5
}
